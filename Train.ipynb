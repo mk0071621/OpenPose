{
 "cells": [
  {
   "cell_type": "markdown",
   "metadata": {
    "pycharm": {
     "name": "#%% md\n"
    }
   },
   "source": [
    "# Yet Another OpenPose "
   ]
  },
  {
   "cell_type": "markdown",
   "metadata": {},
   "source": [
    "---\n",
    "## Environment"
   ]
  },
  {
   "cell_type": "code",
   "execution_count": 1,
   "metadata": {
    "pycharm": {
     "is_executing": false
    }
   },
   "outputs": [
    {
     "name": "stdout",
     "output_type": "stream",
     "text": [
      "michael_zl_prime\n",
      "                  Credentialed Accounts\n",
      "ACTIVE  ACCOUNT\n",
      "        312164605303-compute@developer.gserviceaccount.com\n",
      "*       michael.zl.prime@gmail.com\n",
      "\n",
      "To set the active account, run:\n",
      "    $ gcloud config set account `ACCOUNT`\n",
      "\n",
      "Python running from: /usr\n",
      "Current working dir /home/michael_zl_prime/project_drive/project\n"
     ]
    }
   ],
   "source": [
    "#verify user\n",
    "!whoami\n",
    "#verify user account, if running on google cloud, otherwise ignore\n",
    "!gcloud auth list\n",
    "#which Environment/virtualenv running in\n",
    "import sys\n",
    "import os\n",
    "\n",
    "print(\"Python running from:\",sys.prefix)\n",
    "print(\"Current working dir\",os.getcwd())"
   ]
  },
  {
   "cell_type": "code",
   "execution_count": 2,
   "metadata": {
    "pycharm": {
     "is_executing": false
    }
   },
   "outputs": [],
   "source": [
    "#start tensor board\n",
    "# must run \n",
    "#/usr/local/bin/tensorboard serve --logdir gs://dl_training_results/tensorboard --port 8889 --bind_all"
   ]
  },
  {
   "cell_type": "code",
   "execution_count": 3,
   "metadata": {
    "pycharm": {
     "is_executing": false
    }
   },
   "outputs": [
    {
     "name": "stdout",
     "output_type": "stream",
     "text": [
      "\u001b[1;31mERROR:\u001b[0m (gcloud.compute.tpus.start) INVALID_ARGUMENT: cannot start an already running instance\r\n"
     ]
    }
   ],
   "source": [
    "#start TPU\n",
    "!gcloud compute tpus start node-1 --zone us-central1-c\n",
    "#stop TPU\n",
    "#!gcloud compute tpus stop node-1 --zone us-central1-c"
   ]
  },
  {
   "cell_type": "markdown",
   "metadata": {},
   "source": [
    "---\n",
    "## Config"
   ]
  },
  {
   "cell_type": "code",
   "execution_count": 4,
   "metadata": {
    "pycharm": {
     "is_executing": false
    }
   },
   "outputs": [],
   "source": [
    "import sys\n",
    "sys.path.append(\"..\")\n",
    "\n",
    "import default_config as cfg\n",
    "\n",
    "#import local_storage_config as storage_cfg\n",
    "import remote_storage_config as storage_cfg\n",
    "cfg.__dict__.update(storage_cfg.__dict__)\n",
    "\n",
    "import tpu_training.TPU_config as TPU_config\n",
    "cfg.__dict__.update(TPU_config.__dict__) #comment out to disable TPU training\n",
    "\n",
    "cfg.RUN_NAME=\"model11\" #for reference "
   ]
  },
  {
   "cell_type": "code",
   "execution_count": 5,
   "metadata": {},
   "outputs": [],
   "source": [
    "from utils import now\n",
    "nowt=now()"
   ]
  },
  {
   "cell_type": "code",
   "execution_count": 6,
   "metadata": {
    "pycharm": {
     "is_executing": false
    }
   },
   "outputs": [
    {
     "name": "stdout",
     "output_type": "stream",
     "text": [
      "Tensorflow version: 2.1.0-dev20191203\n"
     ]
    }
   ],
   "source": [
    "import tensorflow as tf\n",
    "print(\"Tensorflow version:\",tf.version.VERSION)"
   ]
  },
  {
   "cell_type": "code",
   "execution_count": 7,
   "metadata": {
    "pycharm": {
     "is_executing": false,
     "name": "#%% \n"
    }
   },
   "outputs": [
    {
     "name": "stdout",
     "output_type": "stream",
     "text": [
      "Testing results bucket connectivity\n",
      "Copying file:///tmp/test [Content-Type=application/octet-stream]...\n",
      "/ [1 files][    0.0 B/    0.0 B]                                                \n",
      "Operation completed over 1 objects.                                              \n",
      "Removing gs://dl_training_results/tensorboard/test...\n",
      "/ [1 objects]                                                                   \n",
      "Operation completed over 1 objects.                                              \n",
      "Copying file:///tmp/test [Content-Type=application/octet-stream]...\n",
      "/ [1 files][    0.0 B/    0.0 B]                                                \n",
      "Operation completed over 1 objects.                                              \n",
      "Removing gs://dl_training_results/checkpoints/test...\n",
      "/ [1 objects]                                                                   \n",
      "Operation completed over 1 objects.                                              \n",
      "Testing dataset bucket connectivity\n",
      "gs://datasets_bucket_a/training-001.tfrecords\n",
      "gs://datasets_bucket_a/training-002.tfrecords\n",
      "gs://datasets_bucket_a/training-003.tfrecords\n",
      "gs://datasets_bucket_a/training-004.tfrecords\n",
      "Testing TPU connectivity\n",
      "\n",
      "Starting Nmap 7.40 ( https://nmap.org ) at 2019-12-15 03:42 UTC\n",
      "Nmap scan report for 10.0.3.2\n",
      "Host is up (0.0016s latency).\n",
      "PORT     STATE SERVICE\n",
      "8470/tcp open  cisco-avp\n",
      "\n",
      "Nmap done: 1 IP address (1 host up) scanned in 0.05 seconds\n",
      "Trying to connect to a TPU node\n",
      "\n",
      "!!!MAKE SURE THE TPU ADDRESS IS CORRECT!!\n",
      "1.ip must be correct\n",
      "2.tpu must be turned on\n",
      "3.version must be 'nightly-2.x'\n",
      "4.tpu must be reachable (check with gce netowrking/connectivity test)\n",
      "if not this will hang!\n",
      "\n",
      "Trying to connect to: grpc://10.0.3.2:8470\n",
      "INFO:tensorflow:Initializing the TPU system: grpc://10.0.3.2:8470\n"
     ]
    },
    {
     "name": "stderr",
     "output_type": "stream",
     "text": [
      "INFO:tensorflow:Initializing the TPU system: grpc://10.0.3.2:8470\n"
     ]
    },
    {
     "name": "stdout",
     "output_type": "stream",
     "text": [
      "INFO:tensorflow:Clearing out eager caches\n"
     ]
    },
    {
     "name": "stderr",
     "output_type": "stream",
     "text": [
      "INFO:tensorflow:Clearing out eager caches\n"
     ]
    },
    {
     "name": "stdout",
     "output_type": "stream",
     "text": [
      "INFO:tensorflow:Finished initializing TPU system.\n"
     ]
    },
    {
     "name": "stderr",
     "output_type": "stream",
     "text": [
      "INFO:tensorflow:Finished initializing TPU system.\n"
     ]
    },
    {
     "name": "stdout",
     "output_type": "stream",
     "text": [
      "INFO:tensorflow:Found TPU system:\n"
     ]
    },
    {
     "name": "stderr",
     "output_type": "stream",
     "text": [
      "INFO:tensorflow:Found TPU system:\n"
     ]
    },
    {
     "name": "stdout",
     "output_type": "stream",
     "text": [
      "INFO:tensorflow:*** Num TPU Cores: 8\n"
     ]
    },
    {
     "name": "stderr",
     "output_type": "stream",
     "text": [
      "INFO:tensorflow:*** Num TPU Cores: 8\n"
     ]
    },
    {
     "name": "stdout",
     "output_type": "stream",
     "text": [
      "INFO:tensorflow:*** Num TPU Workers: 1\n"
     ]
    },
    {
     "name": "stderr",
     "output_type": "stream",
     "text": [
      "INFO:tensorflow:*** Num TPU Workers: 1\n"
     ]
    },
    {
     "name": "stdout",
     "output_type": "stream",
     "text": [
      "INFO:tensorflow:*** Num TPU Cores Per Worker: 8\n"
     ]
    },
    {
     "name": "stderr",
     "output_type": "stream",
     "text": [
      "INFO:tensorflow:*** Num TPU Cores Per Worker: 8\n"
     ]
    },
    {
     "name": "stdout",
     "output_type": "stream",
     "text": [
      "INFO:tensorflow:*** Available Device: _DeviceAttributes(/job:localhost/replica:0/task:0/device:CPU:0, CPU, 0, 0)\n"
     ]
    },
    {
     "name": "stderr",
     "output_type": "stream",
     "text": [
      "INFO:tensorflow:*** Available Device: _DeviceAttributes(/job:localhost/replica:0/task:0/device:CPU:0, CPU, 0, 0)\n"
     ]
    },
    {
     "name": "stdout",
     "output_type": "stream",
     "text": [
      "INFO:tensorflow:*** Available Device: _DeviceAttributes(/job:localhost/replica:0/task:0/device:XLA_CPU:0, XLA_CPU, 0, 0)\n"
     ]
    },
    {
     "name": "stderr",
     "output_type": "stream",
     "text": [
      "INFO:tensorflow:*** Available Device: _DeviceAttributes(/job:localhost/replica:0/task:0/device:XLA_CPU:0, XLA_CPU, 0, 0)\n"
     ]
    },
    {
     "name": "stdout",
     "output_type": "stream",
     "text": [
      "INFO:tensorflow:*** Available Device: _DeviceAttributes(/job:worker/replica:0/task:0/device:CPU:0, CPU, 0, 0)\n"
     ]
    },
    {
     "name": "stderr",
     "output_type": "stream",
     "text": [
      "INFO:tensorflow:*** Available Device: _DeviceAttributes(/job:worker/replica:0/task:0/device:CPU:0, CPU, 0, 0)\n"
     ]
    },
    {
     "name": "stdout",
     "output_type": "stream",
     "text": [
      "INFO:tensorflow:*** Available Device: _DeviceAttributes(/job:worker/replica:0/task:0/device:TPU:0, TPU, 0, 0)\n"
     ]
    },
    {
     "name": "stderr",
     "output_type": "stream",
     "text": [
      "INFO:tensorflow:*** Available Device: _DeviceAttributes(/job:worker/replica:0/task:0/device:TPU:0, TPU, 0, 0)\n"
     ]
    },
    {
     "name": "stdout",
     "output_type": "stream",
     "text": [
      "INFO:tensorflow:*** Available Device: _DeviceAttributes(/job:worker/replica:0/task:0/device:TPU:1, TPU, 0, 0)\n"
     ]
    },
    {
     "name": "stderr",
     "output_type": "stream",
     "text": [
      "INFO:tensorflow:*** Available Device: _DeviceAttributes(/job:worker/replica:0/task:0/device:TPU:1, TPU, 0, 0)\n"
     ]
    },
    {
     "name": "stdout",
     "output_type": "stream",
     "text": [
      "INFO:tensorflow:*** Available Device: _DeviceAttributes(/job:worker/replica:0/task:0/device:TPU:2, TPU, 0, 0)\n"
     ]
    },
    {
     "name": "stderr",
     "output_type": "stream",
     "text": [
      "INFO:tensorflow:*** Available Device: _DeviceAttributes(/job:worker/replica:0/task:0/device:TPU:2, TPU, 0, 0)\n"
     ]
    },
    {
     "name": "stdout",
     "output_type": "stream",
     "text": [
      "INFO:tensorflow:*** Available Device: _DeviceAttributes(/job:worker/replica:0/task:0/device:TPU:3, TPU, 0, 0)\n"
     ]
    },
    {
     "name": "stderr",
     "output_type": "stream",
     "text": [
      "INFO:tensorflow:*** Available Device: _DeviceAttributes(/job:worker/replica:0/task:0/device:TPU:3, TPU, 0, 0)\n"
     ]
    },
    {
     "name": "stdout",
     "output_type": "stream",
     "text": [
      "INFO:tensorflow:*** Available Device: _DeviceAttributes(/job:worker/replica:0/task:0/device:TPU:4, TPU, 0, 0)\n"
     ]
    },
    {
     "name": "stderr",
     "output_type": "stream",
     "text": [
      "INFO:tensorflow:*** Available Device: _DeviceAttributes(/job:worker/replica:0/task:0/device:TPU:4, TPU, 0, 0)\n"
     ]
    },
    {
     "name": "stdout",
     "output_type": "stream",
     "text": [
      "INFO:tensorflow:*** Available Device: _DeviceAttributes(/job:worker/replica:0/task:0/device:TPU:5, TPU, 0, 0)\n"
     ]
    },
    {
     "name": "stderr",
     "output_type": "stream",
     "text": [
      "INFO:tensorflow:*** Available Device: _DeviceAttributes(/job:worker/replica:0/task:0/device:TPU:5, TPU, 0, 0)\n"
     ]
    },
    {
     "name": "stdout",
     "output_type": "stream",
     "text": [
      "INFO:tensorflow:*** Available Device: _DeviceAttributes(/job:worker/replica:0/task:0/device:TPU:6, TPU, 0, 0)\n"
     ]
    },
    {
     "name": "stderr",
     "output_type": "stream",
     "text": [
      "INFO:tensorflow:*** Available Device: _DeviceAttributes(/job:worker/replica:0/task:0/device:TPU:6, TPU, 0, 0)\n"
     ]
    },
    {
     "name": "stdout",
     "output_type": "stream",
     "text": [
      "INFO:tensorflow:*** Available Device: _DeviceAttributes(/job:worker/replica:0/task:0/device:TPU:7, TPU, 0, 0)\n"
     ]
    },
    {
     "name": "stderr",
     "output_type": "stream",
     "text": [
      "INFO:tensorflow:*** Available Device: _DeviceAttributes(/job:worker/replica:0/task:0/device:TPU:7, TPU, 0, 0)\n"
     ]
    },
    {
     "name": "stdout",
     "output_type": "stream",
     "text": [
      "INFO:tensorflow:*** Available Device: _DeviceAttributes(/job:worker/replica:0/task:0/device:TPU_SYSTEM:0, TPU_SYSTEM, 0, 0)\n"
     ]
    },
    {
     "name": "stderr",
     "output_type": "stream",
     "text": [
      "INFO:tensorflow:*** Available Device: _DeviceAttributes(/job:worker/replica:0/task:0/device:TPU_SYSTEM:0, TPU_SYSTEM, 0, 0)\n"
     ]
    },
    {
     "name": "stdout",
     "output_type": "stream",
     "text": [
      "INFO:tensorflow:*** Available Device: _DeviceAttributes(/job:worker/replica:0/task:0/device:XLA_CPU:0, XLA_CPU, 0, 0)\n"
     ]
    },
    {
     "name": "stderr",
     "output_type": "stream",
     "text": [
      "INFO:tensorflow:*** Available Device: _DeviceAttributes(/job:worker/replica:0/task:0/device:XLA_CPU:0, XLA_CPU, 0, 0)\n"
     ]
    }
   ],
   "source": [
    "if cfg.TPU_MODE:\n",
    "    import tpu_training.init_TPU as init_TPU\n",
    "    \n",
    "    print(\"Testing results bucket connectivity\")\n",
    "    !touch /tmp/test\n",
    "    !gsutil cp /tmp/test {cfg.TENSORBOARD_PATH}/test\n",
    "    !gsutil rm {cfg.TENSORBOARD_PATH}/test\n",
    "    !gsutil cp /tmp/test {cfg.CHECKPOINTS_PATH}/test\n",
    "    !gsutil rm {cfg.CHECKPOINTS_PATH}/test\n",
    "    print(\"Testing dataset bucket connectivity\")\n",
    "    !gsutil ls gs://{cfg.GCS_TFRECORDS_BUCKETNAME} | head -4\n",
    "    print(\"Testing TPU connectivity\")\n",
    "    !nmap -Pn -p8470 {cfg.TPU_IP}\n",
    "    strategy,resolver=init_TPU.init_tpu(cfg.TPU_IP) #This must be run before any imports!!!!"
   ]
  },
  {
   "cell_type": "code",
   "execution_count": 8,
   "metadata": {
    "pycharm": {
     "is_executing": false
    }
   },
   "outputs": [],
   "source": [
    "import datetime\n",
    "import numpy as np\n",
    "\n",
    "import dataset_functions\n",
    "import models.six_stage_linear_model as model\n",
    "import callbacks\n",
    "import dataset_builder\n",
    "import load_weights\n",
    "import loss_metrics"
   ]
  },
  {
   "cell_type": "code",
   "execution_count": 9,
   "metadata": {
    "pycharm": {
     "is_executing": false
    }
   },
   "outputs": [],
   "source": [
    "# import importlib as il\n",
    "# il.reload() #useful to reload any changes"
   ]
  },
  {
   "cell_type": "markdown",
   "metadata": {},
   "source": [
    "---\n",
    "## Dataset"
   ]
  },
  {
   "cell_type": "code",
   "execution_count": 10,
   "metadata": {},
   "outputs": [],
   "source": [
    "# Training settings\n",
    "TRAINING_EPOCHS = 30\n",
    "REAL_EPOCH_STEPS = int(cfg.DATASET_SIZE / cfg.BATCH_SIZE)\n",
    "SHORT_EPOCH_STEPS=50 #actual epocsh used in training, smaller than real epoch, but allows to track progress better, [in batches]\n",
    "SHORT_TRAINING_EPOCHS=int(TRAINING_EPOCHS*(REAL_EPOCH_STEPS/SHORT_EPOCH_STEPS))\n",
    "SHORT_VALIDATION_STEPS=5 #per short epoch\n",
    "\n",
    "EPOCH_RATIO=int(REAL_EPOCH_STEPS / SHORT_EPOCH_STEPS)\n",
    "# adam_learning_rate=0.001  #for reference\n",
    "BASE_LEARNING_RATE = 0.001\n",
    "LEARNING_RATE_SCHEDUELE = np.zeros(100000)  #used with short epochs\n",
    "LEARNING_RATE_SCHEDUELE[:3 * EPOCH_RATIO] = 1\n",
    "LEARNING_RATE_SCHEDUELE[3 * EPOCH_RATIO:20 * EPOCH_RATIO] = 1\n",
    "LEARNING_RATE_SCHEDUELE[20 * EPOCH_RATIO:40 * EPOCH_RATIO] = 1\n",
    "LEARNING_RATE_SCHEDUELE[40 * EPOCH_RATIO:100 * EPOCH_RATIO] = 0.5\n",
    "LEARNING_RATE_SCHEDUELE[100 * EPOCH_RATIO:] = 0.3\n",
    "LEARNING_RATE_SCHEDUELE *= BASE_LEARNING_RATE"
   ]
  },
  {
   "cell_type": "code",
   "execution_count": 11,
   "metadata": {
    "pycharm": {
     "is_executing": false
    }
   },
   "outputs": [
    {
     "name": "stdout",
     "output_type": "stream",
     "text": [
      "Retrieving TFrecords from: gs://datasets_bucket_a/training\n",
      "Retrieving TFrecords from: gs://datasets_bucket_a/validation\n",
      "Found the following training TFrecords:\n",
      " gs://datasets_bucket_a/training-001.tfrecords\n",
      "gs://datasets_bucket_a/training-002.tfrecords\n",
      "gs://datasets_bucket_a/training-003.tfrecords\n",
      "gs://datasets_bucket_a/training-004.tfrecords\n",
      "gs://datasets_bucket_a/training-005.tfrecords\n",
      "gs://datasets_bucket_a/training-006.tfrecords\n",
      "gs://datasets_bucket_a/training-007.tfrecords\n",
      "gs://datasets_bucket_a/training-008.tfrecords\n",
      "gs://datasets_bucket_a/training-009.tfrecords\n",
      "gs://datasets_bucket_a/training-010.tfrecords\n",
      "gs://datasets_bucket_a/training-011.tfrecords\n",
      "gs://datasets_bucket_a/training-012.tfrecords\n",
      "gs://datasets_bucket_a/training-013.tfrecords\n",
      "gs://datasets_bucket_a/training-014.tfrecords\n",
      "gs://datasets_bucket_a/training-015.tfrecords\n",
      "gs://datasets_bucket_a/training-016.tfrecords\n",
      "gs://datasets_bucket_a/training-017.tfrecords\n",
      "gs://datasets_bucket_a/training-018.tfrecords\n",
      "gs://datasets_bucket_a/training-019.tfrecords\n",
      "gs://datasets_bucket_a/training-020.tfrecords\n",
      "gs://datasets_bucket_a/training-021.tfrecords\n",
      "gs://datasets_bucket_a/training-022.tfrecords\n",
      "gs://datasets_bucket_a/training-023.tfrecords\n",
      "gs://datasets_bucket_a/training-024.tfrecords\n",
      "gs://datasets_bucket_a/training-025.tfrecords\n",
      "gs://datasets_bucket_a/training-026.tfrecords\n",
      "gs://datasets_bucket_a/training-027.tfrecords\n",
      "gs://datasets_bucket_a/training-028.tfrecords\n",
      "gs://datasets_bucket_a/training-029.tfrecords\n",
      "gs://datasets_bucket_a/training-030.tfrecords\n",
      "gs://datasets_bucket_a/training-031.tfrecords\n",
      "gs://datasets_bucket_a/training-032.tfrecords\n",
      "gs://datasets_bucket_a/training-033.tfrecords\n",
      "gs://datasets_bucket_a/training-034.tfrecords\n",
      "gs://datasets_bucket_a/training-035.tfrecords\n",
      "gs://datasets_bucket_a/training-036.tfrecords\n",
      "gs://datasets_bucket_a/training-037.tfrecords\n",
      "gs://datasets_bucket_a/training-038.tfrecords\n",
      "gs://datasets_bucket_a/training-039.tfrecords\n",
      "gs://datasets_bucket_a/training-040.tfrecords\n",
      "gs://datasets_bucket_a/training-041.tfrecords\n",
      "gs://datasets_bucket_a/training-042.tfrecords\n",
      "gs://datasets_bucket_a/training-043.tfrecords\n",
      "gs://datasets_bucket_a/training-044.tfrecords\n",
      "gs://datasets_bucket_a/training-045.tfrecords\n",
      "gs://datasets_bucket_a/training-046.tfrecords\n",
      "gs://datasets_bucket_a/training-047.tfrecords\n",
      "gs://datasets_bucket_a/training-048.tfrecords\n",
      "gs://datasets_bucket_a/training-049.tfrecords\n",
      "gs://datasets_bucket_a/training-050.tfrecords\n",
      "gs://datasets_bucket_a/training-051.tfrecords\n",
      "gs://datasets_bucket_a/training-052.tfrecords\n",
      "gs://datasets_bucket_a/training-053.tfrecords\n",
      "gs://datasets_bucket_a/training-054.tfrecords\n",
      "gs://datasets_bucket_a/training-055.tfrecords\n",
      "gs://datasets_bucket_a/training-056.tfrecords\n",
      "gs://datasets_bucket_a/training-057.tfrecords\n",
      "Found the following validation TFrecords:\n",
      " gs://datasets_bucket_a/validation-001.tfrecords\n",
      "gs://datasets_bucket_a/validation-002.tfrecords\n",
      "gs://datasets_bucket_a/validation-003.tfrecords\n",
      "Building training dataset\n",
      "Training dataset shape: <PrefetchDataset shapes: (((None, 368, 368, 3), (None, 46, 46, 1)), ((None, 46, 46, 35), (None, 46, 46, 35), (None, 46, 46, 35), (None, 46, 46, 35), (None, 46, 46, 19), (None, 46, 46, 19))), types: ((tf.float32, tf.float32), (tf.float32, tf.float32, tf.float32, tf.float32, tf.float32, tf.float32))>\n",
      "Building validation dataset\n",
      "Validation dataset shape: <PrefetchDataset shapes: (((None, 368, 368, 3), (None, 46, 46, 1)), ((None, 46, 46, 35), (None, 46, 46, 35), (None, 46, 46, 35), (None, 46, 46, 35), (None, 46, 46, 19), (None, 46, 46, 19))), types: ((tf.float32, tf.float32), (tf.float32, tf.float32, tf.float32, tf.float32, tf.float32, tf.float32))>\n"
     ]
    }
   ],
   "source": [
    "model_ds=model.ModelDatasetComponent(cfg)\n",
    "\n",
    "tfrecord_files_train=dataset_builder.get_tfrecord_filenames(cfg.TRAIN_TFRECORDS,cfg)\n",
    "tfrecord_files_valid=dataset_builder.get_tfrecord_filenames(cfg.VALID_TFRECORDS,cfg)\n",
    "print(\"Found the following training TFrecords:\\n\",\"\\n\".join(tfrecord_files_train))\n",
    "print(\"Found the following validation TFrecords:\\n\",\"\\n\".join(tfrecord_files_valid))\n",
    "\n",
    "print(\"Building training dataset\")\n",
    "dst=dataset_builder.build_training_ds(tfrecord_files_train,model_ds.place_training_labels,cfg)\n",
    "print(\"Training dataset shape:\",dst)\n",
    "print(\"Building validation dataset\")\n",
    "dsv=dataset_builder.build_validation_ds(tfrecord_files_valid,model_ds.place_training_labels,cfg)\n",
    "print(\"Validation dataset shape:\",dsv)\n"
   ]
  },
  {
   "cell_type": "code",
   "execution_count": 12,
   "metadata": {
    "pycharm": {
     "is_executing": false,
     "name": "#%%\n"
    }
   },
   "outputs": [],
   "source": [
    "#Test element\n",
    "# dst_iter=iter(dst)\n",
    "# sample_elem=next(dst_iter)\n",
    "# print(\"Dataset shape:\",dst) #this should match the model input, and output stages"
   ]
  },
  {
   "cell_type": "code",
   "execution_count": 13,
   "metadata": {
    "pycharm": {
     "is_executing": false,
     "name": "#%%\n"
    }
   },
   "outputs": [],
   "source": [
    "#testing mask\n",
    "# sample_elem=next(dst_iter)\n",
    "# m=sample_elem[1][1][0,...,0]\n",
    "# import matplotlib.pyplot as plt\n",
    "# plt.imshow(m)\n",
    "# plt.colorbar()"
   ]
  },
  {
   "cell_type": "markdown",
   "metadata": {},
   "source": [
    "---\n",
    "## Model\n",
    "### Load weights"
   ]
  },
  {
   "cell_type": "code",
   "execution_count": 14,
   "metadata": {
    "pycharm": {
     "is_executing": false
    }
   },
   "outputs": [
    {
     "name": "stdout",
     "output_type": "stream",
     "text": [
      "Found these checkpoints:\n",
      "0.Dont load checkpoint\n",
      "1 .gs://dl_training_results/checkpoints/Fixed_mirror13Fri1219-0243/-E0009.ckpt\n",
      "2 .gs://dl_training_results/checkpoints/Fixed_mirror13Fri1219-0243/-E0018.ckpt\n",
      "3 .gs://dl_training_results/checkpoints/Fixed_mirror13Fri1219-0243/-E0027.ckpt\n",
      "4 .gs://dl_training_results/checkpoints/Fixed_mirror13Fri1219-0243/-E0036.ckpt\n",
      "5 .gs://dl_training_results/checkpoints/Full_model_2_2augs_dp0111Wed1219-1833/-E0009.ckpt_temp_1d8239e45732435f97e3b43074192752/part-00000-of-00002\n",
      "6 .gs://dl_training_results/checkpoints/Full_model_2_2augs_dp0111Wed1219-1833/-E0009.ckpt_temp_1d8239e45732435f97e3b43074192752/part-00001-of-00002\n",
      "7 .gs://dl_training_results/checkpoints/Full_model_2_2augs_dp0111Wed1219-1842/-E0001.ckpt\n",
      "8 .gs://dl_training_results/checkpoints/Full_model_2_2augs_dp0111Wed1219-1842/-E0002.ckpt\n",
      "9 .gs://dl_training_results/checkpoints/Full_model_2_2augs_dp0111Wed1219-1842/-E0003.ckpt\n",
      "10 .gs://dl_training_results/checkpoints/Full_model_2_2augs_dp01_15joint11Wed1219-1917/-E0001.ckpt\n",
      "11 .gs://dl_training_results/checkpoints/Full_model_2_2augs_dp01_15joint11Wed1219-1917/-E0002.ckpt\n",
      "12 .gs://dl_training_results/checkpoints/Full_model_2_2augs_dp01_15joint11Wed1219-1917/-E0003.ckpt\n",
      "13 .gs://dl_training_results/checkpoints/Full_model_2_2augs_dp01_15joint11Wed1219-1917/-E0004.ckpt\n",
      "14 .gs://dl_training_results/checkpoints/Full_model_2_2augs_dp01_15joint_nobn-11Wed1219-2050/-E0001.ckpt\n",
      "15 .gs://dl_training_results/checkpoints/Full_model_2_2augs_dp01_15joint_nobn-11Wed1219-2050/-E0002.ckpt\n",
      "16 .gs://dl_training_results/checkpoints/Full_model_2_2augs_dp01_15joint_nobn-11Wed1219-2050/-E0003.ckpt\n",
      "17 .gs://dl_training_results/checkpoints/Full_model_2_2augs_dp01_15joint_nobn-11Wed1219-2050/-E0004.ckpt\n",
      "18 .gs://dl_training_results/checkpoints/Full_model_2_2augs_dp01_15joint_nobn-11Wed1219-2050/-E0005.ckpt\n",
      "19 .gs://dl_training_results/checkpoints/Full_model_2_2augs_dp01_15joint_nofinalbn-11Wed1219-2011/-E0001.ckpt\n",
      "20 .gs://dl_training_results/checkpoints/Full_model_2_2augs_dp01_15joint_nofinalbn-11Wed1219-2011/-E0002.ckpt\n",
      "21 .gs://dl_training_results/checkpoints/Full_model_2_2augs_dp01_15joint_nofinalbn-11Wed1219-2011/-E0003.ckpt\n",
      "22 .gs://dl_training_results/checkpoints/Full_model_2augs_dp11Wed1219-1624/-E0001.ckpt\n",
      "23 .gs://dl_training_results/checkpoints/Full_model_2augs_dp11Wed1219-1624/-E0002.ckpt\n",
      "24 .gs://dl_training_results/checkpoints/Full_model_2augs_dp11Wed1219-1624/-E0003.ckpt\n",
      "25 .gs://dl_training_results/checkpoints/Full_model_2augs_dp11Wed1219-1624/-E0004.ckpt\n",
      "26 .gs://dl_training_results/checkpoints/Full_model_2augs_dp11Wed1219-1624/-E0005.ckpt\n",
      "27 .gs://dl_training_results/checkpoints/Full_model_2augs_dp11Wed1219-1624/-E0006.ckpt\n",
      "28 .gs://dl_training_results/checkpoints/Full_model_2augs_dp11Wed1219-1624/-E0007.ckpt\n",
      "29 .gs://dl_training_results/checkpoints/Full_model_2augs_dp11Wed1219-1624/-E0008.ckpt\n",
      "30 .gs://dl_training_results/checkpoints/Full_model_2augs_dp11Wed1219-1624/-E0009.ckpt\n",
      "31 .gs://dl_training_results/checkpoints/Try_again_smallspot12Thu1219-1651/-E0109.ckpt\n",
      "32 .gs://dl_training_results/checkpoints/model1115Sun1219-0259/-E0009.ckpt\n",
      "33 .gs://dl_training_results/checkpoints/model1115Sun1219-0259/-E0018.ckpt\n",
      "34 .gs://dl_training_results/checkpoints/model1115Sun1219-0259/-E0027.ckpt\n",
      "35 .gs://dl_training_results/checkpoints/model1115Sun1219-0259/-E0036.ckpt\n",
      "36 .gs://dl_training_results/checkpoints/model513Fri1219-2331/-E0009.ckpt\n",
      "37 .gs://dl_training_results/checkpoints/model613Fri1219-2348/-E0009.ckpt\n",
      "38 .gs://dl_training_results/checkpoints/model714Sat1219-0044/-E0009.ckpt\n",
      "39 .gs://dl_training_results/checkpoints/model714Sat1219-0044/-E0018.ckpt\n",
      "40 .gs://dl_training_results/checkpoints/model714Sat1219-0044/-E0027.ckpt\n",
      "41 .gs://dl_training_results/checkpoints/model714Sat1219-0044/-E0036.ckpt\n",
      "42 .gs://dl_training_results/checkpoints/model714Sat1219-0044/-E0044.ckpt\n",
      "43 .gs://dl_training_results/checkpoints/model8-reinit14Sat1219-2337/-E0171.ckpt\n",
      "44 .gs://dl_training_results/checkpoints/model814Sat1219-0149/-E0009.ckpt\n",
      "45 .gs://dl_training_results/checkpoints/model814Sat1219-0149/-E0018.ckpt\n",
      "46 .gs://dl_training_results/checkpoints/model814Sat1219-0149/-E0027.ckpt\n",
      "47 .gs://dl_training_results/checkpoints/model814Sat1219-0149/-E0036.ckpt\n",
      "48 .gs://dl_training_results/checkpoints/model814Sat1219-0149/-E0044.ckpt\n",
      "49 .gs://dl_training_results/checkpoints/model814Sat1219-0149/-E0053.ckpt\n",
      "50 .gs://dl_training_results/checkpoints/model814Sat1219-0149/-E0062.ckpt\n",
      "51 .gs://dl_training_results/checkpoints/model814Sat1219-0149/-E0071.ckpt\n",
      "52 .gs://dl_training_results/checkpoints/model814Sat1219-0149/-E0079.ckpt\n",
      "53 .gs://dl_training_results/checkpoints/model814Sat1219-0149/-E0091.ckpt\n",
      "54 .gs://dl_training_results/checkpoints/model814Sat1219-0149/-E0100.ckpt\n",
      "55 .gs://dl_training_results/checkpoints/model814Sat1219-0149/-E0109.ckpt\n",
      "56 .gs://dl_training_results/checkpoints/model814Sat1219-0149/-E0118.ckpt\n",
      "57 .gs://dl_training_results/checkpoints/model814Sat1219-0149/-E0127.ckpt\n",
      "58 .gs://dl_training_results/checkpoints/model814Sat1219-0149/-E0136.ckpt\n",
      "59 .gs://dl_training_results/checkpoints/model814Sat1219-0149/-E0144.ckpt\n",
      "60 .gs://dl_training_results/checkpoints/model814Sat1219-0149/-E0153.ckpt\n",
      "61 .gs://dl_training_results/checkpoints/model814Sat1219-0149/-E0162.ckpt\n",
      "62 .gs://dl_training_results/checkpoints/model815Sun1219-0223/-E0009.ckpt\n",
      "63 .gs://dl_training_results/checkpoints/model815Sun1219-0223/-E0018.ckpt\n",
      "64 .gs://dl_training_results/checkpoints/model815Sun1219-0223/-E0027.ckpt\n",
      "65 .gs://dl_training_results/checkpoints/model915Sun1219-0150/-E0174.ckpt\n",
      "66 .gs://dl_training_results/checkpoints/model915Sun1219-0150/-E0183.ckpt\n",
      "67 .gs://dl_training_results/checkpoints/no_frills_smaller_spot12Thu1219-1628/-E0001.ckpt\n",
      "68 .gs://dl_training_results/checkpoints/no_frills_smaller_spot12Thu1219-1628/-E0002.ckpt\n",
      "69 .gs://dl_training_results/checkpoints/no_frills_smaller_spot12Thu1219-1628/-E0003.ckpt\n",
      "70 .gs://dl_training_results/checkpoints/no_frills_smaller_spot12Thu1219-1628/-E0004.ckpt\n",
      "71 .gs://dl_training_results/checkpoints/no_frills_smaller_spot12Thu1219-1628/-E0005.ckpt\n",
      "72 .gs://dl_training_results/checkpoints/no_frills_smaller_spot12Thu1219-1628/-E0006.ckpt\n",
      "73 .gs://dl_training_results/checkpoints/no_frills_smaller_spot12Thu1219-1628/-E0007.ckpt\n",
      "74 .gs://dl_training_results/checkpoints/no_frills_smaller_spot12Thu1219-1628/-E0008.ckpt\n",
      "75 .gs://dl_training_results/checkpoints/no_frills_smaller_spot12Thu1219-1628/-E0009.ckpt\n",
      "76 .gs://dl_training_results/checkpoints/no_frills_smaller_spot12Thu1219-1628/-E0010.ckpt\n",
      "77 .gs://dl_training_results/checkpoints/no_frills_smaller_spot12Thu1219-1628/-E0011.ckpt\n",
      "78 .gs://dl_training_results/checkpoints/no_frills_smaller_spot12Thu1219-1628/-E0012.ckpt\n",
      "79 .gs://dl_training_results/checkpoints/no_frills_smaller_spot12Thu1219-1628/-E0013.ckpt\n",
      "80 .gs://dl_training_results/checkpoints/no_frills_smaller_spot12Thu1219-1628/-E0014.ckpt\n",
      "81 .gs://dl_training_results/checkpoints/no_frills_smaller_spot12Thu1219-1628/-E0015.ckpt\n",
      "Please select checkpoint, or 0 to continue without loading:0\n"
     ]
    }
   ],
   "source": [
    "if cfg.ASK_FOR_CHECKPOINTS:\n",
    "    checkpoint,starting_epoch=load_weights.checkpoints_prompt(cfg)\n",
    "else:\n",
    "    checkpoint=None\n",
    "    starting_epoch=0"
   ]
  },
  {
   "cell_type": "markdown",
   "metadata": {},
   "source": [
    "### Build Model"
   ]
  },
  {
   "cell_type": "code",
   "execution_count": 15,
   "metadata": {
    "pycharm": {
     "is_executing": false,
     "name": "#%%\n"
    }
   },
   "outputs": [],
   "source": [
    "model_maker=model.ModelMaker(cfg) #must be outside scope to keep the graph clean\n",
    "tf.keras.backend.clear_session() #to clean to backaend from the imported model\n",
    "def define():\n",
    "    train_model,test_model=model_maker.create_models()\n",
    "    \n",
    "#     if cfg.INCLUDE_MASK:\n",
    "#         losses=[loss_metrics.MaskedMeanAbsoluteError()\n",
    "#                 ,loss_metrics.MaskedMeanAbsoluteError()\n",
    "#                 ,loss_metrics.MaskedMeanAbsoluteError()\n",
    "#                 ,loss_metrics.MaskedMeanAbsoluteError()\n",
    "#                 ,loss_metrics.MaskedMeanSquaredError()\n",
    "#                 ,loss_metrics.MaskedMeanSquaredError()]                      \n",
    "#     else:\n",
    "#         raise NotImplementedError       \n",
    "    \n",
    "    #this must match the model output order\n",
    "    metrics=[\n",
    "              [loss_metrics.MeanAbsoluteRatio(),loss_metrics.AnalogRecall()]\n",
    "             ,[loss_metrics.MeanAbsoluteRatio(),loss_metrics.AnalogRecall()]\n",
    "             ,[loss_metrics.MeanAbsoluteRatio(),loss_metrics.AnalogRecall()]\n",
    "             ,[loss_metrics.MeanAbsoluteRatio(),loss_metrics.AnalogRecall()]\n",
    "             ,[loss_metrics.MeanAbsoluteRatio(),loss_metrics.AnalogRecall()]    \n",
    "             ,[loss_metrics.MeanAbsoluteRatio(),loss_metrics.AnalogRecall()]\n",
    "        ]\n",
    "    \n",
    "    train_model.compile(\n",
    "                    optimizer=tf.keras.optimizers.Adam(BASE_LEARNING_RATE)                   \n",
    "                    ,loss=loss_metrics.MaskedMeanSquaredError()\n",
    "                    ,loss_weights=[5,5,5,5,1,1]\n",
    "                    ,metrics=metrics                           \n",
    "                   )\n",
    "    return train_model,test_model\n",
    "\n",
    "if cfg.TPU_MODE:\n",
    "    with strategy.scope():\n",
    "        train_model,test_model=define()\n",
    "        if (checkpoint):\n",
    "            train_model.load_weights(checkpoint)\n",
    "else:\n",
    "    train_model,test_model=define()\n",
    "    if (checkpoint):\n",
    "        train_model.load_weights(checkpoint)"
   ]
  },
  {
   "cell_type": "markdown",
   "metadata": {},
   "source": [
    "### Callbacks"
   ]
  },
  {
   "cell_type": "code",
   "execution_count": 16,
   "metadata": {
    "pycharm": {
     "is_executing": false,
     "name": "#%%\n"
    }
   },
   "outputs": [],
   "source": [
    "all_callbacks=[\n",
    "    callbacks.make_LRscheduler_callback(LEARNING_RATE_SCHEDUELE)\n",
    "    ,callbacks.PrintLR()\n",
    "    ,tf.keras.callbacks.TerminateOnNaN()\n",
    "]\n",
    "if cfg.SAVE_CHECKPOINTS:\n",
    "    checkpoint_callback,checkpoint_path=callbacks.make_checkpoint_callback(cfg,nowt,REAL_EPOCH_STEPS*cfg.BATCH_SIZE)\n",
    "    all_callbacks.append(checkpoint_callback)\n",
    "if cfg.SAVE_TENSORBOARD:\n",
    "    tensorboard_callback,tensorboard_path=callbacks.make_tensorboard_callback(cfg,nowt,EPOCH_RATIO)\n",
    "    all_callbacks+=[tensorboard_callback]"
   ]
  },
  {
   "cell_type": "code",
   "execution_count": 18,
   "metadata": {
    "pycharm": {
     "is_executing": false,
     "name": "#%% \n"
    }
   },
   "outputs": [],
   "source": [
    "#run to clean all tensorboard&checkpoints results\n",
    "#!gsutil -m rm -r {cfg.TENSORBOARD_PATH}/*\n",
    "#!gsutil -m rm -r {cfg.CHECKPOINTS_PATH}/*\n"
   ]
  },
  {
   "cell_type": "markdown",
   "metadata": {},
   "source": [
    "---\n",
    "## Training\n",
    "Actually training"
   ]
  },
  {
   "cell_type": "code",
   "execution_count": 19,
   "metadata": {
    "pycharm": {
     "is_executing": false
    },
    "scrolled": true
   },
   "outputs": [
    {
     "name": "stdout",
     "output_type": "stream",
     "text": [
      "Train for 50 steps, validate for 5 steps\n",
      "\n",
      "Learning rate for epoch 0 is 0.0010000000474974513\n",
      "Epoch 1/262\n",
      " 1/50 [..............................] - ETA: 1:46:29 - loss: 1.8155 - s1pafs_output_loss: 0.0832 - s2pafs_output_loss: 0.1013 - s3pafs_output_loss: 0.0339 - s4pafs_output_loss: 0.1295 - s5kpts_output_loss: 0.0432 - s6kpts_output_loss: 0.0329 - s1pafs_output_MeanAbsoluteRatio: 6.4812 - s1pafs_output_analog_recall: 0.8891 - s2pafs_output_MeanAbsoluteRatio: 7.7790 - s2pafs_output_analog_recall: 0.9086 - s3pafs_output_MeanAbsoluteRatio: 4.4168 - s3pafs_output_analog_recall: 0.8667 - s4pafs_output_MeanAbsoluteRatio: 8.4303 - s4pafs_output_analog_recall: 0.9213 - s5kpts_output_MeanAbsoluteRatio: 2.0244 - s5kpts_output_analog_recall: 0.7681 - s6kpts_output_MeanAbsoluteRatio: 1.8740 - s6kpts_output_analog_recall: 0.7576WARNING:tensorflow:Method (on_train_batch_end) is slow compared to the batch update (0.883177). Check your callbacks.\n"
     ]
    },
    {
     "name": "stderr",
     "output_type": "stream",
     "text": [
      "WARNING:tensorflow:Method (on_train_batch_end) is slow compared to the batch update (0.883177). Check your callbacks.\n"
     ]
    },
    {
     "name": "stdout",
     "output_type": "stream",
     "text": [
      "50/50 [==============================] - 209s 4s/step - loss: 0.5833 - s1pafs_output_loss: 0.0083 - s2pafs_output_loss: 0.0478 - s3pafs_output_loss: 0.0071 - s4pafs_output_loss: 0.0446 - s5kpts_output_loss: 0.0183 - s6kpts_output_loss: 0.0260 - s1pafs_output_MeanAbsoluteRatio: 1.2342 - s1pafs_output_analog_recall: 0.7731 - s2pafs_output_MeanAbsoluteRatio: 1.7236 - s2pafs_output_analog_recall: 0.7750 - s3pafs_output_MeanAbsoluteRatio: 1.1392 - s3pafs_output_analog_recall: 0.7717 - s4pafs_output_MeanAbsoluteRatio: 1.7056 - s4pafs_output_analog_recall: 0.7753 - s5kpts_output_MeanAbsoluteRatio: 1.0542 - s5kpts_output_analog_recall: 0.6693 - s6kpts_output_MeanAbsoluteRatio: 1.1298 - s6kpts_output_analog_recall: 0.6684 - val_loss: 0.1372 - val_s1pafs_output_loss: 0.0051 - val_s2pafs_output_loss: 0.0051 - val_s3pafs_output_loss: 0.0051 - val_s4pafs_output_loss: 0.0051 - val_s5kpts_output_loss: 0.0171 - val_s6kpts_output_loss: 0.0172 - val_s1pafs_output_MeanAbsoluteRatio: 0.9684 - val_s1pafs_output_analog_recall: 0.7565 - val_s2pafs_output_MeanAbsoluteRatio: 0.9323 - val_s2pafs_output_analog_recall: 0.7553 - val_s3pafs_output_MeanAbsoluteRatio: 0.9363 - val_s3pafs_output_analog_recall: 0.7552 - val_s4pafs_output_MeanAbsoluteRatio: 0.9048 - val_s4pafs_output_analog_recall: 0.7529 - val_s5kpts_output_MeanAbsoluteRatio: 1.0390 - val_s5kpts_output_analog_recall: 0.6613 - val_s6kpts_output_MeanAbsoluteRatio: 1.0817 - val_s6kpts_output_analog_recall: 0.6643\n",
      "\n",
      "Learning rate for epoch 1 is 0.0010000000474974513\n",
      "Epoch 2/262\n",
      "50/50 [==============================] - 47s 946ms/step - loss: 0.1325 - s1pafs_output_loss: 0.0049 - s2pafs_output_loss: 0.0049 - s3pafs_output_loss: 0.0049 - s4pafs_output_loss: 0.0049 - s5kpts_output_loss: 0.0166 - s6kpts_output_loss: 0.0169 - s1pafs_output_MeanAbsoluteRatio: 0.9432 - s1pafs_output_analog_recall: 0.7641 - s2pafs_output_MeanAbsoluteRatio: 0.9462 - s2pafs_output_analog_recall: 0.7644 - s3pafs_output_MeanAbsoluteRatio: 0.9364 - s3pafs_output_analog_recall: 0.7639 - s4pafs_output_MeanAbsoluteRatio: 0.9415 - s4pafs_output_analog_recall: 0.7640 - s5kpts_output_MeanAbsoluteRatio: 1.0035 - s5kpts_output_analog_recall: 0.6682 - s6kpts_output_MeanAbsoluteRatio: 0.9964 - s6kpts_output_analog_recall: 0.6603 - val_loss: 0.1372 - val_s1pafs_output_loss: 0.0051 - val_s2pafs_output_loss: 0.0051 - val_s3pafs_output_loss: 0.0051 - val_s4pafs_output_loss: 0.0051 - val_s5kpts_output_loss: 0.0171 - val_s6kpts_output_loss: 0.0177 - val_s1pafs_output_MeanAbsoluteRatio: 0.9261 - val_s1pafs_output_analog_recall: 0.7556 - val_s2pafs_output_MeanAbsoluteRatio: 0.8910 - val_s2pafs_output_analog_recall: 0.7536 - val_s3pafs_output_MeanAbsoluteRatio: 0.9325 - val_s3pafs_output_analog_recall: 0.7564 - val_s4pafs_output_MeanAbsoluteRatio: 0.9454 - val_s4pafs_output_analog_recall: 0.7565 - val_s5kpts_output_MeanAbsoluteRatio: 0.9216 - val_s5kpts_output_analog_recall: 0.6507 - val_s6kpts_output_MeanAbsoluteRatio: 0.8357 - val_s6kpts_output_analog_recall: 0.6294\n",
      "\n",
      "Learning rate for epoch 2 is 0.0010000000474974513\n",
      "Epoch 3/262\n",
      "50/50 [==============================] - 47s 939ms/step - loss: 0.1299 - s1pafs_output_loss: 0.0049 - s2pafs_output_loss: 0.0049 - s3pafs_output_loss: 0.0049 - s4pafs_output_loss: 0.0049 - s5kpts_output_loss: 0.0161 - s6kpts_output_loss: 0.0167 - s1pafs_output_MeanAbsoluteRatio: 0.9388 - s1pafs_output_analog_recall: 0.7669 - s2pafs_output_MeanAbsoluteRatio: 0.9428 - s2pafs_output_analog_recall: 0.7676 - s3pafs_output_MeanAbsoluteRatio: 0.9426 - s3pafs_output_analog_recall: 0.7676 - s4pafs_output_MeanAbsoluteRatio: 0.9441 - s4pafs_output_analog_recall: 0.7672 - s5kpts_output_MeanAbsoluteRatio: 1.0153 - s5kpts_output_analog_recall: 0.6785 - s6kpts_output_MeanAbsoluteRatio: 0.9900 - s6kpts_output_analog_recall: 0.6597 - val_loss: 0.1358 - val_s1pafs_output_loss: 0.0051 - val_s2pafs_output_loss: 0.0051 - val_s3pafs_output_loss: 0.0051 - val_s4pafs_output_loss: 0.0051 - val_s5kpts_output_loss: 0.0167 - val_s6kpts_output_loss: 0.0172 - val_s1pafs_output_MeanAbsoluteRatio: 0.9967 - val_s1pafs_output_analog_recall: 0.7615 - val_s2pafs_output_MeanAbsoluteRatio: 0.9471 - val_s2pafs_output_analog_recall: 0.7593 - val_s3pafs_output_MeanAbsoluteRatio: 0.9830 - val_s3pafs_output_analog_recall: 0.7617 - val_s4pafs_output_MeanAbsoluteRatio: 0.9276 - val_s4pafs_output_analog_recall: 0.7577 - val_s5kpts_output_MeanAbsoluteRatio: 1.1177 - val_s5kpts_output_analog_recall: 0.6903 - val_s6kpts_output_MeanAbsoluteRatio: 0.9468 - val_s6kpts_output_analog_recall: 0.6497\n",
      "\n",
      "Learning rate for epoch 3 is 0.0010000000474974513\n",
      "Epoch 4/262\n",
      "50/50 [==============================] - 53s 1s/step - loss: 0.1263 - s1pafs_output_loss: 0.0047 - s2pafs_output_loss: 0.0047 - s3pafs_output_loss: 0.0048 - s4pafs_output_loss: 0.0047 - s5kpts_output_loss: 0.0157 - s6kpts_output_loss: 0.0160 - s1pafs_output_MeanAbsoluteRatio: 0.9471 - s1pafs_output_analog_recall: 0.7735 - s2pafs_output_MeanAbsoluteRatio: 0.9469 - s2pafs_output_analog_recall: 0.7743 - s3pafs_output_MeanAbsoluteRatio: 0.9371 - s3pafs_output_analog_recall: 0.7712 - s4pafs_output_MeanAbsoluteRatio: 0.9433 - s4pafs_output_analog_recall: 0.7735 - s5kpts_output_MeanAbsoluteRatio: 0.9948 - s5kpts_output_analog_recall: 0.6831 - s6kpts_output_MeanAbsoluteRatio: 1.0203 - s6kpts_output_analog_recall: 0.6783 - val_loss: 0.1353 - val_s1pafs_output_loss: 0.0051 - val_s2pafs_output_loss: 0.0050 - val_s3pafs_output_loss: 0.0052 - val_s4pafs_output_loss: 0.0051 - val_s5kpts_output_loss: 0.0167 - val_s6kpts_output_loss: 0.0166 - val_s1pafs_output_MeanAbsoluteRatio: 1.0144 - val_s1pafs_output_analog_recall: 0.7657 - val_s2pafs_output_MeanAbsoluteRatio: 0.9669 - val_s2pafs_output_analog_recall: 0.7634 - val_s3pafs_output_MeanAbsoluteRatio: 1.0864 - val_s3pafs_output_analog_recall: 0.7653 - val_s4pafs_output_MeanAbsoluteRatio: 1.0436 - val_s4pafs_output_analog_recall: 0.7674 - val_s5kpts_output_MeanAbsoluteRatio: 1.1914 - val_s5kpts_output_analog_recall: 0.7036 - val_s6kpts_output_MeanAbsoluteRatio: 0.9859 - val_s6kpts_output_analog_recall: 0.6659\n",
      "\n",
      "Learning rate for epoch 4 is 0.0010000000474974513\n",
      "Epoch 5/262\n",
      "50/50 [==============================] - 47s 931ms/step - loss: 0.1302 - s1pafs_output_loss: 0.0049 - s2pafs_output_loss: 0.0049 - s3pafs_output_loss: 0.0049 - s4pafs_output_loss: 0.0049 - s5kpts_output_loss: 0.0162 - s6kpts_output_loss: 0.0164 - s1pafs_output_MeanAbsoluteRatio: 0.9304 - s1pafs_output_analog_recall: 0.7677 - s2pafs_output_MeanAbsoluteRatio: 0.9403 - s2pafs_output_analog_recall: 0.7692 - s3pafs_output_MeanAbsoluteRatio: 0.9313 - s3pafs_output_analog_recall: 0.7657 - s4pafs_output_MeanAbsoluteRatio: 0.9335 - s4pafs_output_analog_recall: 0.7675 - s5kpts_output_MeanAbsoluteRatio: 0.9999 - s5kpts_output_analog_recall: 0.6770 - s6kpts_output_MeanAbsoluteRatio: 0.9858 - s6kpts_output_analog_recall: 0.6692 - val_loss: 0.1369 - val_s1pafs_output_loss: 0.0051 - val_s2pafs_output_loss: 0.0051 - val_s3pafs_output_loss: 0.0051 - val_s4pafs_output_loss: 0.0052 - val_s5kpts_output_loss: 0.0171 - val_s6kpts_output_loss: 0.0174 - val_s1pafs_output_MeanAbsoluteRatio: 0.9438 - val_s1pafs_output_analog_recall: 0.7580 - val_s2pafs_output_MeanAbsoluteRatio: 0.9124 - val_s2pafs_output_analog_recall: 0.7574 - val_s3pafs_output_MeanAbsoluteRatio: 0.9582 - val_s3pafs_output_analog_recall: 0.7558 - val_s4pafs_output_MeanAbsoluteRatio: 0.8899 - val_s4pafs_output_analog_recall: 0.7517 - val_s5kpts_output_MeanAbsoluteRatio: 0.8788 - val_s5kpts_output_analog_recall: 0.6435 - val_s6kpts_output_MeanAbsoluteRatio: 0.9151 - val_s6kpts_output_analog_recall: 0.6433\n",
      "\n",
      "Learning rate for epoch 5 is 0.0010000000474974513\n",
      "Epoch 6/262\n"
     ]
    },
    {
     "name": "stdout",
     "output_type": "stream",
     "text": [
      "50/50 [==============================] - 47s 947ms/step - loss: 0.1293 - s1pafs_output_loss: 0.0048 - s2pafs_output_loss: 0.0048 - s3pafs_output_loss: 0.0048 - s4pafs_output_loss: 0.0048 - s5kpts_output_loss: 0.0164 - s6kpts_output_loss: 0.0163 - s1pafs_output_MeanAbsoluteRatio: 0.9442 - s1pafs_output_analog_recall: 0.7691 - s2pafs_output_MeanAbsoluteRatio: 0.9438 - s2pafs_output_analog_recall: 0.7714 - s3pafs_output_MeanAbsoluteRatio: 0.9377 - s3pafs_output_analog_recall: 0.7669 - s4pafs_output_MeanAbsoluteRatio: 0.9466 - s4pafs_output_analog_recall: 0.7673 - s5kpts_output_MeanAbsoluteRatio: 0.9600 - s5kpts_output_analog_recall: 0.6632 - s6kpts_output_MeanAbsoluteRatio: 1.0007 - s6kpts_output_analog_recall: 0.6702 - val_loss: 0.1376 - val_s1pafs_output_loss: 0.0051 - val_s2pafs_output_loss: 0.0051 - val_s3pafs_output_loss: 0.0052 - val_s4pafs_output_loss: 0.0052 - val_s5kpts_output_loss: 0.0179 - val_s6kpts_output_loss: 0.0170 - val_s1pafs_output_MeanAbsoluteRatio: 0.8511 - val_s1pafs_output_analog_recall: 0.7524 - val_s2pafs_output_MeanAbsoluteRatio: 0.8414 - val_s2pafs_output_analog_recall: 0.7530 - val_s3pafs_output_MeanAbsoluteRatio: 0.9395 - val_s3pafs_output_analog_recall: 0.7541 - val_s4pafs_output_MeanAbsoluteRatio: 0.8804 - val_s4pafs_output_analog_recall: 0.7515 - val_s5kpts_output_MeanAbsoluteRatio: 0.7678 - val_s5kpts_output_analog_recall: 0.6226 - val_s6kpts_output_MeanAbsoluteRatio: 0.9789 - val_s6kpts_output_analog_recall: 0.6596\n",
      "\n",
      "Learning rate for epoch 6 is 0.0010000000474974513\n",
      "Epoch 7/262\n",
      "50/50 [==============================] - 48s 953ms/step - loss: 0.1287 - s1pafs_output_loss: 0.0048 - s2pafs_output_loss: 0.0048 - s3pafs_output_loss: 0.0048 - s4pafs_output_loss: 0.0048 - s5kpts_output_loss: 0.0162 - s6kpts_output_loss: 0.0161 - s1pafs_output_MeanAbsoluteRatio: 0.9335 - s1pafs_output_analog_recall: 0.7695 - s2pafs_output_MeanAbsoluteRatio: 0.9347 - s2pafs_output_analog_recall: 0.7713 - s3pafs_output_MeanAbsoluteRatio: 0.9348 - s3pafs_output_analog_recall: 0.7660 - s4pafs_output_MeanAbsoluteRatio: 0.9331 - s4pafs_output_analog_recall: 0.7661 - s5kpts_output_MeanAbsoluteRatio: 1.0156 - s5kpts_output_analog_recall: 0.6753 - s6kpts_output_MeanAbsoluteRatio: 1.0063 - s6kpts_output_analog_recall: 0.6758 - val_loss: 0.1348 - val_s1pafs_output_loss: 0.0051 - val_s2pafs_output_loss: 0.0050 - val_s3pafs_output_loss: 0.0052 - val_s4pafs_output_loss: 0.0052 - val_s5kpts_output_loss: 0.0164 - val_s6kpts_output_loss: 0.0163 - val_s1pafs_output_MeanAbsoluteRatio: 1.0040 - val_s1pafs_output_analog_recall: 0.7641 - val_s2pafs_output_MeanAbsoluteRatio: 0.9419 - val_s2pafs_output_analog_recall: 0.7633 - val_s3pafs_output_MeanAbsoluteRatio: 0.9290 - val_s3pafs_output_analog_recall: 0.7535 - val_s4pafs_output_MeanAbsoluteRatio: 0.9366 - val_s4pafs_output_analog_recall: 0.7542 - val_s5kpts_output_MeanAbsoluteRatio: 0.9736 - val_s5kpts_output_analog_recall: 0.6690 - val_s6kpts_output_MeanAbsoluteRatio: 0.9843 - val_s6kpts_output_analog_recall: 0.6731\n",
      "\n",
      "Learning rate for epoch 7 is 0.0010000000474974513\n",
      "Epoch 8/262\n",
      "50/50 [==============================] - 48s 950ms/step - loss: 0.1269 - s1pafs_output_loss: 0.0047 - s2pafs_output_loss: 0.0047 - s3pafs_output_loss: 0.0048 - s4pafs_output_loss: 0.0048 - s5kpts_output_loss: 0.0156 - s6kpts_output_loss: 0.0156 - s1pafs_output_MeanAbsoluteRatio: 0.9459 - s1pafs_output_analog_recall: 0.7749 - s2pafs_output_MeanAbsoluteRatio: 0.9322 - s2pafs_output_analog_recall: 0.7743 - s3pafs_output_MeanAbsoluteRatio: 0.9382 - s3pafs_output_analog_recall: 0.7674 - s4pafs_output_MeanAbsoluteRatio: 0.9318 - s4pafs_output_analog_recall: 0.7672 - s5kpts_output_MeanAbsoluteRatio: 1.0129 - s5kpts_output_analog_recall: 0.6873 - s6kpts_output_MeanAbsoluteRatio: 1.0098 - s6kpts_output_analog_recall: 0.6863 - val_loss: 0.1345 - val_s1pafs_output_loss: 0.0051 - val_s2pafs_output_loss: 0.0050 - val_s3pafs_output_loss: 0.0051 - val_s4pafs_output_loss: 0.0052 - val_s5kpts_output_loss: 0.0163 - val_s6kpts_output_loss: 0.0163 - val_s1pafs_output_MeanAbsoluteRatio: 0.9002 - val_s1pafs_output_analog_recall: 0.7581 - val_s2pafs_output_MeanAbsoluteRatio: 0.9702 - val_s2pafs_output_analog_recall: 0.7636 - val_s3pafs_output_MeanAbsoluteRatio: 0.9389 - val_s3pafs_output_analog_recall: 0.7554 - val_s4pafs_output_MeanAbsoluteRatio: 0.9268 - val_s4pafs_output_analog_recall: 0.7534 - val_s5kpts_output_MeanAbsoluteRatio: 0.9302 - val_s5kpts_output_analog_recall: 0.6656 - val_s6kpts_output_MeanAbsoluteRatio: 0.9102 - val_s6kpts_output_analog_recall: 0.6650\n",
      "\n",
      "Learning rate for epoch 8 is 0.0010000000474974513\n",
      "Epoch 9/262\n",
      "36/50 [====================>.........] - ETA: 13s - loss: 0.1275 - s1pafs_output_loss: 0.0048 - s2pafs_output_loss: 0.0048 - s3pafs_output_loss: 0.0049 - s4pafs_output_loss: 0.0049 - s5kpts_output_loss: 0.0154 - s6kpts_output_loss: 0.0155 - s1pafs_output_MeanAbsoluteRatio: 0.9362 - s1pafs_output_analog_recall: 0.7717 - s2pafs_output_MeanAbsoluteRatio: 0.9455 - s2pafs_output_analog_recall: 0.7732 - s3pafs_output_MeanAbsoluteRatio: 0.9344 - s3pafs_output_analog_recall: 0.7662 - s4pafs_output_MeanAbsoluteRatio: 0.9398 - s4pafs_output_analog_recall: 0.7661 - s5kpts_output_MeanAbsoluteRatio: 0.9988 - s5kpts_output_analog_recall: 0.6889 - s6kpts_output_MeanAbsoluteRatio: 0.9951 - s6kpts_output_analog_recall: 0.6873\n",
      "Epoch 00009: saving model to gs://dl_training_results/checkpoints/model1115Sun1219-0341/-E0009.ckpt\n",
      "50/50 [==============================] - 101s 2s/step - loss: 0.1276 - s1pafs_output_loss: 0.0048 - s2pafs_output_loss: 0.0048 - s3pafs_output_loss: 0.0049 - s4pafs_output_loss: 0.0049 - s5kpts_output_loss: 0.0155 - s6kpts_output_loss: 0.0155 - s1pafs_output_MeanAbsoluteRatio: 0.9363 - s1pafs_output_analog_recall: 0.7722 - s2pafs_output_MeanAbsoluteRatio: 0.9404 - s2pafs_output_analog_recall: 0.7735 - s3pafs_output_MeanAbsoluteRatio: 0.9420 - s3pafs_output_analog_recall: 0.7667 - s4pafs_output_MeanAbsoluteRatio: 0.9482 - s4pafs_output_analog_recall: 0.7678 - s5kpts_output_MeanAbsoluteRatio: 0.9903 - s5kpts_output_analog_recall: 0.6874 - s6kpts_output_MeanAbsoluteRatio: 0.9906 - s6kpts_output_analog_recall: 0.6861 - val_loss: 0.1343 - val_s1pafs_output_loss: 0.0051 - val_s2pafs_output_loss: 0.0051 - val_s3pafs_output_loss: 0.0052 - val_s4pafs_output_loss: 0.0051 - val_s5kpts_output_loss: 0.0161 - val_s6kpts_output_loss: 0.0162 - val_s1pafs_output_MeanAbsoluteRatio: 1.0341 - val_s1pafs_output_analog_recall: 0.7737 - val_s2pafs_output_MeanAbsoluteRatio: 1.0239 - val_s2pafs_output_analog_recall: 0.7725 - val_s3pafs_output_MeanAbsoluteRatio: 0.9116 - val_s3pafs_output_analog_recall: 0.7530 - val_s4pafs_output_MeanAbsoluteRatio: 0.8763 - val_s4pafs_output_analog_recall: 0.7544 - val_s5kpts_output_MeanAbsoluteRatio: 1.0633 - val_s5kpts_output_analog_recall: 0.6862 - val_s6kpts_output_MeanAbsoluteRatio: 1.1088 - val_s6kpts_output_analog_recall: 0.6896\n",
      "\n",
      "Learning rate for epoch 9 is 0.0010000000474974513\n",
      "Epoch 10/262\n",
      "50/50 [==============================] - 40s 810ms/step - loss: 0.1272 - s1pafs_output_loss: 0.0048 - s2pafs_output_loss: 0.0048 - s3pafs_output_loss: 0.0048 - s4pafs_output_loss: 0.0048 - s5kpts_output_loss: 0.0155 - s6kpts_output_loss: 0.0156 - s1pafs_output_MeanAbsoluteRatio: 0.9365 - s1pafs_output_analog_recall: 0.7714 - s2pafs_output_MeanAbsoluteRatio: 0.9368 - s2pafs_output_analog_recall: 0.7729 - s3pafs_output_MeanAbsoluteRatio: 0.9431 - s3pafs_output_analog_recall: 0.7676 - s4pafs_output_MeanAbsoluteRatio: 0.9404 - s4pafs_output_analog_recall: 0.7698 - s5kpts_output_MeanAbsoluteRatio: 1.0205 - s5kpts_output_analog_recall: 0.6922 - s6kpts_output_MeanAbsoluteRatio: 1.0221 - s6kpts_output_analog_recall: 0.6902 - val_loss: 0.1349 - val_s1pafs_output_loss: 0.0051 - val_s2pafs_output_loss: 0.0051 - val_s3pafs_output_loss: 0.0051 - val_s4pafs_output_loss: 0.0051 - val_s5kpts_output_loss: 0.0164 - val_s6kpts_output_loss: 0.0165 - val_s1pafs_output_MeanAbsoluteRatio: 0.8334 - val_s1pafs_output_analog_recall: 0.7536 - val_s2pafs_output_MeanAbsoluteRatio: 0.8323 - val_s2pafs_output_analog_recall: 0.7530 - val_s3pafs_output_MeanAbsoluteRatio: 0.9452 - val_s3pafs_output_analog_recall: 0.7568 - val_s4pafs_output_MeanAbsoluteRatio: 0.8745 - val_s4pafs_output_analog_recall: 0.7549 - val_s5kpts_output_MeanAbsoluteRatio: 0.8591 - val_s5kpts_output_analog_recall: 0.6551 - val_s6kpts_output_MeanAbsoluteRatio: 0.8545 - val_s6kpts_output_analog_recall: 0.6525\n"
     ]
    },
    {
     "name": "stdout",
     "output_type": "stream",
     "text": [
      "\n",
      "Learning rate for epoch 10 is 0.0010000000474974513\n",
      "Epoch 11/262\n",
      "50/50 [==============================] - 41s 826ms/step - loss: 0.1304 - s1pafs_output_loss: 0.0049 - s2pafs_output_loss: 0.0049 - s3pafs_output_loss: 0.0050 - s4pafs_output_loss: 0.0050 - s5kpts_output_loss: 0.0158 - s6kpts_output_loss: 0.0158 - s1pafs_output_MeanAbsoluteRatio: 0.9367 - s1pafs_output_analog_recall: 0.7688 - s2pafs_output_MeanAbsoluteRatio: 0.9353 - s2pafs_output_analog_recall: 0.7689 - s3pafs_output_MeanAbsoluteRatio: 0.9447 - s3pafs_output_analog_recall: 0.7629 - s4pafs_output_MeanAbsoluteRatio: 0.9342 - s4pafs_output_analog_recall: 0.7652 - s5kpts_output_MeanAbsoluteRatio: 1.0028 - s5kpts_output_analog_recall: 0.6867 - s6kpts_output_MeanAbsoluteRatio: 1.0051 - s6kpts_output_analog_recall: 0.6867 - val_loss: 0.1323 - val_s1pafs_output_loss: 0.0050 - val_s2pafs_output_loss: 0.0050 - val_s3pafs_output_loss: 0.0051 - val_s4pafs_output_loss: 0.0050 - val_s5kpts_output_loss: 0.0159 - val_s6kpts_output_loss: 0.0159 - val_s1pafs_output_MeanAbsoluteRatio: 0.9274 - val_s1pafs_output_analog_recall: 0.7637 - val_s2pafs_output_MeanAbsoluteRatio: 0.9080 - val_s2pafs_output_analog_recall: 0.7620 - val_s3pafs_output_MeanAbsoluteRatio: 0.9394 - val_s3pafs_output_analog_recall: 0.7600 - val_s4pafs_output_MeanAbsoluteRatio: 0.9156 - val_s4pafs_output_analog_recall: 0.7607 - val_s5kpts_output_MeanAbsoluteRatio: 1.0164 - val_s5kpts_output_analog_recall: 0.6855 - val_s6kpts_output_MeanAbsoluteRatio: 0.9614 - val_s6kpts_output_analog_recall: 0.6766\n",
      "\n",
      "Learning rate for epoch 11 is 0.0010000000474974513\n",
      "Epoch 12/262\n",
      "50/50 [==============================] - 46s 929ms/step - loss: 0.1242 - s1pafs_output_loss: 0.0047 - s2pafs_output_loss: 0.0047 - s3pafs_output_loss: 0.0047 - s4pafs_output_loss: 0.0047 - s5kpts_output_loss: 0.0151 - s6kpts_output_loss: 0.0151 - s1pafs_output_MeanAbsoluteRatio: 0.9424 - s1pafs_output_analog_recall: 0.7774 - s2pafs_output_MeanAbsoluteRatio: 0.9416 - s2pafs_output_analog_recall: 0.7775 - s3pafs_output_MeanAbsoluteRatio: 0.9393 - s3pafs_output_analog_recall: 0.7725 - s4pafs_output_MeanAbsoluteRatio: 0.9374 - s4pafs_output_analog_recall: 0.7743 - s5kpts_output_MeanAbsoluteRatio: 1.0121 - s5kpts_output_analog_recall: 0.6975 - s6kpts_output_MeanAbsoluteRatio: 1.0089 - s6kpts_output_analog_recall: 0.6959 - val_loss: 0.1317 - val_s1pafs_output_loss: 0.0050 - val_s2pafs_output_loss: 0.0050 - val_s3pafs_output_loss: 0.0050 - val_s4pafs_output_loss: 0.0050 - val_s5kpts_output_loss: 0.0158 - val_s6kpts_output_loss: 0.0158 - val_s1pafs_output_MeanAbsoluteRatio: 0.8942 - val_s1pafs_output_analog_recall: 0.7628 - val_s2pafs_output_MeanAbsoluteRatio: 0.9023 - val_s2pafs_output_analog_recall: 0.7636 - val_s3pafs_output_MeanAbsoluteRatio: 0.9268 - val_s3pafs_output_analog_recall: 0.7619 - val_s4pafs_output_MeanAbsoluteRatio: 0.9065 - val_s4pafs_output_analog_recall: 0.7615 - val_s5kpts_output_MeanAbsoluteRatio: 0.9282 - val_s5kpts_output_analog_recall: 0.6782 - val_s6kpts_output_MeanAbsoluteRatio: 0.9553 - val_s6kpts_output_analog_recall: 0.6809\n",
      "\n",
      "Learning rate for epoch 12 is 0.0010000000474974513\n",
      "Epoch 13/262\n",
      "50/50 [==============================] - 48s 965ms/step - loss: 0.1243 - s1pafs_output_loss: 0.0047 - s2pafs_output_loss: 0.0047 - s3pafs_output_loss: 0.0047 - s4pafs_output_loss: 0.0047 - s5kpts_output_loss: 0.0151 - s6kpts_output_loss: 0.0152 - s1pafs_output_MeanAbsoluteRatio: 0.9367 - s1pafs_output_analog_recall: 0.7775 - s2pafs_output_MeanAbsoluteRatio: 0.9377 - s2pafs_output_analog_recall: 0.7779 - s3pafs_output_MeanAbsoluteRatio: 0.9326 - s3pafs_output_analog_recall: 0.7736 - s4pafs_output_MeanAbsoluteRatio: 0.9354 - s4pafs_output_analog_recall: 0.7742 - s5kpts_output_MeanAbsoluteRatio: 1.0058 - s5kpts_output_analog_recall: 0.6964 - s6kpts_output_MeanAbsoluteRatio: 1.0028 - s6kpts_output_analog_recall: 0.6950 - val_loss: 0.1318 - val_s1pafs_output_loss: 0.0050 - val_s2pafs_output_loss: 0.0050 - val_s3pafs_output_loss: 0.0050 - val_s4pafs_output_loss: 0.0050 - val_s5kpts_output_loss: 0.0158 - val_s6kpts_output_loss: 0.0159 - val_s1pafs_output_MeanAbsoluteRatio: 0.9181 - val_s1pafs_output_analog_recall: 0.7638 - val_s2pafs_output_MeanAbsoluteRatio: 0.9137 - val_s2pafs_output_analog_recall: 0.7632 - val_s3pafs_output_MeanAbsoluteRatio: 0.9488 - val_s3pafs_output_analog_recall: 0.7623 - val_s4pafs_output_MeanAbsoluteRatio: 0.9320 - val_s4pafs_output_analog_recall: 0.7627 - val_s5kpts_output_MeanAbsoluteRatio: 0.9703 - val_s5kpts_output_analog_recall: 0.6836 - val_s6kpts_output_MeanAbsoluteRatio: 0.9838 - val_s6kpts_output_analog_recall: 0.6841\n",
      "\n",
      "Learning rate for epoch 13 is 0.0010000000474974513\n",
      "Epoch 14/262\n",
      "50/50 [==============================] - 47s 942ms/step - loss: 0.1254 - s1pafs_output_loss: 0.0047 - s2pafs_output_loss: 0.0047 - s3pafs_output_loss: 0.0048 - s4pafs_output_loss: 0.0048 - s5kpts_output_loss: 0.0152 - s6kpts_output_loss: 0.0152 - s1pafs_output_MeanAbsoluteRatio: 0.9410 - s1pafs_output_analog_recall: 0.7762 - s2pafs_output_MeanAbsoluteRatio: 0.9420 - s2pafs_output_analog_recall: 0.7766 - s3pafs_output_MeanAbsoluteRatio: 0.9432 - s3pafs_output_analog_recall: 0.7739 - s4pafs_output_MeanAbsoluteRatio: 0.9414 - s4pafs_output_analog_recall: 0.7739 - s5kpts_output_MeanAbsoluteRatio: 1.0119 - s5kpts_output_analog_recall: 0.6974 - s6kpts_output_MeanAbsoluteRatio: 1.0126 - s6kpts_output_analog_recall: 0.6968 - val_loss: 0.1314 - val_s1pafs_output_loss: 0.0050 - val_s2pafs_output_loss: 0.0050 - val_s3pafs_output_loss: 0.0050 - val_s4pafs_output_loss: 0.0050 - val_s5kpts_output_loss: 0.0156 - val_s6kpts_output_loss: 0.0157 - val_s1pafs_output_MeanAbsoluteRatio: 0.8869 - val_s1pafs_output_analog_recall: 0.7622 - val_s2pafs_output_MeanAbsoluteRatio: 0.9041 - val_s2pafs_output_analog_recall: 0.7645 - val_s3pafs_output_MeanAbsoluteRatio: 0.8821 - val_s3pafs_output_analog_recall: 0.7584 - val_s4pafs_output_MeanAbsoluteRatio: 0.8842 - val_s4pafs_output_analog_recall: 0.7601 - val_s5kpts_output_MeanAbsoluteRatio: 0.9777 - val_s5kpts_output_analog_recall: 0.6862 - val_s6kpts_output_MeanAbsoluteRatio: 0.9694 - val_s6kpts_output_analog_recall: 0.6821\n",
      "\n",
      "Learning rate for epoch 14 is 0.0010000000474974513\n",
      "Epoch 15/262\n",
      "50/50 [==============================] - 45s 903ms/step - loss: 0.1258 - s1pafs_output_loss: 0.0047 - s2pafs_output_loss: 0.0047 - s3pafs_output_loss: 0.0048 - s4pafs_output_loss: 0.0048 - s5kpts_output_loss: 0.0153 - s6kpts_output_loss: 0.0153 - s1pafs_output_MeanAbsoluteRatio: 0.9325 - s1pafs_output_analog_recall: 0.7745 - s2pafs_output_MeanAbsoluteRatio: 0.9347 - s2pafs_output_analog_recall: 0.7752 - s3pafs_output_MeanAbsoluteRatio: 0.9302 - s3pafs_output_analog_recall: 0.7722 - s4pafs_output_MeanAbsoluteRatio: 0.9316 - s4pafs_output_analog_recall: 0.7726 - s5kpts_output_MeanAbsoluteRatio: 0.9967 - s5kpts_output_analog_recall: 0.6936 - s6kpts_output_MeanAbsoluteRatio: 0.9965 - s6kpts_output_analog_recall: 0.6929 - val_loss: 0.1324 - val_s1pafs_output_loss: 0.0050 - val_s2pafs_output_loss: 0.0050 - val_s3pafs_output_loss: 0.0051 - val_s4pafs_output_loss: 0.0050 - val_s5kpts_output_loss: 0.0158 - val_s6kpts_output_loss: 0.0160 - val_s1pafs_output_MeanAbsoluteRatio: 0.9840 - val_s1pafs_output_analog_recall: 0.7673 - val_s2pafs_output_MeanAbsoluteRatio: 1.0169 - val_s2pafs_output_analog_recall: 0.7694 - val_s3pafs_output_MeanAbsoluteRatio: 0.9174 - val_s3pafs_output_analog_recall: 0.7570 - val_s4pafs_output_MeanAbsoluteRatio: 0.9297 - val_s4pafs_output_analog_recall: 0.7613 - val_s5kpts_output_MeanAbsoluteRatio: 1.0728 - val_s5kpts_output_analog_recall: 0.6992 - val_s6kpts_output_MeanAbsoluteRatio: 1.0511 - val_s6kpts_output_analog_recall: 0.6883\n",
      "\n",
      "Learning rate for epoch 15 is 0.0010000000474974513\n",
      "Epoch 16/262\n"
     ]
    },
    {
     "name": "stdout",
     "output_type": "stream",
     "text": [
      "50/50 [==============================] - 41s 829ms/step - loss: 0.1234 - s1pafs_output_loss: 0.0047 - s2pafs_output_loss: 0.0046 - s3pafs_output_loss: 0.0047 - s4pafs_output_loss: 0.0047 - s5kpts_output_loss: 0.0151 - s6kpts_output_loss: 0.0151 - s1pafs_output_MeanAbsoluteRatio: 0.9472 - s1pafs_output_analog_recall: 0.7789 - s2pafs_output_MeanAbsoluteRatio: 0.9478 - s2pafs_output_analog_recall: 0.7792 - s3pafs_output_MeanAbsoluteRatio: 0.9512 - s3pafs_output_analog_recall: 0.7765 - s4pafs_output_MeanAbsoluteRatio: 0.9485 - s4pafs_output_analog_recall: 0.7775 - s5kpts_output_MeanAbsoluteRatio: 1.0157 - s5kpts_output_analog_recall: 0.7000 - s6kpts_output_MeanAbsoluteRatio: 1.0142 - s6kpts_output_analog_recall: 0.6997 - val_loss: 0.1309 - val_s1pafs_output_loss: 0.0050 - val_s2pafs_output_loss: 0.0050 - val_s3pafs_output_loss: 0.0050 - val_s4pafs_output_loss: 0.0050 - val_s5kpts_output_loss: 0.0156 - val_s6kpts_output_loss: 0.0157 - val_s1pafs_output_MeanAbsoluteRatio: 0.8702 - val_s1pafs_output_analog_recall: 0.7612 - val_s2pafs_output_MeanAbsoluteRatio: 0.8673 - val_s2pafs_output_analog_recall: 0.7619 - val_s3pafs_output_MeanAbsoluteRatio: 0.8700 - val_s3pafs_output_analog_recall: 0.7593 - val_s4pafs_output_MeanAbsoluteRatio: 0.8862 - val_s4pafs_output_analog_recall: 0.7621 - val_s5kpts_output_MeanAbsoluteRatio: 0.9379 - val_s5kpts_output_analog_recall: 0.6819 - val_s6kpts_output_MeanAbsoluteRatio: 0.9174 - val_s6kpts_output_analog_recall: 0.6781\n",
      "\n",
      "Learning rate for epoch 16 is 0.0010000000474974513\n",
      "Epoch 17/262\n",
      "50/50 [==============================] - 61s 1s/step - loss: 0.1224 - s1pafs_output_loss: 0.0046 - s2pafs_output_loss: 0.0046 - s3pafs_output_loss: 0.0047 - s4pafs_output_loss: 0.0047 - s5kpts_output_loss: 0.0148 - s6kpts_output_loss: 0.0147 - s1pafs_output_MeanAbsoluteRatio: 0.9411 - s1pafs_output_analog_recall: 0.7808 - s2pafs_output_MeanAbsoluteRatio: 0.9409 - s2pafs_output_analog_recall: 0.7812 - s3pafs_output_MeanAbsoluteRatio: 0.9384 - s3pafs_output_analog_recall: 0.7792 - s4pafs_output_MeanAbsoluteRatio: 0.9409 - s4pafs_output_analog_recall: 0.7796 - s5kpts_output_MeanAbsoluteRatio: 1.0059 - s5kpts_output_analog_recall: 0.7024 - s6kpts_output_MeanAbsoluteRatio: 1.0053 - s6kpts_output_analog_recall: 0.7040 - val_loss: 0.1302 - val_s1pafs_output_loss: 0.0050 - val_s2pafs_output_loss: 0.0049 - val_s3pafs_output_loss: 0.0050 - val_s4pafs_output_loss: 0.0050 - val_s5kpts_output_loss: 0.0155 - val_s6kpts_output_loss: 0.0154 - val_s1pafs_output_MeanAbsoluteRatio: 0.8707 - val_s1pafs_output_analog_recall: 0.7621 - val_s2pafs_output_MeanAbsoluteRatio: 0.8927 - val_s2pafs_output_analog_recall: 0.7651 - val_s3pafs_output_MeanAbsoluteRatio: 0.8677 - val_s3pafs_output_analog_recall: 0.7600 - val_s4pafs_output_MeanAbsoluteRatio: 0.8720 - val_s4pafs_output_analog_recall: 0.7610 - val_s5kpts_output_MeanAbsoluteRatio: 0.9879 - val_s5kpts_output_analog_recall: 0.6896 - val_s6kpts_output_MeanAbsoluteRatio: 0.9485 - val_s6kpts_output_analog_recall: 0.6867\n",
      "\n",
      "Learning rate for epoch 17 is 0.0010000000474974513\n",
      "Epoch 18/262\n",
      "24/50 [=============>................] - ETA: 19s - loss: 0.1237 - s1pafs_output_loss: 0.0047 - s2pafs_output_loss: 0.0047 - s3pafs_output_loss: 0.0047 - s4pafs_output_loss: 0.0047 - s5kpts_output_loss: 0.0146 - s6kpts_output_loss: 0.0146 - s1pafs_output_MeanAbsoluteRatio: 0.9408 - s1pafs_output_analog_recall: 0.7789 - s2pafs_output_MeanAbsoluteRatio: 0.9398 - s2pafs_output_analog_recall: 0.7791 - s3pafs_output_MeanAbsoluteRatio: 0.9439 - s3pafs_output_analog_recall: 0.7783 - s4pafs_output_MeanAbsoluteRatio: 0.9388 - s4pafs_output_analog_recall: 0.7775 - s5kpts_output_MeanAbsoluteRatio: 1.0207 - s5kpts_output_analog_recall: 0.7080 - s6kpts_output_MeanAbsoluteRatio: 1.0096 - s6kpts_output_analog_recall: 0.7084\n",
      "Epoch 00018: saving model to gs://dl_training_results/checkpoints/model1115Sun1219-0341/-E0018.ckpt\n",
      "50/50 [==============================] - 51s 1s/step - loss: 0.1242 - s1pafs_output_loss: 0.0047 - s2pafs_output_loss: 0.0047 - s3pafs_output_loss: 0.0047 - s4pafs_output_loss: 0.0047 - s5kpts_output_loss: 0.0148 - s6kpts_output_loss: 0.0148 - s1pafs_output_MeanAbsoluteRatio: 0.9393 - s1pafs_output_analog_recall: 0.7777 - s2pafs_output_MeanAbsoluteRatio: 0.9396 - s2pafs_output_analog_recall: 0.7782 - s3pafs_output_MeanAbsoluteRatio: 0.9359 - s3pafs_output_analog_recall: 0.7765 - s4pafs_output_MeanAbsoluteRatio: 0.9384 - s4pafs_output_analog_recall: 0.7765 - s5kpts_output_MeanAbsoluteRatio: 1.0111 - s5kpts_output_analog_recall: 0.7048 - s6kpts_output_MeanAbsoluteRatio: 1.0070 - s6kpts_output_analog_recall: 0.7055 - val_loss: 0.1304 - val_s1pafs_output_loss: 0.0049 - val_s2pafs_output_loss: 0.0050 - val_s3pafs_output_loss: 0.0050 - val_s4pafs_output_loss: 0.0050 - val_s5kpts_output_loss: 0.0156 - val_s6kpts_output_loss: 0.0154 - val_s1pafs_output_MeanAbsoluteRatio: 0.9835 - val_s1pafs_output_analog_recall: 0.7730 - val_s2pafs_output_MeanAbsoluteRatio: 1.0426 - val_s2pafs_output_analog_recall: 0.7793 - val_s3pafs_output_MeanAbsoluteRatio: 1.0005 - val_s3pafs_output_analog_recall: 0.7725 - val_s4pafs_output_MeanAbsoluteRatio: 0.9632 - val_s4pafs_output_analog_recall: 0.7708 - val_s5kpts_output_MeanAbsoluteRatio: 1.1190 - val_s5kpts_output_analog_recall: 0.7119 - val_s6kpts_output_MeanAbsoluteRatio: 1.0768 - val_s6kpts_output_analog_recall: 0.7039\n",
      "\n",
      "Learning rate for epoch 18 is 0.0010000000474974513\n",
      "Epoch 19/262\n",
      "50/50 [==============================] - 40s 805ms/step - loss: 0.1232 - s1pafs_output_loss: 0.0047 - s2pafs_output_loss: 0.0047 - s3pafs_output_loss: 0.0047 - s4pafs_output_loss: 0.0047 - s5kpts_output_loss: 0.0147 - s6kpts_output_loss: 0.0147 - s1pafs_output_MeanAbsoluteRatio: 0.9421 - s1pafs_output_analog_recall: 0.7791 - s2pafs_output_MeanAbsoluteRatio: 0.9401 - s2pafs_output_analog_recall: 0.7794 - s3pafs_output_MeanAbsoluteRatio: 0.9425 - s3pafs_output_analog_recall: 0.7783 - s4pafs_output_MeanAbsoluteRatio: 0.9393 - s4pafs_output_analog_recall: 0.7779 - s5kpts_output_MeanAbsoluteRatio: 1.0090 - s5kpts_output_analog_recall: 0.7051 - s6kpts_output_MeanAbsoluteRatio: 1.0057 - s6kpts_output_analog_recall: 0.7058 - val_loss: 0.1300 - val_s1pafs_output_loss: 0.0049 - val_s2pafs_output_loss: 0.0049 - val_s3pafs_output_loss: 0.0050 - val_s4pafs_output_loss: 0.0050 - val_s5kpts_output_loss: 0.0156 - val_s6kpts_output_loss: 0.0154 - val_s1pafs_output_MeanAbsoluteRatio: 0.9419 - val_s1pafs_output_analog_recall: 0.7681 - val_s2pafs_output_MeanAbsoluteRatio: 0.8979 - val_s2pafs_output_analog_recall: 0.7651 - val_s3pafs_output_MeanAbsoluteRatio: 0.9097 - val_s3pafs_output_analog_recall: 0.7643 - val_s4pafs_output_MeanAbsoluteRatio: 0.9183 - val_s4pafs_output_analog_recall: 0.7658 - val_s5kpts_output_MeanAbsoluteRatio: 0.9956 - val_s5kpts_output_analog_recall: 0.6887 - val_s6kpts_output_MeanAbsoluteRatio: 0.9926 - val_s6kpts_output_analog_recall: 0.6911\n",
      "\n",
      "Learning rate for epoch 19 is 0.0010000000474974513\n",
      "Epoch 20/262\n",
      "50/50 [==============================] - 45s 908ms/step - loss: 0.1263 - s1pafs_output_loss: 0.0048 - s2pafs_output_loss: 0.0048 - s3pafs_output_loss: 0.0048 - s4pafs_output_loss: 0.0048 - s5kpts_output_loss: 0.0151 - s6kpts_output_loss: 0.0150 - s1pafs_output_MeanAbsoluteRatio: 0.9387 - s1pafs_output_analog_recall: 0.7739 - s2pafs_output_MeanAbsoluteRatio: 0.9409 - s2pafs_output_analog_recall: 0.7750 - s3pafs_output_MeanAbsoluteRatio: 0.9396 - s3pafs_output_analog_recall: 0.7738 - s4pafs_output_MeanAbsoluteRatio: 0.9352 - s4pafs_output_analog_recall: 0.7729 - s5kpts_output_MeanAbsoluteRatio: 1.0110 - s5kpts_output_analog_recall: 0.7016 - s6kpts_output_MeanAbsoluteRatio: 1.0051 - s6kpts_output_analog_recall: 0.7026 - val_loss: 0.1282 - val_s1pafs_output_loss: 0.0049 - val_s2pafs_output_loss: 0.0049 - val_s3pafs_output_loss: 0.0049 - val_s4pafs_output_loss: 0.0049 - val_s5kpts_output_loss: 0.0151 - val_s6kpts_output_loss: 0.0151 - val_s1pafs_output_MeanAbsoluteRatio: 0.9451 - val_s1pafs_output_analog_recall: 0.7713 - val_s2pafs_output_MeanAbsoluteRatio: 0.9333 - val_s2pafs_output_analog_recall: 0.7712 - val_s3pafs_output_MeanAbsoluteRatio: 0.9570 - val_s3pafs_output_analog_recall: 0.7729 - val_s4pafs_output_MeanAbsoluteRatio: 0.9430 - val_s4pafs_output_analog_recall: 0.7700 - val_s5kpts_output_MeanAbsoluteRatio: 1.0330 - val_s5kpts_output_analog_recall: 0.7081 - val_s6kpts_output_MeanAbsoluteRatio: 1.0702 - val_s6kpts_output_analog_recall: 0.7141\n"
     ]
    },
    {
     "name": "stdout",
     "output_type": "stream",
     "text": [
      "\n",
      "Learning rate for epoch 20 is 0.0010000000474974513\n",
      "Epoch 21/262\n",
      "50/50 [==============================] - 46s 928ms/step - loss: 0.1191 - s1pafs_output_loss: 0.0045 - s2pafs_output_loss: 0.0045 - s3pafs_output_loss: 0.0045 - s4pafs_output_loss: 0.0045 - s5kpts_output_loss: 0.0142 - s6kpts_output_loss: 0.0142 - s1pafs_output_MeanAbsoluteRatio: 0.9444 - s1pafs_output_analog_recall: 0.7842 - s2pafs_output_MeanAbsoluteRatio: 0.9454 - s2pafs_output_analog_recall: 0.7850 - s3pafs_output_MeanAbsoluteRatio: 0.9420 - s3pafs_output_analog_recall: 0.7837 - s4pafs_output_MeanAbsoluteRatio: 0.9418 - s4pafs_output_analog_recall: 0.7835 - s5kpts_output_MeanAbsoluteRatio: 1.0081 - s5kpts_output_analog_recall: 0.7130 - s6kpts_output_MeanAbsoluteRatio: 1.0078 - s6kpts_output_analog_recall: 0.7142 - val_loss: 0.1291 - val_s1pafs_output_loss: 0.0050 - val_s2pafs_output_loss: 0.0049 - val_s3pafs_output_loss: 0.0049 - val_s4pafs_output_loss: 0.0050 - val_s5kpts_output_loss: 0.0151 - val_s6kpts_output_loss: 0.0151 - val_s1pafs_output_MeanAbsoluteRatio: 1.0475 - val_s1pafs_output_analog_recall: 0.7784 - val_s2pafs_output_MeanAbsoluteRatio: 1.0073 - val_s2pafs_output_analog_recall: 0.7786 - val_s3pafs_output_MeanAbsoluteRatio: 1.0044 - val_s3pafs_output_analog_recall: 0.7754 - val_s4pafs_output_MeanAbsoluteRatio: 1.0311 - val_s4pafs_output_analog_recall: 0.7747 - val_s5kpts_output_MeanAbsoluteRatio: 1.0131 - val_s5kpts_output_analog_recall: 0.7029 - val_s6kpts_output_MeanAbsoluteRatio: 1.0525 - val_s6kpts_output_analog_recall: 0.7117\n",
      "\n",
      "Learning rate for epoch 21 is 0.0010000000474974513\n",
      "Epoch 22/262\n",
      "50/50 [==============================] - 47s 940ms/step - loss: 0.1219 - s1pafs_output_loss: 0.0046 - s2pafs_output_loss: 0.0046 - s3pafs_output_loss: 0.0047 - s4pafs_output_loss: 0.0047 - s5kpts_output_loss: 0.0145 - s6kpts_output_loss: 0.0144 - s1pafs_output_MeanAbsoluteRatio: 0.9494 - s1pafs_output_analog_recall: 0.7815 - s2pafs_output_MeanAbsoluteRatio: 0.9442 - s2pafs_output_analog_recall: 0.7817 - s3pafs_output_MeanAbsoluteRatio: 0.9430 - s3pafs_output_analog_recall: 0.7813 - s4pafs_output_MeanAbsoluteRatio: 0.9475 - s4pafs_output_analog_recall: 0.7811 - s5kpts_output_MeanAbsoluteRatio: 1.0104 - s5kpts_output_analog_recall: 0.7114 - s6kpts_output_MeanAbsoluteRatio: 1.0108 - s6kpts_output_analog_recall: 0.7133 - val_loss: 0.1272 - val_s1pafs_output_loss: 0.0049 - val_s2pafs_output_loss: 0.0049 - val_s3pafs_output_loss: 0.0049 - val_s4pafs_output_loss: 0.0049 - val_s5kpts_output_loss: 0.0150 - val_s6kpts_output_loss: 0.0148 - val_s1pafs_output_MeanAbsoluteRatio: 0.9031 - val_s1pafs_output_analog_recall: 0.7685 - val_s2pafs_output_MeanAbsoluteRatio: 0.8915 - val_s2pafs_output_analog_recall: 0.7674 - val_s3pafs_output_MeanAbsoluteRatio: 0.9219 - val_s3pafs_output_analog_recall: 0.7719 - val_s4pafs_output_MeanAbsoluteRatio: 0.9042 - val_s4pafs_output_analog_recall: 0.7691 - val_s5kpts_output_MeanAbsoluteRatio: 1.0094 - val_s5kpts_output_analog_recall: 0.7006 - val_s6kpts_output_MeanAbsoluteRatio: 0.9929 - val_s6kpts_output_analog_recall: 0.7059\n",
      "\n",
      "Learning rate for epoch 22 is 0.0010000000474974513\n",
      "Epoch 23/262\n",
      "50/50 [==============================] - 46s 926ms/step - loss: 0.1216 - s1pafs_output_loss: 0.0047 - s2pafs_output_loss: 0.0046 - s3pafs_output_loss: 0.0047 - s4pafs_output_loss: 0.0046 - s5kpts_output_loss: 0.0144 - s6kpts_output_loss: 0.0143 - s1pafs_output_MeanAbsoluteRatio: 0.9425 - s1pafs_output_analog_recall: 0.7809 - s2pafs_output_MeanAbsoluteRatio: 0.9419 - s2pafs_output_analog_recall: 0.7818 - s3pafs_output_MeanAbsoluteRatio: 0.9396 - s3pafs_output_analog_recall: 0.7806 - s4pafs_output_MeanAbsoluteRatio: 0.9435 - s4pafs_output_analog_recall: 0.7813 - s5kpts_output_MeanAbsoluteRatio: 1.0094 - s5kpts_output_analog_recall: 0.7134 - s6kpts_output_MeanAbsoluteRatio: 1.0142 - s6kpts_output_analog_recall: 0.7170 - val_loss: 0.1286 - val_s1pafs_output_loss: 0.0049 - val_s2pafs_output_loss: 0.0049 - val_s3pafs_output_loss: 0.0049 - val_s4pafs_output_loss: 0.0049 - val_s5kpts_output_loss: 0.0154 - val_s6kpts_output_loss: 0.0152 - val_s1pafs_output_MeanAbsoluteRatio: 0.9049 - val_s1pafs_output_analog_recall: 0.7667 - val_s2pafs_output_MeanAbsoluteRatio: 0.8787 - val_s2pafs_output_analog_recall: 0.7629 - val_s3pafs_output_MeanAbsoluteRatio: 0.8992 - val_s3pafs_output_analog_recall: 0.7671 - val_s4pafs_output_MeanAbsoluteRatio: 0.8875 - val_s4pafs_output_analog_recall: 0.7653 - val_s5kpts_output_MeanAbsoluteRatio: 0.8900 - val_s5kpts_output_analog_recall: 0.6772 - val_s6kpts_output_MeanAbsoluteRatio: 0.8848 - val_s6kpts_output_analog_recall: 0.6776\n",
      "\n",
      "Learning rate for epoch 23 is 0.0010000000474974513\n",
      "Epoch 24/262\n",
      "50/50 [==============================] - 41s 815ms/step - loss: 0.1198 - s1pafs_output_loss: 0.0046 - s2pafs_output_loss: 0.0046 - s3pafs_output_loss: 0.0046 - s4pafs_output_loss: 0.0046 - s5kpts_output_loss: 0.0143 - s6kpts_output_loss: 0.0141 - s1pafs_output_MeanAbsoluteRatio: 0.9452 - s1pafs_output_analog_recall: 0.7835 - s2pafs_output_MeanAbsoluteRatio: 0.9468 - s2pafs_output_analog_recall: 0.7844 - s3pafs_output_MeanAbsoluteRatio: 0.9512 - s3pafs_output_analog_recall: 0.7835 - s4pafs_output_MeanAbsoluteRatio: 0.9507 - s4pafs_output_analog_recall: 0.7832 - s5kpts_output_MeanAbsoluteRatio: 1.0048 - s5kpts_output_analog_recall: 0.7139 - s6kpts_output_MeanAbsoluteRatio: 1.0032 - s6kpts_output_analog_recall: 0.7167 - val_loss: 0.1260 - val_s1pafs_output_loss: 0.0048 - val_s2pafs_output_loss: 0.0049 - val_s3pafs_output_loss: 0.0049 - val_s4pafs_output_loss: 0.0049 - val_s5kpts_output_loss: 0.0146 - val_s6kpts_output_loss: 0.0144 - val_s1pafs_output_MeanAbsoluteRatio: 0.9140 - val_s1pafs_output_analog_recall: 0.7714 - val_s2pafs_output_MeanAbsoluteRatio: 0.8766 - val_s2pafs_output_analog_recall: 0.7665 - val_s3pafs_output_MeanAbsoluteRatio: 0.8902 - val_s3pafs_output_analog_recall: 0.7673 - val_s4pafs_output_MeanAbsoluteRatio: 0.8733 - val_s4pafs_output_analog_recall: 0.7653 - val_s5kpts_output_MeanAbsoluteRatio: 0.9866 - val_s5kpts_output_analog_recall: 0.7093 - val_s6kpts_output_MeanAbsoluteRatio: 1.0142 - val_s6kpts_output_analog_recall: 0.7224\n",
      "\n",
      "Learning rate for epoch 24 is 0.0010000000474974513\n",
      "Epoch 25/262\n",
      "50/50 [==============================] - 53s 1s/step - loss: 0.1194 - s1pafs_output_loss: 0.0046 - s2pafs_output_loss: 0.0045 - s3pafs_output_loss: 0.0046 - s4pafs_output_loss: 0.0046 - s5kpts_output_loss: 0.0141 - s6kpts_output_loss: 0.0140 - s1pafs_output_MeanAbsoluteRatio: 0.9443 - s1pafs_output_analog_recall: 0.7835 - s2pafs_output_MeanAbsoluteRatio: 0.9408 - s2pafs_output_analog_recall: 0.7850 - s3pafs_output_MeanAbsoluteRatio: 0.9393 - s3pafs_output_analog_recall: 0.7845 - s4pafs_output_MeanAbsoluteRatio: 0.9432 - s4pafs_output_analog_recall: 0.7836 - s5kpts_output_MeanAbsoluteRatio: 1.0124 - s5kpts_output_analog_recall: 0.7176 - s6kpts_output_MeanAbsoluteRatio: 1.0123 - s6kpts_output_analog_recall: 0.7203 - val_loss: 0.1270 - val_s1pafs_output_loss: 0.0049 - val_s2pafs_output_loss: 0.0048 - val_s3pafs_output_loss: 0.0048 - val_s4pafs_output_loss: 0.0049 - val_s5kpts_output_loss: 0.0150 - val_s6kpts_output_loss: 0.0148 - val_s1pafs_output_MeanAbsoluteRatio: 0.8935 - val_s1pafs_output_analog_recall: 0.7653 - val_s2pafs_output_MeanAbsoluteRatio: 0.9073 - val_s2pafs_output_analog_recall: 0.7693 - val_s3pafs_output_MeanAbsoluteRatio: 0.8832 - val_s3pafs_output_analog_recall: 0.7676 - val_s4pafs_output_MeanAbsoluteRatio: 0.9193 - val_s4pafs_output_analog_recall: 0.7685 - val_s5kpts_output_MeanAbsoluteRatio: 0.8766 - val_s5kpts_output_analog_recall: 0.6810 - val_s6kpts_output_MeanAbsoluteRatio: 0.8893 - val_s6kpts_output_analog_recall: 0.6853\n",
      "\n",
      "Learning rate for epoch 25 is 0.0010000000474974513\n",
      "Epoch 26/262\n"
     ]
    },
    {
     "name": "stdout",
     "output_type": "stream",
     "text": [
      "50/50 [==============================] - 48s 961ms/step - loss: 0.1202 - s1pafs_output_loss: 0.0046 - s2pafs_output_loss: 0.0046 - s3pafs_output_loss: 0.0046 - s4pafs_output_loss: 0.0046 - s5kpts_output_loss: 0.0140 - s6kpts_output_loss: 0.0138 - s1pafs_output_MeanAbsoluteRatio: 0.9410 - s1pafs_output_analog_recall: 0.7813 - s2pafs_output_MeanAbsoluteRatio: 0.9344 - s2pafs_output_analog_recall: 0.7811 - s3pafs_output_MeanAbsoluteRatio: 0.9413 - s3pafs_output_analog_recall: 0.7809 - s4pafs_output_MeanAbsoluteRatio: 0.9478 - s4pafs_output_analog_recall: 0.7814 - s5kpts_output_MeanAbsoluteRatio: 1.0084 - s5kpts_output_analog_recall: 0.7192 - s6kpts_output_MeanAbsoluteRatio: 1.0025 - s6kpts_output_analog_recall: 0.7219 - val_loss: 0.1303 - val_s1pafs_output_loss: 0.0050 - val_s2pafs_output_loss: 0.0050 - val_s3pafs_output_loss: 0.0052 - val_s4pafs_output_loss: 0.0050 - val_s5kpts_output_loss: 0.0148 - val_s6kpts_output_loss: 0.0148 - val_s1pafs_output_MeanAbsoluteRatio: 0.8586 - val_s1pafs_output_analog_recall: 0.7590 - val_s2pafs_output_MeanAbsoluteRatio: 0.9633 - val_s2pafs_output_analog_recall: 0.7677 - val_s3pafs_output_MeanAbsoluteRatio: 0.8194 - val_s3pafs_output_analog_recall: 0.7498 - val_s4pafs_output_MeanAbsoluteRatio: 0.8665 - val_s4pafs_output_analog_recall: 0.7596 - val_s5kpts_output_MeanAbsoluteRatio: 1.0152 - val_s5kpts_output_analog_recall: 0.7034 - val_s6kpts_output_MeanAbsoluteRatio: 0.9601 - val_s6kpts_output_analog_recall: 0.6969\n",
      "\n",
      "Learning rate for epoch 26 is 0.0010000000474974513\n",
      "Epoch 27/262\n",
      "12/50 [======>.......................] - ETA: 28s - loss: 0.1221 - s1pafs_output_loss: 0.0047 - s2pafs_output_loss: 0.0047 - s3pafs_output_loss: 0.0049 - s4pafs_output_loss: 0.0047 - s5kpts_output_loss: 0.0139 - s6kpts_output_loss: 0.0137 - s1pafs_output_MeanAbsoluteRatio: 0.9546 - s1pafs_output_analog_recall: 0.7810 - s2pafs_output_MeanAbsoluteRatio: 0.9698 - s2pafs_output_analog_recall: 0.7819 - s3pafs_output_MeanAbsoluteRatio: 0.8922 - s3pafs_output_analog_recall: 0.7668 - s4pafs_output_MeanAbsoluteRatio: 0.9644 - s4pafs_output_analog_recall: 0.7802 - s5kpts_output_MeanAbsoluteRatio: 0.9943 - s5kpts_output_analog_recall: 0.7180 - s6kpts_output_MeanAbsoluteRatio: 1.0042 - s6kpts_output_analog_recall: 0.7242\n",
      "Epoch 00027: saving model to gs://dl_training_results/checkpoints/model1115Sun1219-0341/-E0027.ckpt\n",
      "50/50 [==============================] - 54s 1s/step - loss: 0.1226 - s1pafs_output_loss: 0.0047 - s2pafs_output_loss: 0.0047 - s3pafs_output_loss: 0.0048 - s4pafs_output_loss: 0.0047 - s5kpts_output_loss: 0.0142 - s6kpts_output_loss: 0.0141 - s1pafs_output_MeanAbsoluteRatio: 0.9478 - s1pafs_output_analog_recall: 0.7816 - s2pafs_output_MeanAbsoluteRatio: 0.9434 - s2pafs_output_analog_recall: 0.7798 - s3pafs_output_MeanAbsoluteRatio: 0.9360 - s3pafs_output_analog_recall: 0.7728 - s4pafs_output_MeanAbsoluteRatio: 0.9506 - s4pafs_output_analog_recall: 0.7801 - s5kpts_output_MeanAbsoluteRatio: 1.0058 - s5kpts_output_analog_recall: 0.7161 - s6kpts_output_MeanAbsoluteRatio: 1.0091 - s6kpts_output_analog_recall: 0.7207 - val_loss: 0.1272 - val_s1pafs_output_loss: 0.0048 - val_s2pafs_output_loss: 0.0049 - val_s3pafs_output_loss: 0.0049 - val_s4pafs_output_loss: 0.0048 - val_s5kpts_output_loss: 0.0148 - val_s6kpts_output_loss: 0.0147 - val_s1pafs_output_MeanAbsoluteRatio: 0.8862 - val_s1pafs_output_analog_recall: 0.7678 - val_s2pafs_output_MeanAbsoluteRatio: 0.8769 - val_s2pafs_output_analog_recall: 0.7643 - val_s3pafs_output_MeanAbsoluteRatio: 0.9177 - val_s3pafs_output_analog_recall: 0.7647 - val_s4pafs_output_MeanAbsoluteRatio: 0.9159 - val_s4pafs_output_analog_recall: 0.7697 - val_s5kpts_output_MeanAbsoluteRatio: 0.9340 - val_s5kpts_output_analog_recall: 0.6891 - val_s6kpts_output_MeanAbsoluteRatio: 0.8733 - val_s6kpts_output_analog_recall: 0.6841\n",
      "\n",
      "Learning rate for epoch 27 is 0.0010000000474974513\n",
      "Epoch 28/262\n",
      "50/50 [==============================] - 48s 958ms/step - loss: 0.1208 - s1pafs_output_loss: 0.0046 - s2pafs_output_loss: 0.0047 - s3pafs_output_loss: 0.0047 - s4pafs_output_loss: 0.0046 - s5kpts_output_loss: 0.0141 - s6kpts_output_loss: 0.0139 - s1pafs_output_MeanAbsoluteRatio: 0.9424 - s1pafs_output_analog_recall: 0.7824 - s2pafs_output_MeanAbsoluteRatio: 0.9430 - s2pafs_output_analog_recall: 0.7803 - s3pafs_output_MeanAbsoluteRatio: 0.9488 - s3pafs_output_analog_recall: 0.7794 - s4pafs_output_MeanAbsoluteRatio: 0.9455 - s4pafs_output_analog_recall: 0.7820 - s5kpts_output_MeanAbsoluteRatio: 1.0040 - s5kpts_output_analog_recall: 0.7174 - s6kpts_output_MeanAbsoluteRatio: 1.0044 - s6kpts_output_analog_recall: 0.7209 - val_loss: 0.1259 - val_s1pafs_output_loss: 0.0049 - val_s2pafs_output_loss: 0.0049 - val_s3pafs_output_loss: 0.0049 - val_s4pafs_output_loss: 0.0049 - val_s5kpts_output_loss: 0.0143 - val_s6kpts_output_loss: 0.0141 - val_s1pafs_output_MeanAbsoluteRatio: 1.0188 - val_s1pafs_output_analog_recall: 0.7861 - val_s2pafs_output_MeanAbsoluteRatio: 1.0511 - val_s2pafs_output_analog_recall: 0.7823 - val_s3pafs_output_MeanAbsoluteRatio: 1.0441 - val_s3pafs_output_analog_recall: 0.7811 - val_s4pafs_output_MeanAbsoluteRatio: 1.0234 - val_s4pafs_output_analog_recall: 0.7822 - val_s5kpts_output_MeanAbsoluteRatio: 1.0259 - val_s5kpts_output_analog_recall: 0.7149 - val_s6kpts_output_MeanAbsoluteRatio: 1.0727 - val_s6kpts_output_analog_recall: 0.7310\n",
      "\n",
      "Learning rate for epoch 28 is 0.0010000000474974513\n",
      "Epoch 29/262\n",
      "50/50 [==============================] - 44s 887ms/step - loss: 0.1204 - s1pafs_output_loss: 0.0046 - s2pafs_output_loss: 0.0046 - s3pafs_output_loss: 0.0047 - s4pafs_output_loss: 0.0046 - s5kpts_output_loss: 0.0139 - s6kpts_output_loss: 0.0137 - s1pafs_output_MeanAbsoluteRatio: 0.9473 - s1pafs_output_analog_recall: 0.7824 - s2pafs_output_MeanAbsoluteRatio: 0.9481 - s2pafs_output_analog_recall: 0.7816 - s3pafs_output_MeanAbsoluteRatio: 0.9517 - s3pafs_output_analog_recall: 0.7815 - s4pafs_output_MeanAbsoluteRatio: 0.9439 - s4pafs_output_analog_recall: 0.7834 - s5kpts_output_MeanAbsoluteRatio: 1.0185 - s5kpts_output_analog_recall: 0.7246 - s6kpts_output_MeanAbsoluteRatio: 1.0154 - s6kpts_output_analog_recall: 0.7283 - val_loss: 0.1240 - val_s1pafs_output_loss: 0.0048 - val_s2pafs_output_loss: 0.0048 - val_s3pafs_output_loss: 0.0048 - val_s4pafs_output_loss: 0.0048 - val_s5kpts_output_loss: 0.0141 - val_s6kpts_output_loss: 0.0139 - val_s1pafs_output_MeanAbsoluteRatio: 0.8785 - val_s1pafs_output_analog_recall: 0.7667 - val_s2pafs_output_MeanAbsoluteRatio: 0.8994 - val_s2pafs_output_analog_recall: 0.7694 - val_s3pafs_output_MeanAbsoluteRatio: 0.8917 - val_s3pafs_output_analog_recall: 0.7703 - val_s4pafs_output_MeanAbsoluteRatio: 0.8944 - val_s4pafs_output_analog_recall: 0.7719 - val_s5kpts_output_MeanAbsoluteRatio: 0.9322 - val_s5kpts_output_analog_recall: 0.7070 - val_s6kpts_output_MeanAbsoluteRatio: 0.9702 - val_s6kpts_output_analog_recall: 0.7204\n",
      "\n",
      "Learning rate for epoch 29 is 0.0010000000474974513\n",
      "Epoch 30/262\n",
      "50/50 [==============================] - 46s 926ms/step - loss: 0.1167 - s1pafs_output_loss: 0.0045 - s2pafs_output_loss: 0.0045 - s3pafs_output_loss: 0.0045 - s4pafs_output_loss: 0.0045 - s5kpts_output_loss: 0.0136 - s6kpts_output_loss: 0.0134 - s1pafs_output_MeanAbsoluteRatio: 0.9438 - s1pafs_output_analog_recall: 0.7873 - s2pafs_output_MeanAbsoluteRatio: 0.9449 - s2pafs_output_analog_recall: 0.7874 - s3pafs_output_MeanAbsoluteRatio: 0.9470 - s3pafs_output_analog_recall: 0.7868 - s4pafs_output_MeanAbsoluteRatio: 0.9429 - s4pafs_output_analog_recall: 0.7880 - s5kpts_output_MeanAbsoluteRatio: 1.0086 - s5kpts_output_analog_recall: 0.7268 - s6kpts_output_MeanAbsoluteRatio: 1.0082 - s6kpts_output_analog_recall: 0.7308 - val_loss: 0.1242 - val_s1pafs_output_loss: 0.0048 - val_s2pafs_output_loss: 0.0049 - val_s3pafs_output_loss: 0.0048 - val_s4pafs_output_loss: 0.0048 - val_s5kpts_output_loss: 0.0140 - val_s6kpts_output_loss: 0.0138 - val_s1pafs_output_MeanAbsoluteRatio: 0.9561 - val_s1pafs_output_analog_recall: 0.7729 - val_s2pafs_output_MeanAbsoluteRatio: 0.9242 - val_s2pafs_output_analog_recall: 0.7686 - val_s3pafs_output_MeanAbsoluteRatio: 0.9785 - val_s3pafs_output_analog_recall: 0.7749 - val_s4pafs_output_MeanAbsoluteRatio: 0.9511 - val_s4pafs_output_analog_recall: 0.7762 - val_s5kpts_output_MeanAbsoluteRatio: 0.9840 - val_s5kpts_output_analog_recall: 0.7147 - val_s6kpts_output_MeanAbsoluteRatio: 0.9562 - val_s6kpts_output_analog_recall: 0.7156\n"
     ]
    },
    {
     "name": "stdout",
     "output_type": "stream",
     "text": [
      "\n",
      "Learning rate for epoch 30 is 0.0010000000474974513\n",
      "Epoch 31/262\n",
      "50/50 [==============================] - 45s 910ms/step - loss: 0.1166 - s1pafs_output_loss: 0.0045 - s2pafs_output_loss: 0.0045 - s3pafs_output_loss: 0.0045 - s4pafs_output_loss: 0.0045 - s5kpts_output_loss: 0.0134 - s6kpts_output_loss: 0.0132 - s1pafs_output_MeanAbsoluteRatio: 0.9492 - s1pafs_output_analog_recall: 0.7877 - s2pafs_output_MeanAbsoluteRatio: 0.9519 - s2pafs_output_analog_recall: 0.7881 - s3pafs_output_MeanAbsoluteRatio: 0.9499 - s3pafs_output_analog_recall: 0.7872 - s4pafs_output_MeanAbsoluteRatio: 0.9459 - s4pafs_output_analog_recall: 0.7888 - s5kpts_output_MeanAbsoluteRatio: 1.0064 - s5kpts_output_analog_recall: 0.7290 - s6kpts_output_MeanAbsoluteRatio: 1.0065 - s6kpts_output_analog_recall: 0.7332 - val_loss: 0.1224 - val_s1pafs_output_loss: 0.0048 - val_s2pafs_output_loss: 0.0047 - val_s3pafs_output_loss: 0.0048 - val_s4pafs_output_loss: 0.0047 - val_s5kpts_output_loss: 0.0139 - val_s6kpts_output_loss: 0.0137 - val_s1pafs_output_MeanAbsoluteRatio: 0.9259 - val_s1pafs_output_analog_recall: 0.7755 - val_s2pafs_output_MeanAbsoluteRatio: 0.9330 - val_s2pafs_output_analog_recall: 0.7773 - val_s3pafs_output_MeanAbsoluteRatio: 0.9269 - val_s3pafs_output_analog_recall: 0.7743 - val_s4pafs_output_MeanAbsoluteRatio: 0.9103 - val_s4pafs_output_analog_recall: 0.7740 - val_s5kpts_output_MeanAbsoluteRatio: 0.9817 - val_s5kpts_output_analog_recall: 0.7184 - val_s6kpts_output_MeanAbsoluteRatio: 0.9820 - val_s6kpts_output_analog_recall: 0.7234\n",
      "\n",
      "Learning rate for epoch 31 is 0.0010000000474974513\n",
      "Epoch 32/262\n",
      "50/50 [==============================] - 44s 885ms/step - loss: 0.1184 - s1pafs_output_loss: 0.0046 - s2pafs_output_loss: 0.0046 - s3pafs_output_loss: 0.0046 - s4pafs_output_loss: 0.0045 - s5kpts_output_loss: 0.0137 - s6kpts_output_loss: 0.0135 - s1pafs_output_MeanAbsoluteRatio: 0.9449 - s1pafs_output_analog_recall: 0.7849 - s2pafs_output_MeanAbsoluteRatio: 0.9452 - s2pafs_output_analog_recall: 0.7865 - s3pafs_output_MeanAbsoluteRatio: 0.9449 - s3pafs_output_analog_recall: 0.7851 - s4pafs_output_MeanAbsoluteRatio: 0.9429 - s4pafs_output_analog_recall: 0.7865 - s5kpts_output_MeanAbsoluteRatio: 1.0073 - s5kpts_output_analog_recall: 0.7265 - s6kpts_output_MeanAbsoluteRatio: 1.0037 - s6kpts_output_analog_recall: 0.7297 - val_loss: 0.1314 - val_s1pafs_output_loss: 0.0051 - val_s2pafs_output_loss: 0.0050 - val_s3pafs_output_loss: 0.0050 - val_s4pafs_output_loss: 0.0050 - val_s5kpts_output_loss: 0.0152 - val_s6kpts_output_loss: 0.0155 - val_s1pafs_output_MeanAbsoluteRatio: 0.8768 - val_s1pafs_output_analog_recall: 0.7568 - val_s2pafs_output_MeanAbsoluteRatio: 0.9097 - val_s2pafs_output_analog_recall: 0.7589 - val_s3pafs_output_MeanAbsoluteRatio: 0.9968 - val_s3pafs_output_analog_recall: 0.7629 - val_s4pafs_output_MeanAbsoluteRatio: 0.9632 - val_s4pafs_output_analog_recall: 0.7648 - val_s5kpts_output_MeanAbsoluteRatio: 0.9141 - val_s5kpts_output_analog_recall: 0.6805 - val_s6kpts_output_MeanAbsoluteRatio: 1.0035 - val_s6kpts_output_analog_recall: 0.6852\n",
      "\n",
      "Learning rate for epoch 32 is 0.0010000000474974513\n",
      "Epoch 33/262\n",
      "50/50 [==============================] - 59s 1s/step - loss: 0.1192 - s1pafs_output_loss: 0.0046 - s2pafs_output_loss: 0.0046 - s3pafs_output_loss: 0.0046 - s4pafs_output_loss: 0.0046 - s5kpts_output_loss: 0.0138 - s6kpts_output_loss: 0.0137 - s1pafs_output_MeanAbsoluteRatio: 0.9505 - s1pafs_output_analog_recall: 0.7828 - s2pafs_output_MeanAbsoluteRatio: 0.9508 - s2pafs_output_analog_recall: 0.7816 - s3pafs_output_MeanAbsoluteRatio: 0.9556 - s3pafs_output_analog_recall: 0.7841 - s4pafs_output_MeanAbsoluteRatio: 0.9457 - s4pafs_output_analog_recall: 0.7840 - s5kpts_output_MeanAbsoluteRatio: 1.0109 - s5kpts_output_analog_recall: 0.7222 - s6kpts_output_MeanAbsoluteRatio: 1.0125 - s6kpts_output_analog_recall: 0.7260 - val_loss: 0.1264 - val_s1pafs_output_loss: 0.0050 - val_s2pafs_output_loss: 0.0050 - val_s3pafs_output_loss: 0.0049 - val_s4pafs_output_loss: 0.0048 - val_s5kpts_output_loss: 0.0143 - val_s6kpts_output_loss: 0.0140 - val_s1pafs_output_MeanAbsoluteRatio: 0.8522 - val_s1pafs_output_analog_recall: 0.7571 - val_s2pafs_output_MeanAbsoluteRatio: 0.8882 - val_s2pafs_output_analog_recall: 0.7612 - val_s3pafs_output_MeanAbsoluteRatio: 0.8900 - val_s3pafs_output_analog_recall: 0.7649 - val_s4pafs_output_MeanAbsoluteRatio: 0.8999 - val_s4pafs_output_analog_recall: 0.7704 - val_s5kpts_output_MeanAbsoluteRatio: 0.9063 - val_s5kpts_output_analog_recall: 0.6977 - val_s6kpts_output_MeanAbsoluteRatio: 0.9370 - val_s6kpts_output_analog_recall: 0.7052\n",
      "\n",
      "Learning rate for epoch 33 is 0.0010000000474974513\n",
      "Epoch 34/262\n",
      "50/50 [==============================] - 41s 828ms/step - loss: 0.1147 - s1pafs_output_loss: 0.0045 - s2pafs_output_loss: 0.0044 - s3pafs_output_loss: 0.0044 - s4pafs_output_loss: 0.0044 - s5kpts_output_loss: 0.0131 - s6kpts_output_loss: 0.0130 - s1pafs_output_MeanAbsoluteRatio: 0.9455 - s1pafs_output_analog_recall: 0.7872 - s2pafs_output_MeanAbsoluteRatio: 0.9477 - s2pafs_output_analog_recall: 0.7892 - s3pafs_output_MeanAbsoluteRatio: 0.9483 - s3pafs_output_analog_recall: 0.7909 - s4pafs_output_MeanAbsoluteRatio: 0.9478 - s4pafs_output_analog_recall: 0.7926 - s5kpts_output_MeanAbsoluteRatio: 1.0092 - s5kpts_output_analog_recall: 0.7348 - s6kpts_output_MeanAbsoluteRatio: 1.0124 - s6kpts_output_analog_recall: 0.7384 - val_loss: 0.1224 - val_s1pafs_output_loss: 0.0048 - val_s2pafs_output_loss: 0.0048 - val_s3pafs_output_loss: 0.0047 - val_s4pafs_output_loss: 0.0047 - val_s5kpts_output_loss: 0.0136 - val_s6kpts_output_loss: 0.0133 - val_s1pafs_output_MeanAbsoluteRatio: 0.8891 - val_s1pafs_output_analog_recall: 0.7694 - val_s2pafs_output_MeanAbsoluteRatio: 0.8809 - val_s2pafs_output_analog_recall: 0.7690 - val_s3pafs_output_MeanAbsoluteRatio: 0.9041 - val_s3pafs_output_analog_recall: 0.7776 - val_s4pafs_output_MeanAbsoluteRatio: 0.9346 - val_s4pafs_output_analog_recall: 0.7813 - val_s5kpts_output_MeanAbsoluteRatio: 0.9938 - val_s5kpts_output_analog_recall: 0.7341 - val_s6kpts_output_MeanAbsoluteRatio: 0.9913 - val_s6kpts_output_analog_recall: 0.7371\n",
      "\n",
      "Learning rate for epoch 34 is 0.0010000000474974513\n",
      "Epoch 35/262\n",
      "50/50 [==============================] - 48s 955ms/step - loss: 0.1161 - s1pafs_output_loss: 0.0045 - s2pafs_output_loss: 0.0045 - s3pafs_output_loss: 0.0045 - s4pafs_output_loss: 0.0045 - s5kpts_output_loss: 0.0132 - s6kpts_output_loss: 0.0131 - s1pafs_output_MeanAbsoluteRatio: 0.9485 - s1pafs_output_analog_recall: 0.7883 - s2pafs_output_MeanAbsoluteRatio: 0.9485 - s2pafs_output_analog_recall: 0.7894 - s3pafs_output_MeanAbsoluteRatio: 0.9545 - s3pafs_output_analog_recall: 0.7900 - s4pafs_output_MeanAbsoluteRatio: 0.9496 - s4pafs_output_analog_recall: 0.7908 - s5kpts_output_MeanAbsoluteRatio: 1.0097 - s5kpts_output_analog_recall: 0.7352 - s6kpts_output_MeanAbsoluteRatio: 1.0110 - s6kpts_output_analog_recall: 0.7389 - val_loss: 0.1204 - val_s1pafs_output_loss: 0.0048 - val_s2pafs_output_loss: 0.0047 - val_s3pafs_output_loss: 0.0046 - val_s4pafs_output_loss: 0.0046 - val_s5kpts_output_loss: 0.0133 - val_s6kpts_output_loss: 0.0131 - val_s1pafs_output_MeanAbsoluteRatio: 0.8823 - val_s1pafs_output_analog_recall: 0.7687 - val_s2pafs_output_MeanAbsoluteRatio: 0.9296 - val_s2pafs_output_analog_recall: 0.7752 - val_s3pafs_output_MeanAbsoluteRatio: 0.9525 - val_s3pafs_output_analog_recall: 0.7818 - val_s4pafs_output_MeanAbsoluteRatio: 0.9102 - val_s4pafs_output_analog_recall: 0.7787 - val_s5kpts_output_MeanAbsoluteRatio: 0.9749 - val_s5kpts_output_analog_recall: 0.7236 - val_s6kpts_output_MeanAbsoluteRatio: 0.9554 - val_s6kpts_output_analog_recall: 0.7300\n",
      "\n",
      "Learning rate for epoch 35 is 0.0010000000474974513\n",
      "Epoch 36/262\n",
      "\n",
      "Epoch 00036: saving model to gs://dl_training_results/checkpoints/model1115Sun1219-0341/-E0036.ckpt\n",
      "WARNING:tensorflow:Method (on_train_batch_end) is slow compared to the batch update (9.100729). Check your callbacks.\n"
     ]
    },
    {
     "name": "stderr",
     "output_type": "stream",
     "text": [
      "WARNING:tensorflow:Method (on_train_batch_end) is slow compared to the batch update (9.100729). Check your callbacks.\n"
     ]
    },
    {
     "name": "stdout",
     "output_type": "stream",
     "text": [
      " 1/50 [..............................] - ETA: 8:11 - loss: 0.1101 - s1pafs_output_loss: 0.0044 - s2pafs_output_loss: 0.0043 - s3pafs_output_loss: 0.0042 - s4pafs_output_loss: 0.0042 - s5kpts_output_loss: 0.0123 - s6kpts_output_loss: 0.0120 - s1pafs_output_MeanAbsoluteRatio: 0.8718 - s1pafs_output_analog_recall: 0.7791 - s2pafs_output_MeanAbsoluteRatio: 0.9185 - s2pafs_output_analog_recall: 0.7854 - s3pafs_output_MeanAbsoluteRatio: 0.9352 - s3pafs_output_analog_recall: 0.7914 - s4pafs_output_MeanAbsoluteRatio: 0.8944 - s4pafs_output_analog_recall: 0.7874 - s5kpts_output_MeanAbsoluteRatio: 0.9440 - s5kpts_output_analog_recall: 0.7283 - s6kpts_output_MeanAbsoluteRatio: 0.9203 - s6kpts_output_analog_recall: 0.7342WARNING:tensorflow:Method (on_train_batch_end) is slow compared to the batch update (4.561438). Check your callbacks.\n"
     ]
    },
    {
     "name": "stderr",
     "output_type": "stream",
     "text": [
      "WARNING:tensorflow:Method (on_train_batch_end) is slow compared to the batch update (4.561438). Check your callbacks.\n"
     ]
    },
    {
     "name": "stdout",
     "output_type": "stream",
     "text": [
      "50/50 [==============================] - 52s 1s/step - loss: 0.1128 - s1pafs_output_loss: 0.0044 - s2pafs_output_loss: 0.0044 - s3pafs_output_loss: 0.0044 - s4pafs_output_loss: 0.0043 - s5kpts_output_loss: 0.0127 - s6kpts_output_loss: 0.0127 - s1pafs_output_MeanAbsoluteRatio: 0.9509 - s1pafs_output_analog_recall: 0.7918 - s2pafs_output_MeanAbsoluteRatio: 0.9587 - s2pafs_output_analog_recall: 0.7950 - s3pafs_output_MeanAbsoluteRatio: 0.9499 - s3pafs_output_analog_recall: 0.7950 - s4pafs_output_MeanAbsoluteRatio: 0.9475 - s4pafs_output_analog_recall: 0.7960 - s5kpts_output_MeanAbsoluteRatio: 1.0132 - s5kpts_output_analog_recall: 0.7428 - s6kpts_output_MeanAbsoluteRatio: 1.0137 - s6kpts_output_analog_recall: 0.7448 - val_loss: 0.1201 - val_s1pafs_output_loss: 0.0047 - val_s2pafs_output_loss: 0.0047 - val_s3pafs_output_loss: 0.0047 - val_s4pafs_output_loss: 0.0047 - val_s5kpts_output_loss: 0.0131 - val_s6kpts_output_loss: 0.0130 - val_s1pafs_output_MeanAbsoluteRatio: 0.8903 - val_s1pafs_output_analog_recall: 0.7724 - val_s2pafs_output_MeanAbsoluteRatio: 0.8999 - val_s2pafs_output_analog_recall: 0.7739 - val_s3pafs_output_MeanAbsoluteRatio: 0.8701 - val_s3pafs_output_analog_recall: 0.7708 - val_s4pafs_output_MeanAbsoluteRatio: 0.8754 - val_s4pafs_output_analog_recall: 0.7716 - val_s5kpts_output_MeanAbsoluteRatio: 0.9889 - val_s5kpts_output_analog_recall: 0.7267 - val_s6kpts_output_MeanAbsoluteRatio: 0.9685 - val_s6kpts_output_analog_recall: 0.7243\n",
      "\n",
      "Learning rate for epoch 36 is 0.0010000000474974513\n",
      "Epoch 37/262\n",
      "50/50 [==============================] - 47s 942ms/step - loss: 0.1130 - s1pafs_output_loss: 0.0044 - s2pafs_output_loss: 0.0044 - s3pafs_output_loss: 0.0044 - s4pafs_output_loss: 0.0044 - s5kpts_output_loss: 0.0127 - s6kpts_output_loss: 0.0125 - s1pafs_output_MeanAbsoluteRatio: 0.9490 - s1pafs_output_analog_recall: 0.7919 - s2pafs_output_MeanAbsoluteRatio: 0.9469 - s2pafs_output_analog_recall: 0.7944 - s3pafs_output_MeanAbsoluteRatio: 0.9433 - s3pafs_output_analog_recall: 0.7938 - s4pafs_output_MeanAbsoluteRatio: 0.9454 - s4pafs_output_analog_recall: 0.7945 - s5kpts_output_MeanAbsoluteRatio: 1.0035 - s5kpts_output_analog_recall: 0.7431 - s6kpts_output_MeanAbsoluteRatio: 1.0018 - s6kpts_output_analog_recall: 0.7467 - val_loss: 0.1166 - val_s1pafs_output_loss: 0.0046 - val_s2pafs_output_loss: 0.0045 - val_s3pafs_output_loss: 0.0045 - val_s4pafs_output_loss: 0.0045 - val_s5kpts_output_loss: 0.0129 - val_s6kpts_output_loss: 0.0127 - val_s1pafs_output_MeanAbsoluteRatio: 0.9180 - val_s1pafs_output_analog_recall: 0.7800 - val_s2pafs_output_MeanAbsoluteRatio: 0.9303 - val_s2pafs_output_analog_recall: 0.7862 - val_s3pafs_output_MeanAbsoluteRatio: 0.9445 - val_s3pafs_output_analog_recall: 0.7900 - val_s4pafs_output_MeanAbsoluteRatio: 0.9283 - val_s4pafs_output_analog_recall: 0.7880 - val_s5kpts_output_MeanAbsoluteRatio: 0.9928 - val_s5kpts_output_analog_recall: 0.7412 - val_s6kpts_output_MeanAbsoluteRatio: 1.0167 - val_s6kpts_output_analog_recall: 0.7533\n",
      "\n",
      "Learning rate for epoch 37 is 0.0010000000474974513\n",
      "Epoch 38/262\n",
      "50/50 [==============================] - 48s 955ms/step - loss: 0.1132 - s1pafs_output_loss: 0.0045 - s2pafs_output_loss: 0.0044 - s3pafs_output_loss: 0.0044 - s4pafs_output_loss: 0.0044 - s5kpts_output_loss: 0.0126 - s6kpts_output_loss: 0.0124 - s1pafs_output_MeanAbsoluteRatio: 0.9454 - s1pafs_output_analog_recall: 0.7906 - s2pafs_output_MeanAbsoluteRatio: 0.9501 - s2pafs_output_analog_recall: 0.7943 - s3pafs_output_MeanAbsoluteRatio: 0.9486 - s3pafs_output_analog_recall: 0.7942 - s4pafs_output_MeanAbsoluteRatio: 0.9486 - s4pafs_output_analog_recall: 0.7950 - s5kpts_output_MeanAbsoluteRatio: 1.0055 - s5kpts_output_analog_recall: 0.7466 - s6kpts_output_MeanAbsoluteRatio: 1.0109 - s6kpts_output_analog_recall: 0.7520 - val_loss: 0.1150 - val_s1pafs_output_loss: 0.0046 - val_s2pafs_output_loss: 0.0045 - val_s3pafs_output_loss: 0.0045 - val_s4pafs_output_loss: 0.0045 - val_s5kpts_output_loss: 0.0126 - val_s6kpts_output_loss: 0.0124 - val_s1pafs_output_MeanAbsoluteRatio: 0.9344 - val_s1pafs_output_analog_recall: 0.7862 - val_s2pafs_output_MeanAbsoluteRatio: 0.9422 - val_s2pafs_output_analog_recall: 0.7945 - val_s3pafs_output_MeanAbsoluteRatio: 0.9151 - val_s3pafs_output_analog_recall: 0.7922 - val_s4pafs_output_MeanAbsoluteRatio: 0.9139 - val_s4pafs_output_analog_recall: 0.7900 - val_s5kpts_output_MeanAbsoluteRatio: 1.0321 - val_s5kpts_output_analog_recall: 0.7579 - val_s6kpts_output_MeanAbsoluteRatio: 1.0218 - val_s6kpts_output_analog_recall: 0.7629\n",
      "\n",
      "Learning rate for epoch 38 is 0.0010000000474974513\n",
      "Epoch 39/262\n",
      "50/50 [==============================] - 46s 929ms/step - loss: 0.1079 - s1pafs_output_loss: 0.0043 - s2pafs_output_loss: 0.0042 - s3pafs_output_loss: 0.0042 - s4pafs_output_loss: 0.0042 - s5kpts_output_loss: 0.0120 - s6kpts_output_loss: 0.0118 - s1pafs_output_MeanAbsoluteRatio: 0.9524 - s1pafs_output_analog_recall: 0.7981 - s2pafs_output_MeanAbsoluteRatio: 0.9526 - s2pafs_output_analog_recall: 0.8022 - s3pafs_output_MeanAbsoluteRatio: 0.9490 - s3pafs_output_analog_recall: 0.8023 - s4pafs_output_MeanAbsoluteRatio: 0.9462 - s4pafs_output_analog_recall: 0.8021 - s5kpts_output_MeanAbsoluteRatio: 1.0122 - s5kpts_output_analog_recall: 0.7557 - s6kpts_output_MeanAbsoluteRatio: 1.0058 - s6kpts_output_analog_recall: 0.7590 - val_loss: 0.1140 - val_s1pafs_output_loss: 0.0046 - val_s2pafs_output_loss: 0.0045 - val_s3pafs_output_loss: 0.0044 - val_s4pafs_output_loss: 0.0044 - val_s5kpts_output_loss: 0.0124 - val_s6kpts_output_loss: 0.0121 - val_s1pafs_output_MeanAbsoluteRatio: 0.9106 - val_s1pafs_output_analog_recall: 0.7814 - val_s2pafs_output_MeanAbsoluteRatio: 0.9009 - val_s2pafs_output_analog_recall: 0.7834 - val_s3pafs_output_MeanAbsoluteRatio: 0.9330 - val_s3pafs_output_analog_recall: 0.7955 - val_s4pafs_output_MeanAbsoluteRatio: 0.9612 - val_s4pafs_output_analog_recall: 0.7979 - val_s5kpts_output_MeanAbsoluteRatio: 1.0236 - val_s5kpts_output_analog_recall: 0.7616 - val_s6kpts_output_MeanAbsoluteRatio: 0.9992 - val_s6kpts_output_analog_recall: 0.7636\n",
      "\n",
      "Learning rate for epoch 39 is 0.0010000000474974513\n",
      "Epoch 40/262\n",
      "50/50 [==============================] - 48s 959ms/step - loss: 0.1056 - s1pafs_output_loss: 0.0042 - s2pafs_output_loss: 0.0041 - s3pafs_output_loss: 0.0041 - s4pafs_output_loss: 0.0041 - s5kpts_output_loss: 0.0117 - s6kpts_output_loss: 0.0115 - s1pafs_output_MeanAbsoluteRatio: 0.9516 - s1pafs_output_analog_recall: 0.8017 - s2pafs_output_MeanAbsoluteRatio: 0.9554 - s2pafs_output_analog_recall: 0.8064 - s3pafs_output_MeanAbsoluteRatio: 0.9499 - s3pafs_output_analog_recall: 0.8067 - s4pafs_output_MeanAbsoluteRatio: 0.9525 - s4pafs_output_analog_recall: 0.8072 - s5kpts_output_MeanAbsoluteRatio: 1.0092 - s5kpts_output_analog_recall: 0.7604 - s6kpts_output_MeanAbsoluteRatio: 1.0069 - s6kpts_output_analog_recall: 0.7645 - val_loss: 0.1123 - val_s1pafs_output_loss: 0.0045 - val_s2pafs_output_loss: 0.0044 - val_s3pafs_output_loss: 0.0044 - val_s4pafs_output_loss: 0.0044 - val_s5kpts_output_loss: 0.0122 - val_s6kpts_output_loss: 0.0120 - val_s1pafs_output_MeanAbsoluteRatio: 0.9324 - val_s1pafs_output_analog_recall: 0.7871 - val_s2pafs_output_MeanAbsoluteRatio: 0.9193 - val_s2pafs_output_analog_recall: 0.7899 - val_s3pafs_output_MeanAbsoluteRatio: 0.9303 - val_s3pafs_output_analog_recall: 0.7932 - val_s4pafs_output_MeanAbsoluteRatio: 0.9354 - val_s4pafs_output_analog_recall: 0.7942 - val_s5kpts_output_MeanAbsoluteRatio: 0.9728 - val_s5kpts_output_analog_recall: 0.7430 - val_s6kpts_output_MeanAbsoluteRatio: 0.9579 - val_s6kpts_output_analog_recall: 0.7474\n",
      "\n",
      "Learning rate for epoch 40 is 0.0010000000474974513\n",
      "Epoch 41/262\n"
     ]
    },
    {
     "name": "stdout",
     "output_type": "stream",
     "text": [
      "50/50 [==============================] - 59s 1s/step - loss: 0.1084 - s1pafs_output_loss: 0.0043 - s2pafs_output_loss: 0.0042 - s3pafs_output_loss: 0.0042 - s4pafs_output_loss: 0.0042 - s5kpts_output_loss: 0.0119 - s6kpts_output_loss: 0.0118 - s1pafs_output_MeanAbsoluteRatio: 0.9555 - s1pafs_output_analog_recall: 0.7987 - s2pafs_output_MeanAbsoluteRatio: 0.9504 - s2pafs_output_analog_recall: 0.8002 - s3pafs_output_MeanAbsoluteRatio: 0.9485 - s3pafs_output_analog_recall: 0.8009 - s4pafs_output_MeanAbsoluteRatio: 0.9535 - s4pafs_output_analog_recall: 0.8023 - s5kpts_output_MeanAbsoluteRatio: 1.0099 - s5kpts_output_analog_recall: 0.7574 - s6kpts_output_MeanAbsoluteRatio: 1.0093 - s6kpts_output_analog_recall: 0.7612 - val_loss: 0.1125 - val_s1pafs_output_loss: 0.0045 - val_s2pafs_output_loss: 0.0044 - val_s3pafs_output_loss: 0.0044 - val_s4pafs_output_loss: 0.0044 - val_s5kpts_output_loss: 0.0121 - val_s6kpts_output_loss: 0.0119 - val_s1pafs_output_MeanAbsoluteRatio: 0.9462 - val_s1pafs_output_analog_recall: 0.7888 - val_s2pafs_output_MeanAbsoluteRatio: 0.9399 - val_s2pafs_output_analog_recall: 0.7903 - val_s3pafs_output_MeanAbsoluteRatio: 0.9170 - val_s3pafs_output_analog_recall: 0.7892 - val_s4pafs_output_MeanAbsoluteRatio: 0.9282 - val_s4pafs_output_analog_recall: 0.7898 - val_s5kpts_output_MeanAbsoluteRatio: 1.0063 - val_s5kpts_output_analog_recall: 0.7532 - val_s6kpts_output_MeanAbsoluteRatio: 1.0019 - val_s6kpts_output_analog_recall: 0.7580\n",
      "\n",
      "Learning rate for epoch 41 is 0.0010000000474974513\n",
      "Epoch 42/262\n",
      "50/50 [==============================] - 42s 843ms/step - loss: 0.1055 - s1pafs_output_loss: 0.0042 - s2pafs_output_loss: 0.0041 - s3pafs_output_loss: 0.0041 - s4pafs_output_loss: 0.0041 - s5kpts_output_loss: 0.0116 - s6kpts_output_loss: 0.0114 - s1pafs_output_MeanAbsoluteRatio: 0.9510 - s1pafs_output_analog_recall: 0.8019 - s2pafs_output_MeanAbsoluteRatio: 0.9551 - s2pafs_output_analog_recall: 0.8064 - s3pafs_output_MeanAbsoluteRatio: 0.9483 - s3pafs_output_analog_recall: 0.8064 - s4pafs_output_MeanAbsoluteRatio: 0.9448 - s4pafs_output_analog_recall: 0.8067 - s5kpts_output_MeanAbsoluteRatio: 1.0059 - s5kpts_output_analog_recall: 0.7641 - s6kpts_output_MeanAbsoluteRatio: 1.0052 - s6kpts_output_analog_recall: 0.7676 - val_loss: 0.1159 - val_s1pafs_output_loss: 0.0046 - val_s2pafs_output_loss: 0.0044 - val_s3pafs_output_loss: 0.0045 - val_s4pafs_output_loss: 0.0044 - val_s5kpts_output_loss: 0.0130 - val_s6kpts_output_loss: 0.0133 - val_s1pafs_output_MeanAbsoluteRatio: 1.0709 - val_s1pafs_output_analog_recall: 0.8093 - val_s2pafs_output_MeanAbsoluteRatio: 1.0820 - val_s2pafs_output_analog_recall: 0.8113 - val_s3pafs_output_MeanAbsoluteRatio: 1.0966 - val_s3pafs_output_analog_recall: 0.8122 - val_s4pafs_output_MeanAbsoluteRatio: 1.0789 - val_s4pafs_output_analog_recall: 0.8116 - val_s5kpts_output_MeanAbsoluteRatio: 1.2542 - val_s5kpts_output_analog_recall: 0.8041 - val_s6kpts_output_MeanAbsoluteRatio: 1.2848 - val_s6kpts_output_analog_recall: 0.8123\n",
      "\n",
      "Learning rate for epoch 42 is 0.0010000000474974513\n",
      "Epoch 43/262\n",
      "50/50 [==============================] - 41s 827ms/step - loss: 0.1045 - s1pafs_output_loss: 0.0041 - s2pafs_output_loss: 0.0040 - s3pafs_output_loss: 0.0041 - s4pafs_output_loss: 0.0041 - s5kpts_output_loss: 0.0116 - s6kpts_output_loss: 0.0115 - s1pafs_output_MeanAbsoluteRatio: 0.9602 - s1pafs_output_analog_recall: 0.8058 - s2pafs_output_MeanAbsoluteRatio: 0.9519 - s2pafs_output_analog_recall: 0.8093 - s3pafs_output_MeanAbsoluteRatio: 0.9526 - s3pafs_output_analog_recall: 0.8087 - s4pafs_output_MeanAbsoluteRatio: 0.9546 - s4pafs_output_analog_recall: 0.8091 - s5kpts_output_MeanAbsoluteRatio: 1.0097 - s5kpts_output_analog_recall: 0.7633 - s6kpts_output_MeanAbsoluteRatio: 1.0069 - s6kpts_output_analog_recall: 0.7658 - val_loss: 0.1176 - val_s1pafs_output_loss: 0.0046 - val_s2pafs_output_loss: 0.0045 - val_s3pafs_output_loss: 0.0047 - val_s4pafs_output_loss: 0.0047 - val_s5kpts_output_loss: 0.0127 - val_s6kpts_output_loss: 0.0127 - val_s1pafs_output_MeanAbsoluteRatio: 0.8989 - val_s1pafs_output_analog_recall: 0.7812 - val_s2pafs_output_MeanAbsoluteRatio: 0.8734 - val_s2pafs_output_analog_recall: 0.7803 - val_s3pafs_output_MeanAbsoluteRatio: 0.8591 - val_s3pafs_output_analog_recall: 0.7732 - val_s4pafs_output_MeanAbsoluteRatio: 0.8419 - val_s4pafs_output_analog_recall: 0.7694 - val_s5kpts_output_MeanAbsoluteRatio: 0.9068 - val_s5kpts_output_analog_recall: 0.7218 - val_s6kpts_output_MeanAbsoluteRatio: 0.9359 - val_s6kpts_output_analog_recall: 0.7266\n",
      "\n",
      "Learning rate for epoch 43 is 0.0010000000474974513\n",
      "Epoch 44/262\n",
      "38/50 [=====================>........] - ETA: 12s - loss: 0.1049 - s1pafs_output_loss: 0.0042 - s2pafs_output_loss: 0.0041 - s3pafs_output_loss: 0.0041 - s4pafs_output_loss: 0.0041 - s5kpts_output_loss: 0.0115 - s6kpts_output_loss: 0.0114 - s1pafs_output_MeanAbsoluteRatio: 0.9506 - s1pafs_output_analog_recall: 0.8028 - s2pafs_output_MeanAbsoluteRatio: 0.9468 - s2pafs_output_analog_recall: 0.8076 - s3pafs_output_MeanAbsoluteRatio: 0.9543 - s3pafs_output_analog_recall: 0.8070 - s4pafs_output_MeanAbsoluteRatio: 0.9541 - s4pafs_output_analog_recall: 0.8074 - s5kpts_output_MeanAbsoluteRatio: 1.0085 - s5kpts_output_analog_recall: 0.7625 - s6kpts_output_MeanAbsoluteRatio: 1.0097 - s6kpts_output_analog_recall: 0.7660\n",
      "Epoch 00044: saving model to gs://dl_training_results/checkpoints/model1115Sun1219-0341/-E0044.ckpt\n",
      "50/50 [==============================] - 63s 1s/step - loss: 0.1044 - s1pafs_output_loss: 0.0042 - s2pafs_output_loss: 0.0041 - s3pafs_output_loss: 0.0041 - s4pafs_output_loss: 0.0041 - s5kpts_output_loss: 0.0114 - s6kpts_output_loss: 0.0113 - s1pafs_output_MeanAbsoluteRatio: 0.9502 - s1pafs_output_analog_recall: 0.8034 - s2pafs_output_MeanAbsoluteRatio: 0.9500 - s2pafs_output_analog_recall: 0.8086 - s3pafs_output_MeanAbsoluteRatio: 0.9534 - s3pafs_output_analog_recall: 0.8081 - s4pafs_output_MeanAbsoluteRatio: 0.9520 - s4pafs_output_analog_recall: 0.8087 - s5kpts_output_MeanAbsoluteRatio: 1.0099 - s5kpts_output_analog_recall: 0.7656 - s6kpts_output_MeanAbsoluteRatio: 1.0105 - s6kpts_output_analog_recall: 0.7693 - val_loss: 0.1110 - val_s1pafs_output_loss: 0.0044 - val_s2pafs_output_loss: 0.0044 - val_s3pafs_output_loss: 0.0043 - val_s4pafs_output_loss: 0.0043 - val_s5kpts_output_loss: 0.0119 - val_s6kpts_output_loss: 0.0120 - val_s1pafs_output_MeanAbsoluteRatio: 1.0263 - val_s1pafs_output_analog_recall: 0.8067 - val_s2pafs_output_MeanAbsoluteRatio: 1.0681 - val_s2pafs_output_analog_recall: 0.8149 - val_s3pafs_output_MeanAbsoluteRatio: 1.0512 - val_s3pafs_output_analog_recall: 0.8144 - val_s4pafs_output_MeanAbsoluteRatio: 1.0465 - val_s4pafs_output_analog_recall: 0.8160 - val_s5kpts_output_MeanAbsoluteRatio: 1.1469 - val_s5kpts_output_analog_recall: 0.7949 - val_s6kpts_output_MeanAbsoluteRatio: 1.1975 - val_s6kpts_output_analog_recall: 0.8072\n",
      "\n",
      "Learning rate for epoch 44 is 0.0010000000474974513\n",
      "Epoch 45/262\n",
      "50/50 [==============================] - 41s 811ms/step - loss: 0.1025 - s1pafs_output_loss: 0.0041 - s2pafs_output_loss: 0.0040 - s3pafs_output_loss: 0.0040 - s4pafs_output_loss: 0.0040 - s5kpts_output_loss: 0.0110 - s6kpts_output_loss: 0.0109 - s1pafs_output_MeanAbsoluteRatio: 0.9571 - s1pafs_output_analog_recall: 0.8075 - s2pafs_output_MeanAbsoluteRatio: 0.9545 - s2pafs_output_analog_recall: 0.8119 - s3pafs_output_MeanAbsoluteRatio: 0.9511 - s3pafs_output_analog_recall: 0.8120 - s4pafs_output_MeanAbsoluteRatio: 0.9495 - s4pafs_output_analog_recall: 0.8122 - s5kpts_output_MeanAbsoluteRatio: 1.0111 - s5kpts_output_analog_recall: 0.7744 - s6kpts_output_MeanAbsoluteRatio: 1.0073 - s6kpts_output_analog_recall: 0.7770 - val_loss: 0.1062 - val_s1pafs_output_loss: 0.0043 - val_s2pafs_output_loss: 0.0042 - val_s3pafs_output_loss: 0.0042 - val_s4pafs_output_loss: 0.0042 - val_s5kpts_output_loss: 0.0112 - val_s6kpts_output_loss: 0.0110 - val_s1pafs_output_MeanAbsoluteRatio: 0.9332 - val_s1pafs_output_analog_recall: 0.7970 - val_s2pafs_output_MeanAbsoluteRatio: 0.9309 - val_s2pafs_output_analog_recall: 0.7995 - val_s3pafs_output_MeanAbsoluteRatio: 0.9466 - val_s3pafs_output_analog_recall: 0.8024 - val_s4pafs_output_MeanAbsoluteRatio: 0.9672 - val_s4pafs_output_analog_recall: 0.8056 - val_s5kpts_output_MeanAbsoluteRatio: 1.0323 - val_s5kpts_output_analog_recall: 0.7703 - val_s6kpts_output_MeanAbsoluteRatio: 1.0169 - val_s6kpts_output_analog_recall: 0.7681\n"
     ]
    },
    {
     "name": "stdout",
     "output_type": "stream",
     "text": [
      "\n",
      "Learning rate for epoch 45 is 0.0010000000474974513\n",
      "Epoch 46/262\n",
      "50/50 [==============================] - 41s 811ms/step - loss: 0.1008 - s1pafs_output_loss: 0.0041 - s2pafs_output_loss: 0.0040 - s3pafs_output_loss: 0.0039 - s4pafs_output_loss: 0.0039 - s5kpts_output_loss: 0.0107 - s6kpts_output_loss: 0.0105 - s1pafs_output_MeanAbsoluteRatio: 0.9516 - s1pafs_output_analog_recall: 0.8080 - s2pafs_output_MeanAbsoluteRatio: 0.9509 - s2pafs_output_analog_recall: 0.8131 - s3pafs_output_MeanAbsoluteRatio: 0.9505 - s3pafs_output_analog_recall: 0.8140 - s4pafs_output_MeanAbsoluteRatio: 0.9522 - s4pafs_output_analog_recall: 0.8142 - s5kpts_output_MeanAbsoluteRatio: 1.0045 - s5kpts_output_analog_recall: 0.7787 - s6kpts_output_MeanAbsoluteRatio: 1.0050 - s6kpts_output_analog_recall: 0.7825 - val_loss: 0.1147 - val_s1pafs_output_loss: 0.0045 - val_s2pafs_output_loss: 0.0044 - val_s3pafs_output_loss: 0.0045 - val_s4pafs_output_loss: 0.0045 - val_s5kpts_output_loss: 0.0128 - val_s6kpts_output_loss: 0.0131 - val_s1pafs_output_MeanAbsoluteRatio: 1.0758 - val_s1pafs_output_analog_recall: 0.8249 - val_s2pafs_output_MeanAbsoluteRatio: 1.0901 - val_s2pafs_output_analog_recall: 0.8295 - val_s3pafs_output_MeanAbsoluteRatio: 1.0961 - val_s3pafs_output_analog_recall: 0.8315 - val_s4pafs_output_MeanAbsoluteRatio: 1.1117 - val_s4pafs_output_analog_recall: 0.8344 - val_s5kpts_output_MeanAbsoluteRatio: 1.2750 - val_s5kpts_output_analog_recall: 0.8376 - val_s6kpts_output_MeanAbsoluteRatio: 1.2963 - val_s6kpts_output_analog_recall: 0.8440\n",
      "\n",
      "Learning rate for epoch 46 is 0.0010000000474974513\n",
      "Epoch 47/262\n",
      "50/50 [==============================] - 43s 864ms/step - loss: 0.1020 - s1pafs_output_loss: 0.0041 - s2pafs_output_loss: 0.0040 - s3pafs_output_loss: 0.0040 - s4pafs_output_loss: 0.0040 - s5kpts_output_loss: 0.0109 - s6kpts_output_loss: 0.0108 - s1pafs_output_MeanAbsoluteRatio: 0.9548 - s1pafs_output_analog_recall: 0.8071 - s2pafs_output_MeanAbsoluteRatio: 0.9520 - s2pafs_output_analog_recall: 0.8112 - s3pafs_output_MeanAbsoluteRatio: 0.9500 - s3pafs_output_analog_recall: 0.8117 - s4pafs_output_MeanAbsoluteRatio: 0.9516 - s4pafs_output_analog_recall: 0.8128 - s5kpts_output_MeanAbsoluteRatio: 1.0109 - s5kpts_output_analog_recall: 0.7780 - s6kpts_output_MeanAbsoluteRatio: 1.0100 - s6kpts_output_analog_recall: 0.7805 - val_loss: 0.1030 - val_s1pafs_output_loss: 0.0042 - val_s2pafs_output_loss: 0.0041 - val_s3pafs_output_loss: 0.0041 - val_s4pafs_output_loss: 0.0040 - val_s5kpts_output_loss: 0.0107 - val_s6kpts_output_loss: 0.0105 - val_s1pafs_output_MeanAbsoluteRatio: 0.9686 - val_s1pafs_output_analog_recall: 0.8067 - val_s2pafs_output_MeanAbsoluteRatio: 0.9730 - val_s2pafs_output_analog_recall: 0.8135 - val_s3pafs_output_MeanAbsoluteRatio: 0.9687 - val_s3pafs_output_analog_recall: 0.8126 - val_s4pafs_output_MeanAbsoluteRatio: 0.9804 - val_s4pafs_output_analog_recall: 0.8172 - val_s5kpts_output_MeanAbsoluteRatio: 1.0521 - val_s5kpts_output_analog_recall: 0.7883 - val_s6kpts_output_MeanAbsoluteRatio: 1.0160 - val_s6kpts_output_analog_recall: 0.7841\n",
      "\n",
      "Learning rate for epoch 47 is 0.0010000000474974513\n",
      "Epoch 48/262\n",
      "50/50 [==============================] - 48s 961ms/step - loss: 0.0969 - s1pafs_output_loss: 0.0039 - s2pafs_output_loss: 0.0038 - s3pafs_output_loss: 0.0038 - s4pafs_output_loss: 0.0038 - s5kpts_output_loss: 0.0104 - s6kpts_output_loss: 0.0103 - s1pafs_output_MeanAbsoluteRatio: 0.9585 - s1pafs_output_analog_recall: 0.8147 - s2pafs_output_MeanAbsoluteRatio: 0.9577 - s2pafs_output_analog_recall: 0.8201 - s3pafs_output_MeanAbsoluteRatio: 0.9546 - s3pafs_output_analog_recall: 0.8205 - s4pafs_output_MeanAbsoluteRatio: 0.9547 - s4pafs_output_analog_recall: 0.8209 - s5kpts_output_MeanAbsoluteRatio: 1.0054 - s5kpts_output_analog_recall: 0.7837 - s6kpts_output_MeanAbsoluteRatio: 1.0059 - s6kpts_output_analog_recall: 0.7867 - val_loss: 0.1060 - val_s1pafs_output_loss: 0.0043 - val_s2pafs_output_loss: 0.0042 - val_s3pafs_output_loss: 0.0041 - val_s4pafs_output_loss: 0.0041 - val_s5kpts_output_loss: 0.0113 - val_s6kpts_output_loss: 0.0113 - val_s1pafs_output_MeanAbsoluteRatio: 0.9113 - val_s1pafs_output_analog_recall: 0.7918 - val_s2pafs_output_MeanAbsoluteRatio: 0.9187 - val_s2pafs_output_analog_recall: 0.7978 - val_s3pafs_output_MeanAbsoluteRatio: 0.9264 - val_s3pafs_output_analog_recall: 0.8011 - val_s4pafs_output_MeanAbsoluteRatio: 0.9349 - val_s4pafs_output_analog_recall: 0.8032 - val_s5kpts_output_MeanAbsoluteRatio: 0.9127 - val_s5kpts_output_analog_recall: 0.7433 - val_s6kpts_output_MeanAbsoluteRatio: 0.9132 - val_s6kpts_output_analog_recall: 0.7456\n",
      "\n",
      "Learning rate for epoch 48 is 0.0010000000474974513\n",
      "Epoch 49/262\n",
      "50/50 [==============================] - 55s 1s/step - loss: 0.0967 - s1pafs_output_loss: 0.0039 - s2pafs_output_loss: 0.0038 - s3pafs_output_loss: 0.0038 - s4pafs_output_loss: 0.0038 - s5kpts_output_loss: 0.0103 - s6kpts_output_loss: 0.0102 - s1pafs_output_MeanAbsoluteRatio: 0.9592 - s1pafs_output_analog_recall: 0.8152 - s2pafs_output_MeanAbsoluteRatio: 0.9559 - s2pafs_output_analog_recall: 0.8200 - s3pafs_output_MeanAbsoluteRatio: 0.9527 - s3pafs_output_analog_recall: 0.8209 - s4pafs_output_MeanAbsoluteRatio: 0.9552 - s4pafs_output_analog_recall: 0.8211 - s5kpts_output_MeanAbsoluteRatio: 1.0087 - s5kpts_output_analog_recall: 0.7859 - s6kpts_output_MeanAbsoluteRatio: 1.0061 - s6kpts_output_analog_recall: 0.7886 - val_loss: 0.1002 - val_s1pafs_output_loss: 0.0041 - val_s2pafs_output_loss: 0.0040 - val_s3pafs_output_loss: 0.0039 - val_s4pafs_output_loss: 0.0039 - val_s5kpts_output_loss: 0.0103 - val_s6kpts_output_loss: 0.0102 - val_s1pafs_output_MeanAbsoluteRatio: 0.9663 - val_s1pafs_output_analog_recall: 0.8117 - val_s2pafs_output_MeanAbsoluteRatio: 0.9573 - val_s2pafs_output_analog_recall: 0.8163 - val_s3pafs_output_MeanAbsoluteRatio: 0.9453 - val_s3pafs_output_analog_recall: 0.8183 - val_s4pafs_output_MeanAbsoluteRatio: 0.9575 - val_s4pafs_output_analog_recall: 0.8176 - val_s5kpts_output_MeanAbsoluteRatio: 1.0253 - val_s5kpts_output_analog_recall: 0.7891 - val_s6kpts_output_MeanAbsoluteRatio: 1.0376 - val_s6kpts_output_analog_recall: 0.7979\n",
      "\n",
      "Learning rate for epoch 49 is 0.0010000000474974513\n",
      "Epoch 50/262\n",
      "50/50 [==============================] - 46s 912ms/step - loss: 0.0978 - s1pafs_output_loss: 0.0040 - s2pafs_output_loss: 0.0038 - s3pafs_output_loss: 0.0038 - s4pafs_output_loss: 0.0038 - s5kpts_output_loss: 0.0103 - s6kpts_output_loss: 0.0102 - s1pafs_output_MeanAbsoluteRatio: 0.9539 - s1pafs_output_analog_recall: 0.8132 - s2pafs_output_MeanAbsoluteRatio: 0.9544 - s2pafs_output_analog_recall: 0.8188 - s3pafs_output_MeanAbsoluteRatio: 0.9518 - s3pafs_output_analog_recall: 0.8191 - s4pafs_output_MeanAbsoluteRatio: 0.9526 - s4pafs_output_analog_recall: 0.8187 - s5kpts_output_MeanAbsoluteRatio: 1.0098 - s5kpts_output_analog_recall: 0.7867 - s6kpts_output_MeanAbsoluteRatio: 1.0090 - s6kpts_output_analog_recall: 0.7906 - val_loss: 0.1019 - val_s1pafs_output_loss: 0.0041 - val_s2pafs_output_loss: 0.0040 - val_s3pafs_output_loss: 0.0040 - val_s4pafs_output_loss: 0.0040 - val_s5kpts_output_loss: 0.0107 - val_s6kpts_output_loss: 0.0104 - val_s1pafs_output_MeanAbsoluteRatio: 0.9748 - val_s1pafs_output_analog_recall: 0.8139 - val_s2pafs_output_MeanAbsoluteRatio: 0.9966 - val_s2pafs_output_analog_recall: 0.8211 - val_s3pafs_output_MeanAbsoluteRatio: 0.9820 - val_s3pafs_output_analog_recall: 0.8180 - val_s4pafs_output_MeanAbsoluteRatio: 0.9837 - val_s4pafs_output_analog_recall: 0.8189 - val_s5kpts_output_MeanAbsoluteRatio: 1.0106 - val_s5kpts_output_analog_recall: 0.7890 - val_s6kpts_output_MeanAbsoluteRatio: 1.0543 - val_s6kpts_output_analog_recall: 0.8077\n",
      "\n",
      "Learning rate for epoch 50 is 0.0010000000474974513\n",
      "Epoch 51/262\n"
     ]
    },
    {
     "name": "stdout",
     "output_type": "stream",
     "text": [
      "50/50 [==============================] - 43s 857ms/step - loss: 0.0966 - s1pafs_output_loss: 0.0039 - s2pafs_output_loss: 0.0038 - s3pafs_output_loss: 0.0038 - s4pafs_output_loss: 0.0038 - s5kpts_output_loss: 0.0102 - s6kpts_output_loss: 0.0101 - s1pafs_output_MeanAbsoluteRatio: 0.9628 - s1pafs_output_analog_recall: 0.8145 - s2pafs_output_MeanAbsoluteRatio: 0.9593 - s2pafs_output_analog_recall: 0.8205 - s3pafs_output_MeanAbsoluteRatio: 0.9574 - s3pafs_output_analog_recall: 0.8207 - s4pafs_output_MeanAbsoluteRatio: 0.9619 - s4pafs_output_analog_recall: 0.8211 - s5kpts_output_MeanAbsoluteRatio: 1.0080 - s5kpts_output_analog_recall: 0.7873 - s6kpts_output_MeanAbsoluteRatio: 1.0058 - s6kpts_output_analog_recall: 0.7909 - val_loss: 0.0999 - val_s1pafs_output_loss: 0.0041 - val_s2pafs_output_loss: 0.0040 - val_s3pafs_output_loss: 0.0039 - val_s4pafs_output_loss: 0.0039 - val_s5kpts_output_loss: 0.0102 - val_s6kpts_output_loss: 0.0101 - val_s1pafs_output_MeanAbsoluteRatio: 0.9893 - val_s1pafs_output_analog_recall: 0.8170 - val_s2pafs_output_MeanAbsoluteRatio: 0.9854 - val_s2pafs_output_analog_recall: 0.8233 - val_s3pafs_output_MeanAbsoluteRatio: 0.9906 - val_s3pafs_output_analog_recall: 0.8240 - val_s4pafs_output_MeanAbsoluteRatio: 1.0171 - val_s4pafs_output_analog_recall: 0.8281 - val_s5kpts_output_MeanAbsoluteRatio: 1.0810 - val_s5kpts_output_analog_recall: 0.8115 - val_s6kpts_output_MeanAbsoluteRatio: 1.0896 - val_s6kpts_output_analog_recall: 0.8183\n",
      "\n",
      "Learning rate for epoch 51 is 0.0010000000474974513\n",
      "Epoch 52/262\n",
      "50/50 [==============================] - 43s 864ms/step - loss: 0.0947 - s1pafs_output_loss: 0.0038 - s2pafs_output_loss: 0.0037 - s3pafs_output_loss: 0.0037 - s4pafs_output_loss: 0.0037 - s5kpts_output_loss: 0.0100 - s6kpts_output_loss: 0.0099 - s1pafs_output_MeanAbsoluteRatio: 0.9646 - s1pafs_output_analog_recall: 0.8193 - s2pafs_output_MeanAbsoluteRatio: 0.9603 - s2pafs_output_analog_recall: 0.8243 - s3pafs_output_MeanAbsoluteRatio: 0.9574 - s3pafs_output_analog_recall: 0.8247 - s4pafs_output_MeanAbsoluteRatio: 0.9587 - s4pafs_output_analog_recall: 0.8243 - s5kpts_output_MeanAbsoluteRatio: 1.0079 - s5kpts_output_analog_recall: 0.7904 - s6kpts_output_MeanAbsoluteRatio: 1.0099 - s6kpts_output_analog_recall: 0.7938 - val_loss: 0.0988 - val_s1pafs_output_loss: 0.0040 - val_s2pafs_output_loss: 0.0039 - val_s3pafs_output_loss: 0.0039 - val_s4pafs_output_loss: 0.0039 - val_s5kpts_output_loss: 0.0102 - val_s6kpts_output_loss: 0.0100 - val_s1pafs_output_MeanAbsoluteRatio: 0.9393 - val_s1pafs_output_analog_recall: 0.8092 - val_s2pafs_output_MeanAbsoluteRatio: 0.9352 - val_s2pafs_output_analog_recall: 0.8131 - val_s3pafs_output_MeanAbsoluteRatio: 0.9398 - val_s3pafs_output_analog_recall: 0.8126 - val_s4pafs_output_MeanAbsoluteRatio: 0.9429 - val_s4pafs_output_analog_recall: 0.8139 - val_s5kpts_output_MeanAbsoluteRatio: 1.0295 - val_s5kpts_output_analog_recall: 0.7947 - val_s6kpts_output_MeanAbsoluteRatio: 1.0124 - val_s6kpts_output_analog_recall: 0.7984\n",
      "\n",
      "Learning rate for epoch 52 is 0.0010000000474974513\n",
      "Epoch 53/262\n",
      "26/50 [==============>...............] - ETA: 21s - loss: 0.0920 - s1pafs_output_loss: 0.0038 - s2pafs_output_loss: 0.0036 - s3pafs_output_loss: 0.0036 - s4pafs_output_loss: 0.0036 - s5kpts_output_loss: 0.0096 - s6kpts_output_loss: 0.0094 - s1pafs_output_MeanAbsoluteRatio: 0.9578 - s1pafs_output_analog_recall: 0.8213 - s2pafs_output_MeanAbsoluteRatio: 0.9588 - s2pafs_output_analog_recall: 0.8273 - s3pafs_output_MeanAbsoluteRatio: 0.9564 - s3pafs_output_analog_recall: 0.8284 - s4pafs_output_MeanAbsoluteRatio: 0.9583 - s4pafs_output_analog_recall: 0.8288 - s5kpts_output_MeanAbsoluteRatio: 1.0105 - s5kpts_output_analog_recall: 0.7994 - s6kpts_output_MeanAbsoluteRatio: 1.0029 - s6kpts_output_analog_recall: 0.8020\n",
      "Epoch 00053: saving model to gs://dl_training_results/checkpoints/model1115Sun1219-0341/-E0053.ckpt\n",
      "50/50 [==============================] - 59s 1s/step - loss: 0.0919 - s1pafs_output_loss: 0.0038 - s2pafs_output_loss: 0.0036 - s3pafs_output_loss: 0.0036 - s4pafs_output_loss: 0.0036 - s5kpts_output_loss: 0.0095 - s6kpts_output_loss: 0.0093 - s1pafs_output_MeanAbsoluteRatio: 0.9565 - s1pafs_output_analog_recall: 0.8212 - s2pafs_output_MeanAbsoluteRatio: 0.9565 - s2pafs_output_analog_recall: 0.8275 - s3pafs_output_MeanAbsoluteRatio: 0.9554 - s3pafs_output_analog_recall: 0.8285 - s4pafs_output_MeanAbsoluteRatio: 0.9563 - s4pafs_output_analog_recall: 0.8288 - s5kpts_output_MeanAbsoluteRatio: 1.0092 - s5kpts_output_analog_recall: 0.7997 - s6kpts_output_MeanAbsoluteRatio: 1.0049 - s6kpts_output_analog_recall: 0.8032 - val_loss: 0.0982 - val_s1pafs_output_loss: 0.0040 - val_s2pafs_output_loss: 0.0039 - val_s3pafs_output_loss: 0.0039 - val_s4pafs_output_loss: 0.0038 - val_s5kpts_output_loss: 0.0101 - val_s6kpts_output_loss: 0.0099 - val_s1pafs_output_MeanAbsoluteRatio: 0.9864 - val_s1pafs_output_analog_recall: 0.8206 - val_s2pafs_output_MeanAbsoluteRatio: 0.9826 - val_s2pafs_output_analog_recall: 0.8259 - val_s3pafs_output_MeanAbsoluteRatio: 0.9900 - val_s3pafs_output_analog_recall: 0.8238 - val_s4pafs_output_MeanAbsoluteRatio: 0.9851 - val_s4pafs_output_analog_recall: 0.8243 - val_s5kpts_output_MeanAbsoluteRatio: 1.0818 - val_s5kpts_output_analog_recall: 0.8107 - val_s6kpts_output_MeanAbsoluteRatio: 1.0734 - val_s6kpts_output_analog_recall: 0.8122\n",
      "\n",
      "Learning rate for epoch 53 is 0.0010000000474974513\n",
      "Epoch 54/262\n",
      "50/50 [==============================] - 40s 808ms/step - loss: 0.0924 - s1pafs_output_loss: 0.0038 - s2pafs_output_loss: 0.0036 - s3pafs_output_loss: 0.0036 - s4pafs_output_loss: 0.0036 - s5kpts_output_loss: 0.0096 - s6kpts_output_loss: 0.0094 - s1pafs_output_MeanAbsoluteRatio: 0.9630 - s1pafs_output_analog_recall: 0.8215 - s2pafs_output_MeanAbsoluteRatio: 0.9621 - s2pafs_output_analog_recall: 0.8280 - s3pafs_output_MeanAbsoluteRatio: 0.9598 - s3pafs_output_analog_recall: 0.8288 - s4pafs_output_MeanAbsoluteRatio: 0.9613 - s4pafs_output_analog_recall: 0.8288 - s5kpts_output_MeanAbsoluteRatio: 1.0126 - s5kpts_output_analog_recall: 0.7993 - s6kpts_output_MeanAbsoluteRatio: 1.0102 - s6kpts_output_analog_recall: 0.8030 - val_loss: 0.0976 - val_s1pafs_output_loss: 0.0040 - val_s2pafs_output_loss: 0.0038 - val_s3pafs_output_loss: 0.0038 - val_s4pafs_output_loss: 0.0039 - val_s5kpts_output_loss: 0.0101 - val_s6kpts_output_loss: 0.0100 - val_s1pafs_output_MeanAbsoluteRatio: 0.9375 - val_s1pafs_output_analog_recall: 0.8093 - val_s2pafs_output_MeanAbsoluteRatio: 0.9340 - val_s2pafs_output_analog_recall: 0.8145 - val_s3pafs_output_MeanAbsoluteRatio: 0.9315 - val_s3pafs_output_analog_recall: 0.8144 - val_s4pafs_output_MeanAbsoluteRatio: 0.9204 - val_s4pafs_output_analog_recall: 0.8105 - val_s5kpts_output_MeanAbsoluteRatio: 0.9417 - val_s5kpts_output_analog_recall: 0.7700 - val_s6kpts_output_MeanAbsoluteRatio: 0.9319 - val_s6kpts_output_analog_recall: 0.7723\n",
      "\n",
      "Learning rate for epoch 54 is 0.0010000000474974513\n",
      "Epoch 55/262\n",
      "50/50 [==============================] - 44s 880ms/step - loss: 0.0925 - s1pafs_output_loss: 0.0038 - s2pafs_output_loss: 0.0037 - s3pafs_output_loss: 0.0036 - s4pafs_output_loss: 0.0036 - s5kpts_output_loss: 0.0095 - s6kpts_output_loss: 0.0093 - s1pafs_output_MeanAbsoluteRatio: 0.9587 - s1pafs_output_analog_recall: 0.8198 - s2pafs_output_MeanAbsoluteRatio: 0.9583 - s2pafs_output_analog_recall: 0.8269 - s3pafs_output_MeanAbsoluteRatio: 0.9564 - s3pafs_output_analog_recall: 0.8280 - s4pafs_output_MeanAbsoluteRatio: 0.9582 - s4pafs_output_analog_recall: 0.8283 - s5kpts_output_MeanAbsoluteRatio: 1.0060 - s5kpts_output_analog_recall: 0.8015 - s6kpts_output_MeanAbsoluteRatio: 1.0055 - s6kpts_output_analog_recall: 0.8059 - val_loss: 0.0967 - val_s1pafs_output_loss: 0.0040 - val_s2pafs_output_loss: 0.0039 - val_s3pafs_output_loss: 0.0038 - val_s4pafs_output_loss: 0.0038 - val_s5kpts_output_loss: 0.0097 - val_s6kpts_output_loss: 0.0095 - val_s1pafs_output_MeanAbsoluteRatio: 0.9543 - val_s1pafs_output_analog_recall: 0.8160 - val_s2pafs_output_MeanAbsoluteRatio: 0.9725 - val_s2pafs_output_analog_recall: 0.8267 - val_s3pafs_output_MeanAbsoluteRatio: 0.9757 - val_s3pafs_output_analog_recall: 0.8294 - val_s4pafs_output_MeanAbsoluteRatio: 0.9711 - val_s4pafs_output_analog_recall: 0.8298 - val_s5kpts_output_MeanAbsoluteRatio: 1.0290 - val_s5kpts_output_analog_recall: 0.8077 - val_s6kpts_output_MeanAbsoluteRatio: 1.0114 - val_s6kpts_output_analog_recall: 0.8073\n"
     ]
    },
    {
     "name": "stdout",
     "output_type": "stream",
     "text": [
      "\n",
      "Learning rate for epoch 55 is 0.0010000000474974513\n",
      "Epoch 56/262\n",
      "50/50 [==============================] - 47s 939ms/step - loss: 0.0915 - s1pafs_output_loss: 0.0038 - s2pafs_output_loss: 0.0036 - s3pafs_output_loss: 0.0036 - s4pafs_output_loss: 0.0036 - s5kpts_output_loss: 0.0094 - s6kpts_output_loss: 0.0092 - s1pafs_output_MeanAbsoluteRatio: 0.9634 - s1pafs_output_analog_recall: 0.8220 - s2pafs_output_MeanAbsoluteRatio: 0.9620 - s2pafs_output_analog_recall: 0.8291 - s3pafs_output_MeanAbsoluteRatio: 0.9589 - s3pafs_output_analog_recall: 0.8301 - s4pafs_output_MeanAbsoluteRatio: 0.9593 - s4pafs_output_analog_recall: 0.8304 - s5kpts_output_MeanAbsoluteRatio: 1.0102 - s5kpts_output_analog_recall: 0.8025 - s6kpts_output_MeanAbsoluteRatio: 1.0102 - s6kpts_output_analog_recall: 0.8069 - val_loss: 0.0954 - val_s1pafs_output_loss: 0.0040 - val_s2pafs_output_loss: 0.0038 - val_s3pafs_output_loss: 0.0038 - val_s4pafs_output_loss: 0.0038 - val_s5kpts_output_loss: 0.0097 - val_s6kpts_output_loss: 0.0095 - val_s1pafs_output_MeanAbsoluteRatio: 0.9221 - val_s1pafs_output_analog_recall: 0.8066 - val_s2pafs_output_MeanAbsoluteRatio: 0.9211 - val_s2pafs_output_analog_recall: 0.8139 - val_s3pafs_output_MeanAbsoluteRatio: 0.9110 - val_s3pafs_output_analog_recall: 0.8153 - val_s4pafs_output_MeanAbsoluteRatio: 0.9157 - val_s4pafs_output_analog_recall: 0.8155 - val_s5kpts_output_MeanAbsoluteRatio: 0.9459 - val_s5kpts_output_analog_recall: 0.7837 - val_s6kpts_output_MeanAbsoluteRatio: 0.9518 - val_s6kpts_output_analog_recall: 0.7910\n",
      "\n",
      "Learning rate for epoch 56 is 0.0010000000474974513\n",
      "Epoch 57/262\n",
      "50/50 [==============================] - 60s 1s/step - loss: 0.0884 - s1pafs_output_loss: 0.0036 - s2pafs_output_loss: 0.0035 - s3pafs_output_loss: 0.0035 - s4pafs_output_loss: 0.0035 - s5kpts_output_loss: 0.0092 - s6kpts_output_loss: 0.0090 - s1pafs_output_MeanAbsoluteRatio: 0.9602 - s1pafs_output_analog_recall: 0.8257 - s2pafs_output_MeanAbsoluteRatio: 0.9615 - s2pafs_output_analog_recall: 0.8332 - s3pafs_output_MeanAbsoluteRatio: 0.9608 - s3pafs_output_analog_recall: 0.8346 - s4pafs_output_MeanAbsoluteRatio: 0.9603 - s4pafs_output_analog_recall: 0.8351 - s5kpts_output_MeanAbsoluteRatio: 1.0046 - s5kpts_output_analog_recall: 0.8046 - s6kpts_output_MeanAbsoluteRatio: 1.0035 - s6kpts_output_analog_recall: 0.8084 - val_loss: 0.0946 - val_s1pafs_output_loss: 0.0039 - val_s2pafs_output_loss: 0.0037 - val_s3pafs_output_loss: 0.0037 - val_s4pafs_output_loss: 0.0037 - val_s5kpts_output_loss: 0.0097 - val_s6kpts_output_loss: 0.0095 - val_s1pafs_output_MeanAbsoluteRatio: 0.9755 - val_s1pafs_output_analog_recall: 0.8204 - val_s2pafs_output_MeanAbsoluteRatio: 0.9805 - val_s2pafs_output_analog_recall: 0.8289 - val_s3pafs_output_MeanAbsoluteRatio: 0.9674 - val_s3pafs_output_analog_recall: 0.8273 - val_s4pafs_output_MeanAbsoluteRatio: 0.9736 - val_s4pafs_output_analog_recall: 0.8306 - val_s5kpts_output_MeanAbsoluteRatio: 1.0721 - val_s5kpts_output_analog_recall: 0.8235 - val_s6kpts_output_MeanAbsoluteRatio: 1.1081 - val_s6kpts_output_analog_recall: 0.8302\n",
      "\n",
      "Learning rate for epoch 57 is 0.0010000000474974513\n",
      "Epoch 58/262\n",
      "50/50 [==============================] - 46s 919ms/step - loss: 0.0889 - s1pafs_output_loss: 0.0037 - s2pafs_output_loss: 0.0035 - s3pafs_output_loss: 0.0035 - s4pafs_output_loss: 0.0035 - s5kpts_output_loss: 0.0091 - s6kpts_output_loss: 0.0090 - s1pafs_output_MeanAbsoluteRatio: 0.9632 - s1pafs_output_analog_recall: 0.8250 - s2pafs_output_MeanAbsoluteRatio: 0.9653 - s2pafs_output_analog_recall: 0.8332 - s3pafs_output_MeanAbsoluteRatio: 0.9617 - s3pafs_output_analog_recall: 0.8346 - s4pafs_output_MeanAbsoluteRatio: 0.9643 - s4pafs_output_analog_recall: 0.8348 - s5kpts_output_MeanAbsoluteRatio: 1.0079 - s5kpts_output_analog_recall: 0.8065 - s6kpts_output_MeanAbsoluteRatio: 1.0085 - s6kpts_output_analog_recall: 0.8108 - val_loss: 0.0932 - val_s1pafs_output_loss: 0.0039 - val_s2pafs_output_loss: 0.0037 - val_s3pafs_output_loss: 0.0037 - val_s4pafs_output_loss: 0.0037 - val_s5kpts_output_loss: 0.0095 - val_s6kpts_output_loss: 0.0093 - val_s1pafs_output_MeanAbsoluteRatio: 0.9866 - val_s1pafs_output_analog_recall: 0.8269 - val_s2pafs_output_MeanAbsoluteRatio: 0.9800 - val_s2pafs_output_analog_recall: 0.8330 - val_s3pafs_output_MeanAbsoluteRatio: 0.9687 - val_s3pafs_output_analog_recall: 0.8321 - val_s4pafs_output_MeanAbsoluteRatio: 0.9860 - val_s4pafs_output_analog_recall: 0.8344 - val_s5kpts_output_MeanAbsoluteRatio: 1.1091 - val_s5kpts_output_analog_recall: 0.8299 - val_s6kpts_output_MeanAbsoluteRatio: 1.1074 - val_s6kpts_output_analog_recall: 0.8333\n",
      "\n",
      "Learning rate for epoch 58 is 0.0010000000474974513\n",
      "Epoch 59/262\n",
      "50/50 [==============================] - 48s 969ms/step - loss: 0.0887 - s1pafs_output_loss: 0.0037 - s2pafs_output_loss: 0.0035 - s3pafs_output_loss: 0.0035 - s4pafs_output_loss: 0.0035 - s5kpts_output_loss: 0.0091 - s6kpts_output_loss: 0.0090 - s1pafs_output_MeanAbsoluteRatio: 0.9670 - s1pafs_output_analog_recall: 0.8258 - s2pafs_output_MeanAbsoluteRatio: 0.9657 - s2pafs_output_analog_recall: 0.8339 - s3pafs_output_MeanAbsoluteRatio: 0.9640 - s3pafs_output_analog_recall: 0.8351 - s4pafs_output_MeanAbsoluteRatio: 0.9650 - s4pafs_output_analog_recall: 0.8355 - s5kpts_output_MeanAbsoluteRatio: 1.0124 - s5kpts_output_analog_recall: 0.8088 - s6kpts_output_MeanAbsoluteRatio: 1.0112 - s6kpts_output_analog_recall: 0.8125 - val_loss: 0.0928 - val_s1pafs_output_loss: 0.0039 - val_s2pafs_output_loss: 0.0037 - val_s3pafs_output_loss: 0.0036 - val_s4pafs_output_loss: 0.0036 - val_s5kpts_output_loss: 0.0093 - val_s6kpts_output_loss: 0.0092 - val_s1pafs_output_MeanAbsoluteRatio: 0.9465 - val_s1pafs_output_analog_recall: 0.8180 - val_s2pafs_output_MeanAbsoluteRatio: 0.9414 - val_s2pafs_output_analog_recall: 0.8234 - val_s3pafs_output_MeanAbsoluteRatio: 0.9333 - val_s3pafs_output_analog_recall: 0.8229 - val_s4pafs_output_MeanAbsoluteRatio: 0.9267 - val_s4pafs_output_analog_recall: 0.8209 - val_s5kpts_output_MeanAbsoluteRatio: 0.9528 - val_s5kpts_output_analog_recall: 0.7892 - val_s6kpts_output_MeanAbsoluteRatio: 0.9422 - val_s6kpts_output_analog_recall: 0.7897\n",
      "\n",
      "Learning rate for epoch 59 is 0.0010000000474974513\n",
      "Epoch 60/262\n",
      "50/50 [==============================] - 43s 864ms/step - loss: 0.0853 - s1pafs_output_loss: 0.0036 - s2pafs_output_loss: 0.0034 - s3pafs_output_loss: 0.0033 - s4pafs_output_loss: 0.0033 - s5kpts_output_loss: 0.0087 - s6kpts_output_loss: 0.0085 - s1pafs_output_MeanAbsoluteRatio: 0.9661 - s1pafs_output_analog_recall: 0.8303 - s2pafs_output_MeanAbsoluteRatio: 0.9664 - s2pafs_output_analog_recall: 0.8383 - s3pafs_output_MeanAbsoluteRatio: 0.9651 - s3pafs_output_analog_recall: 0.8407 - s4pafs_output_MeanAbsoluteRatio: 0.9657 - s4pafs_output_analog_recall: 0.8411 - s5kpts_output_MeanAbsoluteRatio: 1.0087 - s5kpts_output_analog_recall: 0.8152 - s6kpts_output_MeanAbsoluteRatio: 1.0082 - s6kpts_output_analog_recall: 0.8197 - val_loss: 0.0912 - val_s1pafs_output_loss: 0.0039 - val_s2pafs_output_loss: 0.0036 - val_s3pafs_output_loss: 0.0036 - val_s4pafs_output_loss: 0.0036 - val_s5kpts_output_loss: 0.0090 - val_s6kpts_output_loss: 0.0088 - val_s1pafs_output_MeanAbsoluteRatio: 0.9406 - val_s1pafs_output_analog_recall: 0.8153 - val_s2pafs_output_MeanAbsoluteRatio: 0.9426 - val_s2pafs_output_analog_recall: 0.8238 - val_s3pafs_output_MeanAbsoluteRatio: 0.9477 - val_s3pafs_output_analog_recall: 0.8253 - val_s4pafs_output_MeanAbsoluteRatio: 0.9396 - val_s4pafs_output_analog_recall: 0.8253 - val_s5kpts_output_MeanAbsoluteRatio: 0.9680 - val_s5kpts_output_analog_recall: 0.8021 - val_s6kpts_output_MeanAbsoluteRatio: 0.9914 - val_s6kpts_output_analog_recall: 0.8159\n",
      "\n",
      "Learning rate for epoch 60 is 0.0010000000474974513\n",
      "Epoch 61/262\n"
     ]
    },
    {
     "name": "stdout",
     "output_type": "stream",
     "text": [
      "50/50 [==============================] - 44s 890ms/step - loss: 0.0863 - s1pafs_output_loss: 0.0036 - s2pafs_output_loss: 0.0034 - s3pafs_output_loss: 0.0034 - s4pafs_output_loss: 0.0034 - s5kpts_output_loss: 0.0089 - s6kpts_output_loss: 0.0088 - s1pafs_output_MeanAbsoluteRatio: 0.9698 - s1pafs_output_analog_recall: 0.8296 - s2pafs_output_MeanAbsoluteRatio: 0.9691 - s2pafs_output_analog_recall: 0.8374 - s3pafs_output_MeanAbsoluteRatio: 0.9666 - s3pafs_output_analog_recall: 0.8395 - s4pafs_output_MeanAbsoluteRatio: 0.9665 - s4pafs_output_analog_recall: 0.8395 - s5kpts_output_MeanAbsoluteRatio: 1.0071 - s5kpts_output_analog_recall: 0.8114 - s6kpts_output_MeanAbsoluteRatio: 1.0055 - s6kpts_output_analog_recall: 0.8138 - val_loss: 0.0907 - val_s1pafs_output_loss: 0.0038 - val_s2pafs_output_loss: 0.0036 - val_s3pafs_output_loss: 0.0036 - val_s4pafs_output_loss: 0.0036 - val_s5kpts_output_loss: 0.0091 - val_s6kpts_output_loss: 0.0090 - val_s1pafs_output_MeanAbsoluteRatio: 0.9563 - val_s1pafs_output_analog_recall: 0.8214 - val_s2pafs_output_MeanAbsoluteRatio: 0.9756 - val_s2pafs_output_analog_recall: 0.8326 - val_s3pafs_output_MeanAbsoluteRatio: 0.9702 - val_s3pafs_output_analog_recall: 0.8379 - val_s4pafs_output_MeanAbsoluteRatio: 0.9697 - val_s4pafs_output_analog_recall: 0.8381 - val_s5kpts_output_MeanAbsoluteRatio: 1.0077 - val_s5kpts_output_analog_recall: 0.8153 - val_s6kpts_output_MeanAbsoluteRatio: 1.0116 - val_s6kpts_output_analog_recall: 0.8210\n",
      "\n",
      "Learning rate for epoch 61 is 0.0010000000474974513\n",
      "Epoch 62/262\n",
      "14/50 [=======>......................] - ETA: 38s - loss: 0.0833 - s1pafs_output_loss: 0.0035 - s2pafs_output_loss: 0.0033 - s3pafs_output_loss: 0.0033 - s4pafs_output_loss: 0.0033 - s5kpts_output_loss: 0.0084 - s6kpts_output_loss: 0.0083 - s1pafs_output_MeanAbsoluteRatio: 0.9704 - s1pafs_output_analog_recall: 0.8331 - s2pafs_output_MeanAbsoluteRatio: 0.9650 - s2pafs_output_analog_recall: 0.8406 - s3pafs_output_MeanAbsoluteRatio: 0.9652 - s3pafs_output_analog_recall: 0.8417 - s4pafs_output_MeanAbsoluteRatio: 0.9648 - s4pafs_output_analog_recall: 0.8427 - s5kpts_output_MeanAbsoluteRatio: 1.0176 - s5kpts_output_analog_recall: 0.8216 - s6kpts_output_MeanAbsoluteRatio: 1.0129 - s6kpts_output_analog_recall: 0.8238\n",
      "Epoch 00062: saving model to gs://dl_training_results/checkpoints/model1115Sun1219-0341/-E0062.ckpt\n",
      "50/50 [==============================] - 59s 1s/step - loss: 0.0841 - s1pafs_output_loss: 0.0035 - s2pafs_output_loss: 0.0034 - s3pafs_output_loss: 0.0033 - s4pafs_output_loss: 0.0033 - s5kpts_output_loss: 0.0084 - s6kpts_output_loss: 0.0082 - s1pafs_output_MeanAbsoluteRatio: 0.9701 - s1pafs_output_analog_recall: 0.8320 - s2pafs_output_MeanAbsoluteRatio: 0.9675 - s2pafs_output_analog_recall: 0.8402 - s3pafs_output_MeanAbsoluteRatio: 0.9669 - s3pafs_output_analog_recall: 0.8426 - s4pafs_output_MeanAbsoluteRatio: 0.9656 - s4pafs_output_analog_recall: 0.8430 - s5kpts_output_MeanAbsoluteRatio: 1.0105 - s5kpts_output_analog_recall: 0.8206 - s6kpts_output_MeanAbsoluteRatio: 1.0092 - s6kpts_output_analog_recall: 0.8244 - val_loss: 0.0903 - val_s1pafs_output_loss: 0.0038 - val_s2pafs_output_loss: 0.0036 - val_s3pafs_output_loss: 0.0035 - val_s4pafs_output_loss: 0.0035 - val_s5kpts_output_loss: 0.0090 - val_s6kpts_output_loss: 0.0088 - val_s1pafs_output_MeanAbsoluteRatio: 1.0151 - val_s1pafs_output_analog_recall: 0.8318 - val_s2pafs_output_MeanAbsoluteRatio: 0.9953 - val_s2pafs_output_analog_recall: 0.8387 - val_s3pafs_output_MeanAbsoluteRatio: 0.9908 - val_s3pafs_output_analog_recall: 0.8390 - val_s4pafs_output_MeanAbsoluteRatio: 0.9808 - val_s4pafs_output_analog_recall: 0.8370 - val_s5kpts_output_MeanAbsoluteRatio: 1.0468 - val_s5kpts_output_analog_recall: 0.8240 - val_s6kpts_output_MeanAbsoluteRatio: 1.0491 - val_s6kpts_output_analog_recall: 0.8290\n",
      "\n",
      "Learning rate for epoch 62 is 0.0010000000474974513\n",
      "Epoch 63/262\n",
      "50/50 [==============================] - 40s 807ms/step - loss: 0.0857 - s1pafs_output_loss: 0.0036 - s2pafs_output_loss: 0.0034 - s3pafs_output_loss: 0.0033 - s4pafs_output_loss: 0.0033 - s5kpts_output_loss: 0.0087 - s6kpts_output_loss: 0.0086 - s1pafs_output_MeanAbsoluteRatio: 0.9684 - s1pafs_output_analog_recall: 0.8302 - s2pafs_output_MeanAbsoluteRatio: 0.9671 - s2pafs_output_analog_recall: 0.8384 - s3pafs_output_MeanAbsoluteRatio: 0.9659 - s3pafs_output_analog_recall: 0.8406 - s4pafs_output_MeanAbsoluteRatio: 0.9661 - s4pafs_output_analog_recall: 0.8406 - s5kpts_output_MeanAbsoluteRatio: 1.0076 - s5kpts_output_analog_recall: 0.8137 - s6kpts_output_MeanAbsoluteRatio: 1.0063 - s6kpts_output_analog_recall: 0.8169 - val_loss: 0.0896 - val_s1pafs_output_loss: 0.0038 - val_s2pafs_output_loss: 0.0036 - val_s3pafs_output_loss: 0.0035 - val_s4pafs_output_loss: 0.0035 - val_s5kpts_output_loss: 0.0089 - val_s6kpts_output_loss: 0.0088 - val_s1pafs_output_MeanAbsoluteRatio: 0.9378 - val_s1pafs_output_analog_recall: 0.8209 - val_s2pafs_output_MeanAbsoluteRatio: 0.9338 - val_s2pafs_output_analog_recall: 0.8272 - val_s3pafs_output_MeanAbsoluteRatio: 0.9532 - val_s3pafs_output_analog_recall: 0.8339 - val_s4pafs_output_MeanAbsoluteRatio: 0.9461 - val_s4pafs_output_analog_recall: 0.8328 - val_s5kpts_output_MeanAbsoluteRatio: 1.0410 - val_s5kpts_output_analog_recall: 0.8260 - val_s6kpts_output_MeanAbsoluteRatio: 1.0517 - val_s6kpts_output_analog_recall: 0.8341\n",
      "\n",
      "Learning rate for epoch 63 is 0.0010000000474974513\n",
      "Epoch 64/262\n",
      "50/50 [==============================] - 41s 817ms/step - loss: 0.0860 - s1pafs_output_loss: 0.0036 - s2pafs_output_loss: 0.0034 - s3pafs_output_loss: 0.0034 - s4pafs_output_loss: 0.0034 - s5kpts_output_loss: 0.0086 - s6kpts_output_loss: 0.0084 - s1pafs_output_MeanAbsoluteRatio: 0.9691 - s1pafs_output_analog_recall: 0.8291 - s2pafs_output_MeanAbsoluteRatio: 0.9661 - s2pafs_output_analog_recall: 0.8365 - s3pafs_output_MeanAbsoluteRatio: 0.9642 - s3pafs_output_analog_recall: 0.8393 - s4pafs_output_MeanAbsoluteRatio: 0.9651 - s4pafs_output_analog_recall: 0.8396 - s5kpts_output_MeanAbsoluteRatio: 1.0078 - s5kpts_output_analog_recall: 0.8180 - s6kpts_output_MeanAbsoluteRatio: 1.0096 - s6kpts_output_analog_recall: 0.8226 - val_loss: 0.0885 - val_s1pafs_output_loss: 0.0037 - val_s2pafs_output_loss: 0.0035 - val_s3pafs_output_loss: 0.0035 - val_s4pafs_output_loss: 0.0035 - val_s5kpts_output_loss: 0.0087 - val_s6kpts_output_loss: 0.0085 - val_s1pafs_output_MeanAbsoluteRatio: 0.9852 - val_s1pafs_output_analog_recall: 0.8275 - val_s2pafs_output_MeanAbsoluteRatio: 0.9747 - val_s2pafs_output_analog_recall: 0.8346 - val_s3pafs_output_MeanAbsoluteRatio: 0.9775 - val_s3pafs_output_analog_recall: 0.8378 - val_s4pafs_output_MeanAbsoluteRatio: 0.9661 - val_s4pafs_output_analog_recall: 0.8339 - val_s5kpts_output_MeanAbsoluteRatio: 1.0479 - val_s5kpts_output_analog_recall: 0.8256 - val_s6kpts_output_MeanAbsoluteRatio: 1.0502 - val_s6kpts_output_analog_recall: 0.8309\n",
      "\n",
      "Learning rate for epoch 64 is 0.0010000000474974513\n",
      "Epoch 65/262\n",
      "50/50 [==============================] - 59s 1s/step - loss: 0.0844 - s1pafs_output_loss: 0.0036 - s2pafs_output_loss: 0.0034 - s3pafs_output_loss: 0.0033 - s4pafs_output_loss: 0.0033 - s5kpts_output_loss: 0.0084 - s6kpts_output_loss: 0.0083 - s1pafs_output_MeanAbsoluteRatio: 0.9699 - s1pafs_output_analog_recall: 0.8309 - s2pafs_output_MeanAbsoluteRatio: 0.9703 - s2pafs_output_analog_recall: 0.8400 - s3pafs_output_MeanAbsoluteRatio: 0.9672 - s3pafs_output_analog_recall: 0.8420 - s4pafs_output_MeanAbsoluteRatio: 0.9662 - s4pafs_output_analog_recall: 0.8421 - s5kpts_output_MeanAbsoluteRatio: 1.0088 - s5kpts_output_analog_recall: 0.8190 - s6kpts_output_MeanAbsoluteRatio: 1.0059 - s6kpts_output_analog_recall: 0.8213 - val_loss: 0.0887 - val_s1pafs_output_loss: 0.0037 - val_s2pafs_output_loss: 0.0035 - val_s3pafs_output_loss: 0.0035 - val_s4pafs_output_loss: 0.0035 - val_s5kpts_output_loss: 0.0088 - val_s6kpts_output_loss: 0.0086 - val_s1pafs_output_MeanAbsoluteRatio: 0.9669 - val_s1pafs_output_analog_recall: 0.8273 - val_s2pafs_output_MeanAbsoluteRatio: 0.9675 - val_s2pafs_output_analog_recall: 0.8359 - val_s3pafs_output_MeanAbsoluteRatio: 0.9629 - val_s3pafs_output_analog_recall: 0.8339 - val_s4pafs_output_MeanAbsoluteRatio: 0.9667 - val_s4pafs_output_analog_recall: 0.8342 - val_s5kpts_output_MeanAbsoluteRatio: 0.9986 - val_s5kpts_output_analog_recall: 0.8123 - val_s6kpts_output_MeanAbsoluteRatio: 1.0081 - val_s6kpts_output_analog_recall: 0.8189\n"
     ]
    },
    {
     "name": "stdout",
     "output_type": "stream",
     "text": [
      "\n",
      "Learning rate for epoch 65 is 0.0010000000474974513\n",
      "Epoch 66/262\n",
      "50/50 [==============================] - 48s 952ms/step - loss: 0.0815 - s1pafs_output_loss: 0.0034 - s2pafs_output_loss: 0.0032 - s3pafs_output_loss: 0.0032 - s4pafs_output_loss: 0.0032 - s5kpts_output_loss: 0.0082 - s6kpts_output_loss: 0.0081 - s1pafs_output_MeanAbsoluteRatio: 0.9704 - s1pafs_output_analog_recall: 0.8360 - s2pafs_output_MeanAbsoluteRatio: 0.9708 - s2pafs_output_analog_recall: 0.8441 - s3pafs_output_MeanAbsoluteRatio: 0.9702 - s3pafs_output_analog_recall: 0.8463 - s4pafs_output_MeanAbsoluteRatio: 0.9691 - s4pafs_output_analog_recall: 0.8466 - s5kpts_output_MeanAbsoluteRatio: 1.0102 - s5kpts_output_analog_recall: 0.8237 - s6kpts_output_MeanAbsoluteRatio: 1.0100 - s6kpts_output_analog_recall: 0.8274 - val_loss: 0.0864 - val_s1pafs_output_loss: 0.0037 - val_s2pafs_output_loss: 0.0035 - val_s3pafs_output_loss: 0.0034 - val_s4pafs_output_loss: 0.0034 - val_s5kpts_output_loss: 0.0084 - val_s6kpts_output_loss: 0.0082 - val_s1pafs_output_MeanAbsoluteRatio: 0.9698 - val_s1pafs_output_analog_recall: 0.8286 - val_s2pafs_output_MeanAbsoluteRatio: 0.9877 - val_s2pafs_output_analog_recall: 0.8399 - val_s3pafs_output_MeanAbsoluteRatio: 0.9795 - val_s3pafs_output_analog_recall: 0.8406 - val_s4pafs_output_MeanAbsoluteRatio: 0.9761 - val_s4pafs_output_analog_recall: 0.8409 - val_s5kpts_output_MeanAbsoluteRatio: 0.9923 - val_s5kpts_output_analog_recall: 0.8185 - val_s6kpts_output_MeanAbsoluteRatio: 0.9889 - val_s6kpts_output_analog_recall: 0.8233\n",
      "\n",
      "Learning rate for epoch 66 is 0.0010000000474974513\n",
      "Epoch 67/262\n",
      "50/50 [==============================] - 47s 944ms/step - loss: 0.0828 - s1pafs_output_loss: 0.0035 - s2pafs_output_loss: 0.0033 - s3pafs_output_loss: 0.0032 - s4pafs_output_loss: 0.0032 - s5kpts_output_loss: 0.0082 - s6kpts_output_loss: 0.0081 - s1pafs_output_MeanAbsoluteRatio: 0.9725 - s1pafs_output_analog_recall: 0.8340 - s2pafs_output_MeanAbsoluteRatio: 0.9714 - s2pafs_output_analog_recall: 0.8426 - s3pafs_output_MeanAbsoluteRatio: 0.9686 - s3pafs_output_analog_recall: 0.8451 - s4pafs_output_MeanAbsoluteRatio: 0.9698 - s4pafs_output_analog_recall: 0.8458 - s5kpts_output_MeanAbsoluteRatio: 1.0108 - s5kpts_output_analog_recall: 0.8236 - s6kpts_output_MeanAbsoluteRatio: 1.0093 - s6kpts_output_analog_recall: 0.8271 - val_loss: 0.0871 - val_s1pafs_output_loss: 0.0037 - val_s2pafs_output_loss: 0.0035 - val_s3pafs_output_loss: 0.0034 - val_s4pafs_output_loss: 0.0034 - val_s5kpts_output_loss: 0.0087 - val_s6kpts_output_loss: 0.0085 - val_s1pafs_output_MeanAbsoluteRatio: 0.9619 - val_s1pafs_output_analog_recall: 0.8253 - val_s2pafs_output_MeanAbsoluteRatio: 0.9633 - val_s2pafs_output_analog_recall: 0.8335 - val_s3pafs_output_MeanAbsoluteRatio: 0.9654 - val_s3pafs_output_analog_recall: 0.8370 - val_s4pafs_output_MeanAbsoluteRatio: 0.9588 - val_s4pafs_output_analog_recall: 0.8370 - val_s5kpts_output_MeanAbsoluteRatio: 0.9584 - val_s5kpts_output_analog_recall: 0.8035 - val_s6kpts_output_MeanAbsoluteRatio: 0.9456 - val_s6kpts_output_analog_recall: 0.8053\n",
      "\n",
      "Learning rate for epoch 67 is 0.0010000000474974513\n",
      "Epoch 68/262\n",
      "50/50 [==============================] - 42s 840ms/step - loss: 0.0815 - s1pafs_output_loss: 0.0034 - s2pafs_output_loss: 0.0032 - s3pafs_output_loss: 0.0032 - s4pafs_output_loss: 0.0032 - s5kpts_output_loss: 0.0082 - s6kpts_output_loss: 0.0081 - s1pafs_output_MeanAbsoluteRatio: 0.9728 - s1pafs_output_analog_recall: 0.8354 - s2pafs_output_MeanAbsoluteRatio: 0.9707 - s2pafs_output_analog_recall: 0.8438 - s3pafs_output_MeanAbsoluteRatio: 0.9706 - s3pafs_output_analog_recall: 0.8468 - s4pafs_output_MeanAbsoluteRatio: 0.9704 - s4pafs_output_analog_recall: 0.8474 - s5kpts_output_MeanAbsoluteRatio: 1.0064 - s5kpts_output_analog_recall: 0.8227 - s6kpts_output_MeanAbsoluteRatio: 1.0047 - s6kpts_output_analog_recall: 0.8255 - val_loss: 0.0873 - val_s1pafs_output_loss: 0.0037 - val_s2pafs_output_loss: 0.0035 - val_s3pafs_output_loss: 0.0034 - val_s4pafs_output_loss: 0.0034 - val_s5kpts_output_loss: 0.0085 - val_s6kpts_output_loss: 0.0085 - val_s1pafs_output_MeanAbsoluteRatio: 0.9899 - val_s1pafs_output_analog_recall: 0.8364 - val_s2pafs_output_MeanAbsoluteRatio: 0.9890 - val_s2pafs_output_analog_recall: 0.8453 - val_s3pafs_output_MeanAbsoluteRatio: 0.9939 - val_s3pafs_output_analog_recall: 0.8467 - val_s4pafs_output_MeanAbsoluteRatio: 0.9968 - val_s4pafs_output_analog_recall: 0.8473 - val_s5kpts_output_MeanAbsoluteRatio: 1.0572 - val_s5kpts_output_analog_recall: 0.8372 - val_s6kpts_output_MeanAbsoluteRatio: 1.0548 - val_s6kpts_output_analog_recall: 0.8413\n",
      "\n",
      "Learning rate for epoch 68 is 0.0010000000474974513\n",
      "Epoch 69/262\n",
      "50/50 [==============================] - 40s 809ms/step - loss: 0.0805 - s1pafs_output_loss: 0.0034 - s2pafs_output_loss: 0.0032 - s3pafs_output_loss: 0.0031 - s4pafs_output_loss: 0.0031 - s5kpts_output_loss: 0.0081 - s6kpts_output_loss: 0.0079 - s1pafs_output_MeanAbsoluteRatio: 0.9727 - s1pafs_output_analog_recall: 0.8374 - s2pafs_output_MeanAbsoluteRatio: 0.9736 - s2pafs_output_analog_recall: 0.8460 - s3pafs_output_MeanAbsoluteRatio: 0.9719 - s3pafs_output_analog_recall: 0.8489 - s4pafs_output_MeanAbsoluteRatio: 0.9727 - s4pafs_output_analog_recall: 0.8495 - s5kpts_output_MeanAbsoluteRatio: 1.0109 - s5kpts_output_analog_recall: 0.8270 - s6kpts_output_MeanAbsoluteRatio: 1.0110 - s6kpts_output_analog_recall: 0.8306 - val_loss: 0.0866 - val_s1pafs_output_loss: 0.0036 - val_s2pafs_output_loss: 0.0035 - val_s3pafs_output_loss: 0.0034 - val_s4pafs_output_loss: 0.0034 - val_s5kpts_output_loss: 0.0088 - val_s6kpts_output_loss: 0.0087 - val_s1pafs_output_MeanAbsoluteRatio: 0.9549 - val_s1pafs_output_analog_recall: 0.8265 - val_s2pafs_output_MeanAbsoluteRatio: 0.9636 - val_s2pafs_output_analog_recall: 0.8371 - val_s3pafs_output_MeanAbsoluteRatio: 0.9720 - val_s3pafs_output_analog_recall: 0.8412 - val_s4pafs_output_MeanAbsoluteRatio: 0.9719 - val_s4pafs_output_analog_recall: 0.8411 - val_s5kpts_output_MeanAbsoluteRatio: 0.9689 - val_s5kpts_output_analog_recall: 0.8047 - val_s6kpts_output_MeanAbsoluteRatio: 0.9405 - val_s6kpts_output_analog_recall: 0.8014\n",
      "\n",
      "Learning rate for epoch 69 is 0.0010000000474974513\n",
      "Epoch 70/262\n",
      "50/50 [==============================] - 44s 886ms/step - loss: 0.0789 - s1pafs_output_loss: 0.0033 - s2pafs_output_loss: 0.0032 - s3pafs_output_loss: 0.0031 - s4pafs_output_loss: 0.0031 - s5kpts_output_loss: 0.0078 - s6kpts_output_loss: 0.0077 - s1pafs_output_MeanAbsoluteRatio: 0.9747 - s1pafs_output_analog_recall: 0.8401 - s2pafs_output_MeanAbsoluteRatio: 0.9736 - s2pafs_output_analog_recall: 0.8486 - s3pafs_output_MeanAbsoluteRatio: 0.9710 - s3pafs_output_analog_recall: 0.8512 - s4pafs_output_MeanAbsoluteRatio: 0.9719 - s4pafs_output_analog_recall: 0.8519 - s5kpts_output_MeanAbsoluteRatio: 1.0079 - s5kpts_output_analog_recall: 0.8303 - s6kpts_output_MeanAbsoluteRatio: 1.0069 - s6kpts_output_analog_recall: 0.8337 - val_loss: 0.0859 - val_s1pafs_output_loss: 0.0036 - val_s2pafs_output_loss: 0.0034 - val_s3pafs_output_loss: 0.0034 - val_s4pafs_output_loss: 0.0034 - val_s5kpts_output_loss: 0.0084 - val_s6kpts_output_loss: 0.0082 - val_s1pafs_output_MeanAbsoluteRatio: 0.9867 - val_s1pafs_output_analog_recall: 0.8372 - val_s2pafs_output_MeanAbsoluteRatio: 0.9863 - val_s2pafs_output_analog_recall: 0.8469 - val_s3pafs_output_MeanAbsoluteRatio: 0.9935 - val_s3pafs_output_analog_recall: 0.8517 - val_s4pafs_output_MeanAbsoluteRatio: 0.9970 - val_s4pafs_output_analog_recall: 0.8522 - val_s5kpts_output_MeanAbsoluteRatio: 1.0450 - val_s5kpts_output_analog_recall: 0.8412 - val_s6kpts_output_MeanAbsoluteRatio: 1.0300 - val_s6kpts_output_analog_recall: 0.8410\n",
      "\n",
      "Learning rate for epoch 70 is 0.0010000000474974513\n",
      "Epoch 71/262\n"
     ]
    },
    {
     "name": "stdout",
     "output_type": "stream",
     "text": [
      " 2/50 [>.............................] - ETA: 46s - loss: 0.0796 - s1pafs_output_loss: 0.0034 - s2pafs_output_loss: 0.0032 - s3pafs_output_loss: 0.0032 - s4pafs_output_loss: 0.0031 - s5kpts_output_loss: 0.0076 - s6kpts_output_loss: 0.0074 - s1pafs_output_MeanAbsoluteRatio: 0.9696 - s1pafs_output_analog_recall: 0.8416 - s2pafs_output_MeanAbsoluteRatio: 0.9724 - s2pafs_output_analog_recall: 0.8515 - s3pafs_output_MeanAbsoluteRatio: 0.9776 - s3pafs_output_analog_recall: 0.8562 - s4pafs_output_MeanAbsoluteRatio: 0.9796 - s4pafs_output_analog_recall: 0.8564 - s5kpts_output_MeanAbsoluteRatio: 1.0288 - s5kpts_output_analog_recall: 0.8433 - s6kpts_output_MeanAbsoluteRatio: 1.0133 - s6kpts_output_analog_recall: 0.8436\n",
      "Epoch 00071: saving model to gs://dl_training_results/checkpoints/model1115Sun1219-0341/-E0071.ckpt\n",
      "50/50 [==============================] - 56s 1s/step - loss: 0.0797 - s1pafs_output_loss: 0.0034 - s2pafs_output_loss: 0.0032 - s3pafs_output_loss: 0.0031 - s4pafs_output_loss: 0.0031 - s5kpts_output_loss: 0.0078 - s6kpts_output_loss: 0.0077 - s1pafs_output_MeanAbsoluteRatio: 0.9745 - s1pafs_output_analog_recall: 0.8390 - s2pafs_output_MeanAbsoluteRatio: 0.9752 - s2pafs_output_analog_recall: 0.8478 - s3pafs_output_MeanAbsoluteRatio: 0.9732 - s3pafs_output_analog_recall: 0.8504 - s4pafs_output_MeanAbsoluteRatio: 0.9722 - s4pafs_output_analog_recall: 0.8509 - s5kpts_output_MeanAbsoluteRatio: 1.0116 - s5kpts_output_analog_recall: 0.8320 - s6kpts_output_MeanAbsoluteRatio: 1.0093 - s6kpts_output_analog_recall: 0.8351 - val_loss: 0.0848 - val_s1pafs_output_loss: 0.0036 - val_s2pafs_output_loss: 0.0034 - val_s3pafs_output_loss: 0.0033 - val_s4pafs_output_loss: 0.0033 - val_s5kpts_output_loss: 0.0082 - val_s6kpts_output_loss: 0.0080 - val_s1pafs_output_MeanAbsoluteRatio: 0.9822 - val_s1pafs_output_analog_recall: 0.8298 - val_s2pafs_output_MeanAbsoluteRatio: 0.9716 - val_s2pafs_output_analog_recall: 0.8362 - val_s3pafs_output_MeanAbsoluteRatio: 0.9751 - val_s3pafs_output_analog_recall: 0.8415 - val_s4pafs_output_MeanAbsoluteRatio: 0.9676 - val_s4pafs_output_analog_recall: 0.8385 - val_s5kpts_output_MeanAbsoluteRatio: 1.0275 - val_s5kpts_output_analog_recall: 0.8249 - val_s6kpts_output_MeanAbsoluteRatio: 1.0206 - val_s6kpts_output_analog_recall: 0.8279\n",
      "\n",
      "Learning rate for epoch 71 is 0.0010000000474974513\n",
      "Epoch 72/262\n",
      "50/50 [==============================] - 49s 977ms/step - loss: 0.0800 - s1pafs_output_loss: 0.0034 - s2pafs_output_loss: 0.0032 - s3pafs_output_loss: 0.0031 - s4pafs_output_loss: 0.0031 - s5kpts_output_loss: 0.0080 - s6kpts_output_loss: 0.0078 - s1pafs_output_MeanAbsoluteRatio: 0.9744 - s1pafs_output_analog_recall: 0.8381 - s2pafs_output_MeanAbsoluteRatio: 0.9752 - s2pafs_output_analog_recall: 0.8466 - s3pafs_output_MeanAbsoluteRatio: 0.9714 - s3pafs_output_analog_recall: 0.8498 - s4pafs_output_MeanAbsoluteRatio: 0.9724 - s4pafs_output_analog_recall: 0.8505 - s5kpts_output_MeanAbsoluteRatio: 1.0066 - s5kpts_output_analog_recall: 0.8279 - s6kpts_output_MeanAbsoluteRatio: 1.0055 - s6kpts_output_analog_recall: 0.8311 - val_loss: 0.0843 - val_s1pafs_output_loss: 0.0036 - val_s2pafs_output_loss: 0.0034 - val_s3pafs_output_loss: 0.0034 - val_s4pafs_output_loss: 0.0033 - val_s5kpts_output_loss: 0.0081 - val_s6kpts_output_loss: 0.0080 - val_s1pafs_output_MeanAbsoluteRatio: 0.9838 - val_s1pafs_output_analog_recall: 0.8366 - val_s2pafs_output_MeanAbsoluteRatio: 0.9594 - val_s2pafs_output_analog_recall: 0.8383 - val_s3pafs_output_MeanAbsoluteRatio: 0.9674 - val_s3pafs_output_analog_recall: 0.8428 - val_s4pafs_output_MeanAbsoluteRatio: 0.9784 - val_s4pafs_output_analog_recall: 0.8458 - val_s5kpts_output_MeanAbsoluteRatio: 1.0308 - val_s5kpts_output_analog_recall: 0.8323 - val_s6kpts_output_MeanAbsoluteRatio: 1.0217 - val_s6kpts_output_analog_recall: 0.8328\n",
      "\n",
      "Learning rate for epoch 72 is 0.0010000000474974513\n",
      "Epoch 73/262\n",
      "50/50 [==============================] - 58s 1s/step - loss: 0.0802 - s1pafs_output_loss: 0.0034 - s2pafs_output_loss: 0.0032 - s3pafs_output_loss: 0.0031 - s4pafs_output_loss: 0.0031 - s5kpts_output_loss: 0.0079 - s6kpts_output_loss: 0.0077 - s1pafs_output_MeanAbsoluteRatio: 0.9729 - s1pafs_output_analog_recall: 0.8377 - s2pafs_output_MeanAbsoluteRatio: 0.9720 - s2pafs_output_analog_recall: 0.8460 - s3pafs_output_MeanAbsoluteRatio: 0.9732 - s3pafs_output_analog_recall: 0.8491 - s4pafs_output_MeanAbsoluteRatio: 0.9726 - s4pafs_output_analog_recall: 0.8500 - s5kpts_output_MeanAbsoluteRatio: 1.0095 - s5kpts_output_analog_recall: 0.8308 - s6kpts_output_MeanAbsoluteRatio: 1.0092 - s6kpts_output_analog_recall: 0.8345 - val_loss: 0.0850 - val_s1pafs_output_loss: 0.0036 - val_s2pafs_output_loss: 0.0034 - val_s3pafs_output_loss: 0.0033 - val_s4pafs_output_loss: 0.0033 - val_s5kpts_output_loss: 0.0084 - val_s6kpts_output_loss: 0.0083 - val_s1pafs_output_MeanAbsoluteRatio: 0.9493 - val_s1pafs_output_analog_recall: 0.8281 - val_s2pafs_output_MeanAbsoluteRatio: 0.9438 - val_s2pafs_output_analog_recall: 0.8342 - val_s3pafs_output_MeanAbsoluteRatio: 0.9451 - val_s3pafs_output_analog_recall: 0.8369 - val_s4pafs_output_MeanAbsoluteRatio: 0.9498 - val_s4pafs_output_analog_recall: 0.8360 - val_s5kpts_output_MeanAbsoluteRatio: 0.9590 - val_s5kpts_output_analog_recall: 0.8082 - val_s6kpts_output_MeanAbsoluteRatio: 0.9621 - val_s6kpts_output_analog_recall: 0.8130\n",
      "\n",
      "Learning rate for epoch 73 is 0.0010000000474974513\n",
      "Epoch 74/262\n",
      "50/50 [==============================] - 47s 939ms/step - loss: 0.0773 - s1pafs_output_loss: 0.0033 - s2pafs_output_loss: 0.0031 - s3pafs_output_loss: 0.0030 - s4pafs_output_loss: 0.0030 - s5kpts_output_loss: 0.0076 - s6kpts_output_loss: 0.0075 - s1pafs_output_MeanAbsoluteRatio: 0.9785 - s1pafs_output_analog_recall: 0.8424 - s2pafs_output_MeanAbsoluteRatio: 0.9775 - s2pafs_output_analog_recall: 0.8505 - s3pafs_output_MeanAbsoluteRatio: 0.9747 - s3pafs_output_analog_recall: 0.8537 - s4pafs_output_MeanAbsoluteRatio: 0.9744 - s4pafs_output_analog_recall: 0.8545 - s5kpts_output_MeanAbsoluteRatio: 1.0095 - s5kpts_output_analog_recall: 0.8346 - s6kpts_output_MeanAbsoluteRatio: 1.0090 - s6kpts_output_analog_recall: 0.8378 - val_loss: 0.0827 - val_s1pafs_output_loss: 0.0035 - val_s2pafs_output_loss: 0.0033 - val_s3pafs_output_loss: 0.0033 - val_s4pafs_output_loss: 0.0032 - val_s5kpts_output_loss: 0.0079 - val_s6kpts_output_loss: 0.0079 - val_s1pafs_output_MeanAbsoluteRatio: 0.9873 - val_s1pafs_output_analog_recall: 0.8358 - val_s2pafs_output_MeanAbsoluteRatio: 0.9804 - val_s2pafs_output_analog_recall: 0.8444 - val_s3pafs_output_MeanAbsoluteRatio: 0.9647 - val_s3pafs_output_analog_recall: 0.8436 - val_s4pafs_output_MeanAbsoluteRatio: 0.9588 - val_s4pafs_output_analog_recall: 0.8440 - val_s5kpts_output_MeanAbsoluteRatio: 1.0417 - val_s5kpts_output_analog_recall: 0.8431 - val_s6kpts_output_MeanAbsoluteRatio: 1.0539 - val_s6kpts_output_analog_recall: 0.8499\n",
      "\n",
      "Learning rate for epoch 74 is 0.0010000000474974513\n",
      "Epoch 75/262\n",
      "50/50 [==============================] - 48s 953ms/step - loss: 0.0770 - s1pafs_output_loss: 0.0033 - s2pafs_output_loss: 0.0031 - s3pafs_output_loss: 0.0030 - s4pafs_output_loss: 0.0030 - s5kpts_output_loss: 0.0076 - s6kpts_output_loss: 0.0075 - s1pafs_output_MeanAbsoluteRatio: 0.9752 - s1pafs_output_analog_recall: 0.8424 - s2pafs_output_MeanAbsoluteRatio: 0.9747 - s2pafs_output_analog_recall: 0.8508 - s3pafs_output_MeanAbsoluteRatio: 0.9723 - s3pafs_output_analog_recall: 0.8539 - s4pafs_output_MeanAbsoluteRatio: 0.9735 - s4pafs_output_analog_recall: 0.8548 - s5kpts_output_MeanAbsoluteRatio: 1.0089 - s5kpts_output_analog_recall: 0.8344 - s6kpts_output_MeanAbsoluteRatio: 1.0073 - s6kpts_output_analog_recall: 0.8371 - val_loss: 0.0834 - val_s1pafs_output_loss: 0.0036 - val_s2pafs_output_loss: 0.0034 - val_s3pafs_output_loss: 0.0033 - val_s4pafs_output_loss: 0.0033 - val_s5kpts_output_loss: 0.0080 - val_s6kpts_output_loss: 0.0079 - val_s1pafs_output_MeanAbsoluteRatio: 1.0163 - val_s1pafs_output_analog_recall: 0.8467 - val_s2pafs_output_MeanAbsoluteRatio: 1.0185 - val_s2pafs_output_analog_recall: 0.8562 - val_s3pafs_output_MeanAbsoluteRatio: 1.0277 - val_s3pafs_output_analog_recall: 0.8591 - val_s4pafs_output_MeanAbsoluteRatio: 1.0211 - val_s4pafs_output_analog_recall: 0.8582 - val_s5kpts_output_MeanAbsoluteRatio: 1.0954 - val_s5kpts_output_analog_recall: 0.8540 - val_s6kpts_output_MeanAbsoluteRatio: 1.1019 - val_s6kpts_output_analog_recall: 0.8604\n"
     ]
    },
    {
     "name": "stdout",
     "output_type": "stream",
     "text": [
      "\n",
      "Learning rate for epoch 75 is 0.0010000000474974513\n",
      "Epoch 76/262\n",
      "50/50 [==============================] - 46s 922ms/step - loss: 0.0778 - s1pafs_output_loss: 0.0033 - s2pafs_output_loss: 0.0031 - s3pafs_output_loss: 0.0031 - s4pafs_output_loss: 0.0030 - s5kpts_output_loss: 0.0076 - s6kpts_output_loss: 0.0075 - s1pafs_output_MeanAbsoluteRatio: 0.9787 - s1pafs_output_analog_recall: 0.8423 - s2pafs_output_MeanAbsoluteRatio: 0.9763 - s2pafs_output_analog_recall: 0.8503 - s3pafs_output_MeanAbsoluteRatio: 0.9754 - s3pafs_output_analog_recall: 0.8537 - s4pafs_output_MeanAbsoluteRatio: 0.9754 - s4pafs_output_analog_recall: 0.8545 - s5kpts_output_MeanAbsoluteRatio: 1.0084 - s5kpts_output_analog_recall: 0.8346 - s6kpts_output_MeanAbsoluteRatio: 1.0091 - s6kpts_output_analog_recall: 0.8378 - val_loss: 0.0820 - val_s1pafs_output_loss: 0.0035 - val_s2pafs_output_loss: 0.0033 - val_s3pafs_output_loss: 0.0032 - val_s4pafs_output_loss: 0.0032 - val_s5kpts_output_loss: 0.0079 - val_s6kpts_output_loss: 0.0077 - val_s1pafs_output_MeanAbsoluteRatio: 0.9835 - val_s1pafs_output_analog_recall: 0.8372 - val_s2pafs_output_MeanAbsoluteRatio: 0.9705 - val_s2pafs_output_analog_recall: 0.8441 - val_s3pafs_output_MeanAbsoluteRatio: 0.9765 - val_s3pafs_output_analog_recall: 0.8482 - val_s4pafs_output_MeanAbsoluteRatio: 0.9820 - val_s4pafs_output_analog_recall: 0.8505 - val_s5kpts_output_MeanAbsoluteRatio: 1.0322 - val_s5kpts_output_analog_recall: 0.8388 - val_s6kpts_output_MeanAbsoluteRatio: 1.0388 - val_s6kpts_output_analog_recall: 0.8427\n",
      "\n",
      "Learning rate for epoch 76 is 0.0010000000474974513\n",
      "Epoch 77/262\n",
      "50/50 [==============================] - 43s 863ms/step - loss: 0.0761 - s1pafs_output_loss: 0.0033 - s2pafs_output_loss: 0.0031 - s3pafs_output_loss: 0.0030 - s4pafs_output_loss: 0.0030 - s5kpts_output_loss: 0.0075 - s6kpts_output_loss: 0.0074 - s1pafs_output_MeanAbsoluteRatio: 0.9783 - s1pafs_output_analog_recall: 0.8436 - s2pafs_output_MeanAbsoluteRatio: 0.9767 - s2pafs_output_analog_recall: 0.8526 - s3pafs_output_MeanAbsoluteRatio: 0.9766 - s3pafs_output_analog_recall: 0.8560 - s4pafs_output_MeanAbsoluteRatio: 0.9762 - s4pafs_output_analog_recall: 0.8568 - s5kpts_output_MeanAbsoluteRatio: 1.0094 - s5kpts_output_analog_recall: 0.8369 - s6kpts_output_MeanAbsoluteRatio: 1.0087 - s6kpts_output_analog_recall: 0.8393 - val_loss: 0.0819 - val_s1pafs_output_loss: 0.0035 - val_s2pafs_output_loss: 0.0033 - val_s3pafs_output_loss: 0.0032 - val_s4pafs_output_loss: 0.0032 - val_s5kpts_output_loss: 0.0079 - val_s6kpts_output_loss: 0.0078 - val_s1pafs_output_MeanAbsoluteRatio: 0.9874 - val_s1pafs_output_analog_recall: 0.8430 - val_s2pafs_output_MeanAbsoluteRatio: 0.9790 - val_s2pafs_output_analog_recall: 0.8494 - val_s3pafs_output_MeanAbsoluteRatio: 0.9911 - val_s3pafs_output_analog_recall: 0.8565 - val_s4pafs_output_MeanAbsoluteRatio: 0.9953 - val_s4pafs_output_analog_recall: 0.8588 - val_s5kpts_output_MeanAbsoluteRatio: 1.0329 - val_s5kpts_output_analog_recall: 0.8457 - val_s6kpts_output_MeanAbsoluteRatio: 1.0300 - val_s6kpts_output_analog_recall: 0.8468\n",
      "\n",
      "Learning rate for epoch 77 is 0.0010000000474974513\n",
      "Epoch 78/262\n",
      "50/50 [==============================] - 41s 811ms/step - loss: 0.0762 - s1pafs_output_loss: 0.0032 - s2pafs_output_loss: 0.0031 - s3pafs_output_loss: 0.0030 - s4pafs_output_loss: 0.0030 - s5kpts_output_loss: 0.0076 - s6kpts_output_loss: 0.0075 - s1pafs_output_MeanAbsoluteRatio: 0.9798 - s1pafs_output_analog_recall: 0.8450 - s2pafs_output_MeanAbsoluteRatio: 0.9780 - s2pafs_output_analog_recall: 0.8531 - s3pafs_output_MeanAbsoluteRatio: 0.9771 - s3pafs_output_analog_recall: 0.8565 - s4pafs_output_MeanAbsoluteRatio: 0.9778 - s4pafs_output_analog_recall: 0.8575 - s5kpts_output_MeanAbsoluteRatio: 1.0119 - s5kpts_output_analog_recall: 0.8361 - s6kpts_output_MeanAbsoluteRatio: 1.0093 - s6kpts_output_analog_recall: 0.8389 - val_loss: 0.0812 - val_s1pafs_output_loss: 0.0035 - val_s2pafs_output_loss: 0.0033 - val_s3pafs_output_loss: 0.0032 - val_s4pafs_output_loss: 0.0032 - val_s5kpts_output_loss: 0.0078 - val_s6kpts_output_loss: 0.0077 - val_s1pafs_output_MeanAbsoluteRatio: 0.9448 - val_s1pafs_output_analog_recall: 0.8287 - val_s2pafs_output_MeanAbsoluteRatio: 0.9600 - val_s2pafs_output_analog_recall: 0.8434 - val_s3pafs_output_MeanAbsoluteRatio: 0.9733 - val_s3pafs_output_analog_recall: 0.8498 - val_s4pafs_output_MeanAbsoluteRatio: 0.9773 - val_s4pafs_output_analog_recall: 0.8513 - val_s5kpts_output_MeanAbsoluteRatio: 1.0037 - val_s5kpts_output_analog_recall: 0.8382 - val_s6kpts_output_MeanAbsoluteRatio: 1.0329 - val_s6kpts_output_analog_recall: 0.8498\n",
      "\n",
      "Learning rate for epoch 78 is 0.0010000000474974513\n",
      "Epoch 79/262\n",
      "40/50 [=======================>......] - ETA: 8s - loss: 0.0749 - s1pafs_output_loss: 0.0032 - s2pafs_output_loss: 0.0030 - s3pafs_output_loss: 0.0029 - s4pafs_output_loss: 0.0029 - s5kpts_output_loss: 0.0073 - s6kpts_output_loss: 0.0072 - s1pafs_output_MeanAbsoluteRatio: 0.9801 - s1pafs_output_analog_recall: 0.8458 - s2pafs_output_MeanAbsoluteRatio: 0.9798 - s2pafs_output_analog_recall: 0.8547 - s3pafs_output_MeanAbsoluteRatio: 0.9789 - s3pafs_output_analog_recall: 0.8584 - s4pafs_output_MeanAbsoluteRatio: 0.9788 - s4pafs_output_analog_recall: 0.8590 - s5kpts_output_MeanAbsoluteRatio: 1.0075 - s5kpts_output_analog_recall: 0.8390 - s6kpts_output_MeanAbsoluteRatio: 1.0073 - s6kpts_output_analog_recall: 0.8421\n",
      "Epoch 00079: saving model to gs://dl_training_results/checkpoints/model1115Sun1219-0341/-E0079.ckpt\n",
      "50/50 [==============================] - 58s 1s/step - loss: 0.0746 - s1pafs_output_loss: 0.0032 - s2pafs_output_loss: 0.0030 - s3pafs_output_loss: 0.0029 - s4pafs_output_loss: 0.0029 - s5kpts_output_loss: 0.0073 - s6kpts_output_loss: 0.0072 - s1pafs_output_MeanAbsoluteRatio: 0.9815 - s1pafs_output_analog_recall: 0.8463 - s2pafs_output_MeanAbsoluteRatio: 0.9803 - s2pafs_output_analog_recall: 0.8551 - s3pafs_output_MeanAbsoluteRatio: 0.9802 - s3pafs_output_analog_recall: 0.8588 - s4pafs_output_MeanAbsoluteRatio: 0.9796 - s4pafs_output_analog_recall: 0.8595 - s5kpts_output_MeanAbsoluteRatio: 1.0081 - s5kpts_output_analog_recall: 0.8400 - s6kpts_output_MeanAbsoluteRatio: 1.0077 - s6kpts_output_analog_recall: 0.8431 - val_loss: 0.0807 - val_s1pafs_output_loss: 0.0035 - val_s2pafs_output_loss: 0.0033 - val_s3pafs_output_loss: 0.0032 - val_s4pafs_output_loss: 0.0032 - val_s5kpts_output_loss: 0.0077 - val_s6kpts_output_loss: 0.0076 - val_s1pafs_output_MeanAbsoluteRatio: 0.9600 - val_s1pafs_output_analog_recall: 0.8350 - val_s2pafs_output_MeanAbsoluteRatio: 0.9662 - val_s2pafs_output_analog_recall: 0.8449 - val_s3pafs_output_MeanAbsoluteRatio: 0.9759 - val_s3pafs_output_analog_recall: 0.8534 - val_s4pafs_output_MeanAbsoluteRatio: 0.9805 - val_s4pafs_output_analog_recall: 0.8575 - val_s5kpts_output_MeanAbsoluteRatio: 0.9983 - val_s5kpts_output_analog_recall: 0.8361 - val_s6kpts_output_MeanAbsoluteRatio: 0.9986 - val_s6kpts_output_analog_recall: 0.8367\n",
      "\n",
      "Learning rate for epoch 79 is 0.0010000000474974513\n",
      "Epoch 80/262\n",
      "50/50 [==============================] - 43s 854ms/step - loss: 0.0757 - s1pafs_output_loss: 0.0033 - s2pafs_output_loss: 0.0031 - s3pafs_output_loss: 0.0030 - s4pafs_output_loss: 0.0030 - s5kpts_output_loss: 0.0073 - s6kpts_output_loss: 0.0072 - s1pafs_output_MeanAbsoluteRatio: 0.9773 - s1pafs_output_analog_recall: 0.8439 - s2pafs_output_MeanAbsoluteRatio: 0.9776 - s2pafs_output_analog_recall: 0.8534 - s3pafs_output_MeanAbsoluteRatio: 0.9764 - s3pafs_output_analog_recall: 0.8571 - s4pafs_output_MeanAbsoluteRatio: 0.9770 - s4pafs_output_analog_recall: 0.8580 - s5kpts_output_MeanAbsoluteRatio: 1.0093 - s5kpts_output_analog_recall: 0.8401 - s6kpts_output_MeanAbsoluteRatio: 1.0102 - s6kpts_output_analog_recall: 0.8436 - val_loss: 0.0826 - val_s1pafs_output_loss: 0.0035 - val_s2pafs_output_loss: 0.0033 - val_s3pafs_output_loss: 0.0032 - val_s4pafs_output_loss: 0.0033 - val_s5kpts_output_loss: 0.0080 - val_s6kpts_output_loss: 0.0079 - val_s1pafs_output_MeanAbsoluteRatio: 0.9505 - val_s1pafs_output_analog_recall: 0.8318 - val_s2pafs_output_MeanAbsoluteRatio: 0.9678 - val_s2pafs_output_analog_recall: 0.8460 - val_s3pafs_output_MeanAbsoluteRatio: 0.9700 - val_s3pafs_output_analog_recall: 0.8500 - val_s4pafs_output_MeanAbsoluteRatio: 0.9824 - val_s4pafs_output_analog_recall: 0.8532 - val_s5kpts_output_MeanAbsoluteRatio: 0.9934 - val_s5kpts_output_analog_recall: 0.8337 - val_s6kpts_output_MeanAbsoluteRatio: 0.9839 - val_s6kpts_output_analog_recall: 0.8332\n"
     ]
    },
    {
     "name": "stdout",
     "output_type": "stream",
     "text": [
      "\n",
      "Learning rate for epoch 80 is 0.0010000000474974513\n",
      "Epoch 81/262\n",
      "50/50 [==============================] - 57s 1s/step - loss: 0.0757 - s1pafs_output_loss: 0.0032 - s2pafs_output_loss: 0.0031 - s3pafs_output_loss: 0.0030 - s4pafs_output_loss: 0.0029 - s5kpts_output_loss: 0.0073 - s6kpts_output_loss: 0.0072 - s1pafs_output_MeanAbsoluteRatio: 0.9808 - s1pafs_output_analog_recall: 0.8452 - s2pafs_output_MeanAbsoluteRatio: 0.9804 - s2pafs_output_analog_recall: 0.8537 - s3pafs_output_MeanAbsoluteRatio: 0.9762 - s3pafs_output_analog_recall: 0.8573 - s4pafs_output_MeanAbsoluteRatio: 0.9757 - s4pafs_output_analog_recall: 0.8582 - s5kpts_output_MeanAbsoluteRatio: 1.0087 - s5kpts_output_analog_recall: 0.8397 - s6kpts_output_MeanAbsoluteRatio: 1.0075 - s6kpts_output_analog_recall: 0.8427 - val_loss: 0.0803 - val_s1pafs_output_loss: 0.0035 - val_s2pafs_output_loss: 0.0032 - val_s3pafs_output_loss: 0.0032 - val_s4pafs_output_loss: 0.0031 - val_s5kpts_output_loss: 0.0076 - val_s6kpts_output_loss: 0.0075 - val_s1pafs_output_MeanAbsoluteRatio: 1.0239 - val_s1pafs_output_analog_recall: 0.8460 - val_s2pafs_output_MeanAbsoluteRatio: 1.0080 - val_s2pafs_output_analog_recall: 0.8515 - val_s3pafs_output_MeanAbsoluteRatio: 0.9948 - val_s3pafs_output_analog_recall: 0.8517 - val_s4pafs_output_MeanAbsoluteRatio: 0.9988 - val_s4pafs_output_analog_recall: 0.8521 - val_s5kpts_output_MeanAbsoluteRatio: 1.0624 - val_s5kpts_output_analog_recall: 0.8457 - val_s6kpts_output_MeanAbsoluteRatio: 1.0576 - val_s6kpts_output_analog_recall: 0.8468\n",
      "\n",
      "Learning rate for epoch 81 is 0.0010000000474974513\n",
      "Epoch 82/262\n",
      "50/50 [==============================] - 41s 819ms/step - loss: 0.0771 - s1pafs_output_loss: 0.0033 - s2pafs_output_loss: 0.0031 - s3pafs_output_loss: 0.0030 - s4pafs_output_loss: 0.0030 - s5kpts_output_loss: 0.0075 - s6kpts_output_loss: 0.0074 - s1pafs_output_MeanAbsoluteRatio: 0.9774 - s1pafs_output_analog_recall: 0.8420 - s2pafs_output_MeanAbsoluteRatio: 0.9797 - s2pafs_output_analog_recall: 0.8514 - s3pafs_output_MeanAbsoluteRatio: 0.9772 - s3pafs_output_analog_recall: 0.8548 - s4pafs_output_MeanAbsoluteRatio: 0.9787 - s4pafs_output_analog_recall: 0.8562 - s5kpts_output_MeanAbsoluteRatio: 1.0112 - s5kpts_output_analog_recall: 0.8383 - s6kpts_output_MeanAbsoluteRatio: 1.0091 - s6kpts_output_analog_recall: 0.8414 - val_loss: 0.0794 - val_s1pafs_output_loss: 0.0034 - val_s2pafs_output_loss: 0.0032 - val_s3pafs_output_loss: 0.0031 - val_s4pafs_output_loss: 0.0031 - val_s5kpts_output_loss: 0.0075 - val_s6kpts_output_loss: 0.0074 - val_s1pafs_output_MeanAbsoluteRatio: 0.9846 - val_s1pafs_output_analog_recall: 0.8414 - val_s2pafs_output_MeanAbsoluteRatio: 0.9923 - val_s2pafs_output_analog_recall: 0.8514 - val_s3pafs_output_MeanAbsoluteRatio: 0.9920 - val_s3pafs_output_analog_recall: 0.8563 - val_s4pafs_output_MeanAbsoluteRatio: 0.9860 - val_s4pafs_output_analog_recall: 0.8575 - val_s5kpts_output_MeanAbsoluteRatio: 1.0088 - val_s5kpts_output_analog_recall: 0.8408 - val_s6kpts_output_MeanAbsoluteRatio: 0.9945 - val_s6kpts_output_analog_recall: 0.8385\n",
      "\n",
      "Learning rate for epoch 82 is 0.0010000000474974513\n",
      "Epoch 83/262\n",
      "50/50 [==============================] - 46s 927ms/step - loss: 0.0748 - s1pafs_output_loss: 0.0032 - s2pafs_output_loss: 0.0030 - s3pafs_output_loss: 0.0029 - s4pafs_output_loss: 0.0029 - s5kpts_output_loss: 0.0073 - s6kpts_output_loss: 0.0072 - s1pafs_output_MeanAbsoluteRatio: 0.9794 - s1pafs_output_analog_recall: 0.8457 - s2pafs_output_MeanAbsoluteRatio: 0.9780 - s2pafs_output_analog_recall: 0.8541 - s3pafs_output_MeanAbsoluteRatio: 0.9776 - s3pafs_output_analog_recall: 0.8581 - s4pafs_output_MeanAbsoluteRatio: 0.9762 - s4pafs_output_analog_recall: 0.8591 - s5kpts_output_MeanAbsoluteRatio: 1.0075 - s5kpts_output_analog_recall: 0.8389 - s6kpts_output_MeanAbsoluteRatio: 1.0078 - s6kpts_output_analog_recall: 0.8416 - val_loss: 0.0800 - val_s1pafs_output_loss: 0.0035 - val_s2pafs_output_loss: 0.0032 - val_s3pafs_output_loss: 0.0032 - val_s4pafs_output_loss: 0.0031 - val_s5kpts_output_loss: 0.0077 - val_s6kpts_output_loss: 0.0076 - val_s1pafs_output_MeanAbsoluteRatio: 1.0152 - val_s1pafs_output_analog_recall: 0.8505 - val_s2pafs_output_MeanAbsoluteRatio: 1.0042 - val_s2pafs_output_analog_recall: 0.8557 - val_s3pafs_output_MeanAbsoluteRatio: 0.9909 - val_s3pafs_output_analog_recall: 0.8567 - val_s4pafs_output_MeanAbsoluteRatio: 0.9851 - val_s4pafs_output_analog_recall: 0.8563 - val_s5kpts_output_MeanAbsoluteRatio: 1.0464 - val_s5kpts_output_analog_recall: 0.8530 - val_s6kpts_output_MeanAbsoluteRatio: 1.0584 - val_s6kpts_output_analog_recall: 0.8604\n",
      "\n",
      "Learning rate for epoch 83 is 0.0010000000474974513\n",
      "Epoch 84/262\n",
      "50/50 [==============================] - 49s 974ms/step - loss: 0.0730 - s1pafs_output_loss: 0.0031 - s2pafs_output_loss: 0.0029 - s3pafs_output_loss: 0.0029 - s4pafs_output_loss: 0.0028 - s5kpts_output_loss: 0.0071 - s6kpts_output_loss: 0.0070 - s1pafs_output_MeanAbsoluteRatio: 0.9796 - s1pafs_output_analog_recall: 0.8490 - s2pafs_output_MeanAbsoluteRatio: 0.9806 - s2pafs_output_analog_recall: 0.8576 - s3pafs_output_MeanAbsoluteRatio: 0.9796 - s3pafs_output_analog_recall: 0.8613 - s4pafs_output_MeanAbsoluteRatio: 0.9777 - s4pafs_output_analog_recall: 0.8622 - s5kpts_output_MeanAbsoluteRatio: 1.0094 - s5kpts_output_analog_recall: 0.8430 - s6kpts_output_MeanAbsoluteRatio: 1.0073 - s6kpts_output_analog_recall: 0.8458 - val_loss: 0.0788 - val_s1pafs_output_loss: 0.0034 - val_s2pafs_output_loss: 0.0032 - val_s3pafs_output_loss: 0.0031 - val_s4pafs_output_loss: 0.0031 - val_s5kpts_output_loss: 0.0074 - val_s6kpts_output_loss: 0.0073 - val_s1pafs_output_MeanAbsoluteRatio: 0.9788 - val_s1pafs_output_analog_recall: 0.8401 - val_s2pafs_output_MeanAbsoluteRatio: 0.9587 - val_s2pafs_output_analog_recall: 0.8430 - val_s3pafs_output_MeanAbsoluteRatio: 0.9732 - val_s3pafs_output_analog_recall: 0.8511 - val_s4pafs_output_MeanAbsoluteRatio: 0.9784 - val_s4pafs_output_analog_recall: 0.8542 - val_s5kpts_output_MeanAbsoluteRatio: 1.0154 - val_s5kpts_output_analog_recall: 0.8430 - val_s6kpts_output_MeanAbsoluteRatio: 1.0189 - val_s6kpts_output_analog_recall: 0.8492\n",
      "\n",
      "Learning rate for epoch 84 is 0.0010000000474974513\n",
      "Epoch 85/262\n",
      "50/50 [==============================] - 47s 947ms/step - loss: 0.0740 - s1pafs_output_loss: 0.0032 - s2pafs_output_loss: 0.0030 - s3pafs_output_loss: 0.0029 - s4pafs_output_loss: 0.0029 - s5kpts_output_loss: 0.0072 - s6kpts_output_loss: 0.0071 - s1pafs_output_MeanAbsoluteRatio: 0.9803 - s1pafs_output_analog_recall: 0.8473 - s2pafs_output_MeanAbsoluteRatio: 0.9820 - s2pafs_output_analog_recall: 0.8562 - s3pafs_output_MeanAbsoluteRatio: 0.9800 - s3pafs_output_analog_recall: 0.8602 - s4pafs_output_MeanAbsoluteRatio: 0.9799 - s4pafs_output_analog_recall: 0.8613 - s5kpts_output_MeanAbsoluteRatio: 1.0114 - s5kpts_output_analog_recall: 0.8433 - s6kpts_output_MeanAbsoluteRatio: 1.0112 - s6kpts_output_analog_recall: 0.8466 - val_loss: 0.0789 - val_s1pafs_output_loss: 0.0034 - val_s2pafs_output_loss: 0.0032 - val_s3pafs_output_loss: 0.0031 - val_s4pafs_output_loss: 0.0031 - val_s5kpts_output_loss: 0.0074 - val_s6kpts_output_loss: 0.0073 - val_s1pafs_output_MeanAbsoluteRatio: 0.9698 - val_s1pafs_output_analog_recall: 0.8355 - val_s2pafs_output_MeanAbsoluteRatio: 0.9765 - val_s2pafs_output_analog_recall: 0.8451 - val_s3pafs_output_MeanAbsoluteRatio: 0.9591 - val_s3pafs_output_analog_recall: 0.8463 - val_s4pafs_output_MeanAbsoluteRatio: 0.9482 - val_s4pafs_output_analog_recall: 0.8446 - val_s5kpts_output_MeanAbsoluteRatio: 0.9677 - val_s5kpts_output_analog_recall: 0.8270 - val_s6kpts_output_MeanAbsoluteRatio: 0.9669 - val_s6kpts_output_analog_recall: 0.8304\n",
      "\n",
      "Learning rate for epoch 85 is 0.0010000000474974513\n",
      "Epoch 86/262\n"
     ]
    },
    {
     "name": "stdout",
     "output_type": "stream",
     "text": [
      "50/50 [==============================] - 46s 927ms/step - loss: 0.0733 - s1pafs_output_loss: 0.0032 - s2pafs_output_loss: 0.0030 - s3pafs_output_loss: 0.0029 - s4pafs_output_loss: 0.0028 - s5kpts_output_loss: 0.0071 - s6kpts_output_loss: 0.0070 - s1pafs_output_MeanAbsoluteRatio: 0.9803 - s1pafs_output_analog_recall: 0.8477 - s2pafs_output_MeanAbsoluteRatio: 0.9820 - s2pafs_output_analog_recall: 0.8568 - s3pafs_output_MeanAbsoluteRatio: 0.9798 - s3pafs_output_analog_recall: 0.8605 - s4pafs_output_MeanAbsoluteRatio: 0.9812 - s4pafs_output_analog_recall: 0.8622 - s5kpts_output_MeanAbsoluteRatio: 1.0087 - s5kpts_output_analog_recall: 0.8438 - s6kpts_output_MeanAbsoluteRatio: 1.0087 - s6kpts_output_analog_recall: 0.8469 - val_loss: 0.0790 - val_s1pafs_output_loss: 0.0034 - val_s2pafs_output_loss: 0.0032 - val_s3pafs_output_loss: 0.0031 - val_s4pafs_output_loss: 0.0031 - val_s5kpts_output_loss: 0.0075 - val_s6kpts_output_loss: 0.0073 - val_s1pafs_output_MeanAbsoluteRatio: 0.9702 - val_s1pafs_output_analog_recall: 0.8426 - val_s2pafs_output_MeanAbsoluteRatio: 0.9843 - val_s2pafs_output_analog_recall: 0.8548 - val_s3pafs_output_MeanAbsoluteRatio: 0.9849 - val_s3pafs_output_analog_recall: 0.8587 - val_s4pafs_output_MeanAbsoluteRatio: 0.9831 - val_s4pafs_output_analog_recall: 0.8598 - val_s5kpts_output_MeanAbsoluteRatio: 0.9869 - val_s5kpts_output_analog_recall: 0.8408 - val_s6kpts_output_MeanAbsoluteRatio: 0.9706 - val_s6kpts_output_analog_recall: 0.8396\n",
      "\n",
      "Learning rate for epoch 86 is 0.0010000000474974513\n",
      "Epoch 87/262\n",
      "50/50 [==============================] - 41s 816ms/step - loss: 0.0734 - s1pafs_output_loss: 0.0032 - s2pafs_output_loss: 0.0030 - s3pafs_output_loss: 0.0029 - s4pafs_output_loss: 0.0028 - s5kpts_output_loss: 0.0072 - s6kpts_output_loss: 0.0071 - s1pafs_output_MeanAbsoluteRatio: 0.9819 - s1pafs_output_analog_recall: 0.8480 - s2pafs_output_MeanAbsoluteRatio: 0.9809 - s2pafs_output_analog_recall: 0.8570 - s3pafs_output_MeanAbsoluteRatio: 0.9796 - s3pafs_output_analog_recall: 0.8612 - s4pafs_output_MeanAbsoluteRatio: 0.9793 - s4pafs_output_analog_recall: 0.8625 - s5kpts_output_MeanAbsoluteRatio: 1.0088 - s5kpts_output_analog_recall: 0.8427 - s6kpts_output_MeanAbsoluteRatio: 1.0074 - s6kpts_output_analog_recall: 0.8452 - val_loss: 0.0795 - val_s1pafs_output_loss: 0.0034 - val_s2pafs_output_loss: 0.0032 - val_s3pafs_output_loss: 0.0031 - val_s4pafs_output_loss: 0.0031 - val_s5kpts_output_loss: 0.0075 - val_s6kpts_output_loss: 0.0074 - val_s1pafs_output_MeanAbsoluteRatio: 1.0109 - val_s1pafs_output_analog_recall: 0.8482 - val_s2pafs_output_MeanAbsoluteRatio: 1.0146 - val_s2pafs_output_analog_recall: 0.8563 - val_s3pafs_output_MeanAbsoluteRatio: 1.0198 - val_s3pafs_output_analog_recall: 0.8619 - val_s4pafs_output_MeanAbsoluteRatio: 1.0110 - val_s4pafs_output_analog_recall: 0.8599 - val_s5kpts_output_MeanAbsoluteRatio: 1.0417 - val_s5kpts_output_analog_recall: 0.8429 - val_s6kpts_output_MeanAbsoluteRatio: 1.0379 - val_s6kpts_output_analog_recall: 0.8476\n",
      "\n",
      "Learning rate for epoch 87 is 0.0010000000474974513\n",
      "Epoch 88/262\n",
      "28/50 [===============>..............] - ETA: 17s - loss: 0.0707 - s1pafs_output_loss: 0.0031 - s2pafs_output_loss: 0.0029 - s3pafs_output_loss: 0.0028 - s4pafs_output_loss: 0.0027 - s5kpts_output_loss: 0.0069 - s6kpts_output_loss: 0.0068 - s1pafs_output_MeanAbsoluteRatio: 0.9836 - s1pafs_output_analog_recall: 0.8521 - s2pafs_output_MeanAbsoluteRatio: 0.9853 - s2pafs_output_analog_recall: 0.8613 - s3pafs_output_MeanAbsoluteRatio: 0.9855 - s3pafs_output_analog_recall: 0.8656 - s4pafs_output_MeanAbsoluteRatio: 0.9850 - s4pafs_output_analog_recall: 0.8665 - s5kpts_output_MeanAbsoluteRatio: 1.0097 - s5kpts_output_analog_recall: 0.8474 - s6kpts_output_MeanAbsoluteRatio: 1.0092 - s6kpts_output_analog_recall: 0.8507\n",
      "Epoch 00088: saving model to gs://dl_training_results/checkpoints/model1115Sun1219-0341/-E0088.ckpt\n",
      "50/50 [==============================] - 60s 1s/step - loss: 0.0712 - s1pafs_output_loss: 0.0031 - s2pafs_output_loss: 0.0029 - s3pafs_output_loss: 0.0028 - s4pafs_output_loss: 0.0028 - s5kpts_output_loss: 0.0069 - s6kpts_output_loss: 0.0068 - s1pafs_output_MeanAbsoluteRatio: 0.9837 - s1pafs_output_analog_recall: 0.8513 - s2pafs_output_MeanAbsoluteRatio: 0.9846 - s2pafs_output_analog_recall: 0.8603 - s3pafs_output_MeanAbsoluteRatio: 0.9848 - s3pafs_output_analog_recall: 0.8646 - s4pafs_output_MeanAbsoluteRatio: 0.9846 - s4pafs_output_analog_recall: 0.8658 - s5kpts_output_MeanAbsoluteRatio: 1.0089 - s5kpts_output_analog_recall: 0.8474 - s6kpts_output_MeanAbsoluteRatio: 1.0086 - s6kpts_output_analog_recall: 0.8508 - val_loss: 0.0782 - val_s1pafs_output_loss: 0.0034 - val_s2pafs_output_loss: 0.0032 - val_s3pafs_output_loss: 0.0031 - val_s4pafs_output_loss: 0.0030 - val_s5kpts_output_loss: 0.0075 - val_s6kpts_output_loss: 0.0073 - val_s1pafs_output_MeanAbsoluteRatio: 0.9988 - val_s1pafs_output_analog_recall: 0.8459 - val_s2pafs_output_MeanAbsoluteRatio: 0.9990 - val_s2pafs_output_analog_recall: 0.8552 - val_s3pafs_output_MeanAbsoluteRatio: 0.9865 - val_s3pafs_output_analog_recall: 0.8553 - val_s4pafs_output_MeanAbsoluteRatio: 0.9793 - val_s4pafs_output_analog_recall: 0.8541 - val_s5kpts_output_MeanAbsoluteRatio: 1.0529 - val_s5kpts_output_analog_recall: 0.8487 - val_s6kpts_output_MeanAbsoluteRatio: 1.0474 - val_s6kpts_output_analog_recall: 0.8507\n",
      "\n",
      "Learning rate for epoch 88 is 0.0010000000474974513\n",
      "Epoch 89/262\n",
      "50/50 [==============================] - 57s 1s/step - loss: 0.0730 - s1pafs_output_loss: 0.0032 - s2pafs_output_loss: 0.0030 - s3pafs_output_loss: 0.0029 - s4pafs_output_loss: 0.0028 - s5kpts_output_loss: 0.0070 - s6kpts_output_loss: 0.0069 - s1pafs_output_MeanAbsoluteRatio: 0.9795 - s1pafs_output_analog_recall: 0.8484 - s2pafs_output_MeanAbsoluteRatio: 0.9838 - s2pafs_output_analog_recall: 0.8577 - s3pafs_output_MeanAbsoluteRatio: 0.9791 - s3pafs_output_analog_recall: 0.8618 - s4pafs_output_MeanAbsoluteRatio: 0.9822 - s4pafs_output_analog_recall: 0.8631 - s5kpts_output_MeanAbsoluteRatio: 1.0090 - s5kpts_output_analog_recall: 0.8467 - s6kpts_output_MeanAbsoluteRatio: 1.0079 - s6kpts_output_analog_recall: 0.8495 - val_loss: 0.0805 - val_s1pafs_output_loss: 0.0034 - val_s2pafs_output_loss: 0.0033 - val_s3pafs_output_loss: 0.0032 - val_s4pafs_output_loss: 0.0032 - val_s5kpts_output_loss: 0.0078 - val_s6kpts_output_loss: 0.0077 - val_s1pafs_output_MeanAbsoluteRatio: 1.0311 - val_s1pafs_output_analog_recall: 0.8509 - val_s2pafs_output_MeanAbsoluteRatio: 1.0493 - val_s2pafs_output_analog_recall: 0.8633 - val_s3pafs_output_MeanAbsoluteRatio: 1.0424 - val_s3pafs_output_analog_recall: 0.8678 - val_s4pafs_output_MeanAbsoluteRatio: 1.0503 - val_s4pafs_output_analog_recall: 0.8716 - val_s5kpts_output_MeanAbsoluteRatio: 1.1187 - val_s5kpts_output_analog_recall: 0.8660 - val_s6kpts_output_MeanAbsoluteRatio: 1.1123 - val_s6kpts_output_analog_recall: 0.8680\n",
      "\n",
      "Learning rate for epoch 89 is 0.0010000000474974513\n",
      "Epoch 90/262\n",
      "50/50 [==============================] - 40s 805ms/step - loss: 0.0727 - s1pafs_output_loss: 0.0032 - s2pafs_output_loss: 0.0029 - s3pafs_output_loss: 0.0028 - s4pafs_output_loss: 0.0028 - s5kpts_output_loss: 0.0070 - s6kpts_output_loss: 0.0069 - s1pafs_output_MeanAbsoluteRatio: 0.9850 - s1pafs_output_analog_recall: 0.8491 - s2pafs_output_MeanAbsoluteRatio: 0.9849 - s2pafs_output_analog_recall: 0.8583 - s3pafs_output_MeanAbsoluteRatio: 0.9829 - s3pafs_output_analog_recall: 0.8624 - s4pafs_output_MeanAbsoluteRatio: 0.9831 - s4pafs_output_analog_recall: 0.8639 - s5kpts_output_MeanAbsoluteRatio: 1.0100 - s5kpts_output_analog_recall: 0.8458 - s6kpts_output_MeanAbsoluteRatio: 1.0094 - s6kpts_output_analog_recall: 0.8497 - val_loss: 0.0774 - val_s1pafs_output_loss: 0.0034 - val_s2pafs_output_loss: 0.0031 - val_s3pafs_output_loss: 0.0030 - val_s4pafs_output_loss: 0.0030 - val_s5kpts_output_loss: 0.0073 - val_s6kpts_output_loss: 0.0073 - val_s1pafs_output_MeanAbsoluteRatio: 0.9678 - val_s1pafs_output_analog_recall: 0.8418 - val_s2pafs_output_MeanAbsoluteRatio: 0.9875 - val_s2pafs_output_analog_recall: 0.8559 - val_s3pafs_output_MeanAbsoluteRatio: 0.9823 - val_s3pafs_output_analog_recall: 0.8594 - val_s4pafs_output_MeanAbsoluteRatio: 0.9856 - val_s4pafs_output_analog_recall: 0.8615 - val_s5kpts_output_MeanAbsoluteRatio: 0.9760 - val_s5kpts_output_analog_recall: 0.8367 - val_s6kpts_output_MeanAbsoluteRatio: 0.9519 - val_s6kpts_output_analog_recall: 0.8314\n"
     ]
    },
    {
     "name": "stdout",
     "output_type": "stream",
     "text": [
      "\n",
      "Learning rate for epoch 90 is 0.0010000000474974513\n",
      "Epoch 91/262\n",
      "50/50 [==============================] - 43s 856ms/step - loss: 0.0730 - s1pafs_output_loss: 0.0032 - s2pafs_output_loss: 0.0030 - s3pafs_output_loss: 0.0029 - s4pafs_output_loss: 0.0028 - s5kpts_output_loss: 0.0069 - s6kpts_output_loss: 0.0068 - s1pafs_output_MeanAbsoluteRatio: 0.9823 - s1pafs_output_analog_recall: 0.8484 - s2pafs_output_MeanAbsoluteRatio: 0.9843 - s2pafs_output_analog_recall: 0.8577 - s3pafs_output_MeanAbsoluteRatio: 0.9815 - s3pafs_output_analog_recall: 0.8619 - s4pafs_output_MeanAbsoluteRatio: 0.9808 - s4pafs_output_analog_recall: 0.8632 - s5kpts_output_MeanAbsoluteRatio: 1.0101 - s5kpts_output_analog_recall: 0.8473 - s6kpts_output_MeanAbsoluteRatio: 1.0087 - s6kpts_output_analog_recall: 0.8504 - val_loss: 0.0777 - val_s1pafs_output_loss: 0.0034 - val_s2pafs_output_loss: 0.0031 - val_s3pafs_output_loss: 0.0030 - val_s4pafs_output_loss: 0.0030 - val_s5kpts_output_loss: 0.0074 - val_s6kpts_output_loss: 0.0074 - val_s1pafs_output_MeanAbsoluteRatio: 0.9774 - val_s1pafs_output_analog_recall: 0.8416 - val_s2pafs_output_MeanAbsoluteRatio: 0.9616 - val_s2pafs_output_analog_recall: 0.8460 - val_s3pafs_output_MeanAbsoluteRatio: 0.9559 - val_s3pafs_output_analog_recall: 0.8499 - val_s4pafs_output_MeanAbsoluteRatio: 0.9517 - val_s4pafs_output_analog_recall: 0.8505 - val_s5kpts_output_MeanAbsoluteRatio: 0.9523 - val_s5kpts_output_analog_recall: 0.8262 - val_s6kpts_output_MeanAbsoluteRatio: 0.9522 - val_s6kpts_output_analog_recall: 0.8259\n",
      "\n",
      "Learning rate for epoch 91 is 0.0010000000474974513\n",
      "Epoch 92/262\n",
      "50/50 [==============================] - 49s 976ms/step - loss: 0.0709 - s1pafs_output_loss: 0.0031 - s2pafs_output_loss: 0.0029 - s3pafs_output_loss: 0.0028 - s4pafs_output_loss: 0.0027 - s5kpts_output_loss: 0.0068 - s6kpts_output_loss: 0.0067 - s1pafs_output_MeanAbsoluteRatio: 0.9814 - s1pafs_output_analog_recall: 0.8505 - s2pafs_output_MeanAbsoluteRatio: 0.9816 - s2pafs_output_analog_recall: 0.8596 - s3pafs_output_MeanAbsoluteRatio: 0.9823 - s3pafs_output_analog_recall: 0.8643 - s4pafs_output_MeanAbsoluteRatio: 0.9819 - s4pafs_output_analog_recall: 0.8663 - s5kpts_output_MeanAbsoluteRatio: 1.0086 - s5kpts_output_analog_recall: 0.8479 - s6kpts_output_MeanAbsoluteRatio: 1.0082 - s6kpts_output_analog_recall: 0.8512 - val_loss: 0.0774 - val_s1pafs_output_loss: 0.0033 - val_s2pafs_output_loss: 0.0032 - val_s3pafs_output_loss: 0.0031 - val_s4pafs_output_loss: 0.0030 - val_s5kpts_output_loss: 0.0073 - val_s6kpts_output_loss: 0.0072 - val_s1pafs_output_MeanAbsoluteRatio: 0.9861 - val_s1pafs_output_analog_recall: 0.8484 - val_s2pafs_output_MeanAbsoluteRatio: 1.0150 - val_s2pafs_output_analog_recall: 0.8628 - val_s3pafs_output_MeanAbsoluteRatio: 1.0065 - val_s3pafs_output_analog_recall: 0.8661 - val_s4pafs_output_MeanAbsoluteRatio: 0.9983 - val_s4pafs_output_analog_recall: 0.8653 - val_s5kpts_output_MeanAbsoluteRatio: 1.0003 - val_s5kpts_output_analog_recall: 0.8482 - val_s6kpts_output_MeanAbsoluteRatio: 0.9928 - val_s6kpts_output_analog_recall: 0.8497\n",
      "\n",
      "Learning rate for epoch 92 is 0.0010000000474974513\n",
      "Epoch 93/262\n",
      "50/50 [==============================] - 48s 967ms/step - loss: 0.0705 - s1pafs_output_loss: 0.0031 - s2pafs_output_loss: 0.0029 - s3pafs_output_loss: 0.0028 - s4pafs_output_loss: 0.0027 - s5kpts_output_loss: 0.0068 - s6kpts_output_loss: 0.0067 - s1pafs_output_MeanAbsoluteRatio: 0.9852 - s1pafs_output_analog_recall: 0.8526 - s2pafs_output_MeanAbsoluteRatio: 0.9881 - s2pafs_output_analog_recall: 0.8622 - s3pafs_output_MeanAbsoluteRatio: 0.9842 - s3pafs_output_analog_recall: 0.8662 - s4pafs_output_MeanAbsoluteRatio: 0.9834 - s4pafs_output_analog_recall: 0.8675 - s5kpts_output_MeanAbsoluteRatio: 1.0110 - s5kpts_output_analog_recall: 0.8487 - s6kpts_output_MeanAbsoluteRatio: 1.0087 - s6kpts_output_analog_recall: 0.8516 - val_loss: 0.0776 - val_s1pafs_output_loss: 0.0034 - val_s2pafs_output_loss: 0.0032 - val_s3pafs_output_loss: 0.0031 - val_s4pafs_output_loss: 0.0030 - val_s5kpts_output_loss: 0.0072 - val_s6kpts_output_loss: 0.0071 - val_s1pafs_output_MeanAbsoluteRatio: 1.0076 - val_s1pafs_output_analog_recall: 0.8501 - val_s2pafs_output_MeanAbsoluteRatio: 0.9959 - val_s2pafs_output_analog_recall: 0.8546 - val_s3pafs_output_MeanAbsoluteRatio: 0.9891 - val_s3pafs_output_analog_recall: 0.8579 - val_s4pafs_output_MeanAbsoluteRatio: 0.9958 - val_s4pafs_output_analog_recall: 0.8577 - val_s5kpts_output_MeanAbsoluteRatio: 1.0420 - val_s5kpts_output_analog_recall: 0.8479 - val_s6kpts_output_MeanAbsoluteRatio: 1.0371 - val_s6kpts_output_analog_recall: 0.8519\n",
      "\n",
      "Learning rate for epoch 93 is 0.0010000000474974513\n",
      "Epoch 94/262\n",
      "50/50 [==============================] - 48s 953ms/step - loss: 0.0716 - s1pafs_output_loss: 0.0031 - s2pafs_output_loss: 0.0029 - s3pafs_output_loss: 0.0028 - s4pafs_output_loss: 0.0028 - s5kpts_output_loss: 0.0068 - s6kpts_output_loss: 0.0067 - s1pafs_output_MeanAbsoluteRatio: 0.9835 - s1pafs_output_analog_recall: 0.8499 - s2pafs_output_MeanAbsoluteRatio: 0.9850 - s2pafs_output_analog_recall: 0.8593 - s3pafs_output_MeanAbsoluteRatio: 0.9830 - s3pafs_output_analog_recall: 0.8641 - s4pafs_output_MeanAbsoluteRatio: 0.9849 - s4pafs_output_analog_recall: 0.8658 - s5kpts_output_MeanAbsoluteRatio: 1.0094 - s5kpts_output_analog_recall: 0.8491 - s6kpts_output_MeanAbsoluteRatio: 1.0090 - s6kpts_output_analog_recall: 0.8528 - val_loss: 0.0767 - val_s1pafs_output_loss: 0.0033 - val_s2pafs_output_loss: 0.0031 - val_s3pafs_output_loss: 0.0030 - val_s4pafs_output_loss: 0.0030 - val_s5kpts_output_loss: 0.0073 - val_s6kpts_output_loss: 0.0072 - val_s1pafs_output_MeanAbsoluteRatio: 0.9878 - val_s1pafs_output_analog_recall: 0.8443 - val_s2pafs_output_MeanAbsoluteRatio: 1.0023 - val_s2pafs_output_analog_recall: 0.8560 - val_s3pafs_output_MeanAbsoluteRatio: 0.9974 - val_s3pafs_output_analog_recall: 0.8613 - val_s4pafs_output_MeanAbsoluteRatio: 1.0076 - val_s4pafs_output_analog_recall: 0.8674 - val_s5kpts_output_MeanAbsoluteRatio: 1.0548 - val_s5kpts_output_analog_recall: 0.8607 - val_s6kpts_output_MeanAbsoluteRatio: 1.0568 - val_s6kpts_output_analog_recall: 0.8644\n",
      "\n",
      "Learning rate for epoch 94 is 0.0010000000474974513\n",
      "Epoch 95/262\n",
      "50/50 [==============================] - 41s 817ms/step - loss: 0.0694 - s1pafs_output_loss: 0.0030 - s2pafs_output_loss: 0.0028 - s3pafs_output_loss: 0.0027 - s4pafs_output_loss: 0.0027 - s5kpts_output_loss: 0.0066 - s6kpts_output_loss: 0.0065 - s1pafs_output_MeanAbsoluteRatio: 0.9874 - s1pafs_output_analog_recall: 0.8534 - s2pafs_output_MeanAbsoluteRatio: 0.9874 - s2pafs_output_analog_recall: 0.8629 - s3pafs_output_MeanAbsoluteRatio: 0.9865 - s3pafs_output_analog_recall: 0.8679 - s4pafs_output_MeanAbsoluteRatio: 0.9868 - s4pafs_output_analog_recall: 0.8695 - s5kpts_output_MeanAbsoluteRatio: 1.0100 - s5kpts_output_analog_recall: 0.8527 - s6kpts_output_MeanAbsoluteRatio: 1.0092 - s6kpts_output_analog_recall: 0.8559 - val_loss: 0.0759 - val_s1pafs_output_loss: 0.0033 - val_s2pafs_output_loss: 0.0031 - val_s3pafs_output_loss: 0.0030 - val_s4pafs_output_loss: 0.0030 - val_s5kpts_output_loss: 0.0072 - val_s6kpts_output_loss: 0.0070 - val_s1pafs_output_MeanAbsoluteRatio: 0.9533 - val_s1pafs_output_analog_recall: 0.8387 - val_s2pafs_output_MeanAbsoluteRatio: 0.9546 - val_s2pafs_output_analog_recall: 0.8496 - val_s3pafs_output_MeanAbsoluteRatio: 0.9567 - val_s3pafs_output_analog_recall: 0.8547 - val_s4pafs_output_MeanAbsoluteRatio: 0.9546 - val_s4pafs_output_analog_recall: 0.8542 - val_s5kpts_output_MeanAbsoluteRatio: 0.9745 - val_s5kpts_output_analog_recall: 0.8400 - val_s6kpts_output_MeanAbsoluteRatio: 0.9846 - val_s6kpts_output_analog_recall: 0.8469\n",
      "\n",
      "Learning rate for epoch 95 is 0.0010000000474974513\n",
      "Epoch 96/262\n"
     ]
    },
    {
     "name": "stdout",
     "output_type": "stream",
     "text": [
      "50/50 [==============================] - 41s 815ms/step - loss: 0.0690 - s1pafs_output_loss: 0.0030 - s2pafs_output_loss: 0.0028 - s3pafs_output_loss: 0.0027 - s4pafs_output_loss: 0.0027 - s5kpts_output_loss: 0.0067 - s6kpts_output_loss: 0.0066 - s1pafs_output_MeanAbsoluteRatio: 0.9889 - s1pafs_output_analog_recall: 0.8550 - s2pafs_output_MeanAbsoluteRatio: 0.9866 - s2pafs_output_analog_recall: 0.8642 - s3pafs_output_MeanAbsoluteRatio: 0.9861 - s3pafs_output_analog_recall: 0.8687 - s4pafs_output_MeanAbsoluteRatio: 0.9865 - s4pafs_output_analog_recall: 0.8700 - s5kpts_output_MeanAbsoluteRatio: 1.0115 - s5kpts_output_analog_recall: 0.8515 - s6kpts_output_MeanAbsoluteRatio: 1.0112 - s6kpts_output_analog_recall: 0.8546 - val_loss: 0.0771 - val_s1pafs_output_loss: 0.0033 - val_s2pafs_output_loss: 0.0031 - val_s3pafs_output_loss: 0.0030 - val_s4pafs_output_loss: 0.0030 - val_s5kpts_output_loss: 0.0074 - val_s6kpts_output_loss: 0.0073 - val_s1pafs_output_MeanAbsoluteRatio: 0.9564 - val_s1pafs_output_analog_recall: 0.8369 - val_s2pafs_output_MeanAbsoluteRatio: 0.9440 - val_s2pafs_output_analog_recall: 0.8413 - val_s3pafs_output_MeanAbsoluteRatio: 0.9550 - val_s3pafs_output_analog_recall: 0.8479 - val_s4pafs_output_MeanAbsoluteRatio: 0.9541 - val_s4pafs_output_analog_recall: 0.8483 - val_s5kpts_output_MeanAbsoluteRatio: 0.9440 - val_s5kpts_output_analog_recall: 0.8225 - val_s6kpts_output_MeanAbsoluteRatio: 0.9201 - val_s6kpts_output_analog_recall: 0.8178\n",
      "\n",
      "Learning rate for epoch 96 is 0.0010000000474974513\n",
      "Epoch 97/262\n",
      "16/50 [========>.....................] - ETA: 26s - loss: 0.0722 - s1pafs_output_loss: 0.0031 - s2pafs_output_loss: 0.0029 - s3pafs_output_loss: 0.0028 - s4pafs_output_loss: 0.0028 - s5kpts_output_loss: 0.0071 - s6kpts_output_loss: 0.0070 - s1pafs_output_MeanAbsoluteRatio: 0.9820 - s1pafs_output_analog_recall: 0.8497 - s2pafs_output_MeanAbsoluteRatio: 0.9856 - s2pafs_output_analog_recall: 0.8592 - s3pafs_output_MeanAbsoluteRatio: 0.9854 - s3pafs_output_analog_recall: 0.8644 - s4pafs_output_MeanAbsoluteRatio: 0.9854 - s4pafs_output_analog_recall: 0.8658 - s5kpts_output_MeanAbsoluteRatio: 1.0103 - s5kpts_output_analog_recall: 0.8460 - s6kpts_output_MeanAbsoluteRatio: 1.0072 - s6kpts_output_analog_recall: 0.8475\n",
      "Epoch 00097: saving model to gs://dl_training_results/checkpoints/model1115Sun1219-0341/-E0097.ckpt\n",
      "50/50 [==============================] - 75s 2s/step - loss: 0.0707 - s1pafs_output_loss: 0.0031 - s2pafs_output_loss: 0.0029 - s3pafs_output_loss: 0.0028 - s4pafs_output_loss: 0.0027 - s5kpts_output_loss: 0.0068 - s6kpts_output_loss: 0.0067 - s1pafs_output_MeanAbsoluteRatio: 0.9851 - s1pafs_output_analog_recall: 0.8521 - s2pafs_output_MeanAbsoluteRatio: 0.9877 - s2pafs_output_analog_recall: 0.8613 - s3pafs_output_MeanAbsoluteRatio: 0.9858 - s3pafs_output_analog_recall: 0.8661 - s4pafs_output_MeanAbsoluteRatio: 0.9840 - s4pafs_output_analog_recall: 0.8673 - s5kpts_output_MeanAbsoluteRatio: 1.0080 - s5kpts_output_analog_recall: 0.8493 - s6kpts_output_MeanAbsoluteRatio: 1.0056 - s6kpts_output_analog_recall: 0.8517 - val_loss: 0.0773 - val_s1pafs_output_loss: 0.0033 - val_s2pafs_output_loss: 0.0031 - val_s3pafs_output_loss: 0.0030 - val_s4pafs_output_loss: 0.0030 - val_s5kpts_output_loss: 0.0076 - val_s6kpts_output_loss: 0.0074 - val_s1pafs_output_MeanAbsoluteRatio: 1.0283 - val_s1pafs_output_analog_recall: 0.8553 - val_s2pafs_output_MeanAbsoluteRatio: 1.0212 - val_s2pafs_output_analog_recall: 0.8614 - val_s3pafs_output_MeanAbsoluteRatio: 1.0363 - val_s3pafs_output_analog_recall: 0.8694 - val_s4pafs_output_MeanAbsoluteRatio: 1.0368 - val_s4pafs_output_analog_recall: 0.8717 - val_s5kpts_output_MeanAbsoluteRatio: 1.1387 - val_s5kpts_output_analog_recall: 0.8727 - val_s6kpts_output_MeanAbsoluteRatio: 1.1472 - val_s6kpts_output_analog_recall: 0.8772\n",
      "\n",
      "Learning rate for epoch 97 is 0.0010000000474974513\n",
      "Epoch 98/262\n",
      "50/50 [==============================] - 39s 787ms/step - loss: 0.0693 - s1pafs_output_loss: 0.0030 - s2pafs_output_loss: 0.0028 - s3pafs_output_loss: 0.0027 - s4pafs_output_loss: 0.0027 - s5kpts_output_loss: 0.0066 - s6kpts_output_loss: 0.0065 - s1pafs_output_MeanAbsoluteRatio: 0.9854 - s1pafs_output_analog_recall: 0.8540 - s2pafs_output_MeanAbsoluteRatio: 0.9865 - s2pafs_output_analog_recall: 0.8633 - s3pafs_output_MeanAbsoluteRatio: 0.9881 - s3pafs_output_analog_recall: 0.8687 - s4pafs_output_MeanAbsoluteRatio: 0.9879 - s4pafs_output_analog_recall: 0.8703 - s5kpts_output_MeanAbsoluteRatio: 1.0087 - s5kpts_output_analog_recall: 0.8522 - s6kpts_output_MeanAbsoluteRatio: 1.0085 - s6kpts_output_analog_recall: 0.8554 - val_loss: 0.0764 - val_s1pafs_output_loss: 0.0033 - val_s2pafs_output_loss: 0.0031 - val_s3pafs_output_loss: 0.0030 - val_s4pafs_output_loss: 0.0029 - val_s5kpts_output_loss: 0.0073 - val_s6kpts_output_loss: 0.0072 - val_s1pafs_output_MeanAbsoluteRatio: 1.0212 - val_s1pafs_output_analog_recall: 0.8551 - val_s2pafs_output_MeanAbsoluteRatio: 1.0082 - val_s2pafs_output_analog_recall: 0.8618 - val_s3pafs_output_MeanAbsoluteRatio: 1.0050 - val_s3pafs_output_analog_recall: 0.8648 - val_s4pafs_output_MeanAbsoluteRatio: 1.0031 - val_s4pafs_output_analog_recall: 0.8672 - val_s5kpts_output_MeanAbsoluteRatio: 1.0948 - val_s5kpts_output_analog_recall: 0.8693 - val_s6kpts_output_MeanAbsoluteRatio: 1.0956 - val_s6kpts_output_analog_recall: 0.8731\n",
      "\n",
      "Learning rate for epoch 98 is 0.0010000000474974513\n",
      "Epoch 99/262\n",
      "50/50 [==============================] - 41s 816ms/step - loss: 0.0705 - s1pafs_output_loss: 0.0031 - s2pafs_output_loss: 0.0029 - s3pafs_output_loss: 0.0028 - s4pafs_output_loss: 0.0027 - s5kpts_output_loss: 0.0066 - s6kpts_output_loss: 0.0065 - s1pafs_output_MeanAbsoluteRatio: 0.9861 - s1pafs_output_analog_recall: 0.8517 - s2pafs_output_MeanAbsoluteRatio: 0.9872 - s2pafs_output_analog_recall: 0.8612 - s3pafs_output_MeanAbsoluteRatio: 0.9852 - s3pafs_output_analog_recall: 0.8664 - s4pafs_output_MeanAbsoluteRatio: 0.9857 - s4pafs_output_analog_recall: 0.8681 - s5kpts_output_MeanAbsoluteRatio: 1.0108 - s5kpts_output_analog_recall: 0.8532 - s6kpts_output_MeanAbsoluteRatio: 1.0091 - s6kpts_output_analog_recall: 0.8567 - val_loss: 0.0758 - val_s1pafs_output_loss: 0.0033 - val_s2pafs_output_loss: 0.0031 - val_s3pafs_output_loss: 0.0030 - val_s4pafs_output_loss: 0.0030 - val_s5kpts_output_loss: 0.0071 - val_s6kpts_output_loss: 0.0070 - val_s1pafs_output_MeanAbsoluteRatio: 1.0262 - val_s1pafs_output_analog_recall: 0.8534 - val_s2pafs_output_MeanAbsoluteRatio: 1.0405 - val_s2pafs_output_analog_recall: 0.8658 - val_s3pafs_output_MeanAbsoluteRatio: 1.0384 - val_s3pafs_output_analog_recall: 0.8712 - val_s4pafs_output_MeanAbsoluteRatio: 1.0361 - val_s4pafs_output_analog_recall: 0.8729 - val_s5kpts_output_MeanAbsoluteRatio: 1.0809 - val_s5kpts_output_analog_recall: 0.8667 - val_s6kpts_output_MeanAbsoluteRatio: 1.0828 - val_s6kpts_output_analog_recall: 0.8713\n",
      "\n",
      "Learning rate for epoch 99 is 0.0010000000474974513\n",
      "Epoch 100/262\n",
      "50/50 [==============================] - 44s 888ms/step - loss: 0.0704 - s1pafs_output_loss: 0.0031 - s2pafs_output_loss: 0.0029 - s3pafs_output_loss: 0.0028 - s4pafs_output_loss: 0.0027 - s5kpts_output_loss: 0.0067 - s6kpts_output_loss: 0.0065 - s1pafs_output_MeanAbsoluteRatio: 0.9858 - s1pafs_output_analog_recall: 0.8514 - s2pafs_output_MeanAbsoluteRatio: 0.9874 - s2pafs_output_analog_recall: 0.8613 - s3pafs_output_MeanAbsoluteRatio: 0.9838 - s3pafs_output_analog_recall: 0.8662 - s4pafs_output_MeanAbsoluteRatio: 0.9833 - s4pafs_output_analog_recall: 0.8676 - s5kpts_output_MeanAbsoluteRatio: 1.0105 - s5kpts_output_analog_recall: 0.8523 - s6kpts_output_MeanAbsoluteRatio: 1.0095 - s6kpts_output_analog_recall: 0.8554 - val_loss: 0.0744 - val_s1pafs_output_loss: 0.0032 - val_s2pafs_output_loss: 0.0031 - val_s3pafs_output_loss: 0.0029 - val_s4pafs_output_loss: 0.0029 - val_s5kpts_output_loss: 0.0070 - val_s6kpts_output_loss: 0.0069 - val_s1pafs_output_MeanAbsoluteRatio: 0.9779 - val_s1pafs_output_analog_recall: 0.8473 - val_s2pafs_output_MeanAbsoluteRatio: 0.9859 - val_s2pafs_output_analog_recall: 0.8582 - val_s3pafs_output_MeanAbsoluteRatio: 0.9943 - val_s3pafs_output_analog_recall: 0.8662 - val_s4pafs_output_MeanAbsoluteRatio: 0.9955 - val_s4pafs_output_analog_recall: 0.8691 - val_s5kpts_output_MeanAbsoluteRatio: 0.9960 - val_s5kpts_output_analog_recall: 0.8504 - val_s6kpts_output_MeanAbsoluteRatio: 0.9956 - val_s6kpts_output_analog_recall: 0.8530\n"
     ]
    },
    {
     "name": "stdout",
     "output_type": "stream",
     "text": [
      "\n",
      "Learning rate for epoch 100 is 0.0010000000474974513\n",
      "Epoch 101/262\n",
      "50/50 [==============================] - 47s 941ms/step - loss: 0.0679 - s1pafs_output_loss: 0.0030 - s2pafs_output_loss: 0.0028 - s3pafs_output_loss: 0.0026 - s4pafs_output_loss: 0.0026 - s5kpts_output_loss: 0.0065 - s6kpts_output_loss: 0.0064 - s1pafs_output_MeanAbsoluteRatio: 0.9872 - s1pafs_output_analog_recall: 0.8560 - s2pafs_output_MeanAbsoluteRatio: 0.9882 - s2pafs_output_analog_recall: 0.8649 - s3pafs_output_MeanAbsoluteRatio: 0.9868 - s3pafs_output_analog_recall: 0.8699 - s4pafs_output_MeanAbsoluteRatio: 0.9868 - s4pafs_output_analog_recall: 0.8713 - s5kpts_output_MeanAbsoluteRatio: 1.0092 - s5kpts_output_analog_recall: 0.8539 - s6kpts_output_MeanAbsoluteRatio: 1.0075 - s6kpts_output_analog_recall: 0.8566 - val_loss: 0.0752 - val_s1pafs_output_loss: 0.0033 - val_s2pafs_output_loss: 0.0031 - val_s3pafs_output_loss: 0.0029 - val_s4pafs_output_loss: 0.0029 - val_s5kpts_output_loss: 0.0071 - val_s6kpts_output_loss: 0.0070 - val_s1pafs_output_MeanAbsoluteRatio: 0.9951 - val_s1pafs_output_analog_recall: 0.8483 - val_s2pafs_output_MeanAbsoluteRatio: 0.9854 - val_s2pafs_output_analog_recall: 0.8550 - val_s3pafs_output_MeanAbsoluteRatio: 0.9871 - val_s3pafs_output_analog_recall: 0.8629 - val_s4pafs_output_MeanAbsoluteRatio: 0.9912 - val_s4pafs_output_analog_recall: 0.8642 - val_s5kpts_output_MeanAbsoluteRatio: 1.0091 - val_s5kpts_output_analog_recall: 0.8499 - val_s6kpts_output_MeanAbsoluteRatio: 0.9975 - val_s6kpts_output_analog_recall: 0.8483\n",
      "\n",
      "Learning rate for epoch 101 is 0.0010000000474974513\n",
      "Epoch 102/262\n",
      "50/50 [==============================] - 50s 1s/step - loss: 0.0673 - s1pafs_output_loss: 0.0030 - s2pafs_output_loss: 0.0027 - s3pafs_output_loss: 0.0026 - s4pafs_output_loss: 0.0026 - s5kpts_output_loss: 0.0064 - s6kpts_output_loss: 0.0063 - s1pafs_output_MeanAbsoluteRatio: 0.9881 - s1pafs_output_analog_recall: 0.8568 - s2pafs_output_MeanAbsoluteRatio: 0.9902 - s2pafs_output_analog_recall: 0.8663 - s3pafs_output_MeanAbsoluteRatio: 0.9873 - s3pafs_output_analog_recall: 0.8717 - s4pafs_output_MeanAbsoluteRatio: 0.9880 - s4pafs_output_analog_recall: 0.8734 - s5kpts_output_MeanAbsoluteRatio: 1.0088 - s5kpts_output_analog_recall: 0.8564 - s6kpts_output_MeanAbsoluteRatio: 1.0081 - s6kpts_output_analog_recall: 0.8593 - val_loss: 0.0740 - val_s1pafs_output_loss: 0.0032 - val_s2pafs_output_loss: 0.0030 - val_s3pafs_output_loss: 0.0029 - val_s4pafs_output_loss: 0.0029 - val_s5kpts_output_loss: 0.0069 - val_s6kpts_output_loss: 0.0068 - val_s1pafs_output_MeanAbsoluteRatio: 1.0018 - val_s1pafs_output_analog_recall: 0.8525 - val_s2pafs_output_MeanAbsoluteRatio: 0.9975 - val_s2pafs_output_analog_recall: 0.8618 - val_s3pafs_output_MeanAbsoluteRatio: 0.9983 - val_s3pafs_output_analog_recall: 0.8661 - val_s4pafs_output_MeanAbsoluteRatio: 0.9999 - val_s4pafs_output_analog_recall: 0.8690 - val_s5kpts_output_MeanAbsoluteRatio: 1.0258 - val_s5kpts_output_analog_recall: 0.8544 - val_s6kpts_output_MeanAbsoluteRatio: 1.0321 - val_s6kpts_output_analog_recall: 0.8614\n",
      "\n",
      "Learning rate for epoch 102 is 0.0010000000474974513\n",
      "Epoch 103/262\n",
      "50/50 [==============================] - 47s 949ms/step - loss: 0.0691 - s1pafs_output_loss: 0.0030 - s2pafs_output_loss: 0.0028 - s3pafs_output_loss: 0.0027 - s4pafs_output_loss: 0.0027 - s5kpts_output_loss: 0.0066 - s6kpts_output_loss: 0.0065 - s1pafs_output_MeanAbsoluteRatio: 0.9889 - s1pafs_output_analog_recall: 0.8541 - s2pafs_output_MeanAbsoluteRatio: 0.9883 - s2pafs_output_analog_recall: 0.8635 - s3pafs_output_MeanAbsoluteRatio: 0.9870 - s3pafs_output_analog_recall: 0.8683 - s4pafs_output_MeanAbsoluteRatio: 0.9858 - s4pafs_output_analog_recall: 0.8702 - s5kpts_output_MeanAbsoluteRatio: 1.0104 - s5kpts_output_analog_recall: 0.8540 - s6kpts_output_MeanAbsoluteRatio: 1.0091 - s6kpts_output_analog_recall: 0.8571 - val_loss: 0.0738 - val_s1pafs_output_loss: 0.0032 - val_s2pafs_output_loss: 0.0030 - val_s3pafs_output_loss: 0.0029 - val_s4pafs_output_loss: 0.0029 - val_s5kpts_output_loss: 0.0069 - val_s6kpts_output_loss: 0.0067 - val_s1pafs_output_MeanAbsoluteRatio: 1.0027 - val_s1pafs_output_analog_recall: 0.8520 - val_s2pafs_output_MeanAbsoluteRatio: 0.9924 - val_s2pafs_output_analog_recall: 0.8588 - val_s3pafs_output_MeanAbsoluteRatio: 0.9830 - val_s3pafs_output_analog_recall: 0.8622 - val_s4pafs_output_MeanAbsoluteRatio: 0.9883 - val_s4pafs_output_analog_recall: 0.8648 - val_s5kpts_output_MeanAbsoluteRatio: 1.0041 - val_s5kpts_output_analog_recall: 0.8524 - val_s6kpts_output_MeanAbsoluteRatio: 1.0195 - val_s6kpts_output_analog_recall: 0.8613\n",
      "\n",
      "Learning rate for epoch 103 is 0.0010000000474974513\n",
      "Epoch 104/262\n",
      "50/50 [==============================] - 42s 835ms/step - loss: 0.0677 - s1pafs_output_loss: 0.0030 - s2pafs_output_loss: 0.0028 - s3pafs_output_loss: 0.0026 - s4pafs_output_loss: 0.0026 - s5kpts_output_loss: 0.0065 - s6kpts_output_loss: 0.0064 - s1pafs_output_MeanAbsoluteRatio: 0.9903 - s1pafs_output_analog_recall: 0.8560 - s2pafs_output_MeanAbsoluteRatio: 0.9887 - s2pafs_output_analog_recall: 0.8655 - s3pafs_output_MeanAbsoluteRatio: 0.9873 - s3pafs_output_analog_recall: 0.8709 - s4pafs_output_MeanAbsoluteRatio: 0.9891 - s4pafs_output_analog_recall: 0.8730 - s5kpts_output_MeanAbsoluteRatio: 1.0093 - s5kpts_output_analog_recall: 0.8556 - s6kpts_output_MeanAbsoluteRatio: 1.0090 - s6kpts_output_analog_recall: 0.8591 - val_loss: 0.0748 - val_s1pafs_output_loss: 0.0033 - val_s2pafs_output_loss: 0.0031 - val_s3pafs_output_loss: 0.0029 - val_s4pafs_output_loss: 0.0029 - val_s5kpts_output_loss: 0.0071 - val_s6kpts_output_loss: 0.0069 - val_s1pafs_output_MeanAbsoluteRatio: 0.9430 - val_s1pafs_output_analog_recall: 0.8386 - val_s2pafs_output_MeanAbsoluteRatio: 0.9460 - val_s2pafs_output_analog_recall: 0.8466 - val_s3pafs_output_MeanAbsoluteRatio: 0.9439 - val_s3pafs_output_analog_recall: 0.8507 - val_s4pafs_output_MeanAbsoluteRatio: 0.9521 - val_s4pafs_output_analog_recall: 0.8535 - val_s5kpts_output_MeanAbsoluteRatio: 0.9526 - val_s5kpts_output_analog_recall: 0.8332 - val_s6kpts_output_MeanAbsoluteRatio: 0.9556 - val_s6kpts_output_analog_recall: 0.8375\n",
      "\n",
      "Learning rate for epoch 104 is 0.0010000000474974513\n",
      "Epoch 105/262\n",
      "50/50 [==============================] - 57s 1s/step - loss: 0.0677 - s1pafs_output_loss: 0.0030 - s2pafs_output_loss: 0.0028 - s3pafs_output_loss: 0.0026 - s4pafs_output_loss: 0.0026 - s5kpts_output_loss: 0.0065 - s6kpts_output_loss: 0.0064 - s1pafs_output_MeanAbsoluteRatio: 0.9905 - s1pafs_output_analog_recall: 0.8569 - s2pafs_output_MeanAbsoluteRatio: 0.9928 - s2pafs_output_analog_recall: 0.8663 - s3pafs_output_MeanAbsoluteRatio: 0.9882 - s3pafs_output_analog_recall: 0.8712 - s4pafs_output_MeanAbsoluteRatio: 0.9885 - s4pafs_output_analog_recall: 0.8727 - s5kpts_output_MeanAbsoluteRatio: 1.0101 - s5kpts_output_analog_recall: 0.8551 - s6kpts_output_MeanAbsoluteRatio: 1.0078 - s6kpts_output_analog_recall: 0.8584 - val_loss: 0.0742 - val_s1pafs_output_loss: 0.0032 - val_s2pafs_output_loss: 0.0030 - val_s3pafs_output_loss: 0.0029 - val_s4pafs_output_loss: 0.0029 - val_s5kpts_output_loss: 0.0070 - val_s6kpts_output_loss: 0.0068 - val_s1pafs_output_MeanAbsoluteRatio: 0.9726 - val_s1pafs_output_analog_recall: 0.8425 - val_s2pafs_output_MeanAbsoluteRatio: 0.9753 - val_s2pafs_output_analog_recall: 0.8523 - val_s3pafs_output_MeanAbsoluteRatio: 0.9672 - val_s3pafs_output_analog_recall: 0.8560 - val_s4pafs_output_MeanAbsoluteRatio: 0.9664 - val_s4pafs_output_analog_recall: 0.8579 - val_s5kpts_output_MeanAbsoluteRatio: 1.0040 - val_s5kpts_output_analog_recall: 0.8465 - val_s6kpts_output_MeanAbsoluteRatio: 1.0036 - val_s6kpts_output_analog_recall: 0.8486\n",
      "\n",
      "Learning rate for epoch 105 is 0.0010000000474974513\n",
      "Epoch 106/262\n"
     ]
    },
    {
     "name": "stdout",
     "output_type": "stream",
     "text": [
      " 4/50 [=>............................] - ETA: 33s - loss: 0.0689 - s1pafs_output_loss: 0.0030 - s2pafs_output_loss: 0.0028 - s3pafs_output_loss: 0.0027 - s4pafs_output_loss: 0.0026 - s5kpts_output_loss: 0.0066 - s6kpts_output_loss: 0.0064 - s1pafs_output_MeanAbsoluteRatio: 0.9793 - s1pafs_output_analog_recall: 0.8525 - s2pafs_output_MeanAbsoluteRatio: 0.9851 - s2pafs_output_analog_recall: 0.8642 - s3pafs_output_MeanAbsoluteRatio: 0.9773 - s3pafs_output_analog_recall: 0.8688 - s4pafs_output_MeanAbsoluteRatio: 0.9791 - s4pafs_output_analog_recall: 0.8711 - s5kpts_output_MeanAbsoluteRatio: 1.0005 - s5kpts_output_analog_recall: 0.8530 - s6kpts_output_MeanAbsoluteRatio: 0.9985 - s6kpts_output_analog_recall: 0.8540\n",
      "Epoch 00106: saving model to gs://dl_training_results/checkpoints/model1115Sun1219-0341/-E0106.ckpt\n",
      "50/50 [==============================] - 57s 1s/step - loss: 0.0670 - s1pafs_output_loss: 0.0030 - s2pafs_output_loss: 0.0027 - s3pafs_output_loss: 0.0026 - s4pafs_output_loss: 0.0026 - s5kpts_output_loss: 0.0063 - s6kpts_output_loss: 0.0062 - s1pafs_output_MeanAbsoluteRatio: 0.9881 - s1pafs_output_analog_recall: 0.8574 - s2pafs_output_MeanAbsoluteRatio: 0.9904 - s2pafs_output_analog_recall: 0.8670 - s3pafs_output_MeanAbsoluteRatio: 0.9895 - s3pafs_output_analog_recall: 0.8722 - s4pafs_output_MeanAbsoluteRatio: 0.9887 - s4pafs_output_analog_recall: 0.8738 - s5kpts_output_MeanAbsoluteRatio: 1.0093 - s5kpts_output_analog_recall: 0.8577 - s6kpts_output_MeanAbsoluteRatio: 1.0084 - s6kpts_output_analog_recall: 0.8601 - val_loss: 0.0731 - val_s1pafs_output_loss: 0.0032 - val_s2pafs_output_loss: 0.0030 - val_s3pafs_output_loss: 0.0029 - val_s4pafs_output_loss: 0.0028 - val_s5kpts_output_loss: 0.0068 - val_s6kpts_output_loss: 0.0067 - val_s1pafs_output_MeanAbsoluteRatio: 0.9757 - val_s1pafs_output_analog_recall: 0.8444 - val_s2pafs_output_MeanAbsoluteRatio: 0.9764 - val_s2pafs_output_analog_recall: 0.8536 - val_s3pafs_output_MeanAbsoluteRatio: 0.9766 - val_s3pafs_output_analog_recall: 0.8603 - val_s4pafs_output_MeanAbsoluteRatio: 0.9758 - val_s4pafs_output_analog_recall: 0.8611 - val_s5kpts_output_MeanAbsoluteRatio: 1.0199 - val_s5kpts_output_analog_recall: 0.8536 - val_s6kpts_output_MeanAbsoluteRatio: 1.0228 - val_s6kpts_output_analog_recall: 0.8566\n",
      "\n",
      "Learning rate for epoch 106 is 0.0010000000474974513\n",
      "Epoch 107/262\n",
      "50/50 [==============================] - 48s 951ms/step - loss: 0.0689 - s1pafs_output_loss: 0.0030 - s2pafs_output_loss: 0.0028 - s3pafs_output_loss: 0.0027 - s4pafs_output_loss: 0.0026 - s5kpts_output_loss: 0.0066 - s6kpts_output_loss: 0.0065 - s1pafs_output_MeanAbsoluteRatio: 0.9876 - s1pafs_output_analog_recall: 0.8546 - s2pafs_output_MeanAbsoluteRatio: 0.9897 - s2pafs_output_analog_recall: 0.8640 - s3pafs_output_MeanAbsoluteRatio: 0.9888 - s3pafs_output_analog_recall: 0.8694 - s4pafs_output_MeanAbsoluteRatio: 0.9885 - s4pafs_output_analog_recall: 0.8712 - s5kpts_output_MeanAbsoluteRatio: 1.0093 - s5kpts_output_analog_recall: 0.8530 - s6kpts_output_MeanAbsoluteRatio: 1.0100 - s6kpts_output_analog_recall: 0.8563 - val_loss: 0.0727 - val_s1pafs_output_loss: 0.0032 - val_s2pafs_output_loss: 0.0030 - val_s3pafs_output_loss: 0.0028 - val_s4pafs_output_loss: 0.0028 - val_s5kpts_output_loss: 0.0068 - val_s6kpts_output_loss: 0.0067 - val_s1pafs_output_MeanAbsoluteRatio: 0.9610 - val_s1pafs_output_analog_recall: 0.8426 - val_s2pafs_output_MeanAbsoluteRatio: 0.9735 - val_s2pafs_output_analog_recall: 0.8546 - val_s3pafs_output_MeanAbsoluteRatio: 0.9664 - val_s3pafs_output_analog_recall: 0.8591 - val_s4pafs_output_MeanAbsoluteRatio: 0.9736 - val_s4pafs_output_analog_recall: 0.8600 - val_s5kpts_output_MeanAbsoluteRatio: 1.0016 - val_s5kpts_output_analog_recall: 0.8494 - val_s6kpts_output_MeanAbsoluteRatio: 0.9818 - val_s6kpts_output_analog_recall: 0.8474\n",
      "\n",
      "Learning rate for epoch 107 is 0.0010000000474974513\n",
      "Epoch 108/262\n",
      "50/50 [==============================] - 49s 974ms/step - loss: 0.0677 - s1pafs_output_loss: 0.0030 - s2pafs_output_loss: 0.0028 - s3pafs_output_loss: 0.0026 - s4pafs_output_loss: 0.0026 - s5kpts_output_loss: 0.0064 - s6kpts_output_loss: 0.0063 - s1pafs_output_MeanAbsoluteRatio: 0.9892 - s1pafs_output_analog_recall: 0.8562 - s2pafs_output_MeanAbsoluteRatio: 0.9908 - s2pafs_output_analog_recall: 0.8654 - s3pafs_output_MeanAbsoluteRatio: 0.9883 - s3pafs_output_analog_recall: 0.8711 - s4pafs_output_MeanAbsoluteRatio: 0.9886 - s4pafs_output_analog_recall: 0.8727 - s5kpts_output_MeanAbsoluteRatio: 1.0103 - s5kpts_output_analog_recall: 0.8566 - s6kpts_output_MeanAbsoluteRatio: 1.0083 - s6kpts_output_analog_recall: 0.8596 - val_loss: 0.0722 - val_s1pafs_output_loss: 0.0032 - val_s2pafs_output_loss: 0.0030 - val_s3pafs_output_loss: 0.0028 - val_s4pafs_output_loss: 0.0028 - val_s5kpts_output_loss: 0.0067 - val_s6kpts_output_loss: 0.0066 - val_s1pafs_output_MeanAbsoluteRatio: 1.0067 - val_s1pafs_output_analog_recall: 0.8523 - val_s2pafs_output_MeanAbsoluteRatio: 1.0135 - val_s2pafs_output_analog_recall: 0.8625 - val_s3pafs_output_MeanAbsoluteRatio: 0.9945 - val_s3pafs_output_analog_recall: 0.8641 - val_s4pafs_output_MeanAbsoluteRatio: 0.9987 - val_s4pafs_output_analog_recall: 0.8688 - val_s5kpts_output_MeanAbsoluteRatio: 1.0337 - val_s5kpts_output_analog_recall: 0.8588 - val_s6kpts_output_MeanAbsoluteRatio: 1.0631 - val_s6kpts_output_analog_recall: 0.8711\n",
      "\n",
      "Learning rate for epoch 108 is 0.0010000000474974513\n",
      "Epoch 109/262\n",
      "50/50 [==============================] - 41s 812ms/step - loss: 0.0686 - s1pafs_output_loss: 0.0030 - s2pafs_output_loss: 0.0028 - s3pafs_output_loss: 0.0027 - s4pafs_output_loss: 0.0026 - s5kpts_output_loss: 0.0064 - s6kpts_output_loss: 0.0063 - s1pafs_output_MeanAbsoluteRatio: 0.9848 - s1pafs_output_analog_recall: 0.8545 - s2pafs_output_MeanAbsoluteRatio: 0.9896 - s2pafs_output_analog_recall: 0.8644 - s3pafs_output_MeanAbsoluteRatio: 0.9854 - s3pafs_output_analog_recall: 0.8697 - s4pafs_output_MeanAbsoluteRatio: 0.9857 - s4pafs_output_analog_recall: 0.8717 - s5kpts_output_MeanAbsoluteRatio: 1.0091 - s5kpts_output_analog_recall: 0.8573 - s6kpts_output_MeanAbsoluteRatio: 1.0084 - s6kpts_output_analog_recall: 0.8605 - val_loss: 0.0737 - val_s1pafs_output_loss: 0.0032 - val_s2pafs_output_loss: 0.0030 - val_s3pafs_output_loss: 0.0029 - val_s4pafs_output_loss: 0.0028 - val_s5kpts_output_loss: 0.0070 - val_s6kpts_output_loss: 0.0068 - val_s1pafs_output_MeanAbsoluteRatio: 0.9575 - val_s1pafs_output_analog_recall: 0.8424 - val_s2pafs_output_MeanAbsoluteRatio: 0.9501 - val_s2pafs_output_analog_recall: 0.8480 - val_s3pafs_output_MeanAbsoluteRatio: 0.9553 - val_s3pafs_output_analog_recall: 0.8554 - val_s4pafs_output_MeanAbsoluteRatio: 0.9569 - val_s4pafs_output_analog_recall: 0.8576 - val_s5kpts_output_MeanAbsoluteRatio: 0.9698 - val_s5kpts_output_analog_recall: 0.8388 - val_s6kpts_output_MeanAbsoluteRatio: 0.9706 - val_s6kpts_output_analog_recall: 0.8446\n",
      "\n",
      "Learning rate for epoch 109 is 0.0010000000474974513\n",
      "Epoch 110/262\n",
      "50/50 [==============================] - 42s 848ms/step - loss: 0.0648 - s1pafs_output_loss: 0.0029 - s2pafs_output_loss: 0.0027 - s3pafs_output_loss: 0.0025 - s4pafs_output_loss: 0.0025 - s5kpts_output_loss: 0.0061 - s6kpts_output_loss: 0.0060 - s1pafs_output_MeanAbsoluteRatio: 0.9910 - s1pafs_output_analog_recall: 0.8601 - s2pafs_output_MeanAbsoluteRatio: 0.9918 - s2pafs_output_analog_recall: 0.8696 - s3pafs_output_MeanAbsoluteRatio: 0.9909 - s3pafs_output_analog_recall: 0.8753 - s4pafs_output_MeanAbsoluteRatio: 0.9904 - s4pafs_output_analog_recall: 0.8772 - s5kpts_output_MeanAbsoluteRatio: 1.0107 - s5kpts_output_analog_recall: 0.8607 - s6kpts_output_MeanAbsoluteRatio: 1.0095 - s6kpts_output_analog_recall: 0.8642 - val_loss: 0.0718 - val_s1pafs_output_loss: 0.0032 - val_s2pafs_output_loss: 0.0030 - val_s3pafs_output_loss: 0.0028 - val_s4pafs_output_loss: 0.0028 - val_s5kpts_output_loss: 0.0066 - val_s6kpts_output_loss: 0.0065 - val_s1pafs_output_MeanAbsoluteRatio: 0.9693 - val_s1pafs_output_analog_recall: 0.8466 - val_s2pafs_output_MeanAbsoluteRatio: 0.9815 - val_s2pafs_output_analog_recall: 0.8573 - val_s3pafs_output_MeanAbsoluteRatio: 0.9775 - val_s3pafs_output_analog_recall: 0.8627 - val_s4pafs_output_MeanAbsoluteRatio: 0.9772 - val_s4pafs_output_analog_recall: 0.8651 - val_s5kpts_output_MeanAbsoluteRatio: 0.9962 - val_s5kpts_output_analog_recall: 0.8529 - val_s6kpts_output_MeanAbsoluteRatio: 1.0039 - val_s6kpts_output_analog_recall: 0.8598\n"
     ]
    },
    {
     "name": "stdout",
     "output_type": "stream",
     "text": [
      "\n",
      "Learning rate for epoch 110 is 0.0010000000474974513\n",
      "Epoch 111/262\n",
      "50/50 [==============================] - 48s 953ms/step - loss: 0.0661 - s1pafs_output_loss: 0.0029 - s2pafs_output_loss: 0.0027 - s3pafs_output_loss: 0.0026 - s4pafs_output_loss: 0.0025 - s5kpts_output_loss: 0.0063 - s6kpts_output_loss: 0.0062 - s1pafs_output_MeanAbsoluteRatio: 0.9862 - s1pafs_output_analog_recall: 0.8582 - s2pafs_output_MeanAbsoluteRatio: 0.9898 - s2pafs_output_analog_recall: 0.8676 - s3pafs_output_MeanAbsoluteRatio: 0.9886 - s3pafs_output_analog_recall: 0.8737 - s4pafs_output_MeanAbsoluteRatio: 0.9890 - s4pafs_output_analog_recall: 0.8755 - s5kpts_output_MeanAbsoluteRatio: 1.0082 - s5kpts_output_analog_recall: 0.8584 - s6kpts_output_MeanAbsoluteRatio: 1.0075 - s6kpts_output_analog_recall: 0.8615 - val_loss: 0.0731 - val_s1pafs_output_loss: 0.0032 - val_s2pafs_output_loss: 0.0030 - val_s3pafs_output_loss: 0.0029 - val_s4pafs_output_loss: 0.0028 - val_s5kpts_output_loss: 0.0068 - val_s6kpts_output_loss: 0.0067 - val_s1pafs_output_MeanAbsoluteRatio: 1.0153 - val_s1pafs_output_analog_recall: 0.8558 - val_s2pafs_output_MeanAbsoluteRatio: 1.0303 - val_s2pafs_output_analog_recall: 0.8678 - val_s3pafs_output_MeanAbsoluteRatio: 1.0286 - val_s3pafs_output_analog_recall: 0.8738 - val_s4pafs_output_MeanAbsoluteRatio: 1.0278 - val_s4pafs_output_analog_recall: 0.8745 - val_s5kpts_output_MeanAbsoluteRatio: 1.0445 - val_s5kpts_output_analog_recall: 0.8648 - val_s6kpts_output_MeanAbsoluteRatio: 1.0529 - val_s6kpts_output_analog_recall: 0.8718\n",
      "\n",
      "Learning rate for epoch 111 is 0.0010000000474974513\n",
      "Epoch 112/262\n",
      "50/50 [==============================] - 48s 967ms/step - loss: 0.0675 - s1pafs_output_loss: 0.0030 - s2pafs_output_loss: 0.0028 - s3pafs_output_loss: 0.0026 - s4pafs_output_loss: 0.0026 - s5kpts_output_loss: 0.0064 - s6kpts_output_loss: 0.0062 - s1pafs_output_MeanAbsoluteRatio: 0.9931 - s1pafs_output_analog_recall: 0.8564 - s2pafs_output_MeanAbsoluteRatio: 0.9924 - s2pafs_output_analog_recall: 0.8659 - s3pafs_output_MeanAbsoluteRatio: 0.9885 - s3pafs_output_analog_recall: 0.8714 - s4pafs_output_MeanAbsoluteRatio: 0.9889 - s4pafs_output_analog_recall: 0.8728 - s5kpts_output_MeanAbsoluteRatio: 1.0106 - s5kpts_output_analog_recall: 0.8576 - s6kpts_output_MeanAbsoluteRatio: 1.0095 - s6kpts_output_analog_recall: 0.8610 - val_loss: 0.0719 - val_s1pafs_output_loss: 0.0032 - val_s2pafs_output_loss: 0.0030 - val_s3pafs_output_loss: 0.0028 - val_s4pafs_output_loss: 0.0028 - val_s5kpts_output_loss: 0.0067 - val_s6kpts_output_loss: 0.0065 - val_s1pafs_output_MeanAbsoluteRatio: 0.9942 - val_s1pafs_output_analog_recall: 0.8517 - val_s2pafs_output_MeanAbsoluteRatio: 0.9943 - val_s2pafs_output_analog_recall: 0.8612 - val_s3pafs_output_MeanAbsoluteRatio: 0.9832 - val_s3pafs_output_analog_recall: 0.8635 - val_s4pafs_output_MeanAbsoluteRatio: 0.9999 - val_s4pafs_output_analog_recall: 0.8704 - val_s5kpts_output_MeanAbsoluteRatio: 1.0075 - val_s5kpts_output_analog_recall: 0.8553 - val_s6kpts_output_MeanAbsoluteRatio: 0.9944 - val_s6kpts_output_analog_recall: 0.8535\n",
      "\n",
      "Learning rate for epoch 112 is 0.0010000000474974513\n",
      "Epoch 113/262\n",
      "50/50 [==============================] - 58s 1s/step - loss: 0.0660 - s1pafs_output_loss: 0.0029 - s2pafs_output_loss: 0.0027 - s3pafs_output_loss: 0.0026 - s4pafs_output_loss: 0.0025 - s5kpts_output_loss: 0.0063 - s6kpts_output_loss: 0.0062 - s1pafs_output_MeanAbsoluteRatio: 0.9916 - s1pafs_output_analog_recall: 0.8592 - s2pafs_output_MeanAbsoluteRatio: 0.9927 - s2pafs_output_analog_recall: 0.8683 - s3pafs_output_MeanAbsoluteRatio: 0.9912 - s3pafs_output_analog_recall: 0.8739 - s4pafs_output_MeanAbsoluteRatio: 0.9909 - s4pafs_output_analog_recall: 0.8760 - s5kpts_output_MeanAbsoluteRatio: 1.0111 - s5kpts_output_analog_recall: 0.8583 - s6kpts_output_MeanAbsoluteRatio: 1.0096 - s6kpts_output_analog_recall: 0.8613 - val_loss: 0.0713 - val_s1pafs_output_loss: 0.0032 - val_s2pafs_output_loss: 0.0029 - val_s3pafs_output_loss: 0.0028 - val_s4pafs_output_loss: 0.0027 - val_s5kpts_output_loss: 0.0066 - val_s6kpts_output_loss: 0.0065 - val_s1pafs_output_MeanAbsoluteRatio: 1.0084 - val_s1pafs_output_analog_recall: 0.8577 - val_s2pafs_output_MeanAbsoluteRatio: 1.0081 - val_s2pafs_output_analog_recall: 0.8673 - val_s3pafs_output_MeanAbsoluteRatio: 1.0053 - val_s3pafs_output_analog_recall: 0.8724 - val_s4pafs_output_MeanAbsoluteRatio: 1.0037 - val_s4pafs_output_analog_recall: 0.8739 - val_s5kpts_output_MeanAbsoluteRatio: 1.0334 - val_s5kpts_output_analog_recall: 0.8662 - val_s6kpts_output_MeanAbsoluteRatio: 1.0329 - val_s6kpts_output_analog_recall: 0.8703\n",
      "\n",
      "Learning rate for epoch 113 is 0.0010000000474974513\n",
      "Epoch 114/262\n",
      "42/50 [========================>.....] - ETA: 5s - loss: 0.0653 - s1pafs_output_loss: 0.0029 - s2pafs_output_loss: 0.0027 - s3pafs_output_loss: 0.0025 - s4pafs_output_loss: 0.0025 - s5kpts_output_loss: 0.0062 - s6kpts_output_loss: 0.0060 - s1pafs_output_MeanAbsoluteRatio: 0.9895 - s1pafs_output_analog_recall: 0.8595 - s2pafs_output_MeanAbsoluteRatio: 0.9931 - s2pafs_output_analog_recall: 0.8695 - s3pafs_output_MeanAbsoluteRatio: 0.9938 - s3pafs_output_analog_recall: 0.8757 - s4pafs_output_MeanAbsoluteRatio: 0.9916 - s4pafs_output_analog_recall: 0.8778 - s5kpts_output_MeanAbsoluteRatio: 1.0079 - s5kpts_output_analog_recall: 0.8606 - s6kpts_output_MeanAbsoluteRatio: 1.0065 - s6kpts_output_analog_recall: 0.8641\n",
      "Epoch 00114: saving model to gs://dl_training_results/checkpoints/model1115Sun1219-0341/-E0114.ckpt\n",
      "50/50 [==============================] - 51s 1s/step - loss: 0.0651 - s1pafs_output_loss: 0.0029 - s2pafs_output_loss: 0.0027 - s3pafs_output_loss: 0.0025 - s4pafs_output_loss: 0.0025 - s5kpts_output_loss: 0.0062 - s6kpts_output_loss: 0.0060 - s1pafs_output_MeanAbsoluteRatio: 0.9905 - s1pafs_output_analog_recall: 0.8601 - s2pafs_output_MeanAbsoluteRatio: 0.9946 - s2pafs_output_analog_recall: 0.8701 - s3pafs_output_MeanAbsoluteRatio: 0.9936 - s3pafs_output_analog_recall: 0.8762 - s4pafs_output_MeanAbsoluteRatio: 0.9917 - s4pafs_output_analog_recall: 0.8780 - s5kpts_output_MeanAbsoluteRatio: 1.0086 - s5kpts_output_analog_recall: 0.8610 - s6kpts_output_MeanAbsoluteRatio: 1.0083 - s6kpts_output_analog_recall: 0.8646 - val_loss: 0.0722 - val_s1pafs_output_loss: 0.0032 - val_s2pafs_output_loss: 0.0030 - val_s3pafs_output_loss: 0.0028 - val_s4pafs_output_loss: 0.0028 - val_s5kpts_output_loss: 0.0067 - val_s6kpts_output_loss: 0.0065 - val_s1pafs_output_MeanAbsoluteRatio: 0.9907 - val_s1pafs_output_analog_recall: 0.8472 - val_s2pafs_output_MeanAbsoluteRatio: 0.9882 - val_s2pafs_output_analog_recall: 0.8543 - val_s3pafs_output_MeanAbsoluteRatio: 0.9730 - val_s3pafs_output_analog_recall: 0.8597 - val_s4pafs_output_MeanAbsoluteRatio: 0.9767 - val_s4pafs_output_analog_recall: 0.8631 - val_s5kpts_output_MeanAbsoluteRatio: 1.0004 - val_s5kpts_output_analog_recall: 0.8487 - val_s6kpts_output_MeanAbsoluteRatio: 1.0015 - val_s6kpts_output_analog_recall: 0.8545\n",
      "\n",
      "Learning rate for epoch 114 is 0.0010000000474974513\n",
      "Epoch 115/262\n",
      "50/50 [==============================] - 49s 973ms/step - loss: 0.0654 - s1pafs_output_loss: 0.0029 - s2pafs_output_loss: 0.0027 - s3pafs_output_loss: 0.0025 - s4pafs_output_loss: 0.0025 - s5kpts_output_loss: 0.0061 - s6kpts_output_loss: 0.0060 - s1pafs_output_MeanAbsoluteRatio: 0.9924 - s1pafs_output_analog_recall: 0.8597 - s2pafs_output_MeanAbsoluteRatio: 0.9929 - s2pafs_output_analog_recall: 0.8690 - s3pafs_output_MeanAbsoluteRatio: 0.9926 - s3pafs_output_analog_recall: 0.8747 - s4pafs_output_MeanAbsoluteRatio: 0.9927 - s4pafs_output_analog_recall: 0.8769 - s5kpts_output_MeanAbsoluteRatio: 1.0104 - s5kpts_output_analog_recall: 0.8610 - s6kpts_output_MeanAbsoluteRatio: 1.0086 - s6kpts_output_analog_recall: 0.8640 - val_loss: 0.0721 - val_s1pafs_output_loss: 0.0032 - val_s2pafs_output_loss: 0.0030 - val_s3pafs_output_loss: 0.0028 - val_s4pafs_output_loss: 0.0028 - val_s5kpts_output_loss: 0.0067 - val_s6kpts_output_loss: 0.0065 - val_s1pafs_output_MeanAbsoluteRatio: 1.0250 - val_s1pafs_output_analog_recall: 0.8581 - val_s2pafs_output_MeanAbsoluteRatio: 1.0256 - val_s2pafs_output_analog_recall: 0.8677 - val_s3pafs_output_MeanAbsoluteRatio: 1.0254 - val_s3pafs_output_analog_recall: 0.8751 - val_s4pafs_output_MeanAbsoluteRatio: 1.0193 - val_s4pafs_output_analog_recall: 0.8769 - val_s5kpts_output_MeanAbsoluteRatio: 1.0420 - val_s5kpts_output_analog_recall: 0.8674 - val_s6kpts_output_MeanAbsoluteRatio: 1.0376 - val_s6kpts_output_analog_recall: 0.8693\n"
     ]
    },
    {
     "name": "stdout",
     "output_type": "stream",
     "text": [
      "\n",
      "Learning rate for epoch 115 is 0.0010000000474974513\n",
      "Epoch 116/262\n",
      "50/50 [==============================] - 42s 850ms/step - loss: 0.0666 - s1pafs_output_loss: 0.0030 - s2pafs_output_loss: 0.0027 - s3pafs_output_loss: 0.0026 - s4pafs_output_loss: 0.0025 - s5kpts_output_loss: 0.0063 - s6kpts_output_loss: 0.0062 - s1pafs_output_MeanAbsoluteRatio: 0.9895 - s1pafs_output_analog_recall: 0.8578 - s2pafs_output_MeanAbsoluteRatio: 0.9933 - s2pafs_output_analog_recall: 0.8675 - s3pafs_output_MeanAbsoluteRatio: 0.9896 - s3pafs_output_analog_recall: 0.8738 - s4pafs_output_MeanAbsoluteRatio: 0.9894 - s4pafs_output_analog_recall: 0.8758 - s5kpts_output_MeanAbsoluteRatio: 1.0092 - s5kpts_output_analog_recall: 0.8591 - s6kpts_output_MeanAbsoluteRatio: 1.0093 - s6kpts_output_analog_recall: 0.8624 - val_loss: 0.0726 - val_s1pafs_output_loss: 0.0032 - val_s2pafs_output_loss: 0.0030 - val_s3pafs_output_loss: 0.0028 - val_s4pafs_output_loss: 0.0028 - val_s5kpts_output_loss: 0.0068 - val_s6kpts_output_loss: 0.0067 - val_s1pafs_output_MeanAbsoluteRatio: 0.9840 - val_s1pafs_output_analog_recall: 0.8486 - val_s2pafs_output_MeanAbsoluteRatio: 1.0021 - val_s2pafs_output_analog_recall: 0.8635 - val_s3pafs_output_MeanAbsoluteRatio: 1.0000 - val_s3pafs_output_analog_recall: 0.8690 - val_s4pafs_output_MeanAbsoluteRatio: 0.9928 - val_s4pafs_output_analog_recall: 0.8688 - val_s5kpts_output_MeanAbsoluteRatio: 1.0254 - val_s5kpts_output_analog_recall: 0.8603 - val_s6kpts_output_MeanAbsoluteRatio: 1.0464 - val_s6kpts_output_analog_recall: 0.8671\n",
      "\n",
      "Learning rate for epoch 116 is 0.0010000000474974513\n",
      "Epoch 117/262\n",
      "50/50 [==============================] - 44s 876ms/step - loss: 0.0662 - s1pafs_output_loss: 0.0030 - s2pafs_output_loss: 0.0027 - s3pafs_output_loss: 0.0026 - s4pafs_output_loss: 0.0025 - s5kpts_output_loss: 0.0062 - s6kpts_output_loss: 0.0060 - s1pafs_output_MeanAbsoluteRatio: 0.9894 - s1pafs_output_analog_recall: 0.8575 - s2pafs_output_MeanAbsoluteRatio: 0.9926 - s2pafs_output_analog_recall: 0.8672 - s3pafs_output_MeanAbsoluteRatio: 0.9892 - s3pafs_output_analog_recall: 0.8733 - s4pafs_output_MeanAbsoluteRatio: 0.9899 - s4pafs_output_analog_recall: 0.8754 - s5kpts_output_MeanAbsoluteRatio: 1.0101 - s5kpts_output_analog_recall: 0.8613 - s6kpts_output_MeanAbsoluteRatio: 1.0086 - s6kpts_output_analog_recall: 0.8648 - val_loss: 0.0703 - val_s1pafs_output_loss: 0.0031 - val_s2pafs_output_loss: 0.0029 - val_s3pafs_output_loss: 0.0028 - val_s4pafs_output_loss: 0.0027 - val_s5kpts_output_loss: 0.0065 - val_s6kpts_output_loss: 0.0063 - val_s1pafs_output_MeanAbsoluteRatio: 0.9775 - val_s1pafs_output_analog_recall: 0.8510 - val_s2pafs_output_MeanAbsoluteRatio: 1.0070 - val_s2pafs_output_analog_recall: 0.8658 - val_s3pafs_output_MeanAbsoluteRatio: 1.0015 - val_s3pafs_output_analog_recall: 0.8725 - val_s4pafs_output_MeanAbsoluteRatio: 1.0107 - val_s4pafs_output_analog_recall: 0.8757 - val_s5kpts_output_MeanAbsoluteRatio: 1.0246 - val_s5kpts_output_analog_recall: 0.8639 - val_s6kpts_output_MeanAbsoluteRatio: 1.0151 - val_s6kpts_output_analog_recall: 0.8641\n",
      "\n",
      "Learning rate for epoch 117 is 0.0010000000474974513\n",
      "Epoch 118/262\n",
      "50/50 [==============================] - 48s 959ms/step - loss: 0.0655 - s1pafs_output_loss: 0.0029 - s2pafs_output_loss: 0.0027 - s3pafs_output_loss: 0.0026 - s4pafs_output_loss: 0.0025 - s5kpts_output_loss: 0.0061 - s6kpts_output_loss: 0.0060 - s1pafs_output_MeanAbsoluteRatio: 0.9878 - s1pafs_output_analog_recall: 0.8586 - s2pafs_output_MeanAbsoluteRatio: 0.9909 - s2pafs_output_analog_recall: 0.8686 - s3pafs_output_MeanAbsoluteRatio: 0.9884 - s3pafs_output_analog_recall: 0.8745 - s4pafs_output_MeanAbsoluteRatio: 0.9906 - s4pafs_output_analog_recall: 0.8764 - s5kpts_output_MeanAbsoluteRatio: 1.0084 - s5kpts_output_analog_recall: 0.8617 - s6kpts_output_MeanAbsoluteRatio: 1.0072 - s6kpts_output_analog_recall: 0.8655 - val_loss: 0.0710 - val_s1pafs_output_loss: 0.0032 - val_s2pafs_output_loss: 0.0029 - val_s3pafs_output_loss: 0.0028 - val_s4pafs_output_loss: 0.0027 - val_s5kpts_output_loss: 0.0065 - val_s6kpts_output_loss: 0.0065 - val_s1pafs_output_MeanAbsoluteRatio: 1.0126 - val_s1pafs_output_analog_recall: 0.8581 - val_s2pafs_output_MeanAbsoluteRatio: 0.9947 - val_s2pafs_output_analog_recall: 0.8621 - val_s3pafs_output_MeanAbsoluteRatio: 1.0102 - val_s3pafs_output_analog_recall: 0.8761 - val_s4pafs_output_MeanAbsoluteRatio: 1.0145 - val_s4pafs_output_analog_recall: 0.8810 - val_s5kpts_output_MeanAbsoluteRatio: 1.0599 - val_s5kpts_output_analog_recall: 0.8797 - val_s6kpts_output_MeanAbsoluteRatio: 1.0646 - val_s6kpts_output_analog_recall: 0.8844\n",
      "\n",
      "Learning rate for epoch 118 is 0.0010000000474974513\n",
      "Epoch 119/262\n",
      "50/50 [==============================] - 44s 876ms/step - loss: 0.0631 - s1pafs_output_loss: 0.0028 - s2pafs_output_loss: 0.0026 - s3pafs_output_loss: 0.0024 - s4pafs_output_loss: 0.0024 - s5kpts_output_loss: 0.0059 - s6kpts_output_loss: 0.0058 - s1pafs_output_MeanAbsoluteRatio: 0.9908 - s1pafs_output_analog_recall: 0.8623 - s2pafs_output_MeanAbsoluteRatio: 0.9939 - s2pafs_output_analog_recall: 0.8719 - s3pafs_output_MeanAbsoluteRatio: 0.9921 - s3pafs_output_analog_recall: 0.8784 - s4pafs_output_MeanAbsoluteRatio: 0.9917 - s4pafs_output_analog_recall: 0.8803 - s5kpts_output_MeanAbsoluteRatio: 1.0107 - s5kpts_output_analog_recall: 0.8647 - s6kpts_output_MeanAbsoluteRatio: 1.0098 - s6kpts_output_analog_recall: 0.8682 - val_loss: 0.0706 - val_s1pafs_output_loss: 0.0031 - val_s2pafs_output_loss: 0.0029 - val_s3pafs_output_loss: 0.0028 - val_s4pafs_output_loss: 0.0027 - val_s5kpts_output_loss: 0.0066 - val_s6kpts_output_loss: 0.0065 - val_s1pafs_output_MeanAbsoluteRatio: 0.9725 - val_s1pafs_output_analog_recall: 0.8491 - val_s2pafs_output_MeanAbsoluteRatio: 0.9790 - val_s2pafs_output_analog_recall: 0.8602 - val_s3pafs_output_MeanAbsoluteRatio: 0.9800 - val_s3pafs_output_analog_recall: 0.8675 - val_s4pafs_output_MeanAbsoluteRatio: 0.9763 - val_s4pafs_output_analog_recall: 0.8679 - val_s5kpts_output_MeanAbsoluteRatio: 0.9700 - val_s5kpts_output_analog_recall: 0.8472 - val_s6kpts_output_MeanAbsoluteRatio: 0.9637 - val_s6kpts_output_analog_recall: 0.8481\n",
      "\n",
      "Learning rate for epoch 119 is 0.0010000000474974513\n",
      "Epoch 120/262\n",
      "50/50 [==============================] - 44s 882ms/step - loss: 0.0653 - s1pafs_output_loss: 0.0029 - s2pafs_output_loss: 0.0027 - s3pafs_output_loss: 0.0025 - s4pafs_output_loss: 0.0025 - s5kpts_output_loss: 0.0061 - s6kpts_output_loss: 0.0060 - s1pafs_output_MeanAbsoluteRatio: 0.9904 - s1pafs_output_analog_recall: 0.8600 - s2pafs_output_MeanAbsoluteRatio: 0.9941 - s2pafs_output_analog_recall: 0.8695 - s3pafs_output_MeanAbsoluteRatio: 0.9894 - s3pafs_output_analog_recall: 0.8754 - s4pafs_output_MeanAbsoluteRatio: 0.9911 - s4pafs_output_analog_recall: 0.8771 - s5kpts_output_MeanAbsoluteRatio: 1.0077 - s5kpts_output_analog_recall: 0.8605 - s6kpts_output_MeanAbsoluteRatio: 1.0069 - s6kpts_output_analog_recall: 0.8635 - val_loss: 0.0723 - val_s1pafs_output_loss: 0.0032 - val_s2pafs_output_loss: 0.0030 - val_s3pafs_output_loss: 0.0028 - val_s4pafs_output_loss: 0.0028 - val_s5kpts_output_loss: 0.0067 - val_s6kpts_output_loss: 0.0066 - val_s1pafs_output_MeanAbsoluteRatio: 0.9837 - val_s1pafs_output_analog_recall: 0.8498 - val_s2pafs_output_MeanAbsoluteRatio: 0.9951 - val_s2pafs_output_analog_recall: 0.8600 - val_s3pafs_output_MeanAbsoluteRatio: 0.9880 - val_s3pafs_output_analog_recall: 0.8633 - val_s4pafs_output_MeanAbsoluteRatio: 0.9786 - val_s4pafs_output_analog_recall: 0.8604 - val_s5kpts_output_MeanAbsoluteRatio: 1.0074 - val_s5kpts_output_analog_recall: 0.8499 - val_s6kpts_output_MeanAbsoluteRatio: 0.9943 - val_s6kpts_output_analog_recall: 0.8498\n",
      "\n",
      "Learning rate for epoch 120 is 0.0010000000474974513\n",
      "Epoch 121/262\n"
     ]
    },
    {
     "name": "stdout",
     "output_type": "stream",
     "text": [
      "50/50 [==============================] - 64s 1s/step - loss: 0.0658 - s1pafs_output_loss: 0.0029 - s2pafs_output_loss: 0.0027 - s3pafs_output_loss: 0.0025 - s4pafs_output_loss: 0.0025 - s5kpts_output_loss: 0.0062 - s6kpts_output_loss: 0.0061 - s1pafs_output_MeanAbsoluteRatio: 0.9944 - s1pafs_output_analog_recall: 0.8585 - s2pafs_output_MeanAbsoluteRatio: 0.9953 - s2pafs_output_analog_recall: 0.8685 - s3pafs_output_MeanAbsoluteRatio: 0.9900 - s3pafs_output_analog_recall: 0.8745 - s4pafs_output_MeanAbsoluteRatio: 0.9918 - s4pafs_output_analog_recall: 0.8764 - s5kpts_output_MeanAbsoluteRatio: 1.0104 - s5kpts_output_analog_recall: 0.8608 - s6kpts_output_MeanAbsoluteRatio: 1.0103 - s6kpts_output_analog_recall: 0.8639 - val_loss: 0.0705 - val_s1pafs_output_loss: 0.0031 - val_s2pafs_output_loss: 0.0029 - val_s3pafs_output_loss: 0.0028 - val_s4pafs_output_loss: 0.0027 - val_s5kpts_output_loss: 0.0065 - val_s6kpts_output_loss: 0.0064 - val_s1pafs_output_MeanAbsoluteRatio: 0.9973 - val_s1pafs_output_analog_recall: 0.8515 - val_s2pafs_output_MeanAbsoluteRatio: 0.9951 - val_s2pafs_output_analog_recall: 0.8607 - val_s3pafs_output_MeanAbsoluteRatio: 0.9939 - val_s3pafs_output_analog_recall: 0.8675 - val_s4pafs_output_MeanAbsoluteRatio: 1.0090 - val_s4pafs_output_analog_recall: 0.8731 - val_s5kpts_output_MeanAbsoluteRatio: 1.0339 - val_s5kpts_output_analog_recall: 0.8612 - val_s6kpts_output_MeanAbsoluteRatio: 1.0200 - val_s6kpts_output_analog_recall: 0.8616\n",
      "\n",
      "Learning rate for epoch 121 is 0.0010000000474974513\n",
      "Epoch 122/262\n",
      "50/50 [==============================] - 45s 897ms/step - loss: 0.0637 - s1pafs_output_loss: 0.0028 - s2pafs_output_loss: 0.0026 - s3pafs_output_loss: 0.0025 - s4pafs_output_loss: 0.0024 - s5kpts_output_loss: 0.0060 - s6kpts_output_loss: 0.0059 - s1pafs_output_MeanAbsoluteRatio: 0.9939 - s1pafs_output_analog_recall: 0.8616 - s2pafs_output_MeanAbsoluteRatio: 0.9956 - s2pafs_output_analog_recall: 0.8715 - s3pafs_output_MeanAbsoluteRatio: 0.9937 - s3pafs_output_analog_recall: 0.8781 - s4pafs_output_MeanAbsoluteRatio: 0.9924 - s4pafs_output_analog_recall: 0.8803 - s5kpts_output_MeanAbsoluteRatio: 1.0105 - s5kpts_output_analog_recall: 0.8634 - s6kpts_output_MeanAbsoluteRatio: 1.0091 - s6kpts_output_analog_recall: 0.8668 - val_loss: 0.0712 - val_s1pafs_output_loss: 0.0032 - val_s2pafs_output_loss: 0.0029 - val_s3pafs_output_loss: 0.0028 - val_s4pafs_output_loss: 0.0027 - val_s5kpts_output_loss: 0.0066 - val_s6kpts_output_loss: 0.0065 - val_s1pafs_output_MeanAbsoluteRatio: 1.0448 - val_s1pafs_output_analog_recall: 0.8623 - val_s2pafs_output_MeanAbsoluteRatio: 1.0354 - val_s2pafs_output_analog_recall: 0.8700 - val_s3pafs_output_MeanAbsoluteRatio: 1.0273 - val_s3pafs_output_analog_recall: 0.8740 - val_s4pafs_output_MeanAbsoluteRatio: 1.0211 - val_s4pafs_output_analog_recall: 0.8744 - val_s5kpts_output_MeanAbsoluteRatio: 1.0440 - val_s5kpts_output_analog_recall: 0.8626 - val_s6kpts_output_MeanAbsoluteRatio: 1.0604 - val_s6kpts_output_analog_recall: 0.8703\n",
      "\n",
      "Learning rate for epoch 122 is 0.0010000000474974513\n",
      "Epoch 123/262\n",
      "30/50 [=================>............] - ETA: 14s - loss: 0.0640 - s1pafs_output_loss: 0.0028 - s2pafs_output_loss: 0.0026 - s3pafs_output_loss: 0.0025 - s4pafs_output_loss: 0.0025 - s5kpts_output_loss: 0.0060 - s6kpts_output_loss: 0.0059 - s1pafs_output_MeanAbsoluteRatio: 0.9948 - s1pafs_output_analog_recall: 0.8623 - s2pafs_output_MeanAbsoluteRatio: 0.9991 - s2pafs_output_analog_recall: 0.8719 - s3pafs_output_MeanAbsoluteRatio: 0.9941 - s3pafs_output_analog_recall: 0.8778 - s4pafs_output_MeanAbsoluteRatio: 0.9960 - s4pafs_output_analog_recall: 0.8789 - s5kpts_output_MeanAbsoluteRatio: 1.0072 - s5kpts_output_analog_recall: 0.8622 - s6kpts_output_MeanAbsoluteRatio: 1.0079 - s6kpts_output_analog_recall: 0.8657\n",
      "Epoch 00123: saving model to gs://dl_training_results/checkpoints/model1115Sun1219-0341/-E0123.ckpt\n",
      "50/50 [==============================] - 52s 1s/step - loss: 0.0637 - s1pafs_output_loss: 0.0028 - s2pafs_output_loss: 0.0026 - s3pafs_output_loss: 0.0025 - s4pafs_output_loss: 0.0024 - s5kpts_output_loss: 0.0060 - s6kpts_output_loss: 0.0059 - s1pafs_output_MeanAbsoluteRatio: 0.9956 - s1pafs_output_analog_recall: 0.8627 - s2pafs_output_MeanAbsoluteRatio: 0.9991 - s2pafs_output_analog_recall: 0.8723 - s3pafs_output_MeanAbsoluteRatio: 0.9949 - s3pafs_output_analog_recall: 0.8783 - s4pafs_output_MeanAbsoluteRatio: 0.9957 - s4pafs_output_analog_recall: 0.8800 - s5kpts_output_MeanAbsoluteRatio: 1.0086 - s5kpts_output_analog_recall: 0.8633 - s6kpts_output_MeanAbsoluteRatio: 1.0086 - s6kpts_output_analog_recall: 0.8667 - val_loss: 0.0701 - val_s1pafs_output_loss: 0.0031 - val_s2pafs_output_loss: 0.0029 - val_s3pafs_output_loss: 0.0027 - val_s4pafs_output_loss: 0.0027 - val_s5kpts_output_loss: 0.0065 - val_s6kpts_output_loss: 0.0064 - val_s1pafs_output_MeanAbsoluteRatio: 1.0338 - val_s1pafs_output_analog_recall: 0.8637 - val_s2pafs_output_MeanAbsoluteRatio: 1.0178 - val_s2pafs_output_analog_recall: 0.8698 - val_s3pafs_output_MeanAbsoluteRatio: 1.0143 - val_s3pafs_output_analog_recall: 0.8772 - val_s4pafs_output_MeanAbsoluteRatio: 1.0064 - val_s4pafs_output_analog_recall: 0.8769 - val_s5kpts_output_MeanAbsoluteRatio: 1.0546 - val_s5kpts_output_analog_recall: 0.8767 - val_s6kpts_output_MeanAbsoluteRatio: 1.0618 - val_s6kpts_output_analog_recall: 0.8813\n",
      "\n",
      "Learning rate for epoch 123 is 0.0010000000474974513\n",
      "Epoch 124/262\n",
      "50/50 [==============================] - 49s 978ms/step - loss: 0.0639 - s1pafs_output_loss: 0.0029 - s2pafs_output_loss: 0.0026 - s3pafs_output_loss: 0.0025 - s4pafs_output_loss: 0.0024 - s5kpts_output_loss: 0.0059 - s6kpts_output_loss: 0.0058 - s1pafs_output_MeanAbsoluteRatio: 0.9893 - s1pafs_output_analog_recall: 0.8611 - s2pafs_output_MeanAbsoluteRatio: 0.9928 - s2pafs_output_analog_recall: 0.8709 - s3pafs_output_MeanAbsoluteRatio: 0.9912 - s3pafs_output_analog_recall: 0.8777 - s4pafs_output_MeanAbsoluteRatio: 0.9924 - s4pafs_output_analog_recall: 0.8796 - s5kpts_output_MeanAbsoluteRatio: 1.0089 - s5kpts_output_analog_recall: 0.8651 - s6kpts_output_MeanAbsoluteRatio: 1.0077 - s6kpts_output_analog_recall: 0.8686 - val_loss: 0.0697 - val_s1pafs_output_loss: 0.0031 - val_s2pafs_output_loss: 0.0029 - val_s3pafs_output_loss: 0.0027 - val_s4pafs_output_loss: 0.0027 - val_s5kpts_output_loss: 0.0064 - val_s6kpts_output_loss: 0.0062 - val_s1pafs_output_MeanAbsoluteRatio: 0.9878 - val_s1pafs_output_analog_recall: 0.8532 - val_s2pafs_output_MeanAbsoluteRatio: 1.0190 - val_s2pafs_output_analog_recall: 0.8704 - val_s3pafs_output_MeanAbsoluteRatio: 1.0046 - val_s3pafs_output_analog_recall: 0.8755 - val_s4pafs_output_MeanAbsoluteRatio: 1.0171 - val_s4pafs_output_analog_recall: 0.8807 - val_s5kpts_output_MeanAbsoluteRatio: 1.0354 - val_s5kpts_output_analog_recall: 0.8705 - val_s6kpts_output_MeanAbsoluteRatio: 1.0281 - val_s6kpts_output_analog_recall: 0.8704\n",
      "\n",
      "Learning rate for epoch 124 is 0.0010000000474974513\n",
      "Epoch 125/262\n",
      "50/50 [==============================] - 42s 832ms/step - loss: 0.0657 - s1pafs_output_loss: 0.0029 - s2pafs_output_loss: 0.0027 - s3pafs_output_loss: 0.0026 - s4pafs_output_loss: 0.0025 - s5kpts_output_loss: 0.0062 - s6kpts_output_loss: 0.0061 - s1pafs_output_MeanAbsoluteRatio: 0.9925 - s1pafs_output_analog_recall: 0.8595 - s2pafs_output_MeanAbsoluteRatio: 0.9963 - s2pafs_output_analog_recall: 0.8691 - s3pafs_output_MeanAbsoluteRatio: 0.9943 - s3pafs_output_analog_recall: 0.8755 - s4pafs_output_MeanAbsoluteRatio: 0.9941 - s4pafs_output_analog_recall: 0.8773 - s5kpts_output_MeanAbsoluteRatio: 1.0110 - s5kpts_output_analog_recall: 0.8610 - s6kpts_output_MeanAbsoluteRatio: 1.0105 - s6kpts_output_analog_recall: 0.8641 - val_loss: 0.0701 - val_s1pafs_output_loss: 0.0031 - val_s2pafs_output_loss: 0.0029 - val_s3pafs_output_loss: 0.0028 - val_s4pafs_output_loss: 0.0027 - val_s5kpts_output_loss: 0.0065 - val_s6kpts_output_loss: 0.0064 - val_s1pafs_output_MeanAbsoluteRatio: 1.0154 - val_s1pafs_output_analog_recall: 0.8613 - val_s2pafs_output_MeanAbsoluteRatio: 1.0071 - val_s2pafs_output_analog_recall: 0.8695 - val_s3pafs_output_MeanAbsoluteRatio: 1.0087 - val_s3pafs_output_analog_recall: 0.8775 - val_s4pafs_output_MeanAbsoluteRatio: 1.0092 - val_s4pafs_output_analog_recall: 0.8802 - val_s5kpts_output_MeanAbsoluteRatio: 1.0378 - val_s5kpts_output_analog_recall: 0.8702 - val_s6kpts_output_MeanAbsoluteRatio: 1.0268 - val_s6kpts_output_analog_recall: 0.8736\n"
     ]
    },
    {
     "name": "stdout",
     "output_type": "stream",
     "text": [
      "\n",
      "Learning rate for epoch 125 is 0.0010000000474974513\n",
      "Epoch 126/262\n",
      "50/50 [==============================] - 48s 968ms/step - loss: 0.0665 - s1pafs_output_loss: 0.0030 - s2pafs_output_loss: 0.0027 - s3pafs_output_loss: 0.0026 - s4pafs_output_loss: 0.0025 - s5kpts_output_loss: 0.0062 - s6kpts_output_loss: 0.0061 - s1pafs_output_MeanAbsoluteRatio: 0.9918 - s1pafs_output_analog_recall: 0.8572 - s2pafs_output_MeanAbsoluteRatio: 0.9939 - s2pafs_output_analog_recall: 0.8671 - s3pafs_output_MeanAbsoluteRatio: 0.9890 - s3pafs_output_analog_recall: 0.8739 - s4pafs_output_MeanAbsoluteRatio: 0.9906 - s4pafs_output_analog_recall: 0.8761 - s5kpts_output_MeanAbsoluteRatio: 1.0103 - s5kpts_output_analog_recall: 0.8616 - s6kpts_output_MeanAbsoluteRatio: 1.0089 - s6kpts_output_analog_recall: 0.8648 - val_loss: 0.0697 - val_s1pafs_output_loss: 0.0031 - val_s2pafs_output_loss: 0.0029 - val_s3pafs_output_loss: 0.0027 - val_s4pafs_output_loss: 0.0027 - val_s5kpts_output_loss: 0.0064 - val_s6kpts_output_loss: 0.0063 - val_s1pafs_output_MeanAbsoluteRatio: 0.9859 - val_s1pafs_output_analog_recall: 0.8499 - val_s2pafs_output_MeanAbsoluteRatio: 0.9899 - val_s2pafs_output_analog_recall: 0.8611 - val_s3pafs_output_MeanAbsoluteRatio: 0.9823 - val_s3pafs_output_analog_recall: 0.8702 - val_s4pafs_output_MeanAbsoluteRatio: 0.9982 - val_s4pafs_output_analog_recall: 0.8755 - val_s5kpts_output_MeanAbsoluteRatio: 1.0222 - val_s5kpts_output_analog_recall: 0.8660 - val_s6kpts_output_MeanAbsoluteRatio: 1.0476 - val_s6kpts_output_analog_recall: 0.8758\n",
      "\n",
      "Learning rate for epoch 126 is 0.0010000000474974513\n",
      "Epoch 127/262\n",
      "50/50 [==============================] - 48s 959ms/step - loss: 0.0640 - s1pafs_output_loss: 0.0029 - s2pafs_output_loss: 0.0026 - s3pafs_output_loss: 0.0025 - s4pafs_output_loss: 0.0024 - s5kpts_output_loss: 0.0059 - s6kpts_output_loss: 0.0058 - s1pafs_output_MeanAbsoluteRatio: 0.9922 - s1pafs_output_analog_recall: 0.8611 - s2pafs_output_MeanAbsoluteRatio: 0.9938 - s2pafs_output_analog_recall: 0.8712 - s3pafs_output_MeanAbsoluteRatio: 0.9922 - s3pafs_output_analog_recall: 0.8776 - s4pafs_output_MeanAbsoluteRatio: 0.9905 - s4pafs_output_analog_recall: 0.8797 - s5kpts_output_MeanAbsoluteRatio: 1.0102 - s5kpts_output_analog_recall: 0.8654 - s6kpts_output_MeanAbsoluteRatio: 1.0096 - s6kpts_output_analog_recall: 0.8688 - val_loss: 0.0699 - val_s1pafs_output_loss: 0.0031 - val_s2pafs_output_loss: 0.0029 - val_s3pafs_output_loss: 0.0027 - val_s4pafs_output_loss: 0.0027 - val_s5kpts_output_loss: 0.0065 - val_s6kpts_output_loss: 0.0064 - val_s1pafs_output_MeanAbsoluteRatio: 0.9625 - val_s1pafs_output_analog_recall: 0.8475 - val_s2pafs_output_MeanAbsoluteRatio: 0.9616 - val_s2pafs_output_analog_recall: 0.8575 - val_s3pafs_output_MeanAbsoluteRatio: 0.9705 - val_s3pafs_output_analog_recall: 0.8654 - val_s4pafs_output_MeanAbsoluteRatio: 0.9636 - val_s4pafs_output_analog_recall: 0.8661 - val_s5kpts_output_MeanAbsoluteRatio: 0.9552 - val_s5kpts_output_analog_recall: 0.8424 - val_s6kpts_output_MeanAbsoluteRatio: 0.9530 - val_s6kpts_output_analog_recall: 0.8437\n",
      "\n",
      "Learning rate for epoch 127 is 0.0010000000474974513\n",
      "Epoch 128/262\n",
      "50/50 [==============================] - 47s 948ms/step - loss: 0.0622 - s1pafs_output_loss: 0.0028 - s2pafs_output_loss: 0.0026 - s3pafs_output_loss: 0.0024 - s4pafs_output_loss: 0.0024 - s5kpts_output_loss: 0.0058 - s6kpts_output_loss: 0.0057 - s1pafs_output_MeanAbsoluteRatio: 0.9956 - s1pafs_output_analog_recall: 0.8644 - s2pafs_output_MeanAbsoluteRatio: 0.9985 - s2pafs_output_analog_recall: 0.8742 - s3pafs_output_MeanAbsoluteRatio: 0.9928 - s3pafs_output_analog_recall: 0.8801 - s4pafs_output_MeanAbsoluteRatio: 0.9923 - s4pafs_output_analog_recall: 0.8823 - s5kpts_output_MeanAbsoluteRatio: 1.0084 - s5kpts_output_analog_recall: 0.8661 - s6kpts_output_MeanAbsoluteRatio: 1.0079 - s6kpts_output_analog_recall: 0.8692 - val_loss: 0.0702 - val_s1pafs_output_loss: 0.0031 - val_s2pafs_output_loss: 0.0029 - val_s3pafs_output_loss: 0.0027 - val_s4pafs_output_loss: 0.0027 - val_s5kpts_output_loss: 0.0066 - val_s6kpts_output_loss: 0.0064 - val_s1pafs_output_MeanAbsoluteRatio: 0.9856 - val_s1pafs_output_analog_recall: 0.8563 - val_s2pafs_output_MeanAbsoluteRatio: 0.9900 - val_s2pafs_output_analog_recall: 0.8665 - val_s3pafs_output_MeanAbsoluteRatio: 0.9857 - val_s3pafs_output_analog_recall: 0.8716 - val_s4pafs_output_MeanAbsoluteRatio: 0.9856 - val_s4pafs_output_analog_recall: 0.8735 - val_s5kpts_output_MeanAbsoluteRatio: 0.9989 - val_s5kpts_output_analog_recall: 0.8580 - val_s6kpts_output_MeanAbsoluteRatio: 1.0052 - val_s6kpts_output_analog_recall: 0.8663\n",
      "\n",
      "Learning rate for epoch 128 is 0.0010000000474974513\n",
      "Epoch 129/262\n",
      "50/50 [==============================] - 59s 1s/step - loss: 0.0637 - s1pafs_output_loss: 0.0029 - s2pafs_output_loss: 0.0026 - s3pafs_output_loss: 0.0025 - s4pafs_output_loss: 0.0024 - s5kpts_output_loss: 0.0059 - s6kpts_output_loss: 0.0058 - s1pafs_output_MeanAbsoluteRatio: 0.9913 - s1pafs_output_analog_recall: 0.8619 - s2pafs_output_MeanAbsoluteRatio: 0.9953 - s2pafs_output_analog_recall: 0.8718 - s3pafs_output_MeanAbsoluteRatio: 0.9933 - s3pafs_output_analog_recall: 0.8784 - s4pafs_output_MeanAbsoluteRatio: 0.9947 - s4pafs_output_analog_recall: 0.8805 - s5kpts_output_MeanAbsoluteRatio: 1.0089 - s5kpts_output_analog_recall: 0.8651 - s6kpts_output_MeanAbsoluteRatio: 1.0077 - s6kpts_output_analog_recall: 0.8685 - val_loss: 0.0689 - val_s1pafs_output_loss: 0.0031 - val_s2pafs_output_loss: 0.0029 - val_s3pafs_output_loss: 0.0027 - val_s4pafs_output_loss: 0.0026 - val_s5kpts_output_loss: 0.0063 - val_s6kpts_output_loss: 0.0062 - val_s1pafs_output_MeanAbsoluteRatio: 1.0270 - val_s1pafs_output_analog_recall: 0.8597 - val_s2pafs_output_MeanAbsoluteRatio: 1.0073 - val_s2pafs_output_analog_recall: 0.8661 - val_s3pafs_output_MeanAbsoluteRatio: 0.9966 - val_s3pafs_output_analog_recall: 0.8710 - val_s4pafs_output_MeanAbsoluteRatio: 1.0017 - val_s4pafs_output_analog_recall: 0.8733 - val_s5kpts_output_MeanAbsoluteRatio: 1.0467 - val_s5kpts_output_analog_recall: 0.8707 - val_s6kpts_output_MeanAbsoluteRatio: 1.0441 - val_s6kpts_output_analog_recall: 0.8749\n",
      "\n",
      "Learning rate for epoch 129 is 0.0010000000474974513\n",
      "Epoch 130/262\n",
      "50/50 [==============================] - 47s 938ms/step - loss: 0.0626 - s1pafs_output_loss: 0.0028 - s2pafs_output_loss: 0.0026 - s3pafs_output_loss: 0.0024 - s4pafs_output_loss: 0.0024 - s5kpts_output_loss: 0.0059 - s6kpts_output_loss: 0.0057 - s1pafs_output_MeanAbsoluteRatio: 0.9922 - s1pafs_output_analog_recall: 0.8629 - s2pafs_output_MeanAbsoluteRatio: 0.9955 - s2pafs_output_analog_recall: 0.8727 - s3pafs_output_MeanAbsoluteRatio: 0.9943 - s3pafs_output_analog_recall: 0.8798 - s4pafs_output_MeanAbsoluteRatio: 0.9948 - s4pafs_output_analog_recall: 0.8820 - s5kpts_output_MeanAbsoluteRatio: 1.0094 - s5kpts_output_analog_recall: 0.8667 - s6kpts_output_MeanAbsoluteRatio: 1.0084 - s6kpts_output_analog_recall: 0.8702 - val_loss: 0.0692 - val_s1pafs_output_loss: 0.0031 - val_s2pafs_output_loss: 0.0029 - val_s3pafs_output_loss: 0.0027 - val_s4pafs_output_loss: 0.0026 - val_s5kpts_output_loss: 0.0064 - val_s6kpts_output_loss: 0.0063 - val_s1pafs_output_MeanAbsoluteRatio: 0.9971 - val_s1pafs_output_analog_recall: 0.8589 - val_s2pafs_output_MeanAbsoluteRatio: 1.0042 - val_s2pafs_output_analog_recall: 0.8663 - val_s3pafs_output_MeanAbsoluteRatio: 0.9936 - val_s3pafs_output_analog_recall: 0.8725 - val_s4pafs_output_MeanAbsoluteRatio: 0.9937 - val_s4pafs_output_analog_recall: 0.8748 - val_s5kpts_output_MeanAbsoluteRatio: 1.0310 - val_s5kpts_output_analog_recall: 0.8667 - val_s6kpts_output_MeanAbsoluteRatio: 1.0404 - val_s6kpts_output_analog_recall: 0.8717\n",
      "\n",
      "Learning rate for epoch 130 is 0.0010000000474974513\n",
      "Epoch 131/262\n"
     ]
    },
    {
     "name": "stdout",
     "output_type": "stream",
     "text": [
      "50/50 [==============================] - 42s 845ms/step - loss: 0.0625 - s1pafs_output_loss: 0.0028 - s2pafs_output_loss: 0.0026 - s3pafs_output_loss: 0.0024 - s4pafs_output_loss: 0.0024 - s5kpts_output_loss: 0.0059 - s6kpts_output_loss: 0.0058 - s1pafs_output_MeanAbsoluteRatio: 0.9948 - s1pafs_output_analog_recall: 0.8638 - s2pafs_output_MeanAbsoluteRatio: 0.9987 - s2pafs_output_analog_recall: 0.8735 - s3pafs_output_MeanAbsoluteRatio: 0.9930 - s3pafs_output_analog_recall: 0.8799 - s4pafs_output_MeanAbsoluteRatio: 0.9962 - s4pafs_output_analog_recall: 0.8823 - s5kpts_output_MeanAbsoluteRatio: 1.0093 - s5kpts_output_analog_recall: 0.8659 - s6kpts_output_MeanAbsoluteRatio: 1.0089 - s6kpts_output_analog_recall: 0.8693 - val_loss: 0.0693 - val_s1pafs_output_loss: 0.0031 - val_s2pafs_output_loss: 0.0029 - val_s3pafs_output_loss: 0.0027 - val_s4pafs_output_loss: 0.0027 - val_s5kpts_output_loss: 0.0064 - val_s6kpts_output_loss: 0.0063 - val_s1pafs_output_MeanAbsoluteRatio: 0.9721 - val_s1pafs_output_analog_recall: 0.8480 - val_s2pafs_output_MeanAbsoluteRatio: 0.9751 - val_s2pafs_output_analog_recall: 0.8587 - val_s3pafs_output_MeanAbsoluteRatio: 0.9696 - val_s3pafs_output_analog_recall: 0.8639 - val_s4pafs_output_MeanAbsoluteRatio: 0.9695 - val_s4pafs_output_analog_recall: 0.8661 - val_s5kpts_output_MeanAbsoluteRatio: 0.9774 - val_s5kpts_output_analog_recall: 0.8534 - val_s6kpts_output_MeanAbsoluteRatio: 0.9954 - val_s6kpts_output_analog_recall: 0.8625\n",
      "\n",
      "Learning rate for epoch 131 is 0.0010000000474974513\n",
      "Epoch 132/262\n",
      "18/50 [=========>....................] - ETA: 23s - loss: 0.0624 - s1pafs_output_loss: 0.0028 - s2pafs_output_loss: 0.0026 - s3pafs_output_loss: 0.0024 - s4pafs_output_loss: 0.0024 - s5kpts_output_loss: 0.0059 - s6kpts_output_loss: 0.0058 - s1pafs_output_MeanAbsoluteRatio: 0.9925 - s1pafs_output_analog_recall: 0.8645 - s2pafs_output_MeanAbsoluteRatio: 0.9948 - s2pafs_output_analog_recall: 0.8740 - s3pafs_output_MeanAbsoluteRatio: 0.9930 - s3pafs_output_analog_recall: 0.8807 - s4pafs_output_MeanAbsoluteRatio: 0.9944 - s4pafs_output_analog_recall: 0.8829 - s5kpts_output_MeanAbsoluteRatio: 1.0028 - s5kpts_output_analog_recall: 0.8651 - s6kpts_output_MeanAbsoluteRatio: 1.0014 - s6kpts_output_analog_recall: 0.8680\n",
      "Epoch 00132: saving model to gs://dl_training_results/checkpoints/model1115Sun1219-0341/-E0132.ckpt\n",
      "50/50 [==============================] - 56s 1s/step - loss: 0.0626 - s1pafs_output_loss: 0.0028 - s2pafs_output_loss: 0.0026 - s3pafs_output_loss: 0.0024 - s4pafs_output_loss: 0.0024 - s5kpts_output_loss: 0.0059 - s6kpts_output_loss: 0.0058 - s1pafs_output_MeanAbsoluteRatio: 0.9954 - s1pafs_output_analog_recall: 0.8645 - s2pafs_output_MeanAbsoluteRatio: 0.9964 - s2pafs_output_analog_recall: 0.8740 - s3pafs_output_MeanAbsoluteRatio: 0.9942 - s3pafs_output_analog_recall: 0.8806 - s4pafs_output_MeanAbsoluteRatio: 0.9948 - s4pafs_output_analog_recall: 0.8827 - s5kpts_output_MeanAbsoluteRatio: 1.0101 - s5kpts_output_analog_recall: 0.8666 - s6kpts_output_MeanAbsoluteRatio: 1.0086 - s6kpts_output_analog_recall: 0.8694 - val_loss: 0.0681 - val_s1pafs_output_loss: 0.0030 - val_s2pafs_output_loss: 0.0028 - val_s3pafs_output_loss: 0.0027 - val_s4pafs_output_loss: 0.0026 - val_s5kpts_output_loss: 0.0063 - val_s6kpts_output_loss: 0.0061 - val_s1pafs_output_MeanAbsoluteRatio: 0.9984 - val_s1pafs_output_analog_recall: 0.8574 - val_s2pafs_output_MeanAbsoluteRatio: 0.9908 - val_s2pafs_output_analog_recall: 0.8642 - val_s3pafs_output_MeanAbsoluteRatio: 0.9785 - val_s3pafs_output_analog_recall: 0.8681 - val_s4pafs_output_MeanAbsoluteRatio: 0.9737 - val_s4pafs_output_analog_recall: 0.8685 - val_s5kpts_output_MeanAbsoluteRatio: 0.9968 - val_s5kpts_output_analog_recall: 0.8562 - val_s6kpts_output_MeanAbsoluteRatio: 0.9868 - val_s6kpts_output_analog_recall: 0.8584\n",
      "\n",
      "Learning rate for epoch 132 is 0.0010000000474974513\n",
      "Epoch 133/262\n",
      "50/50 [==============================] - 48s 954ms/step - loss: 0.0627 - s1pafs_output_loss: 0.0028 - s2pafs_output_loss: 0.0026 - s3pafs_output_loss: 0.0024 - s4pafs_output_loss: 0.0024 - s5kpts_output_loss: 0.0058 - s6kpts_output_loss: 0.0057 - s1pafs_output_MeanAbsoluteRatio: 0.9948 - s1pafs_output_analog_recall: 0.8630 - s2pafs_output_MeanAbsoluteRatio: 0.9950 - s2pafs_output_analog_recall: 0.8732 - s3pafs_output_MeanAbsoluteRatio: 0.9932 - s3pafs_output_analog_recall: 0.8797 - s4pafs_output_MeanAbsoluteRatio: 0.9940 - s4pafs_output_analog_recall: 0.8819 - s5kpts_output_MeanAbsoluteRatio: 1.0098 - s5kpts_output_analog_recall: 0.8678 - s6kpts_output_MeanAbsoluteRatio: 1.0083 - s6kpts_output_analog_recall: 0.8713 - val_loss: 0.0697 - val_s1pafs_output_loss: 0.0031 - val_s2pafs_output_loss: 0.0029 - val_s3pafs_output_loss: 0.0027 - val_s4pafs_output_loss: 0.0027 - val_s5kpts_output_loss: 0.0064 - val_s6kpts_output_loss: 0.0062 - val_s1pafs_output_MeanAbsoluteRatio: 0.9886 - val_s1pafs_output_analog_recall: 0.8541 - val_s2pafs_output_MeanAbsoluteRatio: 1.0006 - val_s2pafs_output_analog_recall: 0.8682 - val_s3pafs_output_MeanAbsoluteRatio: 0.9947 - val_s3pafs_output_analog_recall: 0.8735 - val_s4pafs_output_MeanAbsoluteRatio: 1.0048 - val_s4pafs_output_analog_recall: 0.8772 - val_s5kpts_output_MeanAbsoluteRatio: 1.0149 - val_s5kpts_output_analog_recall: 0.8641 - val_s6kpts_output_MeanAbsoluteRatio: 1.0112 - val_s6kpts_output_analog_recall: 0.8686\n",
      "\n",
      "Learning rate for epoch 133 is 0.0010000000474974513\n",
      "Epoch 134/262\n",
      "50/50 [==============================] - 41s 813ms/step - loss: 0.0627 - s1pafs_output_loss: 0.0028 - s2pafs_output_loss: 0.0026 - s3pafs_output_loss: 0.0024 - s4pafs_output_loss: 0.0024 - s5kpts_output_loss: 0.0059 - s6kpts_output_loss: 0.0058 - s1pafs_output_MeanAbsoluteRatio: 0.9924 - s1pafs_output_analog_recall: 0.8636 - s2pafs_output_MeanAbsoluteRatio: 0.9955 - s2pafs_output_analog_recall: 0.8732 - s3pafs_output_MeanAbsoluteRatio: 0.9938 - s3pafs_output_analog_recall: 0.8797 - s4pafs_output_MeanAbsoluteRatio: 0.9940 - s4pafs_output_analog_recall: 0.8815 - s5kpts_output_MeanAbsoluteRatio: 1.0080 - s5kpts_output_analog_recall: 0.8651 - s6kpts_output_MeanAbsoluteRatio: 1.0066 - s6kpts_output_analog_recall: 0.8684 - val_loss: 0.0688 - val_s1pafs_output_loss: 0.0031 - val_s2pafs_output_loss: 0.0028 - val_s3pafs_output_loss: 0.0027 - val_s4pafs_output_loss: 0.0026 - val_s5kpts_output_loss: 0.0064 - val_s6kpts_output_loss: 0.0062 - val_s1pafs_output_MeanAbsoluteRatio: 1.0045 - val_s1pafs_output_analog_recall: 0.8597 - val_s2pafs_output_MeanAbsoluteRatio: 1.0122 - val_s2pafs_output_analog_recall: 0.8717 - val_s3pafs_output_MeanAbsoluteRatio: 1.0133 - val_s3pafs_output_analog_recall: 0.8797 - val_s4pafs_output_MeanAbsoluteRatio: 1.0187 - val_s4pafs_output_analog_recall: 0.8829 - val_s5kpts_output_MeanAbsoluteRatio: 1.0542 - val_s5kpts_output_analog_recall: 0.8740 - val_s6kpts_output_MeanAbsoluteRatio: 1.0391 - val_s6kpts_output_analog_recall: 0.8717\n",
      "\n",
      "Learning rate for epoch 134 is 0.0010000000474974513\n",
      "Epoch 135/262\n",
      "50/50 [==============================] - 41s 827ms/step - loss: 0.0642 - s1pafs_output_loss: 0.0029 - s2pafs_output_loss: 0.0026 - s3pafs_output_loss: 0.0025 - s4pafs_output_loss: 0.0024 - s5kpts_output_loss: 0.0059 - s6kpts_output_loss: 0.0058 - s1pafs_output_MeanAbsoluteRatio: 0.9929 - s1pafs_output_analog_recall: 0.8608 - s2pafs_output_MeanAbsoluteRatio: 0.9969 - s2pafs_output_analog_recall: 0.8712 - s3pafs_output_MeanAbsoluteRatio: 0.9920 - s3pafs_output_analog_recall: 0.8778 - s4pafs_output_MeanAbsoluteRatio: 0.9922 - s4pafs_output_analog_recall: 0.8797 - s5kpts_output_MeanAbsoluteRatio: 1.0089 - s5kpts_output_analog_recall: 0.8656 - s6kpts_output_MeanAbsoluteRatio: 1.0091 - s6kpts_output_analog_recall: 0.8692 - val_loss: 0.0691 - val_s1pafs_output_loss: 0.0031 - val_s2pafs_output_loss: 0.0029 - val_s3pafs_output_loss: 0.0027 - val_s4pafs_output_loss: 0.0027 - val_s5kpts_output_loss: 0.0064 - val_s6kpts_output_loss: 0.0062 - val_s1pafs_output_MeanAbsoluteRatio: 1.0121 - val_s1pafs_output_analog_recall: 0.8620 - val_s2pafs_output_MeanAbsoluteRatio: 1.0258 - val_s2pafs_output_analog_recall: 0.8734 - val_s3pafs_output_MeanAbsoluteRatio: 1.0178 - val_s3pafs_output_analog_recall: 0.8771 - val_s4pafs_output_MeanAbsoluteRatio: 1.0317 - val_s4pafs_output_analog_recall: 0.8815 - val_s5kpts_output_MeanAbsoluteRatio: 1.0451 - val_s5kpts_output_analog_recall: 0.8718 - val_s6kpts_output_MeanAbsoluteRatio: 1.0522 - val_s6kpts_output_analog_recall: 0.8781\n"
     ]
    },
    {
     "name": "stdout",
     "output_type": "stream",
     "text": [
      "\n",
      "Learning rate for epoch 135 is 0.0010000000474974513\n",
      "Epoch 136/262\n",
      "50/50 [==============================] - 45s 899ms/step - loss: 0.0622 - s1pafs_output_loss: 0.0028 - s2pafs_output_loss: 0.0026 - s3pafs_output_loss: 0.0024 - s4pafs_output_loss: 0.0024 - s5kpts_output_loss: 0.0058 - s6kpts_output_loss: 0.0057 - s1pafs_output_MeanAbsoluteRatio: 0.9938 - s1pafs_output_analog_recall: 0.8637 - s2pafs_output_MeanAbsoluteRatio: 0.9965 - s2pafs_output_analog_recall: 0.8737 - s3pafs_output_MeanAbsoluteRatio: 0.9923 - s3pafs_output_analog_recall: 0.8799 - s4pafs_output_MeanAbsoluteRatio: 0.9930 - s4pafs_output_analog_recall: 0.8821 - s5kpts_output_MeanAbsoluteRatio: 1.0102 - s5kpts_output_analog_recall: 0.8668 - s6kpts_output_MeanAbsoluteRatio: 1.0088 - s6kpts_output_analog_recall: 0.8698 - val_loss: 0.0688 - val_s1pafs_output_loss: 0.0031 - val_s2pafs_output_loss: 0.0028 - val_s3pafs_output_loss: 0.0027 - val_s4pafs_output_loss: 0.0026 - val_s5kpts_output_loss: 0.0064 - val_s6kpts_output_loss: 0.0063 - val_s1pafs_output_MeanAbsoluteRatio: 0.9908 - val_s1pafs_output_analog_recall: 0.8542 - val_s2pafs_output_MeanAbsoluteRatio: 0.9929 - val_s2pafs_output_analog_recall: 0.8617 - val_s3pafs_output_MeanAbsoluteRatio: 0.9914 - val_s3pafs_output_analog_recall: 0.8706 - val_s4pafs_output_MeanAbsoluteRatio: 1.0054 - val_s4pafs_output_analog_recall: 0.8763 - val_s5kpts_output_MeanAbsoluteRatio: 1.0266 - val_s5kpts_output_analog_recall: 0.8652 - val_s6kpts_output_MeanAbsoluteRatio: 1.0327 - val_s6kpts_output_analog_recall: 0.8711\n",
      "\n",
      "Learning rate for epoch 136 is 0.0010000000474974513\n",
      "Epoch 137/262\n",
      "50/50 [==============================] - 65s 1s/step - loss: 0.0620 - s1pafs_output_loss: 0.0028 - s2pafs_output_loss: 0.0026 - s3pafs_output_loss: 0.0024 - s4pafs_output_loss: 0.0024 - s5kpts_output_loss: 0.0058 - s6kpts_output_loss: 0.0056 - s1pafs_output_MeanAbsoluteRatio: 0.9930 - s1pafs_output_analog_recall: 0.8650 - s2pafs_output_MeanAbsoluteRatio: 0.9964 - s2pafs_output_analog_recall: 0.8745 - s3pafs_output_MeanAbsoluteRatio: 0.9957 - s3pafs_output_analog_recall: 0.8811 - s4pafs_output_MeanAbsoluteRatio: 0.9963 - s4pafs_output_analog_recall: 0.8830 - s5kpts_output_MeanAbsoluteRatio: 1.0090 - s5kpts_output_analog_recall: 0.8681 - s6kpts_output_MeanAbsoluteRatio: 1.0092 - s6kpts_output_analog_recall: 0.8717 - val_loss: 0.0684 - val_s1pafs_output_loss: 0.0030 - val_s2pafs_output_loss: 0.0028 - val_s3pafs_output_loss: 0.0027 - val_s4pafs_output_loss: 0.0026 - val_s5kpts_output_loss: 0.0063 - val_s6kpts_output_loss: 0.0062 - val_s1pafs_output_MeanAbsoluteRatio: 0.9966 - val_s1pafs_output_analog_recall: 0.8593 - val_s2pafs_output_MeanAbsoluteRatio: 1.0103 - val_s2pafs_output_analog_recall: 0.8684 - val_s3pafs_output_MeanAbsoluteRatio: 1.0022 - val_s3pafs_output_analog_recall: 0.8761 - val_s4pafs_output_MeanAbsoluteRatio: 1.0080 - val_s4pafs_output_analog_recall: 0.8796 - val_s5kpts_output_MeanAbsoluteRatio: 1.0210 - val_s5kpts_output_analog_recall: 0.8674 - val_s6kpts_output_MeanAbsoluteRatio: 1.0228 - val_s6kpts_output_analog_recall: 0.8715\n",
      "\n",
      "Learning rate for epoch 137 is 0.0010000000474974513\n",
      "Epoch 138/262\n",
      "50/50 [==============================] - 48s 962ms/step - loss: 0.0620 - s1pafs_output_loss: 0.0028 - s2pafs_output_loss: 0.0026 - s3pafs_output_loss: 0.0024 - s4pafs_output_loss: 0.0024 - s5kpts_output_loss: 0.0058 - s6kpts_output_loss: 0.0056 - s1pafs_output_MeanAbsoluteRatio: 0.9934 - s1pafs_output_analog_recall: 0.8641 - s2pafs_output_MeanAbsoluteRatio: 0.9991 - s2pafs_output_analog_recall: 0.8743 - s3pafs_output_MeanAbsoluteRatio: 0.9926 - s3pafs_output_analog_recall: 0.8809 - s4pafs_output_MeanAbsoluteRatio: 0.9952 - s4pafs_output_analog_recall: 0.8835 - s5kpts_output_MeanAbsoluteRatio: 1.0088 - s5kpts_output_analog_recall: 0.8679 - s6kpts_output_MeanAbsoluteRatio: 1.0070 - s6kpts_output_analog_recall: 0.8713 - val_loss: 0.0690 - val_s1pafs_output_loss: 0.0031 - val_s2pafs_output_loss: 0.0029 - val_s3pafs_output_loss: 0.0027 - val_s4pafs_output_loss: 0.0026 - val_s5kpts_output_loss: 0.0064 - val_s6kpts_output_loss: 0.0063 - val_s1pafs_output_MeanAbsoluteRatio: 0.9821 - val_s1pafs_output_analog_recall: 0.8551 - val_s2pafs_output_MeanAbsoluteRatio: 0.9816 - val_s2pafs_output_analog_recall: 0.8621 - val_s3pafs_output_MeanAbsoluteRatio: 0.9830 - val_s3pafs_output_analog_recall: 0.8691 - val_s4pafs_output_MeanAbsoluteRatio: 0.9786 - val_s4pafs_output_analog_recall: 0.8701 - val_s5kpts_output_MeanAbsoluteRatio: 0.9755 - val_s5kpts_output_analog_recall: 0.8496 - val_s6kpts_output_MeanAbsoluteRatio: 0.9681 - val_s6kpts_output_analog_recall: 0.8516\n",
      "\n",
      "Learning rate for epoch 138 is 0.0010000000474974513\n",
      "Epoch 139/262\n",
      "50/50 [==============================] - 44s 880ms/step - loss: 0.0621 - s1pafs_output_loss: 0.0028 - s2pafs_output_loss: 0.0026 - s3pafs_output_loss: 0.0024 - s4pafs_output_loss: 0.0024 - s5kpts_output_loss: 0.0058 - s6kpts_output_loss: 0.0056 - s1pafs_output_MeanAbsoluteRatio: 0.9952 - s1pafs_output_analog_recall: 0.8639 - s2pafs_output_MeanAbsoluteRatio: 0.9981 - s2pafs_output_analog_recall: 0.8738 - s3pafs_output_MeanAbsoluteRatio: 0.9937 - s3pafs_output_analog_recall: 0.8804 - s4pafs_output_MeanAbsoluteRatio: 0.9949 - s4pafs_output_analog_recall: 0.8826 - s5kpts_output_MeanAbsoluteRatio: 1.0098 - s5kpts_output_analog_recall: 0.8686 - s6kpts_output_MeanAbsoluteRatio: 1.0092 - s6kpts_output_analog_recall: 0.8721 - val_loss: 0.0676 - val_s1pafs_output_loss: 0.0030 - val_s2pafs_output_loss: 0.0028 - val_s3pafs_output_loss: 0.0026 - val_s4pafs_output_loss: 0.0026 - val_s5kpts_output_loss: 0.0062 - val_s6kpts_output_loss: 0.0061 - val_s1pafs_output_MeanAbsoluteRatio: 0.9694 - val_s1pafs_output_analog_recall: 0.8522 - val_s2pafs_output_MeanAbsoluteRatio: 0.9783 - val_s2pafs_output_analog_recall: 0.8645 - val_s3pafs_output_MeanAbsoluteRatio: 0.9738 - val_s3pafs_output_analog_recall: 0.8699 - val_s4pafs_output_MeanAbsoluteRatio: 0.9718 - val_s4pafs_output_analog_recall: 0.8705 - val_s5kpts_output_MeanAbsoluteRatio: 1.0062 - val_s5kpts_output_analog_recall: 0.8636 - val_s6kpts_output_MeanAbsoluteRatio: 1.0116 - val_s6kpts_output_analog_recall: 0.8696\n",
      "\n",
      "Learning rate for epoch 139 is 0.0010000000474974513\n",
      "Epoch 140/262\n",
      "50/50 [==============================] - 41s 829ms/step - loss: 0.0609 - s1pafs_output_loss: 0.0027 - s2pafs_output_loss: 0.0025 - s3pafs_output_loss: 0.0024 - s4pafs_output_loss: 0.0023 - s5kpts_output_loss: 0.0057 - s6kpts_output_loss: 0.0056 - s1pafs_output_MeanAbsoluteRatio: 0.9952 - s1pafs_output_analog_recall: 0.8657 - s2pafs_output_MeanAbsoluteRatio: 0.9978 - s2pafs_output_analog_recall: 0.8758 - s3pafs_output_MeanAbsoluteRatio: 0.9945 - s3pafs_output_analog_recall: 0.8828 - s4pafs_output_MeanAbsoluteRatio: 0.9956 - s4pafs_output_analog_recall: 0.8852 - s5kpts_output_MeanAbsoluteRatio: 1.0087 - s5kpts_output_analog_recall: 0.8693 - s6kpts_output_MeanAbsoluteRatio: 1.0075 - s6kpts_output_analog_recall: 0.8732 - val_loss: 0.0682 - val_s1pafs_output_loss: 0.0030 - val_s2pafs_output_loss: 0.0028 - val_s3pafs_output_loss: 0.0027 - val_s4pafs_output_loss: 0.0026 - val_s5kpts_output_loss: 0.0063 - val_s6kpts_output_loss: 0.0062 - val_s1pafs_output_MeanAbsoluteRatio: 1.0044 - val_s1pafs_output_analog_recall: 0.8626 - val_s2pafs_output_MeanAbsoluteRatio: 1.0130 - val_s2pafs_output_analog_recall: 0.8739 - val_s3pafs_output_MeanAbsoluteRatio: 0.9891 - val_s3pafs_output_analog_recall: 0.8759 - val_s4pafs_output_MeanAbsoluteRatio: 0.9892 - val_s4pafs_output_analog_recall: 0.8758 - val_s5kpts_output_MeanAbsoluteRatio: 1.0126 - val_s5kpts_output_analog_recall: 0.8684 - val_s6kpts_output_MeanAbsoluteRatio: 1.0069 - val_s6kpts_output_analog_recall: 0.8677\n",
      "\n",
      "Learning rate for epoch 140 is 0.0010000000474974513\n",
      "Epoch 141/262\n"
     ]
    },
    {
     "name": "stdout",
     "output_type": "stream",
     "text": [
      " 6/50 [==>...........................] - ETA: 30s - loss: 0.0623 - s1pafs_output_loss: 0.0028 - s2pafs_output_loss: 0.0026 - s3pafs_output_loss: 0.0024 - s4pafs_output_loss: 0.0024 - s5kpts_output_loss: 0.0058 - s6kpts_output_loss: 0.0057 - s1pafs_output_MeanAbsoluteRatio: 0.9982 - s1pafs_output_analog_recall: 0.8665 - s2pafs_output_MeanAbsoluteRatio: 1.0023 - s2pafs_output_analog_recall: 0.8757 - s3pafs_output_MeanAbsoluteRatio: 0.9859 - s3pafs_output_analog_recall: 0.8797 - s4pafs_output_MeanAbsoluteRatio: 0.9931 - s4pafs_output_analog_recall: 0.8828 - s5kpts_output_MeanAbsoluteRatio: 1.0215 - s5kpts_output_analog_recall: 0.8733 - s6kpts_output_MeanAbsoluteRatio: 1.0219 - s6kpts_output_analog_recall: 0.8740\n",
      "Epoch 00141: saving model to gs://dl_training_results/checkpoints/model1115Sun1219-0341/-E0141.ckpt\n",
      "50/50 [==============================] - 58s 1s/step - loss: 0.0609 - s1pafs_output_loss: 0.0027 - s2pafs_output_loss: 0.0025 - s3pafs_output_loss: 0.0024 - s4pafs_output_loss: 0.0023 - s5kpts_output_loss: 0.0057 - s6kpts_output_loss: 0.0056 - s1pafs_output_MeanAbsoluteRatio: 0.9987 - s1pafs_output_analog_recall: 0.8667 - s2pafs_output_MeanAbsoluteRatio: 1.0002 - s2pafs_output_analog_recall: 0.8767 - s3pafs_output_MeanAbsoluteRatio: 0.9950 - s3pafs_output_analog_recall: 0.8828 - s4pafs_output_MeanAbsoluteRatio: 0.9964 - s4pafs_output_analog_recall: 0.8848 - s5kpts_output_MeanAbsoluteRatio: 1.0108 - s5kpts_output_analog_recall: 0.8696 - s6kpts_output_MeanAbsoluteRatio: 1.0096 - s6kpts_output_analog_recall: 0.8733 - val_loss: 0.0679 - val_s1pafs_output_loss: 0.0030 - val_s2pafs_output_loss: 0.0028 - val_s3pafs_output_loss: 0.0026 - val_s4pafs_output_loss: 0.0026 - val_s5kpts_output_loss: 0.0063 - val_s6kpts_output_loss: 0.0061 - val_s1pafs_output_MeanAbsoluteRatio: 0.9940 - val_s1pafs_output_analog_recall: 0.8557 - val_s2pafs_output_MeanAbsoluteRatio: 0.9942 - val_s2pafs_output_analog_recall: 0.8654 - val_s3pafs_output_MeanAbsoluteRatio: 0.9974 - val_s3pafs_output_analog_recall: 0.8734 - val_s4pafs_output_MeanAbsoluteRatio: 1.0072 - val_s4pafs_output_analog_recall: 0.8781 - val_s5kpts_output_MeanAbsoluteRatio: 1.0180 - val_s5kpts_output_analog_recall: 0.8654 - val_s6kpts_output_MeanAbsoluteRatio: 1.0277 - val_s6kpts_output_analog_recall: 0.8711\n",
      "\n",
      "Learning rate for epoch 141 is 0.0010000000474974513\n",
      "Epoch 142/262\n",
      "50/50 [==============================] - 44s 877ms/step - loss: 0.0625 - s1pafs_output_loss: 0.0028 - s2pafs_output_loss: 0.0026 - s3pafs_output_loss: 0.0024 - s4pafs_output_loss: 0.0024 - s5kpts_output_loss: 0.0058 - s6kpts_output_loss: 0.0057 - s1pafs_output_MeanAbsoluteRatio: 0.9930 - s1pafs_output_analog_recall: 0.8641 - s2pafs_output_MeanAbsoluteRatio: 0.9977 - s2pafs_output_analog_recall: 0.8740 - s3pafs_output_MeanAbsoluteRatio: 0.9947 - s3pafs_output_analog_recall: 0.8805 - s4pafs_output_MeanAbsoluteRatio: 0.9953 - s4pafs_output_analog_recall: 0.8828 - s5kpts_output_MeanAbsoluteRatio: 1.0088 - s5kpts_output_analog_recall: 0.8684 - s6kpts_output_MeanAbsoluteRatio: 1.0095 - s6kpts_output_analog_recall: 0.8720 - val_loss: 0.0695 - val_s1pafs_output_loss: 0.0031 - val_s2pafs_output_loss: 0.0029 - val_s3pafs_output_loss: 0.0027 - val_s4pafs_output_loss: 0.0027 - val_s5kpts_output_loss: 0.0066 - val_s6kpts_output_loss: 0.0064 - val_s1pafs_output_MeanAbsoluteRatio: 1.0051 - val_s1pafs_output_analog_recall: 0.8581 - val_s2pafs_output_MeanAbsoluteRatio: 1.0061 - val_s2pafs_output_analog_recall: 0.8645 - val_s3pafs_output_MeanAbsoluteRatio: 0.9864 - val_s3pafs_output_analog_recall: 0.8672 - val_s4pafs_output_MeanAbsoluteRatio: 0.9807 - val_s4pafs_output_analog_recall: 0.8671 - val_s5kpts_output_MeanAbsoluteRatio: 1.0352 - val_s5kpts_output_analog_recall: 0.8637 - val_s6kpts_output_MeanAbsoluteRatio: 1.0380 - val_s6kpts_output_analog_recall: 0.8658\n",
      "\n",
      "Learning rate for epoch 142 is 0.0010000000474974513\n",
      "Epoch 143/262\n",
      "50/50 [==============================] - 43s 869ms/step - loss: 0.0617 - s1pafs_output_loss: 0.0028 - s2pafs_output_loss: 0.0026 - s3pafs_output_loss: 0.0024 - s4pafs_output_loss: 0.0023 - s5kpts_output_loss: 0.0057 - s6kpts_output_loss: 0.0056 - s1pafs_output_MeanAbsoluteRatio: 0.9965 - s1pafs_output_analog_recall: 0.8653 - s2pafs_output_MeanAbsoluteRatio: 1.0000 - s2pafs_output_analog_recall: 0.8747 - s3pafs_output_MeanAbsoluteRatio: 0.9967 - s3pafs_output_analog_recall: 0.8816 - s4pafs_output_MeanAbsoluteRatio: 0.9964 - s4pafs_output_analog_recall: 0.8838 - s5kpts_output_MeanAbsoluteRatio: 1.0114 - s5kpts_output_analog_recall: 0.8693 - s6kpts_output_MeanAbsoluteRatio: 1.0085 - s6kpts_output_analog_recall: 0.8724 - val_loss: 0.0668 - val_s1pafs_output_loss: 0.0030 - val_s2pafs_output_loss: 0.0028 - val_s3pafs_output_loss: 0.0026 - val_s4pafs_output_loss: 0.0026 - val_s5kpts_output_loss: 0.0062 - val_s6kpts_output_loss: 0.0060 - val_s1pafs_output_MeanAbsoluteRatio: 1.0164 - val_s1pafs_output_analog_recall: 0.8640 - val_s2pafs_output_MeanAbsoluteRatio: 0.9905 - val_s2pafs_output_analog_recall: 0.8666 - val_s3pafs_output_MeanAbsoluteRatio: 0.9882 - val_s3pafs_output_analog_recall: 0.8724 - val_s4pafs_output_MeanAbsoluteRatio: 0.9875 - val_s4pafs_output_analog_recall: 0.8749 - val_s5kpts_output_MeanAbsoluteRatio: 1.0196 - val_s5kpts_output_analog_recall: 0.8676 - val_s6kpts_output_MeanAbsoluteRatio: 1.0234 - val_s6kpts_output_analog_recall: 0.8738\n",
      "\n",
      "Learning rate for epoch 143 is 0.0010000000474974513\n",
      "Epoch 144/262\n",
      "50/50 [==============================] - 48s 956ms/step - loss: 0.0635 - s1pafs_output_loss: 0.0029 - s2pafs_output_loss: 0.0026 - s3pafs_output_loss: 0.0025 - s4pafs_output_loss: 0.0024 - s5kpts_output_loss: 0.0059 - s6kpts_output_loss: 0.0057 - s1pafs_output_MeanAbsoluteRatio: 0.9907 - s1pafs_output_analog_recall: 0.8611 - s2pafs_output_MeanAbsoluteRatio: 0.9951 - s2pafs_output_analog_recall: 0.8713 - s3pafs_output_MeanAbsoluteRatio: 0.9900 - s3pafs_output_analog_recall: 0.8783 - s4pafs_output_MeanAbsoluteRatio: 0.9917 - s4pafs_output_analog_recall: 0.8807 - s5kpts_output_MeanAbsoluteRatio: 1.0065 - s5kpts_output_analog_recall: 0.8665 - s6kpts_output_MeanAbsoluteRatio: 1.0062 - s6kpts_output_analog_recall: 0.8705 - val_loss: 0.0679 - val_s1pafs_output_loss: 0.0030 - val_s2pafs_output_loss: 0.0028 - val_s3pafs_output_loss: 0.0026 - val_s4pafs_output_loss: 0.0026 - val_s5kpts_output_loss: 0.0064 - val_s6kpts_output_loss: 0.0062 - val_s1pafs_output_MeanAbsoluteRatio: 1.0249 - val_s1pafs_output_analog_recall: 0.8637 - val_s2pafs_output_MeanAbsoluteRatio: 1.0193 - val_s2pafs_output_analog_recall: 0.8715 - val_s3pafs_output_MeanAbsoluteRatio: 1.0187 - val_s3pafs_output_analog_recall: 0.8778 - val_s4pafs_output_MeanAbsoluteRatio: 1.0305 - val_s4pafs_output_analog_recall: 0.8825 - val_s5kpts_output_MeanAbsoluteRatio: 1.0799 - val_s5kpts_output_analog_recall: 0.8767 - val_s6kpts_output_MeanAbsoluteRatio: 1.0952 - val_s6kpts_output_analog_recall: 0.8827\n",
      "\n",
      "Learning rate for epoch 144 is 0.0010000000474974513\n",
      "Epoch 145/262\n",
      "50/50 [==============================] - 59s 1s/step - loss: 0.0610 - s1pafs_output_loss: 0.0027 - s2pafs_output_loss: 0.0025 - s3pafs_output_loss: 0.0024 - s4pafs_output_loss: 0.0023 - s5kpts_output_loss: 0.0057 - s6kpts_output_loss: 0.0056 - s1pafs_output_MeanAbsoluteRatio: 0.9954 - s1pafs_output_analog_recall: 0.8661 - s2pafs_output_MeanAbsoluteRatio: 0.9981 - s2pafs_output_analog_recall: 0.8758 - s3pafs_output_MeanAbsoluteRatio: 0.9955 - s3pafs_output_analog_recall: 0.8824 - s4pafs_output_MeanAbsoluteRatio: 0.9946 - s4pafs_output_analog_recall: 0.8844 - s5kpts_output_MeanAbsoluteRatio: 1.0106 - s5kpts_output_analog_recall: 0.8682 - s6kpts_output_MeanAbsoluteRatio: 1.0101 - s6kpts_output_analog_recall: 0.8719 - val_loss: 0.0679 - val_s1pafs_output_loss: 0.0030 - val_s2pafs_output_loss: 0.0028 - val_s3pafs_output_loss: 0.0026 - val_s4pafs_output_loss: 0.0026 - val_s5kpts_output_loss: 0.0063 - val_s6kpts_output_loss: 0.0062 - val_s1pafs_output_MeanAbsoluteRatio: 1.0240 - val_s1pafs_output_analog_recall: 0.8668 - val_s2pafs_output_MeanAbsoluteRatio: 1.0343 - val_s2pafs_output_analog_recall: 0.8776 - val_s3pafs_output_MeanAbsoluteRatio: 1.0143 - val_s3pafs_output_analog_recall: 0.8799 - val_s4pafs_output_MeanAbsoluteRatio: 1.0206 - val_s4pafs_output_analog_recall: 0.8832 - val_s5kpts_output_MeanAbsoluteRatio: 1.0560 - val_s5kpts_output_analog_recall: 0.8785 - val_s6kpts_output_MeanAbsoluteRatio: 1.0638 - val_s6kpts_output_analog_recall: 0.8865\n"
     ]
    },
    {
     "name": "stdout",
     "output_type": "stream",
     "text": [
      "\n",
      "Learning rate for epoch 145 is 0.0010000000474974513\n",
      "Epoch 146/262\n",
      "50/50 [==============================] - 48s 956ms/step - loss: 0.0622 - s1pafs_output_loss: 0.0028 - s2pafs_output_loss: 0.0026 - s3pafs_output_loss: 0.0024 - s4pafs_output_loss: 0.0024 - s5kpts_output_loss: 0.0058 - s6kpts_output_loss: 0.0057 - s1pafs_output_MeanAbsoluteRatio: 0.9933 - s1pafs_output_analog_recall: 0.8644 - s2pafs_output_MeanAbsoluteRatio: 0.9977 - s2pafs_output_analog_recall: 0.8744 - s3pafs_output_MeanAbsoluteRatio: 0.9924 - s3pafs_output_analog_recall: 0.8809 - s4pafs_output_MeanAbsoluteRatio: 0.9969 - s4pafs_output_analog_recall: 0.8831 - s5kpts_output_MeanAbsoluteRatio: 1.0094 - s5kpts_output_analog_recall: 0.8676 - s6kpts_output_MeanAbsoluteRatio: 1.0084 - s6kpts_output_analog_recall: 0.8710 - val_loss: 0.0692 - val_s1pafs_output_loss: 0.0031 - val_s2pafs_output_loss: 0.0029 - val_s3pafs_output_loss: 0.0027 - val_s4pafs_output_loss: 0.0026 - val_s5kpts_output_loss: 0.0064 - val_s6kpts_output_loss: 0.0063 - val_s1pafs_output_MeanAbsoluteRatio: 1.0481 - val_s1pafs_output_analog_recall: 0.8663 - val_s2pafs_output_MeanAbsoluteRatio: 1.0275 - val_s2pafs_output_analog_recall: 0.8732 - val_s3pafs_output_MeanAbsoluteRatio: 1.0177 - val_s3pafs_output_analog_recall: 0.8795 - val_s4pafs_output_MeanAbsoluteRatio: 1.0210 - val_s4pafs_output_analog_recall: 0.8836 - val_s5kpts_output_MeanAbsoluteRatio: 1.0088 - val_s5kpts_output_analog_recall: 0.8644 - val_s6kpts_output_MeanAbsoluteRatio: 1.0103 - val_s6kpts_output_analog_recall: 0.8689\n",
      "\n",
      "Learning rate for epoch 146 is 0.0010000000474974513\n",
      "Epoch 147/262\n",
      "50/50 [==============================] - 45s 899ms/step - loss: 0.0614 - s1pafs_output_loss: 0.0028 - s2pafs_output_loss: 0.0025 - s3pafs_output_loss: 0.0024 - s4pafs_output_loss: 0.0023 - s5kpts_output_loss: 0.0057 - s6kpts_output_loss: 0.0056 - s1pafs_output_MeanAbsoluteRatio: 0.9966 - s1pafs_output_analog_recall: 0.8653 - s2pafs_output_MeanAbsoluteRatio: 1.0008 - s2pafs_output_analog_recall: 0.8755 - s3pafs_output_MeanAbsoluteRatio: 0.9940 - s3pafs_output_analog_recall: 0.8821 - s4pafs_output_MeanAbsoluteRatio: 0.9947 - s4pafs_output_analog_recall: 0.8843 - s5kpts_output_MeanAbsoluteRatio: 1.0077 - s5kpts_output_analog_recall: 0.8692 - s6kpts_output_MeanAbsoluteRatio: 1.0077 - s6kpts_output_analog_recall: 0.8729 - val_loss: 0.0684 - val_s1pafs_output_loss: 0.0031 - val_s2pafs_output_loss: 0.0028 - val_s3pafs_output_loss: 0.0027 - val_s4pafs_output_loss: 0.0026 - val_s5kpts_output_loss: 0.0063 - val_s6kpts_output_loss: 0.0062 - val_s1pafs_output_MeanAbsoluteRatio: 1.0229 - val_s1pafs_output_analog_recall: 0.8627 - val_s2pafs_output_MeanAbsoluteRatio: 1.0082 - val_s2pafs_output_analog_recall: 0.8699 - val_s3pafs_output_MeanAbsoluteRatio: 0.9904 - val_s3pafs_output_analog_recall: 0.8729 - val_s4pafs_output_MeanAbsoluteRatio: 0.9869 - val_s4pafs_output_analog_recall: 0.8725 - val_s5kpts_output_MeanAbsoluteRatio: 1.0082 - val_s5kpts_output_analog_recall: 0.8607 - val_s6kpts_output_MeanAbsoluteRatio: 1.0066 - val_s6kpts_output_analog_recall: 0.8625\n",
      "\n",
      "Learning rate for epoch 147 is 0.0010000000474974513\n",
      "Epoch 148/262\n",
      "50/50 [==============================] - 42s 838ms/step - loss: 0.0609 - s1pafs_output_loss: 0.0028 - s2pafs_output_loss: 0.0025 - s3pafs_output_loss: 0.0024 - s4pafs_output_loss: 0.0023 - s5kpts_output_loss: 0.0057 - s6kpts_output_loss: 0.0055 - s1pafs_output_MeanAbsoluteRatio: 0.9935 - s1pafs_output_analog_recall: 0.8654 - s2pafs_output_MeanAbsoluteRatio: 0.9976 - s2pafs_output_analog_recall: 0.8762 - s3pafs_output_MeanAbsoluteRatio: 0.9938 - s3pafs_output_analog_recall: 0.8827 - s4pafs_output_MeanAbsoluteRatio: 0.9958 - s4pafs_output_analog_recall: 0.8851 - s5kpts_output_MeanAbsoluteRatio: 1.0114 - s5kpts_output_analog_recall: 0.8708 - s6kpts_output_MeanAbsoluteRatio: 1.0095 - s6kpts_output_analog_recall: 0.8742 - val_loss: 0.0670 - val_s1pafs_output_loss: 0.0030 - val_s2pafs_output_loss: 0.0028 - val_s3pafs_output_loss: 0.0026 - val_s4pafs_output_loss: 0.0026 - val_s5kpts_output_loss: 0.0062 - val_s6kpts_output_loss: 0.0060 - val_s1pafs_output_MeanAbsoluteRatio: 1.0115 - val_s1pafs_output_analog_recall: 0.8636 - val_s2pafs_output_MeanAbsoluteRatio: 1.0058 - val_s2pafs_output_analog_recall: 0.8712 - val_s3pafs_output_MeanAbsoluteRatio: 1.0067 - val_s3pafs_output_analog_recall: 0.8794 - val_s4pafs_output_MeanAbsoluteRatio: 1.0058 - val_s4pafs_output_analog_recall: 0.8818 - val_s5kpts_output_MeanAbsoluteRatio: 1.0566 - val_s5kpts_output_analog_recall: 0.8785 - val_s6kpts_output_MeanAbsoluteRatio: 1.0364 - val_s6kpts_output_analog_recall: 0.8776\n",
      "\n",
      "Learning rate for epoch 148 is 0.0010000000474974513\n",
      "Epoch 149/262\n",
      "44/50 [=========================>....] - ETA: 4s - loss: 0.0602 - s1pafs_output_loss: 0.0027 - s2pafs_output_loss: 0.0025 - s3pafs_output_loss: 0.0023 - s4pafs_output_loss: 0.0023 - s5kpts_output_loss: 0.0056 - s6kpts_output_loss: 0.0055 - s1pafs_output_MeanAbsoluteRatio: 0.9955 - s1pafs_output_analog_recall: 0.8673 - s2pafs_output_MeanAbsoluteRatio: 0.9991 - s2pafs_output_analog_recall: 0.8772 - s3pafs_output_MeanAbsoluteRatio: 0.9951 - s3pafs_output_analog_recall: 0.8841 - s4pafs_output_MeanAbsoluteRatio: 0.9962 - s4pafs_output_analog_recall: 0.8865 - s5kpts_output_MeanAbsoluteRatio: 1.0078 - s5kpts_output_analog_recall: 0.8709 - s6kpts_output_MeanAbsoluteRatio: 1.0079 - s6kpts_output_analog_recall: 0.8742\n",
      "Epoch 00149: saving model to gs://dl_training_results/checkpoints/model1115Sun1219-0341/-E0149.ckpt\n",
      "50/50 [==============================] - 50s 991ms/step - loss: 0.0604 - s1pafs_output_loss: 0.0027 - s2pafs_output_loss: 0.0025 - s3pafs_output_loss: 0.0023 - s4pafs_output_loss: 0.0023 - s5kpts_output_loss: 0.0056 - s6kpts_output_loss: 0.0055 - s1pafs_output_MeanAbsoluteRatio: 0.9945 - s1pafs_output_analog_recall: 0.8666 - s2pafs_output_MeanAbsoluteRatio: 0.9987 - s2pafs_output_analog_recall: 0.8767 - s3pafs_output_MeanAbsoluteRatio: 0.9945 - s3pafs_output_analog_recall: 0.8836 - s4pafs_output_MeanAbsoluteRatio: 0.9964 - s4pafs_output_analog_recall: 0.8863 - s5kpts_output_MeanAbsoluteRatio: 1.0091 - s5kpts_output_analog_recall: 0.8706 - s6kpts_output_MeanAbsoluteRatio: 1.0083 - s6kpts_output_analog_recall: 0.8737 - val_loss: 0.0663 - val_s1pafs_output_loss: 0.0030 - val_s2pafs_output_loss: 0.0028 - val_s3pafs_output_loss: 0.0026 - val_s4pafs_output_loss: 0.0025 - val_s5kpts_output_loss: 0.0061 - val_s6kpts_output_loss: 0.0059 - val_s1pafs_output_MeanAbsoluteRatio: 0.9896 - val_s1pafs_output_analog_recall: 0.8571 - val_s2pafs_output_MeanAbsoluteRatio: 1.0278 - val_s2pafs_output_analog_recall: 0.8751 - val_s3pafs_output_MeanAbsoluteRatio: 1.0213 - val_s3pafs_output_analog_recall: 0.8809 - val_s4pafs_output_MeanAbsoluteRatio: 1.0161 - val_s4pafs_output_analog_recall: 0.8828 - val_s5kpts_output_MeanAbsoluteRatio: 1.0358 - val_s5kpts_output_analog_recall: 0.8724 - val_s6kpts_output_MeanAbsoluteRatio: 1.0319 - val_s6kpts_output_analog_recall: 0.8780\n",
      "\n",
      "Learning rate for epoch 149 is 0.0010000000474974513\n",
      "Epoch 150/262\n",
      "50/50 [==============================] - 50s 1s/step - loss: 0.0607 - s1pafs_output_loss: 0.0027 - s2pafs_output_loss: 0.0025 - s3pafs_output_loss: 0.0023 - s4pafs_output_loss: 0.0023 - s5kpts_output_loss: 0.0056 - s6kpts_output_loss: 0.0055 - s1pafs_output_MeanAbsoluteRatio: 1.0013 - s1pafs_output_analog_recall: 0.8670 - s2pafs_output_MeanAbsoluteRatio: 1.0029 - s2pafs_output_analog_recall: 0.8765 - s3pafs_output_MeanAbsoluteRatio: 0.9978 - s3pafs_output_analog_recall: 0.8835 - s4pafs_output_MeanAbsoluteRatio: 0.9967 - s4pafs_output_analog_recall: 0.8855 - s5kpts_output_MeanAbsoluteRatio: 1.0093 - s5kpts_output_analog_recall: 0.8704 - s6kpts_output_MeanAbsoluteRatio: 1.0081 - s6kpts_output_analog_recall: 0.8738 - val_loss: 0.0676 - val_s1pafs_output_loss: 0.0030 - val_s2pafs_output_loss: 0.0028 - val_s3pafs_output_loss: 0.0027 - val_s4pafs_output_loss: 0.0026 - val_s5kpts_output_loss: 0.0062 - val_s6kpts_output_loss: 0.0061 - val_s1pafs_output_MeanAbsoluteRatio: 1.0051 - val_s1pafs_output_analog_recall: 0.8619 - val_s2pafs_output_MeanAbsoluteRatio: 1.0099 - val_s2pafs_output_analog_recall: 0.8723 - val_s3pafs_output_MeanAbsoluteRatio: 1.0010 - val_s3pafs_output_analog_recall: 0.8786 - val_s4pafs_output_MeanAbsoluteRatio: 0.9945 - val_s4pafs_output_analog_recall: 0.8776 - val_s5kpts_output_MeanAbsoluteRatio: 1.0139 - val_s5kpts_output_analog_recall: 0.8674 - val_s6kpts_output_MeanAbsoluteRatio: 1.0134 - val_s6kpts_output_analog_recall: 0.8704\n"
     ]
    },
    {
     "name": "stdout",
     "output_type": "stream",
     "text": [
      "\n",
      "Learning rate for epoch 150 is 0.0010000000474974513\n",
      "Epoch 151/262\n",
      "50/50 [==============================] - 41s 821ms/step - loss: 0.0608 - s1pafs_output_loss: 0.0027 - s2pafs_output_loss: 0.0025 - s3pafs_output_loss: 0.0024 - s4pafs_output_loss: 0.0023 - s5kpts_output_loss: 0.0056 - s6kpts_output_loss: 0.0055 - s1pafs_output_MeanAbsoluteRatio: 0.9976 - s1pafs_output_analog_recall: 0.8665 - s2pafs_output_MeanAbsoluteRatio: 0.9992 - s2pafs_output_analog_recall: 0.8762 - s3pafs_output_MeanAbsoluteRatio: 0.9950 - s3pafs_output_analog_recall: 0.8827 - s4pafs_output_MeanAbsoluteRatio: 0.9938 - s4pafs_output_analog_recall: 0.8850 - s5kpts_output_MeanAbsoluteRatio: 1.0111 - s5kpts_output_analog_recall: 0.8712 - s6kpts_output_MeanAbsoluteRatio: 1.0102 - s6kpts_output_analog_recall: 0.8748 - val_loss: 0.0675 - val_s1pafs_output_loss: 0.0030 - val_s2pafs_output_loss: 0.0028 - val_s3pafs_output_loss: 0.0026 - val_s4pafs_output_loss: 0.0026 - val_s5kpts_output_loss: 0.0063 - val_s6kpts_output_loss: 0.0061 - val_s1pafs_output_MeanAbsoluteRatio: 1.0178 - val_s1pafs_output_analog_recall: 0.8614 - val_s2pafs_output_MeanAbsoluteRatio: 1.0119 - val_s2pafs_output_analog_recall: 0.8689 - val_s3pafs_output_MeanAbsoluteRatio: 1.0147 - val_s3pafs_output_analog_recall: 0.8793 - val_s4pafs_output_MeanAbsoluteRatio: 1.0207 - val_s4pafs_output_analog_recall: 0.8836 - val_s5kpts_output_MeanAbsoluteRatio: 1.0513 - val_s5kpts_output_analog_recall: 0.8769 - val_s6kpts_output_MeanAbsoluteRatio: 1.0351 - val_s6kpts_output_analog_recall: 0.8770\n",
      "\n",
      "Learning rate for epoch 151 is 0.0010000000474974513\n",
      "Epoch 152/262\n",
      "50/50 [==============================] - 41s 820ms/step - loss: 0.0607 - s1pafs_output_loss: 0.0028 - s2pafs_output_loss: 0.0025 - s3pafs_output_loss: 0.0023 - s4pafs_output_loss: 0.0023 - s5kpts_output_loss: 0.0056 - s6kpts_output_loss: 0.0055 - s1pafs_output_MeanAbsoluteRatio: 0.9953 - s1pafs_output_analog_recall: 0.8656 - s2pafs_output_MeanAbsoluteRatio: 1.0012 - s2pafs_output_analog_recall: 0.8760 - s3pafs_output_MeanAbsoluteRatio: 0.9961 - s3pafs_output_analog_recall: 0.8832 - s4pafs_output_MeanAbsoluteRatio: 0.9961 - s4pafs_output_analog_recall: 0.8858 - s5kpts_output_MeanAbsoluteRatio: 1.0089 - s5kpts_output_analog_recall: 0.8711 - s6kpts_output_MeanAbsoluteRatio: 1.0079 - s6kpts_output_analog_recall: 0.8749 - val_loss: 0.0659 - val_s1pafs_output_loss: 0.0030 - val_s2pafs_output_loss: 0.0027 - val_s3pafs_output_loss: 0.0026 - val_s4pafs_output_loss: 0.0026 - val_s5kpts_output_loss: 0.0060 - val_s6kpts_output_loss: 0.0058 - val_s1pafs_output_MeanAbsoluteRatio: 1.0117 - val_s1pafs_output_analog_recall: 0.8625 - val_s2pafs_output_MeanAbsoluteRatio: 1.0172 - val_s2pafs_output_analog_recall: 0.8748 - val_s3pafs_output_MeanAbsoluteRatio: 1.0155 - val_s3pafs_output_analog_recall: 0.8838 - val_s4pafs_output_MeanAbsoluteRatio: 1.0233 - val_s4pafs_output_analog_recall: 0.8868 - val_s5kpts_output_MeanAbsoluteRatio: 1.0328 - val_s5kpts_output_analog_recall: 0.8769 - val_s6kpts_output_MeanAbsoluteRatio: 1.0228 - val_s6kpts_output_analog_recall: 0.8770\n",
      "\n",
      "Learning rate for epoch 152 is 0.0010000000474974513\n",
      "Epoch 153/262\n",
      "50/50 [==============================] - 64s 1s/step - loss: 0.0613 - s1pafs_output_loss: 0.0028 - s2pafs_output_loss: 0.0025 - s3pafs_output_loss: 0.0024 - s4pafs_output_loss: 0.0023 - s5kpts_output_loss: 0.0056 - s6kpts_output_loss: 0.0055 - s1pafs_output_MeanAbsoluteRatio: 0.9962 - s1pafs_output_analog_recall: 0.8646 - s2pafs_output_MeanAbsoluteRatio: 1.0001 - s2pafs_output_analog_recall: 0.8752 - s3pafs_output_MeanAbsoluteRatio: 0.9948 - s3pafs_output_analog_recall: 0.8820 - s4pafs_output_MeanAbsoluteRatio: 0.9940 - s4pafs_output_analog_recall: 0.8848 - s5kpts_output_MeanAbsoluteRatio: 1.0074 - s5kpts_output_analog_recall: 0.8718 - s6kpts_output_MeanAbsoluteRatio: 1.0065 - s6kpts_output_analog_recall: 0.8758 - val_loss: 0.0664 - val_s1pafs_output_loss: 0.0030 - val_s2pafs_output_loss: 0.0027 - val_s3pafs_output_loss: 0.0026 - val_s4pafs_output_loss: 0.0025 - val_s5kpts_output_loss: 0.0061 - val_s6kpts_output_loss: 0.0060 - val_s1pafs_output_MeanAbsoluteRatio: 0.9736 - val_s1pafs_output_analog_recall: 0.8549 - val_s2pafs_output_MeanAbsoluteRatio: 0.9979 - val_s2pafs_output_analog_recall: 0.8685 - val_s3pafs_output_MeanAbsoluteRatio: 0.9855 - val_s3pafs_output_analog_recall: 0.8740 - val_s4pafs_output_MeanAbsoluteRatio: 0.9881 - val_s4pafs_output_analog_recall: 0.8772 - val_s5kpts_output_MeanAbsoluteRatio: 0.9775 - val_s5kpts_output_analog_recall: 0.8564 - val_s6kpts_output_MeanAbsoluteRatio: 0.9781 - val_s6kpts_output_analog_recall: 0.8613\n",
      "\n",
      "Learning rate for epoch 153 is 0.0010000000474974513\n",
      "Epoch 154/262\n",
      "50/50 [==============================] - 47s 948ms/step - loss: 0.0593 - s1pafs_output_loss: 0.0027 - s2pafs_output_loss: 0.0025 - s3pafs_output_loss: 0.0023 - s4pafs_output_loss: 0.0022 - s5kpts_output_loss: 0.0055 - s6kpts_output_loss: 0.0054 - s1pafs_output_MeanAbsoluteRatio: 0.9949 - s1pafs_output_analog_recall: 0.8683 - s2pafs_output_MeanAbsoluteRatio: 1.0008 - s2pafs_output_analog_recall: 0.8784 - s3pafs_output_MeanAbsoluteRatio: 0.9941 - s3pafs_output_analog_recall: 0.8850 - s4pafs_output_MeanAbsoluteRatio: 0.9947 - s4pafs_output_analog_recall: 0.8875 - s5kpts_output_MeanAbsoluteRatio: 1.0094 - s5kpts_output_analog_recall: 0.8729 - s6kpts_output_MeanAbsoluteRatio: 1.0075 - s6kpts_output_analog_recall: 0.8762 - val_loss: 0.0660 - val_s1pafs_output_loss: 0.0030 - val_s2pafs_output_loss: 0.0027 - val_s3pafs_output_loss: 0.0026 - val_s4pafs_output_loss: 0.0025 - val_s5kpts_output_loss: 0.0061 - val_s6kpts_output_loss: 0.0060 - val_s1pafs_output_MeanAbsoluteRatio: 0.9941 - val_s1pafs_output_analog_recall: 0.8602 - val_s2pafs_output_MeanAbsoluteRatio: 0.9939 - val_s2pafs_output_analog_recall: 0.8686 - val_s3pafs_output_MeanAbsoluteRatio: 0.9839 - val_s3pafs_output_analog_recall: 0.8736 - val_s4pafs_output_MeanAbsoluteRatio: 0.9901 - val_s4pafs_output_analog_recall: 0.8773 - val_s5kpts_output_MeanAbsoluteRatio: 0.9995 - val_s5kpts_output_analog_recall: 0.8641 - val_s6kpts_output_MeanAbsoluteRatio: 1.0006 - val_s6kpts_output_analog_recall: 0.8671\n",
      "\n",
      "Learning rate for epoch 154 is 0.0010000000474974513\n",
      "Epoch 155/262\n",
      "50/50 [==============================] - 49s 976ms/step - loss: 0.0599 - s1pafs_output_loss: 0.0027 - s2pafs_output_loss: 0.0025 - s3pafs_output_loss: 0.0023 - s4pafs_output_loss: 0.0023 - s5kpts_output_loss: 0.0055 - s6kpts_output_loss: 0.0054 - s1pafs_output_MeanAbsoluteRatio: 0.9958 - s1pafs_output_analog_recall: 0.8675 - s2pafs_output_MeanAbsoluteRatio: 0.9993 - s2pafs_output_analog_recall: 0.8773 - s3pafs_output_MeanAbsoluteRatio: 0.9963 - s3pafs_output_analog_recall: 0.8842 - s4pafs_output_MeanAbsoluteRatio: 0.9944 - s4pafs_output_analog_recall: 0.8869 - s5kpts_output_MeanAbsoluteRatio: 1.0094 - s5kpts_output_analog_recall: 0.8719 - s6kpts_output_MeanAbsoluteRatio: 1.0094 - s6kpts_output_analog_recall: 0.8756 - val_loss: 0.0678 - val_s1pafs_output_loss: 0.0030 - val_s2pafs_output_loss: 0.0028 - val_s3pafs_output_loss: 0.0026 - val_s4pafs_output_loss: 0.0026 - val_s5kpts_output_loss: 0.0064 - val_s6kpts_output_loss: 0.0062 - val_s1pafs_output_MeanAbsoluteRatio: 1.0004 - val_s1pafs_output_analog_recall: 0.8613 - val_s2pafs_output_MeanAbsoluteRatio: 0.9991 - val_s2pafs_output_analog_recall: 0.8713 - val_s3pafs_output_MeanAbsoluteRatio: 0.9932 - val_s3pafs_output_analog_recall: 0.8772 - val_s4pafs_output_MeanAbsoluteRatio: 0.9952 - val_s4pafs_output_analog_recall: 0.8799 - val_s5kpts_output_MeanAbsoluteRatio: 1.0254 - val_s5kpts_output_analog_recall: 0.8715 - val_s6kpts_output_MeanAbsoluteRatio: 1.0303 - val_s6kpts_output_analog_recall: 0.8754\n",
      "\n",
      "Learning rate for epoch 155 is 0.0010000000474974513\n",
      "Epoch 156/262\n"
     ]
    },
    {
     "name": "stdout",
     "output_type": "stream",
     "text": [
      "50/50 [==============================] - 44s 889ms/step - loss: 0.0596 - s1pafs_output_loss: 0.0027 - s2pafs_output_loss: 0.0025 - s3pafs_output_loss: 0.0023 - s4pafs_output_loss: 0.0023 - s5kpts_output_loss: 0.0055 - s6kpts_output_loss: 0.0053 - s1pafs_output_MeanAbsoluteRatio: 0.9979 - s1pafs_output_analog_recall: 0.8677 - s2pafs_output_MeanAbsoluteRatio: 1.0010 - s2pafs_output_analog_recall: 0.8780 - s3pafs_output_MeanAbsoluteRatio: 0.9963 - s3pafs_output_analog_recall: 0.8851 - s4pafs_output_MeanAbsoluteRatio: 0.9981 - s4pafs_output_analog_recall: 0.8877 - s5kpts_output_MeanAbsoluteRatio: 1.0096 - s5kpts_output_analog_recall: 0.8742 - s6kpts_output_MeanAbsoluteRatio: 1.0081 - s6kpts_output_analog_recall: 0.8776 - val_loss: 0.0656 - val_s1pafs_output_loss: 0.0030 - val_s2pafs_output_loss: 0.0027 - val_s3pafs_output_loss: 0.0025 - val_s4pafs_output_loss: 0.0025 - val_s5kpts_output_loss: 0.0061 - val_s6kpts_output_loss: 0.0059 - val_s1pafs_output_MeanAbsoluteRatio: 0.9788 - val_s1pafs_output_analog_recall: 0.8561 - val_s2pafs_output_MeanAbsoluteRatio: 0.9885 - val_s2pafs_output_analog_recall: 0.8690 - val_s3pafs_output_MeanAbsoluteRatio: 0.9930 - val_s3pafs_output_analog_recall: 0.8777 - val_s4pafs_output_MeanAbsoluteRatio: 0.9944 - val_s4pafs_output_analog_recall: 0.8774 - val_s5kpts_output_MeanAbsoluteRatio: 1.0216 - val_s5kpts_output_analog_recall: 0.8665 - val_s6kpts_output_MeanAbsoluteRatio: 1.0067 - val_s6kpts_output_analog_recall: 0.8669\n",
      "\n",
      "Learning rate for epoch 156 is 0.0010000000474974513\n",
      "Epoch 157/262\n",
      "50/50 [==============================] - 45s 909ms/step - loss: 0.0591 - s1pafs_output_loss: 0.0027 - s2pafs_output_loss: 0.0024 - s3pafs_output_loss: 0.0023 - s4pafs_output_loss: 0.0022 - s5kpts_output_loss: 0.0055 - s6kpts_output_loss: 0.0054 - s1pafs_output_MeanAbsoluteRatio: 0.9995 - s1pafs_output_analog_recall: 0.8681 - s2pafs_output_MeanAbsoluteRatio: 1.0015 - s2pafs_output_analog_recall: 0.8788 - s3pafs_output_MeanAbsoluteRatio: 0.9951 - s3pafs_output_analog_recall: 0.8856 - s4pafs_output_MeanAbsoluteRatio: 0.9970 - s4pafs_output_analog_recall: 0.8879 - s5kpts_output_MeanAbsoluteRatio: 1.0081 - s5kpts_output_analog_recall: 0.8723 - s6kpts_output_MeanAbsoluteRatio: 1.0077 - s6kpts_output_analog_recall: 0.8759 - val_loss: 0.0652 - val_s1pafs_output_loss: 0.0029 - val_s2pafs_output_loss: 0.0027 - val_s3pafs_output_loss: 0.0025 - val_s4pafs_output_loss: 0.0025 - val_s5kpts_output_loss: 0.0061 - val_s6kpts_output_loss: 0.0060 - val_s1pafs_output_MeanAbsoluteRatio: 0.9810 - val_s1pafs_output_analog_recall: 0.8579 - val_s2pafs_output_MeanAbsoluteRatio: 0.9967 - val_s2pafs_output_analog_recall: 0.8735 - val_s3pafs_output_MeanAbsoluteRatio: 0.9888 - val_s3pafs_output_analog_recall: 0.8780 - val_s4pafs_output_MeanAbsoluteRatio: 0.9996 - val_s4pafs_output_analog_recall: 0.8830 - val_s5kpts_output_MeanAbsoluteRatio: 1.0466 - val_s5kpts_output_analog_recall: 0.8807 - val_s6kpts_output_MeanAbsoluteRatio: 1.0676 - val_s6kpts_output_analog_recall: 0.8893\n",
      "\n",
      "Learning rate for epoch 157 is 0.0010000000474974513\n",
      "Epoch 158/262\n",
      "32/50 [==================>...........] - ETA: 13s - loss: 0.0587 - s1pafs_output_loss: 0.0027 - s2pafs_output_loss: 0.0024 - s3pafs_output_loss: 0.0023 - s4pafs_output_loss: 0.0022 - s5kpts_output_loss: 0.0055 - s6kpts_output_loss: 0.0053 - s1pafs_output_MeanAbsoluteRatio: 0.9965 - s1pafs_output_analog_recall: 0.8697 - s2pafs_output_MeanAbsoluteRatio: 0.9984 - s2pafs_output_analog_recall: 0.8799 - s3pafs_output_MeanAbsoluteRatio: 0.9941 - s3pafs_output_analog_recall: 0.8864 - s4pafs_output_MeanAbsoluteRatio: 0.9980 - s4pafs_output_analog_recall: 0.8889 - s5kpts_output_MeanAbsoluteRatio: 1.0128 - s5kpts_output_analog_recall: 0.8743 - s6kpts_output_MeanAbsoluteRatio: 1.0107 - s6kpts_output_analog_recall: 0.8775\n",
      "Epoch 00158: saving model to gs://dl_training_results/checkpoints/model1115Sun1219-0341/-E0158.ckpt\n",
      "50/50 [==============================] - 51s 1s/step - loss: 0.0591 - s1pafs_output_loss: 0.0027 - s2pafs_output_loss: 0.0024 - s3pafs_output_loss: 0.0023 - s4pafs_output_loss: 0.0022 - s5kpts_output_loss: 0.0055 - s6kpts_output_loss: 0.0054 - s1pafs_output_MeanAbsoluteRatio: 0.9949 - s1pafs_output_analog_recall: 0.8689 - s2pafs_output_MeanAbsoluteRatio: 0.9993 - s2pafs_output_analog_recall: 0.8794 - s3pafs_output_MeanAbsoluteRatio: 0.9945 - s3pafs_output_analog_recall: 0.8860 - s4pafs_output_MeanAbsoluteRatio: 0.9983 - s4pafs_output_analog_recall: 0.8884 - s5kpts_output_MeanAbsoluteRatio: 1.0104 - s5kpts_output_analog_recall: 0.8733 - s6kpts_output_MeanAbsoluteRatio: 1.0097 - s6kpts_output_analog_recall: 0.8767 - val_loss: 0.0662 - val_s1pafs_output_loss: 0.0030 - val_s2pafs_output_loss: 0.0028 - val_s3pafs_output_loss: 0.0026 - val_s4pafs_output_loss: 0.0025 - val_s5kpts_output_loss: 0.0061 - val_s6kpts_output_loss: 0.0059 - val_s1pafs_output_MeanAbsoluteRatio: 0.9896 - val_s1pafs_output_analog_recall: 0.8607 - val_s2pafs_output_MeanAbsoluteRatio: 1.0160 - val_s2pafs_output_analog_recall: 0.8736 - val_s3pafs_output_MeanAbsoluteRatio: 1.0113 - val_s3pafs_output_analog_recall: 0.8796 - val_s4pafs_output_MeanAbsoluteRatio: 1.0197 - val_s4pafs_output_analog_recall: 0.8846 - val_s5kpts_output_MeanAbsoluteRatio: 1.0456 - val_s5kpts_output_analog_recall: 0.8755 - val_s6kpts_output_MeanAbsoluteRatio: 1.0493 - val_s6kpts_output_analog_recall: 0.8796\n",
      "\n",
      "Learning rate for epoch 158 is 0.0010000000474974513\n",
      "Epoch 159/262\n",
      "50/50 [==============================] - 50s 1s/step - loss: 0.0593 - s1pafs_output_loss: 0.0027 - s2pafs_output_loss: 0.0025 - s3pafs_output_loss: 0.0023 - s4pafs_output_loss: 0.0023 - s5kpts_output_loss: 0.0055 - s6kpts_output_loss: 0.0054 - s1pafs_output_MeanAbsoluteRatio: 0.9973 - s1pafs_output_analog_recall: 0.8689 - s2pafs_output_MeanAbsoluteRatio: 1.0010 - s2pafs_output_analog_recall: 0.8788 - s3pafs_output_MeanAbsoluteRatio: 0.9974 - s3pafs_output_analog_recall: 0.8853 - s4pafs_output_MeanAbsoluteRatio: 0.9979 - s4pafs_output_analog_recall: 0.8875 - s5kpts_output_MeanAbsoluteRatio: 1.0100 - s5kpts_output_analog_recall: 0.8730 - s6kpts_output_MeanAbsoluteRatio: 1.0088 - s6kpts_output_analog_recall: 0.8765 - val_loss: 0.0656 - val_s1pafs_output_loss: 0.0029 - val_s2pafs_output_loss: 0.0027 - val_s3pafs_output_loss: 0.0026 - val_s4pafs_output_loss: 0.0025 - val_s5kpts_output_loss: 0.0061 - val_s6kpts_output_loss: 0.0060 - val_s1pafs_output_MeanAbsoluteRatio: 0.9836 - val_s1pafs_output_analog_recall: 0.8584 - val_s2pafs_output_MeanAbsoluteRatio: 0.9841 - val_s2pafs_output_analog_recall: 0.8662 - val_s3pafs_output_MeanAbsoluteRatio: 0.9827 - val_s3pafs_output_analog_recall: 0.8750 - val_s4pafs_output_MeanAbsoluteRatio: 0.9867 - val_s4pafs_output_analog_recall: 0.8804 - val_s5kpts_output_MeanAbsoluteRatio: 0.9734 - val_s5kpts_output_analog_recall: 0.8586 - val_s6kpts_output_MeanAbsoluteRatio: 0.9698 - val_s6kpts_output_analog_recall: 0.8622\n",
      "\n",
      "Learning rate for epoch 159 is 0.0010000000474974513\n",
      "Epoch 160/262\n",
      "50/50 [==============================] - 43s 867ms/step - loss: 0.0601 - s1pafs_output_loss: 0.0027 - s2pafs_output_loss: 0.0025 - s3pafs_output_loss: 0.0023 - s4pafs_output_loss: 0.0023 - s5kpts_output_loss: 0.0055 - s6kpts_output_loss: 0.0054 - s1pafs_output_MeanAbsoluteRatio: 0.9983 - s1pafs_output_analog_recall: 0.8678 - s2pafs_output_MeanAbsoluteRatio: 1.0015 - s2pafs_output_analog_recall: 0.8777 - s3pafs_output_MeanAbsoluteRatio: 0.9954 - s3pafs_output_analog_recall: 0.8844 - s4pafs_output_MeanAbsoluteRatio: 0.9967 - s4pafs_output_analog_recall: 0.8868 - s5kpts_output_MeanAbsoluteRatio: 1.0082 - s5kpts_output_analog_recall: 0.8723 - s6kpts_output_MeanAbsoluteRatio: 1.0071 - s6kpts_output_analog_recall: 0.8757 - val_loss: 0.0662 - val_s1pafs_output_loss: 0.0030 - val_s2pafs_output_loss: 0.0027 - val_s3pafs_output_loss: 0.0026 - val_s4pafs_output_loss: 0.0025 - val_s5kpts_output_loss: 0.0062 - val_s6kpts_output_loss: 0.0060 - val_s1pafs_output_MeanAbsoluteRatio: 0.9819 - val_s1pafs_output_analog_recall: 0.8583 - val_s2pafs_output_MeanAbsoluteRatio: 1.0007 - val_s2pafs_output_analog_recall: 0.8730 - val_s3pafs_output_MeanAbsoluteRatio: 0.9973 - val_s3pafs_output_analog_recall: 0.8790 - val_s4pafs_output_MeanAbsoluteRatio: 0.9984 - val_s4pafs_output_analog_recall: 0.8816 - val_s5kpts_output_MeanAbsoluteRatio: 1.0115 - val_s5kpts_output_analog_recall: 0.8723 - val_s6kpts_output_MeanAbsoluteRatio: 1.0125 - val_s6kpts_output_analog_recall: 0.8760\n"
     ]
    },
    {
     "name": "stdout",
     "output_type": "stream",
     "text": [
      "\n",
      "Learning rate for epoch 160 is 0.0010000000474974513\n",
      "Epoch 161/262\n",
      "50/50 [==============================] - 61s 1s/step - loss: 0.0604 - s1pafs_output_loss: 0.0027 - s2pafs_output_loss: 0.0025 - s3pafs_output_loss: 0.0023 - s4pafs_output_loss: 0.0023 - s5kpts_output_loss: 0.0056 - s6kpts_output_loss: 0.0054 - s1pafs_output_MeanAbsoluteRatio: 1.0003 - s1pafs_output_analog_recall: 0.8670 - s2pafs_output_MeanAbsoluteRatio: 1.0020 - s2pafs_output_analog_recall: 0.8771 - s3pafs_output_MeanAbsoluteRatio: 0.9959 - s3pafs_output_analog_recall: 0.8840 - s4pafs_output_MeanAbsoluteRatio: 0.9977 - s4pafs_output_analog_recall: 0.8866 - s5kpts_output_MeanAbsoluteRatio: 1.0107 - s5kpts_output_analog_recall: 0.8726 - s6kpts_output_MeanAbsoluteRatio: 1.0094 - s6kpts_output_analog_recall: 0.8760 - val_loss: 0.0660 - val_s1pafs_output_loss: 0.0030 - val_s2pafs_output_loss: 0.0027 - val_s3pafs_output_loss: 0.0026 - val_s4pafs_output_loss: 0.0025 - val_s5kpts_output_loss: 0.0061 - val_s6kpts_output_loss: 0.0060 - val_s1pafs_output_MeanAbsoluteRatio: 0.9793 - val_s1pafs_output_analog_recall: 0.8576 - val_s2pafs_output_MeanAbsoluteRatio: 0.9840 - val_s2pafs_output_analog_recall: 0.8659 - val_s3pafs_output_MeanAbsoluteRatio: 0.9705 - val_s3pafs_output_analog_recall: 0.8708 - val_s4pafs_output_MeanAbsoluteRatio: 0.9698 - val_s4pafs_output_analog_recall: 0.8721 - val_s5kpts_output_MeanAbsoluteRatio: 0.9716 - val_s5kpts_output_analog_recall: 0.8541 - val_s6kpts_output_MeanAbsoluteRatio: 0.9689 - val_s6kpts_output_analog_recall: 0.8560\n",
      "\n",
      "Learning rate for epoch 161 is 0.0010000000474974513\n",
      "Epoch 162/262\n",
      "50/50 [==============================] - 45s 900ms/step - loss: 0.0609 - s1pafs_output_loss: 0.0028 - s2pafs_output_loss: 0.0025 - s3pafs_output_loss: 0.0024 - s4pafs_output_loss: 0.0023 - s5kpts_output_loss: 0.0056 - s6kpts_output_loss: 0.0054 - s1pafs_output_MeanAbsoluteRatio: 0.9921 - s1pafs_output_analog_recall: 0.8651 - s2pafs_output_MeanAbsoluteRatio: 0.9986 - s2pafs_output_analog_recall: 0.8754 - s3pafs_output_MeanAbsoluteRatio: 0.9946 - s3pafs_output_analog_recall: 0.8828 - s4pafs_output_MeanAbsoluteRatio: 0.9954 - s4pafs_output_analog_recall: 0.8855 - s5kpts_output_MeanAbsoluteRatio: 1.0076 - s5kpts_output_analog_recall: 0.8724 - s6kpts_output_MeanAbsoluteRatio: 1.0086 - s6kpts_output_analog_recall: 0.8764 - val_loss: 0.0656 - val_s1pafs_output_loss: 0.0030 - val_s2pafs_output_loss: 0.0027 - val_s3pafs_output_loss: 0.0026 - val_s4pafs_output_loss: 0.0025 - val_s5kpts_output_loss: 0.0060 - val_s6kpts_output_loss: 0.0058 - val_s1pafs_output_MeanAbsoluteRatio: 0.9869 - val_s1pafs_output_analog_recall: 0.8605 - val_s2pafs_output_MeanAbsoluteRatio: 1.0026 - val_s2pafs_output_analog_recall: 0.8709 - val_s3pafs_output_MeanAbsoluteRatio: 0.9863 - val_s3pafs_output_analog_recall: 0.8740 - val_s4pafs_output_MeanAbsoluteRatio: 0.9813 - val_s4pafs_output_analog_recall: 0.8737 - val_s5kpts_output_MeanAbsoluteRatio: 1.0126 - val_s5kpts_output_analog_recall: 0.8690 - val_s6kpts_output_MeanAbsoluteRatio: 0.9926 - val_s6kpts_output_analog_recall: 0.8674\n",
      "\n",
      "Learning rate for epoch 162 is 0.0010000000474974513\n",
      "Epoch 163/262\n",
      "50/50 [==============================] - 44s 882ms/step - loss: 0.0583 - s1pafs_output_loss: 0.0027 - s2pafs_output_loss: 0.0024 - s3pafs_output_loss: 0.0023 - s4pafs_output_loss: 0.0022 - s5kpts_output_loss: 0.0054 - s6kpts_output_loss: 0.0053 - s1pafs_output_MeanAbsoluteRatio: 0.9997 - s1pafs_output_analog_recall: 0.8695 - s2pafs_output_MeanAbsoluteRatio: 0.9986 - s2pafs_output_analog_recall: 0.8794 - s3pafs_output_MeanAbsoluteRatio: 0.9945 - s3pafs_output_analog_recall: 0.8862 - s4pafs_output_MeanAbsoluteRatio: 0.9948 - s4pafs_output_analog_recall: 0.8889 - s5kpts_output_MeanAbsoluteRatio: 1.0092 - s5kpts_output_analog_recall: 0.8743 - s6kpts_output_MeanAbsoluteRatio: 1.0070 - s6kpts_output_analog_recall: 0.8781 - val_loss: 0.0659 - val_s1pafs_output_loss: 0.0030 - val_s2pafs_output_loss: 0.0027 - val_s3pafs_output_loss: 0.0026 - val_s4pafs_output_loss: 0.0025 - val_s5kpts_output_loss: 0.0061 - val_s6kpts_output_loss: 0.0060 - val_s1pafs_output_MeanAbsoluteRatio: 1.0192 - val_s1pafs_output_analog_recall: 0.8675 - val_s2pafs_output_MeanAbsoluteRatio: 1.0163 - val_s2pafs_output_analog_recall: 0.8744 - val_s3pafs_output_MeanAbsoluteRatio: 1.0040 - val_s3pafs_output_analog_recall: 0.8776 - val_s4pafs_output_MeanAbsoluteRatio: 1.0069 - val_s4pafs_output_analog_recall: 0.8811 - val_s5kpts_output_MeanAbsoluteRatio: 1.0412 - val_s5kpts_output_analog_recall: 0.8783 - val_s6kpts_output_MeanAbsoluteRatio: 1.0393 - val_s6kpts_output_analog_recall: 0.8823\n",
      "\n",
      "Learning rate for epoch 163 is 0.0010000000474974513\n",
      "Epoch 164/262\n",
      "50/50 [==============================] - 48s 963ms/step - loss: 0.0607 - s1pafs_output_loss: 0.0027 - s2pafs_output_loss: 0.0025 - s3pafs_output_loss: 0.0023 - s4pafs_output_loss: 0.0023 - s5kpts_output_loss: 0.0057 - s6kpts_output_loss: 0.0056 - s1pafs_output_MeanAbsoluteRatio: 0.9964 - s1pafs_output_analog_recall: 0.8672 - s2pafs_output_MeanAbsoluteRatio: 1.0003 - s2pafs_output_analog_recall: 0.8770 - s3pafs_output_MeanAbsoluteRatio: 0.9949 - s3pafs_output_analog_recall: 0.8835 - s4pafs_output_MeanAbsoluteRatio: 0.9950 - s4pafs_output_analog_recall: 0.8859 - s5kpts_output_MeanAbsoluteRatio: 1.0073 - s5kpts_output_analog_recall: 0.8691 - s6kpts_output_MeanAbsoluteRatio: 1.0067 - s6kpts_output_analog_recall: 0.8724 - val_loss: 0.0691 - val_s1pafs_output_loss: 0.0031 - val_s2pafs_output_loss: 0.0028 - val_s3pafs_output_loss: 0.0027 - val_s4pafs_output_loss: 0.0027 - val_s5kpts_output_loss: 0.0064 - val_s6kpts_output_loss: 0.0063 - val_s1pafs_output_MeanAbsoluteRatio: 1.0293 - val_s1pafs_output_analog_recall: 0.8680 - val_s2pafs_output_MeanAbsoluteRatio: 1.0248 - val_s2pafs_output_analog_recall: 0.8748 - val_s3pafs_output_MeanAbsoluteRatio: 1.0235 - val_s3pafs_output_analog_recall: 0.8824 - val_s4pafs_output_MeanAbsoluteRatio: 1.0385 - val_s4pafs_output_analog_recall: 0.8901 - val_s5kpts_output_MeanAbsoluteRatio: 1.0859 - val_s5kpts_output_analog_recall: 0.8848 - val_s6kpts_output_MeanAbsoluteRatio: 1.1070 - val_s6kpts_output_analog_recall: 0.8915\n",
      "\n",
      "Learning rate for epoch 164 is 0.0010000000474974513\n",
      "Epoch 165/262\n",
      "50/50 [==============================] - 49s 978ms/step - loss: 0.0604 - s1pafs_output_loss: 0.0027 - s2pafs_output_loss: 0.0025 - s3pafs_output_loss: 0.0023 - s4pafs_output_loss: 0.0023 - s5kpts_output_loss: 0.0056 - s6kpts_output_loss: 0.0055 - s1pafs_output_MeanAbsoluteRatio: 0.9994 - s1pafs_output_analog_recall: 0.8661 - s2pafs_output_MeanAbsoluteRatio: 1.0013 - s2pafs_output_analog_recall: 0.8768 - s3pafs_output_MeanAbsoluteRatio: 0.9963 - s3pafs_output_analog_recall: 0.8838 - s4pafs_output_MeanAbsoluteRatio: 0.9974 - s4pafs_output_analog_recall: 0.8863 - s5kpts_output_MeanAbsoluteRatio: 1.0092 - s5kpts_output_analog_recall: 0.8715 - s6kpts_output_MeanAbsoluteRatio: 1.0079 - s6kpts_output_analog_recall: 0.8751 - val_loss: 0.0657 - val_s1pafs_output_loss: 0.0030 - val_s2pafs_output_loss: 0.0027 - val_s3pafs_output_loss: 0.0026 - val_s4pafs_output_loss: 0.0025 - val_s5kpts_output_loss: 0.0061 - val_s6kpts_output_loss: 0.0059 - val_s1pafs_output_MeanAbsoluteRatio: 0.9902 - val_s1pafs_output_analog_recall: 0.8571 - val_s2pafs_output_MeanAbsoluteRatio: 1.0008 - val_s2pafs_output_analog_recall: 0.8708 - val_s3pafs_output_MeanAbsoluteRatio: 0.9875 - val_s3pafs_output_analog_recall: 0.8745 - val_s4pafs_output_MeanAbsoluteRatio: 0.9901 - val_s4pafs_output_analog_recall: 0.8773 - val_s5kpts_output_MeanAbsoluteRatio: 1.0195 - val_s5kpts_output_analog_recall: 0.8691 - val_s6kpts_output_MeanAbsoluteRatio: 1.0242 - val_s6kpts_output_analog_recall: 0.8756\n",
      "\n",
      "Learning rate for epoch 165 is 0.0010000000474974513\n",
      "Epoch 166/262\n"
     ]
    },
    {
     "name": "stdout",
     "output_type": "stream",
     "text": [
      "50/50 [==============================] - 44s 883ms/step - loss: 0.0581 - s1pafs_output_loss: 0.0027 - s2pafs_output_loss: 0.0024 - s3pafs_output_loss: 0.0022 - s4pafs_output_loss: 0.0022 - s5kpts_output_loss: 0.0054 - s6kpts_output_loss: 0.0053 - s1pafs_output_MeanAbsoluteRatio: 1.0000 - s1pafs_output_analog_recall: 0.8699 - s2pafs_output_MeanAbsoluteRatio: 1.0012 - s2pafs_output_analog_recall: 0.8806 - s3pafs_output_MeanAbsoluteRatio: 0.9964 - s3pafs_output_analog_recall: 0.8874 - s4pafs_output_MeanAbsoluteRatio: 0.9976 - s4pafs_output_analog_recall: 0.8901 - s5kpts_output_MeanAbsoluteRatio: 1.0108 - s5kpts_output_analog_recall: 0.8757 - s6kpts_output_MeanAbsoluteRatio: 1.0098 - s6kpts_output_analog_recall: 0.8794 - val_loss: 0.0653 - val_s1pafs_output_loss: 0.0029 - val_s2pafs_output_loss: 0.0027 - val_s3pafs_output_loss: 0.0025 - val_s4pafs_output_loss: 0.0025 - val_s5kpts_output_loss: 0.0060 - val_s6kpts_output_loss: 0.0058 - val_s1pafs_output_MeanAbsoluteRatio: 0.9732 - val_s1pafs_output_analog_recall: 0.8546 - val_s2pafs_output_MeanAbsoluteRatio: 0.9699 - val_s2pafs_output_analog_recall: 0.8629 - val_s3pafs_output_MeanAbsoluteRatio: 0.9732 - val_s3pafs_output_analog_recall: 0.8718 - val_s4pafs_output_MeanAbsoluteRatio: 0.9732 - val_s4pafs_output_analog_recall: 0.8733 - val_s5kpts_output_MeanAbsoluteRatio: 0.9801 - val_s5kpts_output_analog_recall: 0.8566 - val_s6kpts_output_MeanAbsoluteRatio: 0.9852 - val_s6kpts_output_analog_recall: 0.8623\n",
      "\n",
      "Learning rate for epoch 166 is 0.0010000000474974513\n",
      "Epoch 167/262\n",
      "20/50 [===========>..................] - ETA: 22s - loss: 0.0586 - s1pafs_output_loss: 0.0027 - s2pafs_output_loss: 0.0024 - s3pafs_output_loss: 0.0023 - s4pafs_output_loss: 0.0022 - s5kpts_output_loss: 0.0054 - s6kpts_output_loss: 0.0053 - s1pafs_output_MeanAbsoluteRatio: 0.9971 - s1pafs_output_analog_recall: 0.8704 - s2pafs_output_MeanAbsoluteRatio: 0.9991 - s2pafs_output_analog_recall: 0.8800 - s3pafs_output_MeanAbsoluteRatio: 0.9940 - s3pafs_output_analog_recall: 0.8866 - s4pafs_output_MeanAbsoluteRatio: 0.9967 - s4pafs_output_analog_recall: 0.8887 - s5kpts_output_MeanAbsoluteRatio: 1.0087 - s5kpts_output_analog_recall: 0.8745 - s6kpts_output_MeanAbsoluteRatio: 1.0087 - s6kpts_output_analog_recall: 0.8785\n",
      "Epoch 00167: saving model to gs://dl_training_results/checkpoints/model1115Sun1219-0341/-E0167.ckpt\n",
      "50/50 [==============================] - 52s 1s/step - loss: 0.0583 - s1pafs_output_loss: 0.0026 - s2pafs_output_loss: 0.0024 - s3pafs_output_loss: 0.0023 - s4pafs_output_loss: 0.0022 - s5kpts_output_loss: 0.0054 - s6kpts_output_loss: 0.0053 - s1pafs_output_MeanAbsoluteRatio: 1.0001 - s1pafs_output_analog_recall: 0.8709 - s2pafs_output_MeanAbsoluteRatio: 1.0012 - s2pafs_output_analog_recall: 0.8807 - s3pafs_output_MeanAbsoluteRatio: 0.9945 - s3pafs_output_analog_recall: 0.8870 - s4pafs_output_MeanAbsoluteRatio: 0.9968 - s4pafs_output_analog_recall: 0.8895 - s5kpts_output_MeanAbsoluteRatio: 1.0097 - s5kpts_output_analog_recall: 0.8746 - s6kpts_output_MeanAbsoluteRatio: 1.0089 - s6kpts_output_analog_recall: 0.8785 - val_loss: 0.0660 - val_s1pafs_output_loss: 0.0029 - val_s2pafs_output_loss: 0.0027 - val_s3pafs_output_loss: 0.0026 - val_s4pafs_output_loss: 0.0025 - val_s5kpts_output_loss: 0.0062 - val_s6kpts_output_loss: 0.0060 - val_s1pafs_output_MeanAbsoluteRatio: 0.9673 - val_s1pafs_output_analog_recall: 0.8533 - val_s2pafs_output_MeanAbsoluteRatio: 0.9572 - val_s2pafs_output_analog_recall: 0.8568 - val_s3pafs_output_MeanAbsoluteRatio: 0.9524 - val_s3pafs_output_analog_recall: 0.8642 - val_s4pafs_output_MeanAbsoluteRatio: 0.9555 - val_s4pafs_output_analog_recall: 0.8671 - val_s5kpts_output_MeanAbsoluteRatio: 0.9462 - val_s5kpts_output_analog_recall: 0.8419 - val_s6kpts_output_MeanAbsoluteRatio: 0.9421 - val_s6kpts_output_analog_recall: 0.8458\n",
      "\n",
      "Learning rate for epoch 167 is 0.0010000000474974513\n",
      "Epoch 168/262\n",
      "50/50 [==============================] - 49s 983ms/step - loss: 0.0585 - s1pafs_output_loss: 0.0027 - s2pafs_output_loss: 0.0024 - s3pafs_output_loss: 0.0023 - s4pafs_output_loss: 0.0022 - s5kpts_output_loss: 0.0054 - s6kpts_output_loss: 0.0052 - s1pafs_output_MeanAbsoluteRatio: 0.9973 - s1pafs_output_analog_recall: 0.8697 - s2pafs_output_MeanAbsoluteRatio: 1.0018 - s2pafs_output_analog_recall: 0.8796 - s3pafs_output_MeanAbsoluteRatio: 0.9967 - s3pafs_output_analog_recall: 0.8865 - s4pafs_output_MeanAbsoluteRatio: 0.9971 - s4pafs_output_analog_recall: 0.8894 - s5kpts_output_MeanAbsoluteRatio: 1.0066 - s5kpts_output_analog_recall: 0.8753 - s6kpts_output_MeanAbsoluteRatio: 1.0053 - s6kpts_output_analog_recall: 0.8791 - val_loss: 0.0664 - val_s1pafs_output_loss: 0.0030 - val_s2pafs_output_loss: 0.0027 - val_s3pafs_output_loss: 0.0026 - val_s4pafs_output_loss: 0.0026 - val_s5kpts_output_loss: 0.0062 - val_s6kpts_output_loss: 0.0060 - val_s1pafs_output_MeanAbsoluteRatio: 1.0201 - val_s1pafs_output_analog_recall: 0.8672 - val_s2pafs_output_MeanAbsoluteRatio: 1.0202 - val_s2pafs_output_analog_recall: 0.8771 - val_s3pafs_output_MeanAbsoluteRatio: 1.0161 - val_s3pafs_output_analog_recall: 0.8834 - val_s4pafs_output_MeanAbsoluteRatio: 1.0289 - val_s4pafs_output_analog_recall: 0.8891 - val_s5kpts_output_MeanAbsoluteRatio: 1.0494 - val_s5kpts_output_analog_recall: 0.8815 - val_s6kpts_output_MeanAbsoluteRatio: 1.0484 - val_s6kpts_output_analog_recall: 0.8834\n",
      "\n",
      "Learning rate for epoch 168 is 0.0010000000474974513\n",
      "Epoch 169/262\n",
      "50/50 [==============================] - 63s 1s/step - loss: 0.0599 - s1pafs_output_loss: 0.0027 - s2pafs_output_loss: 0.0025 - s3pafs_output_loss: 0.0023 - s4pafs_output_loss: 0.0023 - s5kpts_output_loss: 0.0055 - s6kpts_output_loss: 0.0054 - s1pafs_output_MeanAbsoluteRatio: 0.9976 - s1pafs_output_analog_recall: 0.8680 - s2pafs_output_MeanAbsoluteRatio: 1.0029 - s2pafs_output_analog_recall: 0.8780 - s3pafs_output_MeanAbsoluteRatio: 0.9946 - s3pafs_output_analog_recall: 0.8844 - s4pafs_output_MeanAbsoluteRatio: 0.9948 - s4pafs_output_analog_recall: 0.8869 - s5kpts_output_MeanAbsoluteRatio: 1.0098 - s5kpts_output_analog_recall: 0.8732 - s6kpts_output_MeanAbsoluteRatio: 1.0099 - s6kpts_output_analog_recall: 0.8764 - val_loss: 0.0666 - val_s1pafs_output_loss: 0.0030 - val_s2pafs_output_loss: 0.0027 - val_s3pafs_output_loss: 0.0026 - val_s4pafs_output_loss: 0.0025 - val_s5kpts_output_loss: 0.0062 - val_s6kpts_output_loss: 0.0061 - val_s1pafs_output_MeanAbsoluteRatio: 0.9585 - val_s1pafs_output_analog_recall: 0.8508 - val_s2pafs_output_MeanAbsoluteRatio: 0.9776 - val_s2pafs_output_analog_recall: 0.8631 - val_s3pafs_output_MeanAbsoluteRatio: 0.9853 - val_s3pafs_output_analog_recall: 0.8733 - val_s4pafs_output_MeanAbsoluteRatio: 1.0014 - val_s4pafs_output_analog_recall: 0.8780 - val_s5kpts_output_MeanAbsoluteRatio: 0.9675 - val_s5kpts_output_analog_recall: 0.8490 - val_s6kpts_output_MeanAbsoluteRatio: 0.9668 - val_s6kpts_output_analog_recall: 0.8554\n",
      "\n",
      "Learning rate for epoch 169 is 0.0010000000474974513\n",
      "Epoch 170/262\n",
      "50/50 [==============================] - 47s 935ms/step - loss: 0.0588 - s1pafs_output_loss: 0.0027 - s2pafs_output_loss: 0.0024 - s3pafs_output_loss: 0.0023 - s4pafs_output_loss: 0.0022 - s5kpts_output_loss: 0.0054 - s6kpts_output_loss: 0.0052 - s1pafs_output_MeanAbsoluteRatio: 0.9977 - s1pafs_output_analog_recall: 0.8682 - s2pafs_output_MeanAbsoluteRatio: 1.0029 - s2pafs_output_analog_recall: 0.8794 - s3pafs_output_MeanAbsoluteRatio: 1.0000 - s3pafs_output_analog_recall: 0.8866 - s4pafs_output_MeanAbsoluteRatio: 1.0002 - s4pafs_output_analog_recall: 0.8892 - s5kpts_output_MeanAbsoluteRatio: 1.0103 - s5kpts_output_analog_recall: 0.8753 - s6kpts_output_MeanAbsoluteRatio: 1.0093 - s6kpts_output_analog_recall: 0.8792 - val_loss: 0.0647 - val_s1pafs_output_loss: 0.0029 - val_s2pafs_output_loss: 0.0027 - val_s3pafs_output_loss: 0.0025 - val_s4pafs_output_loss: 0.0025 - val_s5kpts_output_loss: 0.0060 - val_s6kpts_output_loss: 0.0058 - val_s1pafs_output_MeanAbsoluteRatio: 0.9862 - val_s1pafs_output_analog_recall: 0.8605 - val_s2pafs_output_MeanAbsoluteRatio: 0.9884 - val_s2pafs_output_analog_recall: 0.8678 - val_s3pafs_output_MeanAbsoluteRatio: 0.9909 - val_s3pafs_output_analog_recall: 0.8771 - val_s4pafs_output_MeanAbsoluteRatio: 1.0007 - val_s4pafs_output_analog_recall: 0.8810 - val_s5kpts_output_MeanAbsoluteRatio: 0.9654 - val_s5kpts_output_analog_recall: 0.8516 - val_s6kpts_output_MeanAbsoluteRatio: 0.9746 - val_s6kpts_output_analog_recall: 0.8614\n"
     ]
    },
    {
     "name": "stdout",
     "output_type": "stream",
     "text": [
      "\n",
      "Learning rate for epoch 170 is 0.0010000000474974513\n",
      "Epoch 171/262\n",
      "50/50 [==============================] - 48s 966ms/step - loss: 0.0596 - s1pafs_output_loss: 0.0027 - s2pafs_output_loss: 0.0025 - s3pafs_output_loss: 0.0023 - s4pafs_output_loss: 0.0023 - s5kpts_output_loss: 0.0055 - s6kpts_output_loss: 0.0053 - s1pafs_output_MeanAbsoluteRatio: 0.9957 - s1pafs_output_analog_recall: 0.8675 - s2pafs_output_MeanAbsoluteRatio: 0.9993 - s2pafs_output_analog_recall: 0.8777 - s3pafs_output_MeanAbsoluteRatio: 0.9930 - s3pafs_output_analog_recall: 0.8848 - s4pafs_output_MeanAbsoluteRatio: 0.9937 - s4pafs_output_analog_recall: 0.8874 - s5kpts_output_MeanAbsoluteRatio: 1.0063 - s5kpts_output_analog_recall: 0.8742 - s6kpts_output_MeanAbsoluteRatio: 1.0070 - s6kpts_output_analog_recall: 0.8779 - val_loss: 0.0659 - val_s1pafs_output_loss: 0.0029 - val_s2pafs_output_loss: 0.0027 - val_s3pafs_output_loss: 0.0026 - val_s4pafs_output_loss: 0.0025 - val_s5kpts_output_loss: 0.0061 - val_s6kpts_output_loss: 0.0059 - val_s1pafs_output_MeanAbsoluteRatio: 0.9679 - val_s1pafs_output_analog_recall: 0.8550 - val_s2pafs_output_MeanAbsoluteRatio: 0.9751 - val_s2pafs_output_analog_recall: 0.8640 - val_s3pafs_output_MeanAbsoluteRatio: 0.9643 - val_s3pafs_output_analog_recall: 0.8674 - val_s4pafs_output_MeanAbsoluteRatio: 0.9700 - val_s4pafs_output_analog_recall: 0.8723 - val_s5kpts_output_MeanAbsoluteRatio: 0.9751 - val_s5kpts_output_analog_recall: 0.8558 - val_s6kpts_output_MeanAbsoluteRatio: 0.9718 - val_s6kpts_output_analog_recall: 0.8577\n",
      "\n",
      "Learning rate for epoch 171 is 0.0010000000474974513\n",
      "Epoch 172/262\n",
      "50/50 [==============================] - 41s 823ms/step - loss: 0.0582 - s1pafs_output_loss: 0.0026 - s2pafs_output_loss: 0.0024 - s3pafs_output_loss: 0.0022 - s4pafs_output_loss: 0.0022 - s5kpts_output_loss: 0.0054 - s6kpts_output_loss: 0.0053 - s1pafs_output_MeanAbsoluteRatio: 0.9960 - s1pafs_output_analog_recall: 0.8699 - s2pafs_output_MeanAbsoluteRatio: 1.0036 - s2pafs_output_analog_recall: 0.8805 - s3pafs_output_MeanAbsoluteRatio: 0.9960 - s3pafs_output_analog_recall: 0.8871 - s4pafs_output_MeanAbsoluteRatio: 0.9978 - s4pafs_output_analog_recall: 0.8895 - s5kpts_output_MeanAbsoluteRatio: 1.0097 - s5kpts_output_analog_recall: 0.8743 - s6kpts_output_MeanAbsoluteRatio: 1.0084 - s6kpts_output_analog_recall: 0.8782 - val_loss: 0.0652 - val_s1pafs_output_loss: 0.0029 - val_s2pafs_output_loss: 0.0027 - val_s3pafs_output_loss: 0.0025 - val_s4pafs_output_loss: 0.0025 - val_s5kpts_output_loss: 0.0061 - val_s6kpts_output_loss: 0.0059 - val_s1pafs_output_MeanAbsoluteRatio: 0.9933 - val_s1pafs_output_analog_recall: 0.8604 - val_s2pafs_output_MeanAbsoluteRatio: 1.0042 - val_s2pafs_output_analog_recall: 0.8696 - val_s3pafs_output_MeanAbsoluteRatio: 0.9859 - val_s3pafs_output_analog_recall: 0.8751 - val_s4pafs_output_MeanAbsoluteRatio: 0.9819 - val_s4pafs_output_analog_recall: 0.8750 - val_s5kpts_output_MeanAbsoluteRatio: 1.0336 - val_s5kpts_output_analog_recall: 0.8723 - val_s6kpts_output_MeanAbsoluteRatio: 1.0222 - val_s6kpts_output_analog_recall: 0.8725\n",
      "\n",
      "Learning rate for epoch 172 is 0.0010000000474974513\n",
      "Epoch 173/262\n",
      "50/50 [==============================] - 47s 948ms/step - loss: 0.0594 - s1pafs_output_loss: 0.0027 - s2pafs_output_loss: 0.0025 - s3pafs_output_loss: 0.0023 - s4pafs_output_loss: 0.0022 - s5kpts_output_loss: 0.0056 - s6kpts_output_loss: 0.0055 - s1pafs_output_MeanAbsoluteRatio: 1.0010 - s1pafs_output_analog_recall: 0.8693 - s2pafs_output_MeanAbsoluteRatio: 1.0032 - s2pafs_output_analog_recall: 0.8793 - s3pafs_output_MeanAbsoluteRatio: 0.9961 - s3pafs_output_analog_recall: 0.8857 - s4pafs_output_MeanAbsoluteRatio: 0.9970 - s4pafs_output_analog_recall: 0.8879 - s5kpts_output_MeanAbsoluteRatio: 1.0094 - s5kpts_output_analog_recall: 0.8715 - s6kpts_output_MeanAbsoluteRatio: 1.0079 - s6kpts_output_analog_recall: 0.8741 - val_loss: 0.0662 - val_s1pafs_output_loss: 0.0030 - val_s2pafs_output_loss: 0.0027 - val_s3pafs_output_loss: 0.0026 - val_s4pafs_output_loss: 0.0025 - val_s5kpts_output_loss: 0.0062 - val_s6kpts_output_loss: 0.0060 - val_s1pafs_output_MeanAbsoluteRatio: 0.9814 - val_s1pafs_output_analog_recall: 0.8525 - val_s2pafs_output_MeanAbsoluteRatio: 0.9750 - val_s2pafs_output_analog_recall: 0.8611 - val_s3pafs_output_MeanAbsoluteRatio: 0.9776 - val_s3pafs_output_analog_recall: 0.8671 - val_s4pafs_output_MeanAbsoluteRatio: 0.9777 - val_s4pafs_output_analog_recall: 0.8712 - val_s5kpts_output_MeanAbsoluteRatio: 0.9762 - val_s5kpts_output_analog_recall: 0.8533 - val_s6kpts_output_MeanAbsoluteRatio: 0.9796 - val_s6kpts_output_analog_recall: 0.8569\n",
      "\n",
      "Learning rate for epoch 173 is 0.0010000000474974513\n",
      "Epoch 174/262\n",
      "50/50 [==============================] - 46s 917ms/step - loss: 0.0595 - s1pafs_output_loss: 0.0027 - s2pafs_output_loss: 0.0025 - s3pafs_output_loss: 0.0023 - s4pafs_output_loss: 0.0022 - s5kpts_output_loss: 0.0055 - s6kpts_output_loss: 0.0054 - s1pafs_output_MeanAbsoluteRatio: 0.9984 - s1pafs_output_analog_recall: 0.8674 - s2pafs_output_MeanAbsoluteRatio: 1.0003 - s2pafs_output_analog_recall: 0.8780 - s3pafs_output_MeanAbsoluteRatio: 0.9952 - s3pafs_output_analog_recall: 0.8852 - s4pafs_output_MeanAbsoluteRatio: 0.9964 - s4pafs_output_analog_recall: 0.8880 - s5kpts_output_MeanAbsoluteRatio: 1.0079 - s5kpts_output_analog_recall: 0.8736 - s6kpts_output_MeanAbsoluteRatio: 1.0079 - s6kpts_output_analog_recall: 0.8768 - val_loss: 0.0654 - val_s1pafs_output_loss: 0.0029 - val_s2pafs_output_loss: 0.0027 - val_s3pafs_output_loss: 0.0025 - val_s4pafs_output_loss: 0.0025 - val_s5kpts_output_loss: 0.0060 - val_s6kpts_output_loss: 0.0060 - val_s1pafs_output_MeanAbsoluteRatio: 1.0046 - val_s1pafs_output_analog_recall: 0.8637 - val_s2pafs_output_MeanAbsoluteRatio: 1.0244 - val_s2pafs_output_analog_recall: 0.8786 - val_s3pafs_output_MeanAbsoluteRatio: 1.0164 - val_s3pafs_output_analog_recall: 0.8852 - val_s4pafs_output_MeanAbsoluteRatio: 1.0263 - val_s4pafs_output_analog_recall: 0.8907 - val_s5kpts_output_MeanAbsoluteRatio: 1.0317 - val_s5kpts_output_analog_recall: 0.8753 - val_s6kpts_output_MeanAbsoluteRatio: 1.0508 - val_s6kpts_output_analog_recall: 0.8871\n",
      "\n",
      "Learning rate for epoch 174 is 0.0010000000474974513\n",
      "Epoch 175/262\n",
      "50/50 [==============================] - 42s 848ms/step - loss: 0.0571 - s1pafs_output_loss: 0.0026 - s2pafs_output_loss: 0.0024 - s3pafs_output_loss: 0.0022 - s4pafs_output_loss: 0.0022 - s5kpts_output_loss: 0.0053 - s6kpts_output_loss: 0.0052 - s1pafs_output_MeanAbsoluteRatio: 0.9998 - s1pafs_output_analog_recall: 0.8717 - s2pafs_output_MeanAbsoluteRatio: 1.0003 - s2pafs_output_analog_recall: 0.8818 - s3pafs_output_MeanAbsoluteRatio: 0.9956 - s3pafs_output_analog_recall: 0.8885 - s4pafs_output_MeanAbsoluteRatio: 0.9951 - s4pafs_output_analog_recall: 0.8910 - s5kpts_output_MeanAbsoluteRatio: 1.0081 - s5kpts_output_analog_recall: 0.8767 - s6kpts_output_MeanAbsoluteRatio: 1.0065 - s6kpts_output_analog_recall: 0.8805 - val_loss: 0.0642 - val_s1pafs_output_loss: 0.0029 - val_s2pafs_output_loss: 0.0027 - val_s3pafs_output_loss: 0.0025 - val_s4pafs_output_loss: 0.0024 - val_s5kpts_output_loss: 0.0059 - val_s6kpts_output_loss: 0.0058 - val_s1pafs_output_MeanAbsoluteRatio: 1.0137 - val_s1pafs_output_analog_recall: 0.8661 - val_s2pafs_output_MeanAbsoluteRatio: 1.0038 - val_s2pafs_output_analog_recall: 0.8731 - val_s3pafs_output_MeanAbsoluteRatio: 1.0030 - val_s3pafs_output_analog_recall: 0.8814 - val_s4pafs_output_MeanAbsoluteRatio: 0.9965 - val_s4pafs_output_analog_recall: 0.8827 - val_s5kpts_output_MeanAbsoluteRatio: 1.0469 - val_s5kpts_output_analog_recall: 0.8788 - val_s6kpts_output_MeanAbsoluteRatio: 1.0438 - val_s6kpts_output_analog_recall: 0.8827\n",
      "\n",
      "Learning rate for epoch 175 is 0.0010000000474974513\n",
      "Epoch 176/262\n"
     ]
    },
    {
     "name": "stdout",
     "output_type": "stream",
     "text": [
      " 8/50 [===>..........................] - ETA: 30s - loss: 0.0602 - s1pafs_output_loss: 0.0027 - s2pafs_output_loss: 0.0025 - s3pafs_output_loss: 0.0023 - s4pafs_output_loss: 0.0023 - s5kpts_output_loss: 0.0056 - s6kpts_output_loss: 0.0054 - s1pafs_output_MeanAbsoluteRatio: 0.9926 - s1pafs_output_analog_recall: 0.8666 - s2pafs_output_MeanAbsoluteRatio: 1.0026 - s2pafs_output_analog_recall: 0.8791 - s3pafs_output_MeanAbsoluteRatio: 1.0018 - s3pafs_output_analog_recall: 0.8863 - s4pafs_output_MeanAbsoluteRatio: 1.0033 - s4pafs_output_analog_recall: 0.8892 - s5kpts_output_MeanAbsoluteRatio: 1.0175 - s5kpts_output_analog_recall: 0.8738 - s6kpts_output_MeanAbsoluteRatio: 1.0206 - s6kpts_output_analog_recall: 0.8791\n",
      "Epoch 00176: saving model to gs://dl_training_results/checkpoints/model1115Sun1219-0341/-E0176.ckpt\n",
      "50/50 [==============================] - 51s 1s/step - loss: 0.0575 - s1pafs_output_loss: 0.0026 - s2pafs_output_loss: 0.0024 - s3pafs_output_loss: 0.0022 - s4pafs_output_loss: 0.0022 - s5kpts_output_loss: 0.0053 - s6kpts_output_loss: 0.0052 - s1pafs_output_MeanAbsoluteRatio: 0.9982 - s1pafs_output_analog_recall: 0.8713 - s2pafs_output_MeanAbsoluteRatio: 1.0016 - s2pafs_output_analog_recall: 0.8820 - s3pafs_output_MeanAbsoluteRatio: 0.9975 - s3pafs_output_analog_recall: 0.8889 - s4pafs_output_MeanAbsoluteRatio: 0.9986 - s4pafs_output_analog_recall: 0.8918 - s5kpts_output_MeanAbsoluteRatio: 1.0105 - s5kpts_output_analog_recall: 0.8769 - s6kpts_output_MeanAbsoluteRatio: 1.0095 - s6kpts_output_analog_recall: 0.8809 - val_loss: 0.0642 - val_s1pafs_output_loss: 0.0029 - val_s2pafs_output_loss: 0.0027 - val_s3pafs_output_loss: 0.0025 - val_s4pafs_output_loss: 0.0024 - val_s5kpts_output_loss: 0.0059 - val_s6kpts_output_loss: 0.0057 - val_s1pafs_output_MeanAbsoluteRatio: 1.0029 - val_s1pafs_output_analog_recall: 0.8651 - val_s2pafs_output_MeanAbsoluteRatio: 1.0041 - val_s2pafs_output_analog_recall: 0.8743 - val_s3pafs_output_MeanAbsoluteRatio: 0.9941 - val_s3pafs_output_analog_recall: 0.8784 - val_s4pafs_output_MeanAbsoluteRatio: 0.9884 - val_s4pafs_output_analog_recall: 0.8785 - val_s5kpts_output_MeanAbsoluteRatio: 1.0182 - val_s5kpts_output_analog_recall: 0.8722 - val_s6kpts_output_MeanAbsoluteRatio: 1.0148 - val_s6kpts_output_analog_recall: 0.8775\n",
      "\n",
      "Learning rate for epoch 176 is 0.0010000000474974513\n",
      "Epoch 177/262\n",
      "50/50 [==============================] - 70s 1s/step - loss: 0.0582 - s1pafs_output_loss: 0.0027 - s2pafs_output_loss: 0.0024 - s3pafs_output_loss: 0.0023 - s4pafs_output_loss: 0.0022 - s5kpts_output_loss: 0.0053 - s6kpts_output_loss: 0.0051 - s1pafs_output_MeanAbsoluteRatio: 0.9978 - s1pafs_output_analog_recall: 0.8701 - s2pafs_output_MeanAbsoluteRatio: 1.0026 - s2pafs_output_analog_recall: 0.8804 - s3pafs_output_MeanAbsoluteRatio: 0.9973 - s3pafs_output_analog_recall: 0.8873 - s4pafs_output_MeanAbsoluteRatio: 0.9976 - s4pafs_output_analog_recall: 0.8899 - s5kpts_output_MeanAbsoluteRatio: 1.0089 - s5kpts_output_analog_recall: 0.8773 - s6kpts_output_MeanAbsoluteRatio: 1.0084 - s6kpts_output_analog_recall: 0.8814 - val_loss: 0.0647 - val_s1pafs_output_loss: 0.0029 - val_s2pafs_output_loss: 0.0027 - val_s3pafs_output_loss: 0.0025 - val_s4pafs_output_loss: 0.0025 - val_s5kpts_output_loss: 0.0060 - val_s6kpts_output_loss: 0.0058 - val_s1pafs_output_MeanAbsoluteRatio: 0.9803 - val_s1pafs_output_analog_recall: 0.8558 - val_s2pafs_output_MeanAbsoluteRatio: 0.9858 - val_s2pafs_output_analog_recall: 0.8666 - val_s3pafs_output_MeanAbsoluteRatio: 0.9820 - val_s3pafs_output_analog_recall: 0.8750 - val_s4pafs_output_MeanAbsoluteRatio: 0.9797 - val_s4pafs_output_analog_recall: 0.8773 - val_s5kpts_output_MeanAbsoluteRatio: 0.9737 - val_s5kpts_output_analog_recall: 0.8574 - val_s6kpts_output_MeanAbsoluteRatio: 0.9728 - val_s6kpts_output_analog_recall: 0.8607\n",
      "\n",
      "Learning rate for epoch 177 is 0.0010000000474974513\n",
      "Epoch 178/262\n",
      "50/50 [==============================] - 40s 809ms/step - loss: 0.0589 - s1pafs_output_loss: 0.0027 - s2pafs_output_loss: 0.0024 - s3pafs_output_loss: 0.0023 - s4pafs_output_loss: 0.0022 - s5kpts_output_loss: 0.0055 - s6kpts_output_loss: 0.0053 - s1pafs_output_MeanAbsoluteRatio: 0.9998 - s1pafs_output_analog_recall: 0.8689 - s2pafs_output_MeanAbsoluteRatio: 0.9981 - s2pafs_output_analog_recall: 0.8791 - s3pafs_output_MeanAbsoluteRatio: 0.9953 - s3pafs_output_analog_recall: 0.8859 - s4pafs_output_MeanAbsoluteRatio: 0.9958 - s4pafs_output_analog_recall: 0.8884 - s5kpts_output_MeanAbsoluteRatio: 1.0074 - s5kpts_output_analog_recall: 0.8733 - s6kpts_output_MeanAbsoluteRatio: 1.0060 - s6kpts_output_analog_recall: 0.8768 - val_loss: 0.0646 - val_s1pafs_output_loss: 0.0029 - val_s2pafs_output_loss: 0.0027 - val_s3pafs_output_loss: 0.0025 - val_s4pafs_output_loss: 0.0025 - val_s5kpts_output_loss: 0.0059 - val_s6kpts_output_loss: 0.0058 - val_s1pafs_output_MeanAbsoluteRatio: 1.0236 - val_s1pafs_output_analog_recall: 0.8677 - val_s2pafs_output_MeanAbsoluteRatio: 1.0087 - val_s2pafs_output_analog_recall: 0.8745 - val_s3pafs_output_MeanAbsoluteRatio: 0.9978 - val_s3pafs_output_analog_recall: 0.8799 - val_s4pafs_output_MeanAbsoluteRatio: 0.9894 - val_s4pafs_output_analog_recall: 0.8807 - val_s5kpts_output_MeanAbsoluteRatio: 1.0122 - val_s5kpts_output_analog_recall: 0.8740 - val_s6kpts_output_MeanAbsoluteRatio: 1.0147 - val_s6kpts_output_analog_recall: 0.8778\n",
      "\n",
      "Learning rate for epoch 178 is 0.0010000000474974513\n",
      "Epoch 179/262\n",
      "50/50 [==============================] - 46s 926ms/step - loss: 0.0584 - s1pafs_output_loss: 0.0027 - s2pafs_output_loss: 0.0024 - s3pafs_output_loss: 0.0023 - s4pafs_output_loss: 0.0022 - s5kpts_output_loss: 0.0053 - s6kpts_output_loss: 0.0052 - s1pafs_output_MeanAbsoluteRatio: 0.9978 - s1pafs_output_analog_recall: 0.8695 - s2pafs_output_MeanAbsoluteRatio: 1.0010 - s2pafs_output_analog_recall: 0.8797 - s3pafs_output_MeanAbsoluteRatio: 0.9946 - s3pafs_output_analog_recall: 0.8867 - s4pafs_output_MeanAbsoluteRatio: 0.9956 - s4pafs_output_analog_recall: 0.8895 - s5kpts_output_MeanAbsoluteRatio: 1.0080 - s5kpts_output_analog_recall: 0.8770 - s6kpts_output_MeanAbsoluteRatio: 1.0076 - s6kpts_output_analog_recall: 0.8810 - val_loss: 0.0641 - val_s1pafs_output_loss: 0.0029 - val_s2pafs_output_loss: 0.0027 - val_s3pafs_output_loss: 0.0025 - val_s4pafs_output_loss: 0.0025 - val_s5kpts_output_loss: 0.0058 - val_s6kpts_output_loss: 0.0057 - val_s1pafs_output_MeanAbsoluteRatio: 1.0086 - val_s1pafs_output_analog_recall: 0.8660 - val_s2pafs_output_MeanAbsoluteRatio: 1.0153 - val_s2pafs_output_analog_recall: 0.8774 - val_s3pafs_output_MeanAbsoluteRatio: 1.0018 - val_s3pafs_output_analog_recall: 0.8827 - val_s4pafs_output_MeanAbsoluteRatio: 1.0169 - val_s4pafs_output_analog_recall: 0.8875 - val_s5kpts_output_MeanAbsoluteRatio: 1.0159 - val_s5kpts_output_analog_recall: 0.8704 - val_s6kpts_output_MeanAbsoluteRatio: 1.0203 - val_s6kpts_output_analog_recall: 0.8770\n",
      "\n",
      "Learning rate for epoch 179 is 0.0010000000474974513\n",
      "Epoch 180/262\n",
      "50/50 [==============================] - 47s 941ms/step - loss: 0.0588 - s1pafs_output_loss: 0.0027 - s2pafs_output_loss: 0.0025 - s3pafs_output_loss: 0.0023 - s4pafs_output_loss: 0.0022 - s5kpts_output_loss: 0.0054 - s6kpts_output_loss: 0.0052 - s1pafs_output_MeanAbsoluteRatio: 0.9974 - s1pafs_output_analog_recall: 0.8688 - s2pafs_output_MeanAbsoluteRatio: 1.0009 - s2pafs_output_analog_recall: 0.8790 - s3pafs_output_MeanAbsoluteRatio: 0.9951 - s3pafs_output_analog_recall: 0.8861 - s4pafs_output_MeanAbsoluteRatio: 0.9961 - s4pafs_output_analog_recall: 0.8888 - s5kpts_output_MeanAbsoluteRatio: 1.0102 - s5kpts_output_analog_recall: 0.8762 - s6kpts_output_MeanAbsoluteRatio: 1.0075 - s6kpts_output_analog_recall: 0.8799 - val_loss: 0.0646 - val_s1pafs_output_loss: 0.0029 - val_s2pafs_output_loss: 0.0027 - val_s3pafs_output_loss: 0.0025 - val_s4pafs_output_loss: 0.0025 - val_s5kpts_output_loss: 0.0060 - val_s6kpts_output_loss: 0.0059 - val_s1pafs_output_MeanAbsoluteRatio: 0.9951 - val_s1pafs_output_analog_recall: 0.8626 - val_s2pafs_output_MeanAbsoluteRatio: 1.0114 - val_s2pafs_output_analog_recall: 0.8775 - val_s3pafs_output_MeanAbsoluteRatio: 1.0065 - val_s3pafs_output_analog_recall: 0.8851 - val_s4pafs_output_MeanAbsoluteRatio: 1.0151 - val_s4pafs_output_analog_recall: 0.8897 - val_s5kpts_output_MeanAbsoluteRatio: 1.0546 - val_s5kpts_output_analog_recall: 0.8798 - val_s6kpts_output_MeanAbsoluteRatio: 1.0474 - val_s6kpts_output_analog_recall: 0.8817\n"
     ]
    },
    {
     "name": "stdout",
     "output_type": "stream",
     "text": [
      "\n",
      "Learning rate for epoch 180 is 0.0010000000474974513\n",
      "Epoch 181/262\n",
      "50/50 [==============================] - 49s 982ms/step - loss: 0.0571 - s1pafs_output_loss: 0.0026 - s2pafs_output_loss: 0.0024 - s3pafs_output_loss: 0.0022 - s4pafs_output_loss: 0.0022 - s5kpts_output_loss: 0.0053 - s6kpts_output_loss: 0.0052 - s1pafs_output_MeanAbsoluteRatio: 0.9975 - s1pafs_output_analog_recall: 0.8723 - s2pafs_output_MeanAbsoluteRatio: 1.0022 - s2pafs_output_analog_recall: 0.8822 - s3pafs_output_MeanAbsoluteRatio: 0.9955 - s3pafs_output_analog_recall: 0.8888 - s4pafs_output_MeanAbsoluteRatio: 0.9982 - s4pafs_output_analog_recall: 0.8912 - s5kpts_output_MeanAbsoluteRatio: 1.0103 - s5kpts_output_analog_recall: 0.8769 - s6kpts_output_MeanAbsoluteRatio: 1.0114 - s6kpts_output_analog_recall: 0.8810 - val_loss: 0.0679 - val_s1pafs_output_loss: 0.0030 - val_s2pafs_output_loss: 0.0028 - val_s3pafs_output_loss: 0.0027 - val_s4pafs_output_loss: 0.0026 - val_s5kpts_output_loss: 0.0063 - val_s6kpts_output_loss: 0.0062 - val_s1pafs_output_MeanAbsoluteRatio: 0.9782 - val_s1pafs_output_analog_recall: 0.8543 - val_s2pafs_output_MeanAbsoluteRatio: 0.9777 - val_s2pafs_output_analog_recall: 0.8604 - val_s3pafs_output_MeanAbsoluteRatio: 0.9614 - val_s3pafs_output_analog_recall: 0.8645 - val_s4pafs_output_MeanAbsoluteRatio: 0.9630 - val_s4pafs_output_analog_recall: 0.8677 - val_s5kpts_output_MeanAbsoluteRatio: 0.9523 - val_s5kpts_output_analog_recall: 0.8453 - val_s6kpts_output_MeanAbsoluteRatio: 0.9533 - val_s6kpts_output_analog_recall: 0.8489\n",
      "\n",
      "Learning rate for epoch 181 is 0.0010000000474974513\n",
      "Epoch 182/262\n",
      "50/50 [==============================] - 47s 936ms/step - loss: 0.0592 - s1pafs_output_loss: 0.0027 - s2pafs_output_loss: 0.0025 - s3pafs_output_loss: 0.0023 - s4pafs_output_loss: 0.0022 - s5kpts_output_loss: 0.0055 - s6kpts_output_loss: 0.0054 - s1pafs_output_MeanAbsoluteRatio: 0.9970 - s1pafs_output_analog_recall: 0.8689 - s2pafs_output_MeanAbsoluteRatio: 1.0003 - s2pafs_output_analog_recall: 0.8791 - s3pafs_output_MeanAbsoluteRatio: 0.9943 - s3pafs_output_analog_recall: 0.8857 - s4pafs_output_MeanAbsoluteRatio: 0.9958 - s4pafs_output_analog_recall: 0.8881 - s5kpts_output_MeanAbsoluteRatio: 1.0080 - s5kpts_output_analog_recall: 0.8729 - s6kpts_output_MeanAbsoluteRatio: 1.0064 - s6kpts_output_analog_recall: 0.8763 - val_loss: 0.0645 - val_s1pafs_output_loss: 0.0029 - val_s2pafs_output_loss: 0.0027 - val_s3pafs_output_loss: 0.0025 - val_s4pafs_output_loss: 0.0025 - val_s5kpts_output_loss: 0.0059 - val_s6kpts_output_loss: 0.0057 - val_s1pafs_output_MeanAbsoluteRatio: 1.0099 - val_s1pafs_output_analog_recall: 0.8657 - val_s2pafs_output_MeanAbsoluteRatio: 1.0167 - val_s2pafs_output_analog_recall: 0.8737 - val_s3pafs_output_MeanAbsoluteRatio: 1.0018 - val_s3pafs_output_analog_recall: 0.8794 - val_s4pafs_output_MeanAbsoluteRatio: 1.0065 - val_s4pafs_output_analog_recall: 0.8844 - val_s5kpts_output_MeanAbsoluteRatio: 1.0411 - val_s5kpts_output_analog_recall: 0.8783 - val_s6kpts_output_MeanAbsoluteRatio: 1.0294 - val_s6kpts_output_analog_recall: 0.8796\n",
      "\n",
      "Learning rate for epoch 182 is 0.0010000000474974513\n",
      "Epoch 183/262\n",
      "50/50 [==============================] - 42s 831ms/step - loss: 0.0587 - s1pafs_output_loss: 0.0027 - s2pafs_output_loss: 0.0024 - s3pafs_output_loss: 0.0023 - s4pafs_output_loss: 0.0022 - s5kpts_output_loss: 0.0054 - s6kpts_output_loss: 0.0053 - s1pafs_output_MeanAbsoluteRatio: 0.9989 - s1pafs_output_analog_recall: 0.8694 - s2pafs_output_MeanAbsoluteRatio: 1.0015 - s2pafs_output_analog_recall: 0.8795 - s3pafs_output_MeanAbsoluteRatio: 0.9964 - s3pafs_output_analog_recall: 0.8863 - s4pafs_output_MeanAbsoluteRatio: 0.9964 - s4pafs_output_analog_recall: 0.8892 - s5kpts_output_MeanAbsoluteRatio: 1.0096 - s5kpts_output_analog_recall: 0.8756 - s6kpts_output_MeanAbsoluteRatio: 1.0084 - s6kpts_output_analog_recall: 0.8791 - val_loss: 0.0633 - val_s1pafs_output_loss: 0.0029 - val_s2pafs_output_loss: 0.0026 - val_s3pafs_output_loss: 0.0025 - val_s4pafs_output_loss: 0.0024 - val_s5kpts_output_loss: 0.0058 - val_s6kpts_output_loss: 0.0056 - val_s1pafs_output_MeanAbsoluteRatio: 0.9892 - val_s1pafs_output_analog_recall: 0.8603 - val_s2pafs_output_MeanAbsoluteRatio: 1.0080 - val_s2pafs_output_analog_recall: 0.8766 - val_s3pafs_output_MeanAbsoluteRatio: 1.0082 - val_s3pafs_output_analog_recall: 0.8833 - val_s4pafs_output_MeanAbsoluteRatio: 1.0069 - val_s4pafs_output_analog_recall: 0.8865 - val_s5kpts_output_MeanAbsoluteRatio: 1.0065 - val_s5kpts_output_analog_recall: 0.8705 - val_s6kpts_output_MeanAbsoluteRatio: 1.0083 - val_s6kpts_output_analog_recall: 0.8750\n",
      "\n",
      "Learning rate for epoch 183 is 0.0010000000474974513\n",
      "Epoch 184/262\n",
      "46/50 [==========================>...] - ETA: 3s - loss: 0.0561 - s1pafs_output_loss: 0.0026 - s2pafs_output_loss: 0.0023 - s3pafs_output_loss: 0.0022 - s4pafs_output_loss: 0.0021 - s5kpts_output_loss: 0.0052 - s6kpts_output_loss: 0.0051 - s1pafs_output_MeanAbsoluteRatio: 0.9959 - s1pafs_output_analog_recall: 0.8732 - s2pafs_output_MeanAbsoluteRatio: 1.0022 - s2pafs_output_analog_recall: 0.8839 - s3pafs_output_MeanAbsoluteRatio: 0.9958 - s3pafs_output_analog_recall: 0.8908 - s4pafs_output_MeanAbsoluteRatio: 0.9977 - s4pafs_output_analog_recall: 0.8934 - s5kpts_output_MeanAbsoluteRatio: 1.0078 - s5kpts_output_analog_recall: 0.8781 - s6kpts_output_MeanAbsoluteRatio: 1.0066 - s6kpts_output_analog_recall: 0.8818\n",
      "Epoch 00184: saving model to gs://dl_training_results/checkpoints/model1115Sun1219-0341/-E0184.ckpt\n",
      "50/50 [==============================] - 54s 1s/step - loss: 0.0564 - s1pafs_output_loss: 0.0026 - s2pafs_output_loss: 0.0023 - s3pafs_output_loss: 0.0022 - s4pafs_output_loss: 0.0021 - s5kpts_output_loss: 0.0053 - s6kpts_output_loss: 0.0051 - s1pafs_output_MeanAbsoluteRatio: 0.9969 - s1pafs_output_analog_recall: 0.8729 - s2pafs_output_MeanAbsoluteRatio: 1.0020 - s2pafs_output_analog_recall: 0.8832 - s3pafs_output_MeanAbsoluteRatio: 0.9951 - s3pafs_output_analog_recall: 0.8900 - s4pafs_output_MeanAbsoluteRatio: 0.9964 - s4pafs_output_analog_recall: 0.8925 - s5kpts_output_MeanAbsoluteRatio: 1.0082 - s5kpts_output_analog_recall: 0.8777 - s6kpts_output_MeanAbsoluteRatio: 1.0068 - s6kpts_output_analog_recall: 0.8813 - val_loss: 0.0639 - val_s1pafs_output_loss: 0.0029 - val_s2pafs_output_loss: 0.0027 - val_s3pafs_output_loss: 0.0025 - val_s4pafs_output_loss: 0.0024 - val_s5kpts_output_loss: 0.0058 - val_s6kpts_output_loss: 0.0057 - val_s1pafs_output_MeanAbsoluteRatio: 1.0116 - val_s1pafs_output_analog_recall: 0.8669 - val_s2pafs_output_MeanAbsoluteRatio: 1.0024 - val_s2pafs_output_analog_recall: 0.8724 - val_s3pafs_output_MeanAbsoluteRatio: 0.9935 - val_s3pafs_output_analog_recall: 0.8795 - val_s4pafs_output_MeanAbsoluteRatio: 0.9923 - val_s4pafs_output_analog_recall: 0.8827 - val_s5kpts_output_MeanAbsoluteRatio: 1.0275 - val_s5kpts_output_analog_recall: 0.8756 - val_s6kpts_output_MeanAbsoluteRatio: 1.0263 - val_s6kpts_output_analog_recall: 0.8796\n",
      "\n",
      "Learning rate for epoch 184 is 0.0010000000474974513\n",
      "Epoch 185/262\n",
      "50/50 [==============================] - 69s 1s/step - loss: 0.0575 - s1pafs_output_loss: 0.0026 - s2pafs_output_loss: 0.0024 - s3pafs_output_loss: 0.0022 - s4pafs_output_loss: 0.0022 - s5kpts_output_loss: 0.0053 - s6kpts_output_loss: 0.0052 - s1pafs_output_MeanAbsoluteRatio: 1.0016 - s1pafs_output_analog_recall: 0.8717 - s2pafs_output_MeanAbsoluteRatio: 1.0037 - s2pafs_output_analog_recall: 0.8817 - s3pafs_output_MeanAbsoluteRatio: 0.9960 - s3pafs_output_analog_recall: 0.8886 - s4pafs_output_MeanAbsoluteRatio: 0.9983 - s4pafs_output_analog_recall: 0.8913 - s5kpts_output_MeanAbsoluteRatio: 1.0082 - s5kpts_output_analog_recall: 0.8767 - s6kpts_output_MeanAbsoluteRatio: 1.0066 - s6kpts_output_analog_recall: 0.8806 - val_loss: 0.0643 - val_s1pafs_output_loss: 0.0029 - val_s2pafs_output_loss: 0.0026 - val_s3pafs_output_loss: 0.0025 - val_s4pafs_output_loss: 0.0025 - val_s5kpts_output_loss: 0.0061 - val_s6kpts_output_loss: 0.0060 - val_s1pafs_output_MeanAbsoluteRatio: 1.0059 - val_s1pafs_output_analog_recall: 0.8663 - val_s2pafs_output_MeanAbsoluteRatio: 1.0091 - val_s2pafs_output_analog_recall: 0.8761 - val_s3pafs_output_MeanAbsoluteRatio: 1.0125 - val_s3pafs_output_analog_recall: 0.8854 - val_s4pafs_output_MeanAbsoluteRatio: 1.0107 - val_s4pafs_output_analog_recall: 0.8881 - val_s5kpts_output_MeanAbsoluteRatio: 1.0642 - val_s5kpts_output_analog_recall: 0.8872 - val_s6kpts_output_MeanAbsoluteRatio: 1.0749 - val_s6kpts_output_analog_recall: 0.8931\n"
     ]
    },
    {
     "name": "stdout",
     "output_type": "stream",
     "text": [
      "\n",
      "Learning rate for epoch 185 is 0.0010000000474974513\n",
      "Epoch 186/262\n",
      "50/50 [==============================] - 44s 876ms/step - loss: 0.0570 - s1pafs_output_loss: 0.0026 - s2pafs_output_loss: 0.0024 - s3pafs_output_loss: 0.0022 - s4pafs_output_loss: 0.0022 - s5kpts_output_loss: 0.0052 - s6kpts_output_loss: 0.0051 - s1pafs_output_MeanAbsoluteRatio: 0.9986 - s1pafs_output_analog_recall: 0.8721 - s2pafs_output_MeanAbsoluteRatio: 1.0035 - s2pafs_output_analog_recall: 0.8827 - s3pafs_output_MeanAbsoluteRatio: 0.9967 - s3pafs_output_analog_recall: 0.8894 - s4pafs_output_MeanAbsoluteRatio: 0.9990 - s4pafs_output_analog_recall: 0.8922 - s5kpts_output_MeanAbsoluteRatio: 1.0092 - s5kpts_output_analog_recall: 0.8792 - s6kpts_output_MeanAbsoluteRatio: 1.0090 - s6kpts_output_analog_recall: 0.8827 - val_loss: 0.0639 - val_s1pafs_output_loss: 0.0029 - val_s2pafs_output_loss: 0.0027 - val_s3pafs_output_loss: 0.0025 - val_s4pafs_output_loss: 0.0024 - val_s5kpts_output_loss: 0.0059 - val_s6kpts_output_loss: 0.0057 - val_s1pafs_output_MeanAbsoluteRatio: 1.0109 - val_s1pafs_output_analog_recall: 0.8687 - val_s2pafs_output_MeanAbsoluteRatio: 1.0190 - val_s2pafs_output_analog_recall: 0.8799 - val_s3pafs_output_MeanAbsoluteRatio: 1.0142 - val_s3pafs_output_analog_recall: 0.8867 - val_s4pafs_output_MeanAbsoluteRatio: 1.0057 - val_s4pafs_output_analog_recall: 0.8873 - val_s5kpts_output_MeanAbsoluteRatio: 1.0285 - val_s5kpts_output_analog_recall: 0.8774 - val_s6kpts_output_MeanAbsoluteRatio: 1.0257 - val_s6kpts_output_analog_recall: 0.8790\n",
      "\n",
      "Learning rate for epoch 186 is 0.0010000000474974513\n",
      "Epoch 187/262\n",
      "50/50 [==============================] - 41s 814ms/step - loss: 0.0577 - s1pafs_output_loss: 0.0026 - s2pafs_output_loss: 0.0024 - s3pafs_output_loss: 0.0022 - s4pafs_output_loss: 0.0022 - s5kpts_output_loss: 0.0053 - s6kpts_output_loss: 0.0052 - s1pafs_output_MeanAbsoluteRatio: 0.9970 - s1pafs_output_analog_recall: 0.8706 - s2pafs_output_MeanAbsoluteRatio: 1.0026 - s2pafs_output_analog_recall: 0.8809 - s3pafs_output_MeanAbsoluteRatio: 0.9962 - s3pafs_output_analog_recall: 0.8881 - s4pafs_output_MeanAbsoluteRatio: 0.9963 - s4pafs_output_analog_recall: 0.8909 - s5kpts_output_MeanAbsoluteRatio: 1.0082 - s5kpts_output_analog_recall: 0.8765 - s6kpts_output_MeanAbsoluteRatio: 1.0060 - s6kpts_output_analog_recall: 0.8800 - val_loss: 0.0635 - val_s1pafs_output_loss: 0.0029 - val_s2pafs_output_loss: 0.0026 - val_s3pafs_output_loss: 0.0025 - val_s4pafs_output_loss: 0.0024 - val_s5kpts_output_loss: 0.0059 - val_s6kpts_output_loss: 0.0057 - val_s1pafs_output_MeanAbsoluteRatio: 1.0089 - val_s1pafs_output_analog_recall: 0.8665 - val_s2pafs_output_MeanAbsoluteRatio: 0.9985 - val_s2pafs_output_analog_recall: 0.8716 - val_s3pafs_output_MeanAbsoluteRatio: 0.9875 - val_s3pafs_output_analog_recall: 0.8777 - val_s4pafs_output_MeanAbsoluteRatio: 0.9864 - val_s4pafs_output_analog_recall: 0.8785 - val_s5kpts_output_MeanAbsoluteRatio: 0.9933 - val_s5kpts_output_analog_recall: 0.8634 - val_s6kpts_output_MeanAbsoluteRatio: 0.9834 - val_s6kpts_output_analog_recall: 0.8658\n",
      "\n",
      "Learning rate for epoch 187 is 0.0010000000474974513\n",
      "Epoch 188/262\n",
      "50/50 [==============================] - 43s 868ms/step - loss: 0.0594 - s1pafs_output_loss: 0.0027 - s2pafs_output_loss: 0.0025 - s3pafs_output_loss: 0.0023 - s4pafs_output_loss: 0.0022 - s5kpts_output_loss: 0.0054 - s6kpts_output_loss: 0.0053 - s1pafs_output_MeanAbsoluteRatio: 1.0008 - s1pafs_output_analog_recall: 0.8682 - s2pafs_output_MeanAbsoluteRatio: 1.0036 - s2pafs_output_analog_recall: 0.8786 - s3pafs_output_MeanAbsoluteRatio: 0.9954 - s3pafs_output_analog_recall: 0.8854 - s4pafs_output_MeanAbsoluteRatio: 0.9980 - s4pafs_output_analog_recall: 0.8884 - s5kpts_output_MeanAbsoluteRatio: 1.0101 - s5kpts_output_analog_recall: 0.8760 - s6kpts_output_MeanAbsoluteRatio: 1.0094 - s6kpts_output_analog_recall: 0.8801 - val_loss: 0.0643 - val_s1pafs_output_loss: 0.0029 - val_s2pafs_output_loss: 0.0027 - val_s3pafs_output_loss: 0.0025 - val_s4pafs_output_loss: 0.0025 - val_s5kpts_output_loss: 0.0059 - val_s6kpts_output_loss: 0.0057 - val_s1pafs_output_MeanAbsoluteRatio: 1.0188 - val_s1pafs_output_analog_recall: 0.8695 - val_s2pafs_output_MeanAbsoluteRatio: 1.0247 - val_s2pafs_output_analog_recall: 0.8795 - val_s3pafs_output_MeanAbsoluteRatio: 1.0245 - val_s3pafs_output_analog_recall: 0.8879 - val_s4pafs_output_MeanAbsoluteRatio: 1.0270 - val_s4pafs_output_analog_recall: 0.8918 - val_s5kpts_output_MeanAbsoluteRatio: 1.0312 - val_s5kpts_output_analog_recall: 0.8814 - val_s6kpts_output_MeanAbsoluteRatio: 1.0250 - val_s6kpts_output_analog_recall: 0.8853\n",
      "\n",
      "Learning rate for epoch 188 is 0.0010000000474974513\n",
      "Epoch 189/262\n",
      "50/50 [==============================] - 49s 970ms/step - loss: 0.0565 - s1pafs_output_loss: 0.0026 - s2pafs_output_loss: 0.0024 - s3pafs_output_loss: 0.0022 - s4pafs_output_loss: 0.0021 - s5kpts_output_loss: 0.0051 - s6kpts_output_loss: 0.0050 - s1pafs_output_MeanAbsoluteRatio: 0.9987 - s1pafs_output_analog_recall: 0.8721 - s2pafs_output_MeanAbsoluteRatio: 1.0038 - s2pafs_output_analog_recall: 0.8826 - s3pafs_output_MeanAbsoluteRatio: 0.9962 - s3pafs_output_analog_recall: 0.8893 - s4pafs_output_MeanAbsoluteRatio: 0.9972 - s4pafs_output_analog_recall: 0.8919 - s5kpts_output_MeanAbsoluteRatio: 1.0080 - s5kpts_output_analog_recall: 0.8798 - s6kpts_output_MeanAbsoluteRatio: 1.0068 - s6kpts_output_analog_recall: 0.8833 - val_loss: 0.0639 - val_s1pafs_output_loss: 0.0029 - val_s2pafs_output_loss: 0.0027 - val_s3pafs_output_loss: 0.0025 - val_s4pafs_output_loss: 0.0024 - val_s5kpts_output_loss: 0.0058 - val_s6kpts_output_loss: 0.0057 - val_s1pafs_output_MeanAbsoluteRatio: 0.9776 - val_s1pafs_output_analog_recall: 0.8584 - val_s2pafs_output_MeanAbsoluteRatio: 0.9915 - val_s2pafs_output_analog_recall: 0.8702 - val_s3pafs_output_MeanAbsoluteRatio: 0.9717 - val_s3pafs_output_analog_recall: 0.8737 - val_s4pafs_output_MeanAbsoluteRatio: 0.9783 - val_s4pafs_output_analog_recall: 0.8795 - val_s5kpts_output_MeanAbsoluteRatio: 1.0084 - val_s5kpts_output_analog_recall: 0.8701 - val_s6kpts_output_MeanAbsoluteRatio: 1.0185 - val_s6kpts_output_analog_recall: 0.8789\n",
      "\n",
      "Learning rate for epoch 189 is 0.0010000000474974513\n",
      "Epoch 190/262\n",
      "50/50 [==============================] - 45s 894ms/step - loss: 0.0578 - s1pafs_output_loss: 0.0026 - s2pafs_output_loss: 0.0024 - s3pafs_output_loss: 0.0022 - s4pafs_output_loss: 0.0022 - s5kpts_output_loss: 0.0053 - s6kpts_output_loss: 0.0052 - s1pafs_output_MeanAbsoluteRatio: 0.9969 - s1pafs_output_analog_recall: 0.8711 - s2pafs_output_MeanAbsoluteRatio: 1.0037 - s2pafs_output_analog_recall: 0.8814 - s3pafs_output_MeanAbsoluteRatio: 0.9952 - s3pafs_output_analog_recall: 0.8876 - s4pafs_output_MeanAbsoluteRatio: 0.9972 - s4pafs_output_analog_recall: 0.8902 - s5kpts_output_MeanAbsoluteRatio: 1.0099 - s5kpts_output_analog_recall: 0.8766 - s6kpts_output_MeanAbsoluteRatio: 1.0085 - s6kpts_output_analog_recall: 0.8801 - val_loss: 0.0660 - val_s1pafs_output_loss: 0.0029 - val_s2pafs_output_loss: 0.0027 - val_s3pafs_output_loss: 0.0026 - val_s4pafs_output_loss: 0.0025 - val_s5kpts_output_loss: 0.0062 - val_s6kpts_output_loss: 0.0061 - val_s1pafs_output_MeanAbsoluteRatio: 1.0137 - val_s1pafs_output_analog_recall: 0.8649 - val_s2pafs_output_MeanAbsoluteRatio: 1.0170 - val_s2pafs_output_analog_recall: 0.8732 - val_s3pafs_output_MeanAbsoluteRatio: 1.0091 - val_s3pafs_output_analog_recall: 0.8808 - val_s4pafs_output_MeanAbsoluteRatio: 1.0190 - val_s4pafs_output_analog_recall: 0.8862 - val_s5kpts_output_MeanAbsoluteRatio: 1.0486 - val_s5kpts_output_analog_recall: 0.8780 - val_s6kpts_output_MeanAbsoluteRatio: 1.0461 - val_s6kpts_output_analog_recall: 0.8805\n",
      "\n",
      "Learning rate for epoch 190 is 0.0010000000474974513\n",
      "Epoch 191/262\n"
     ]
    },
    {
     "name": "stdout",
     "output_type": "stream",
     "text": [
      "50/50 [==============================] - 47s 939ms/step - loss: 0.0573 - s1pafs_output_loss: 0.0026 - s2pafs_output_loss: 0.0024 - s3pafs_output_loss: 0.0022 - s4pafs_output_loss: 0.0022 - s5kpts_output_loss: 0.0052 - s6kpts_output_loss: 0.0051 - s1pafs_output_MeanAbsoluteRatio: 0.9992 - s1pafs_output_analog_recall: 0.8713 - s2pafs_output_MeanAbsoluteRatio: 1.0024 - s2pafs_output_analog_recall: 0.8819 - s3pafs_output_MeanAbsoluteRatio: 0.9958 - s3pafs_output_analog_recall: 0.8889 - s4pafs_output_MeanAbsoluteRatio: 1.0008 - s4pafs_output_analog_recall: 0.8920 - s5kpts_output_MeanAbsoluteRatio: 1.0082 - s5kpts_output_analog_recall: 0.8779 - s6kpts_output_MeanAbsoluteRatio: 1.0081 - s6kpts_output_analog_recall: 0.8820 - val_loss: 0.0644 - val_s1pafs_output_loss: 0.0029 - val_s2pafs_output_loss: 0.0027 - val_s3pafs_output_loss: 0.0025 - val_s4pafs_output_loss: 0.0024 - val_s5kpts_output_loss: 0.0060 - val_s6kpts_output_loss: 0.0059 - val_s1pafs_output_MeanAbsoluteRatio: 0.9873 - val_s1pafs_output_analog_recall: 0.8604 - val_s2pafs_output_MeanAbsoluteRatio: 0.9973 - val_s2pafs_output_analog_recall: 0.8728 - val_s3pafs_output_MeanAbsoluteRatio: 0.9747 - val_s3pafs_output_analog_recall: 0.8749 - val_s4pafs_output_MeanAbsoluteRatio: 0.9694 - val_s4pafs_output_analog_recall: 0.8748 - val_s5kpts_output_MeanAbsoluteRatio: 0.9678 - val_s5kpts_output_analog_recall: 0.8555 - val_s6kpts_output_MeanAbsoluteRatio: 0.9637 - val_s6kpts_output_analog_recall: 0.8610\n",
      "\n",
      "Learning rate for epoch 191 is 0.0010000000474974513\n",
      "Epoch 192/262\n",
      "50/50 [==============================] - 47s 938ms/step - loss: 0.0563 - s1pafs_output_loss: 0.0026 - s2pafs_output_loss: 0.0023 - s3pafs_output_loss: 0.0022 - s4pafs_output_loss: 0.0021 - s5kpts_output_loss: 0.0052 - s6kpts_output_loss: 0.0051 - s1pafs_output_MeanAbsoluteRatio: 0.9995 - s1pafs_output_analog_recall: 0.8726 - s2pafs_output_MeanAbsoluteRatio: 1.0048 - s2pafs_output_analog_recall: 0.8834 - s3pafs_output_MeanAbsoluteRatio: 0.9959 - s3pafs_output_analog_recall: 0.8898 - s4pafs_output_MeanAbsoluteRatio: 0.9987 - s4pafs_output_analog_recall: 0.8926 - s5kpts_output_MeanAbsoluteRatio: 1.0080 - s5kpts_output_analog_recall: 0.8789 - s6kpts_output_MeanAbsoluteRatio: 1.0066 - s6kpts_output_analog_recall: 0.8825 - val_loss: 0.0637 - val_s1pafs_output_loss: 0.0029 - val_s2pafs_output_loss: 0.0026 - val_s3pafs_output_loss: 0.0025 - val_s4pafs_output_loss: 0.0024 - val_s5kpts_output_loss: 0.0059 - val_s6kpts_output_loss: 0.0058 - val_s1pafs_output_MeanAbsoluteRatio: 0.9889 - val_s1pafs_output_analog_recall: 0.8649 - val_s2pafs_output_MeanAbsoluteRatio: 0.9943 - val_s2pafs_output_analog_recall: 0.8742 - val_s3pafs_output_MeanAbsoluteRatio: 0.9807 - val_s3pafs_output_analog_recall: 0.8782 - val_s4pafs_output_MeanAbsoluteRatio: 0.9865 - val_s4pafs_output_analog_recall: 0.8799 - val_s5kpts_output_MeanAbsoluteRatio: 0.9841 - val_s5kpts_output_analog_recall: 0.8649 - val_s6kpts_output_MeanAbsoluteRatio: 0.9788 - val_s6kpts_output_analog_recall: 0.8659\n",
      "\n",
      "Learning rate for epoch 192 is 0.0010000000474974513\n",
      "Epoch 193/262\n",
      "34/50 [===================>..........] - ETA: 11s - loss: 0.0569 - s1pafs_output_loss: 0.0026 - s2pafs_output_loss: 0.0024 - s3pafs_output_loss: 0.0022 - s4pafs_output_loss: 0.0021 - s5kpts_output_loss: 0.0053 - s6kpts_output_loss: 0.0051 - s1pafs_output_MeanAbsoluteRatio: 0.9989 - s1pafs_output_analog_recall: 0.8721 - s2pafs_output_MeanAbsoluteRatio: 1.0023 - s2pafs_output_analog_recall: 0.8828 - s3pafs_output_MeanAbsoluteRatio: 0.9953 - s3pafs_output_analog_recall: 0.8893 - s4pafs_output_MeanAbsoluteRatio: 0.9976 - s4pafs_output_analog_recall: 0.8917 - s5kpts_output_MeanAbsoluteRatio: 1.0098 - s5kpts_output_analog_recall: 0.8777 - s6kpts_output_MeanAbsoluteRatio: 1.0083 - s6kpts_output_analog_recall: 0.8810\n",
      "Epoch 00193: saving model to gs://dl_training_results/checkpoints/model1115Sun1219-0341/-E0193.ckpt\n",
      "50/50 [==============================] - 73s 1s/step - loss: 0.0563 - s1pafs_output_loss: 0.0026 - s2pafs_output_loss: 0.0023 - s3pafs_output_loss: 0.0022 - s4pafs_output_loss: 0.0021 - s5kpts_output_loss: 0.0052 - s6kpts_output_loss: 0.0051 - s1pafs_output_MeanAbsoluteRatio: 0.9977 - s1pafs_output_analog_recall: 0.8730 - s2pafs_output_MeanAbsoluteRatio: 1.0018 - s2pafs_output_analog_recall: 0.8834 - s3pafs_output_MeanAbsoluteRatio: 0.9957 - s3pafs_output_analog_recall: 0.8902 - s4pafs_output_MeanAbsoluteRatio: 0.9986 - s4pafs_output_analog_recall: 0.8930 - s5kpts_output_MeanAbsoluteRatio: 1.0084 - s5kpts_output_analog_recall: 0.8786 - s6kpts_output_MeanAbsoluteRatio: 1.0071 - s6kpts_output_analog_recall: 0.8821 - val_loss: 0.0640 - val_s1pafs_output_loss: 0.0029 - val_s2pafs_output_loss: 0.0026 - val_s3pafs_output_loss: 0.0025 - val_s4pafs_output_loss: 0.0025 - val_s5kpts_output_loss: 0.0059 - val_s6kpts_output_loss: 0.0057 - val_s1pafs_output_MeanAbsoluteRatio: 0.9986 - val_s1pafs_output_analog_recall: 0.8665 - val_s2pafs_output_MeanAbsoluteRatio: 0.9903 - val_s2pafs_output_analog_recall: 0.8732 - val_s3pafs_output_MeanAbsoluteRatio: 0.9722 - val_s3pafs_output_analog_recall: 0.8745 - val_s4pafs_output_MeanAbsoluteRatio: 0.9635 - val_s4pafs_output_analog_recall: 0.8730 - val_s5kpts_output_MeanAbsoluteRatio: 0.9729 - val_s5kpts_output_analog_recall: 0.8572 - val_s6kpts_output_MeanAbsoluteRatio: 0.9839 - val_s6kpts_output_analog_recall: 0.8645\n",
      "\n",
      "Learning rate for epoch 193 is 0.0010000000474974513\n",
      "Epoch 194/262\n",
      "50/50 [==============================] - 46s 919ms/step - loss: 0.0555 - s1pafs_output_loss: 0.0025 - s2pafs_output_loss: 0.0023 - s3pafs_output_loss: 0.0021 - s4pafs_output_loss: 0.0021 - s5kpts_output_loss: 0.0051 - s6kpts_output_loss: 0.0049 - s1pafs_output_MeanAbsoluteRatio: 0.9990 - s1pafs_output_analog_recall: 0.8751 - s2pafs_output_MeanAbsoluteRatio: 1.0043 - s2pafs_output_analog_recall: 0.8853 - s3pafs_output_MeanAbsoluteRatio: 0.9959 - s3pafs_output_analog_recall: 0.8917 - s4pafs_output_MeanAbsoluteRatio: 0.9975 - s4pafs_output_analog_recall: 0.8945 - s5kpts_output_MeanAbsoluteRatio: 1.0101 - s5kpts_output_analog_recall: 0.8811 - s6kpts_output_MeanAbsoluteRatio: 1.0087 - s6kpts_output_analog_recall: 0.8851 - val_loss: 0.0640 - val_s1pafs_output_loss: 0.0029 - val_s2pafs_output_loss: 0.0026 - val_s3pafs_output_loss: 0.0025 - val_s4pafs_output_loss: 0.0024 - val_s5kpts_output_loss: 0.0060 - val_s6kpts_output_loss: 0.0059 - val_s1pafs_output_MeanAbsoluteRatio: 0.9822 - val_s1pafs_output_analog_recall: 0.8620 - val_s2pafs_output_MeanAbsoluteRatio: 0.9919 - val_s2pafs_output_analog_recall: 0.8734 - val_s3pafs_output_MeanAbsoluteRatio: 0.9804 - val_s3pafs_output_analog_recall: 0.8784 - val_s4pafs_output_MeanAbsoluteRatio: 0.9888 - val_s4pafs_output_analog_recall: 0.8834 - val_s5kpts_output_MeanAbsoluteRatio: 0.9765 - val_s5kpts_output_analog_recall: 0.8626 - val_s6kpts_output_MeanAbsoluteRatio: 0.9707 - val_s6kpts_output_analog_recall: 0.8652\n",
      "\n",
      "Learning rate for epoch 194 is 0.0010000000474974513\n",
      "Epoch 195/262\n",
      "50/50 [==============================] - 46s 917ms/step - loss: 0.0575 - s1pafs_output_loss: 0.0026 - s2pafs_output_loss: 0.0024 - s3pafs_output_loss: 0.0022 - s4pafs_output_loss: 0.0022 - s5kpts_output_loss: 0.0052 - s6kpts_output_loss: 0.0051 - s1pafs_output_MeanAbsoluteRatio: 1.0003 - s1pafs_output_analog_recall: 0.8715 - s2pafs_output_MeanAbsoluteRatio: 1.0045 - s2pafs_output_analog_recall: 0.8818 - s3pafs_output_MeanAbsoluteRatio: 0.9964 - s3pafs_output_analog_recall: 0.8888 - s4pafs_output_MeanAbsoluteRatio: 0.9984 - s4pafs_output_analog_recall: 0.8918 - s5kpts_output_MeanAbsoluteRatio: 1.0086 - s5kpts_output_analog_recall: 0.8783 - s6kpts_output_MeanAbsoluteRatio: 1.0068 - s6kpts_output_analog_recall: 0.8818 - val_loss: 0.0652 - val_s1pafs_output_loss: 0.0029 - val_s2pafs_output_loss: 0.0027 - val_s3pafs_output_loss: 0.0025 - val_s4pafs_output_loss: 0.0025 - val_s5kpts_output_loss: 0.0061 - val_s6kpts_output_loss: 0.0059 - val_s1pafs_output_MeanAbsoluteRatio: 0.9939 - val_s1pafs_output_analog_recall: 0.8608 - val_s2pafs_output_MeanAbsoluteRatio: 0.9914 - val_s2pafs_output_analog_recall: 0.8668 - val_s3pafs_output_MeanAbsoluteRatio: 0.9729 - val_s3pafs_output_analog_recall: 0.8707 - val_s4pafs_output_MeanAbsoluteRatio: 0.9630 - val_s4pafs_output_analog_recall: 0.8706 - val_s5kpts_output_MeanAbsoluteRatio: 0.9608 - val_s5kpts_output_analog_recall: 0.8523 - val_s6kpts_output_MeanAbsoluteRatio: 0.9579 - val_s6kpts_output_analog_recall: 0.8566\n"
     ]
    },
    {
     "name": "stdout",
     "output_type": "stream",
     "text": [
      "\n",
      "Learning rate for epoch 195 is 0.0010000000474974513\n",
      "Epoch 196/262\n",
      "50/50 [==============================] - 45s 903ms/step - loss: 0.0581 - s1pafs_output_loss: 0.0026 - s2pafs_output_loss: 0.0024 - s3pafs_output_loss: 0.0022 - s4pafs_output_loss: 0.0022 - s5kpts_output_loss: 0.0054 - s6kpts_output_loss: 0.0052 - s1pafs_output_MeanAbsoluteRatio: 0.9998 - s1pafs_output_analog_recall: 0.8705 - s2pafs_output_MeanAbsoluteRatio: 1.0044 - s2pafs_output_analog_recall: 0.8807 - s3pafs_output_MeanAbsoluteRatio: 0.9940 - s3pafs_output_analog_recall: 0.8871 - s4pafs_output_MeanAbsoluteRatio: 0.9974 - s4pafs_output_analog_recall: 0.8897 - s5kpts_output_MeanAbsoluteRatio: 1.0088 - s5kpts_output_analog_recall: 0.8755 - s6kpts_output_MeanAbsoluteRatio: 1.0075 - s6kpts_output_analog_recall: 0.8791 - val_loss: 0.0643 - val_s1pafs_output_loss: 0.0029 - val_s2pafs_output_loss: 0.0027 - val_s3pafs_output_loss: 0.0025 - val_s4pafs_output_loss: 0.0025 - val_s5kpts_output_loss: 0.0059 - val_s6kpts_output_loss: 0.0057 - val_s1pafs_output_MeanAbsoluteRatio: 1.0204 - val_s1pafs_output_analog_recall: 0.8699 - val_s2pafs_output_MeanAbsoluteRatio: 1.0203 - val_s2pafs_output_analog_recall: 0.8775 - val_s3pafs_output_MeanAbsoluteRatio: 1.0050 - val_s3pafs_output_analog_recall: 0.8831 - val_s4pafs_output_MeanAbsoluteRatio: 1.0134 - val_s4pafs_output_analog_recall: 0.8857 - val_s5kpts_output_MeanAbsoluteRatio: 1.0211 - val_s5kpts_output_analog_recall: 0.8718 - val_s6kpts_output_MeanAbsoluteRatio: 1.0180 - val_s6kpts_output_analog_recall: 0.8770\n",
      "\n",
      "Learning rate for epoch 196 is 0.0010000000474974513\n",
      "Epoch 197/262\n",
      "50/50 [==============================] - 47s 934ms/step - loss: 0.0585 - s1pafs_output_loss: 0.0027 - s2pafs_output_loss: 0.0024 - s3pafs_output_loss: 0.0023 - s4pafs_output_loss: 0.0022 - s5kpts_output_loss: 0.0053 - s6kpts_output_loss: 0.0052 - s1pafs_output_MeanAbsoluteRatio: 0.9991 - s1pafs_output_analog_recall: 0.8689 - s2pafs_output_MeanAbsoluteRatio: 1.0030 - s2pafs_output_analog_recall: 0.8798 - s3pafs_output_MeanAbsoluteRatio: 0.9937 - s3pafs_output_analog_recall: 0.8867 - s4pafs_output_MeanAbsoluteRatio: 0.9963 - s4pafs_output_analog_recall: 0.8897 - s5kpts_output_MeanAbsoluteRatio: 1.0066 - s5kpts_output_analog_recall: 0.8773 - s6kpts_output_MeanAbsoluteRatio: 1.0059 - s6kpts_output_analog_recall: 0.8814 - val_loss: 0.0632 - val_s1pafs_output_loss: 0.0029 - val_s2pafs_output_loss: 0.0026 - val_s3pafs_output_loss: 0.0025 - val_s4pafs_output_loss: 0.0024 - val_s5kpts_output_loss: 0.0057 - val_s6kpts_output_loss: 0.0056 - val_s1pafs_output_MeanAbsoluteRatio: 1.0170 - val_s1pafs_output_analog_recall: 0.8694 - val_s2pafs_output_MeanAbsoluteRatio: 1.0236 - val_s2pafs_output_analog_recall: 0.8797 - val_s3pafs_output_MeanAbsoluteRatio: 1.0228 - val_s3pafs_output_analog_recall: 0.8878 - val_s4pafs_output_MeanAbsoluteRatio: 1.0168 - val_s4pafs_output_analog_recall: 0.8892 - val_s5kpts_output_MeanAbsoluteRatio: 1.0160 - val_s5kpts_output_analog_recall: 0.8720 - val_s6kpts_output_MeanAbsoluteRatio: 1.0212 - val_s6kpts_output_analog_recall: 0.8799\n",
      "\n",
      "Learning rate for epoch 197 is 0.0010000000474974513\n",
      "Epoch 198/262\n",
      "50/50 [==============================] - 47s 932ms/step - loss: 0.0572 - s1pafs_output_loss: 0.0026 - s2pafs_output_loss: 0.0024 - s3pafs_output_loss: 0.0022 - s4pafs_output_loss: 0.0022 - s5kpts_output_loss: 0.0053 - s6kpts_output_loss: 0.0051 - s1pafs_output_MeanAbsoluteRatio: 0.9999 - s1pafs_output_analog_recall: 0.8712 - s2pafs_output_MeanAbsoluteRatio: 1.0034 - s2pafs_output_analog_recall: 0.8818 - s3pafs_output_MeanAbsoluteRatio: 0.9971 - s3pafs_output_analog_recall: 0.8887 - s4pafs_output_MeanAbsoluteRatio: 0.9976 - s4pafs_output_analog_recall: 0.8913 - s5kpts_output_MeanAbsoluteRatio: 1.0092 - s5kpts_output_analog_recall: 0.8777 - s6kpts_output_MeanAbsoluteRatio: 1.0096 - s6kpts_output_analog_recall: 0.8819 - val_loss: 0.0648 - val_s1pafs_output_loss: 0.0029 - val_s2pafs_output_loss: 0.0027 - val_s3pafs_output_loss: 0.0025 - val_s4pafs_output_loss: 0.0025 - val_s5kpts_output_loss: 0.0061 - val_s6kpts_output_loss: 0.0059 - val_s1pafs_output_MeanAbsoluteRatio: 1.0231 - val_s1pafs_output_analog_recall: 0.8695 - val_s2pafs_output_MeanAbsoluteRatio: 1.0269 - val_s2pafs_output_analog_recall: 0.8789 - val_s3pafs_output_MeanAbsoluteRatio: 1.0212 - val_s3pafs_output_analog_recall: 0.8864 - val_s4pafs_output_MeanAbsoluteRatio: 1.0128 - val_s4pafs_output_analog_recall: 0.8872 - val_s5kpts_output_MeanAbsoluteRatio: 1.0332 - val_s5kpts_output_analog_recall: 0.8818 - val_s6kpts_output_MeanAbsoluteRatio: 1.0298 - val_s6kpts_output_analog_recall: 0.8861\n",
      "\n",
      "Learning rate for epoch 198 is 0.0010000000474974513\n",
      "Epoch 199/262\n",
      "50/50 [==============================] - 45s 901ms/step - loss: 0.0568 - s1pafs_output_loss: 0.0026 - s2pafs_output_loss: 0.0024 - s3pafs_output_loss: 0.0022 - s4pafs_output_loss: 0.0021 - s5kpts_output_loss: 0.0053 - s6kpts_output_loss: 0.0051 - s1pafs_output_MeanAbsoluteRatio: 1.0012 - s1pafs_output_analog_recall: 0.8724 - s2pafs_output_MeanAbsoluteRatio: 1.0038 - s2pafs_output_analog_recall: 0.8823 - s3pafs_output_MeanAbsoluteRatio: 0.9962 - s3pafs_output_analog_recall: 0.8891 - s4pafs_output_MeanAbsoluteRatio: 0.9973 - s4pafs_output_analog_recall: 0.8921 - s5kpts_output_MeanAbsoluteRatio: 1.0076 - s5kpts_output_analog_recall: 0.8775 - s6kpts_output_MeanAbsoluteRatio: 1.0068 - s6kpts_output_analog_recall: 0.8811 - val_loss: 0.0631 - val_s1pafs_output_loss: 0.0028 - val_s2pafs_output_loss: 0.0026 - val_s3pafs_output_loss: 0.0025 - val_s4pafs_output_loss: 0.0024 - val_s5kpts_output_loss: 0.0058 - val_s6kpts_output_loss: 0.0056 - val_s1pafs_output_MeanAbsoluteRatio: 1.0092 - val_s1pafs_output_analog_recall: 0.8679 - val_s2pafs_output_MeanAbsoluteRatio: 1.0274 - val_s2pafs_output_analog_recall: 0.8791 - val_s3pafs_output_MeanAbsoluteRatio: 1.0182 - val_s3pafs_output_analog_recall: 0.8840 - val_s4pafs_output_MeanAbsoluteRatio: 1.0047 - val_s4pafs_output_analog_recall: 0.8857 - val_s5kpts_output_MeanAbsoluteRatio: 1.0379 - val_s5kpts_output_analog_recall: 0.8796 - val_s6kpts_output_MeanAbsoluteRatio: 1.0363 - val_s6kpts_output_analog_recall: 0.8842\n",
      "\n",
      "Learning rate for epoch 199 is 0.0010000000474974513\n",
      "Epoch 200/262\n",
      "50/50 [==============================] - 48s 960ms/step - loss: 0.0569 - s1pafs_output_loss: 0.0026 - s2pafs_output_loss: 0.0024 - s3pafs_output_loss: 0.0022 - s4pafs_output_loss: 0.0021 - s5kpts_output_loss: 0.0052 - s6kpts_output_loss: 0.0050 - s1pafs_output_MeanAbsoluteRatio: 0.9995 - s1pafs_output_analog_recall: 0.8726 - s2pafs_output_MeanAbsoluteRatio: 1.0011 - s2pafs_output_analog_recall: 0.8825 - s3pafs_output_MeanAbsoluteRatio: 0.9970 - s3pafs_output_analog_recall: 0.8892 - s4pafs_output_MeanAbsoluteRatio: 0.9969 - s4pafs_output_analog_recall: 0.8920 - s5kpts_output_MeanAbsoluteRatio: 1.0100 - s5kpts_output_analog_recall: 0.8796 - s6kpts_output_MeanAbsoluteRatio: 1.0068 - s6kpts_output_analog_recall: 0.8832 - val_loss: 0.0626 - val_s1pafs_output_loss: 0.0028 - val_s2pafs_output_loss: 0.0026 - val_s3pafs_output_loss: 0.0024 - val_s4pafs_output_loss: 0.0024 - val_s5kpts_output_loss: 0.0057 - val_s6kpts_output_loss: 0.0055 - val_s1pafs_output_MeanAbsoluteRatio: 1.0185 - val_s1pafs_output_analog_recall: 0.8703 - val_s2pafs_output_MeanAbsoluteRatio: 1.0220 - val_s2pafs_output_analog_recall: 0.8809 - val_s3pafs_output_MeanAbsoluteRatio: 1.0216 - val_s3pafs_output_analog_recall: 0.8897 - val_s4pafs_output_MeanAbsoluteRatio: 1.0190 - val_s4pafs_output_analog_recall: 0.8908 - val_s5kpts_output_MeanAbsoluteRatio: 1.0424 - val_s5kpts_output_analog_recall: 0.8842 - val_s6kpts_output_MeanAbsoluteRatio: 1.0319 - val_s6kpts_output_analog_recall: 0.8867\n",
      "\n",
      "Learning rate for epoch 200 is 0.0010000000474974513\n",
      "Epoch 201/262\n"
     ]
    },
    {
     "name": "stdout",
     "output_type": "stream",
     "text": [
      "50/50 [==============================] - 71s 1s/step - loss: 0.0566 - s1pafs_output_loss: 0.0026 - s2pafs_output_loss: 0.0023 - s3pafs_output_loss: 0.0022 - s4pafs_output_loss: 0.0021 - s5kpts_output_loss: 0.0053 - s6kpts_output_loss: 0.0051 - s1pafs_output_MeanAbsoluteRatio: 0.9997 - s1pafs_output_analog_recall: 0.8721 - s2pafs_output_MeanAbsoluteRatio: 1.0065 - s2pafs_output_analog_recall: 0.8827 - s3pafs_output_MeanAbsoluteRatio: 0.9973 - s3pafs_output_analog_recall: 0.8895 - s4pafs_output_MeanAbsoluteRatio: 0.9982 - s4pafs_output_analog_recall: 0.8923 - s5kpts_output_MeanAbsoluteRatio: 1.0075 - s5kpts_output_analog_recall: 0.8772 - s6kpts_output_MeanAbsoluteRatio: 1.0070 - s6kpts_output_analog_recall: 0.8811 - val_loss: 0.0631 - val_s1pafs_output_loss: 0.0028 - val_s2pafs_output_loss: 0.0026 - val_s3pafs_output_loss: 0.0025 - val_s4pafs_output_loss: 0.0024 - val_s5kpts_output_loss: 0.0058 - val_s6kpts_output_loss: 0.0056 - val_s1pafs_output_MeanAbsoluteRatio: 0.9994 - val_s1pafs_output_analog_recall: 0.8640 - val_s2pafs_output_MeanAbsoluteRatio: 1.0064 - val_s2pafs_output_analog_recall: 0.8758 - val_s3pafs_output_MeanAbsoluteRatio: 0.9957 - val_s3pafs_output_analog_recall: 0.8822 - val_s4pafs_output_MeanAbsoluteRatio: 1.0038 - val_s4pafs_output_analog_recall: 0.8858 - val_s5kpts_output_MeanAbsoluteRatio: 1.0054 - val_s5kpts_output_analog_recall: 0.8722 - val_s6kpts_output_MeanAbsoluteRatio: 1.0070 - val_s6kpts_output_analog_recall: 0.8768\n",
      "\n",
      "Learning rate for epoch 201 is 0.0010000000474974513\n",
      "Epoch 202/262\n",
      "22/50 [============>.................] - ETA: 20s - loss: 0.0560 - s1pafs_output_loss: 0.0026 - s2pafs_output_loss: 0.0023 - s3pafs_output_loss: 0.0022 - s4pafs_output_loss: 0.0021 - s5kpts_output_loss: 0.0052 - s6kpts_output_loss: 0.0050 - s1pafs_output_MeanAbsoluteRatio: 0.9998 - s1pafs_output_analog_recall: 0.8730 - s2pafs_output_MeanAbsoluteRatio: 1.0053 - s2pafs_output_analog_recall: 0.8837 - s3pafs_output_MeanAbsoluteRatio: 0.9972 - s3pafs_output_analog_recall: 0.8898 - s4pafs_output_MeanAbsoluteRatio: 0.9998 - s4pafs_output_analog_recall: 0.8929 - s5kpts_output_MeanAbsoluteRatio: 1.0089 - s5kpts_output_analog_recall: 0.8800 - s6kpts_output_MeanAbsoluteRatio: 1.0073 - s6kpts_output_analog_recall: 0.8842\n",
      "Epoch 00202: saving model to gs://dl_training_results/checkpoints/model1115Sun1219-0341/-E0202.ckpt\n",
      "50/50 [==============================] - 51s 1s/step - loss: 0.0562 - s1pafs_output_loss: 0.0026 - s2pafs_output_loss: 0.0023 - s3pafs_output_loss: 0.0022 - s4pafs_output_loss: 0.0021 - s5kpts_output_loss: 0.0052 - s6kpts_output_loss: 0.0050 - s1pafs_output_MeanAbsoluteRatio: 1.0022 - s1pafs_output_analog_recall: 0.8735 - s2pafs_output_MeanAbsoluteRatio: 1.0048 - s2pafs_output_analog_recall: 0.8840 - s3pafs_output_MeanAbsoluteRatio: 0.9986 - s3pafs_output_analog_recall: 0.8907 - s4pafs_output_MeanAbsoluteRatio: 1.0016 - s4pafs_output_analog_recall: 0.8936 - s5kpts_output_MeanAbsoluteRatio: 1.0091 - s5kpts_output_analog_recall: 0.8798 - s6kpts_output_MeanAbsoluteRatio: 1.0079 - s6kpts_output_analog_recall: 0.8842 - val_loss: 0.0637 - val_s1pafs_output_loss: 0.0029 - val_s2pafs_output_loss: 0.0026 - val_s3pafs_output_loss: 0.0025 - val_s4pafs_output_loss: 0.0024 - val_s5kpts_output_loss: 0.0059 - val_s6kpts_output_loss: 0.0057 - val_s1pafs_output_MeanAbsoluteRatio: 0.9898 - val_s1pafs_output_analog_recall: 0.8590 - val_s2pafs_output_MeanAbsoluteRatio: 0.9920 - val_s2pafs_output_analog_recall: 0.8685 - val_s3pafs_output_MeanAbsoluteRatio: 0.9737 - val_s3pafs_output_analog_recall: 0.8729 - val_s4pafs_output_MeanAbsoluteRatio: 0.9804 - val_s4pafs_output_analog_recall: 0.8763 - val_s5kpts_output_MeanAbsoluteRatio: 0.9841 - val_s5kpts_output_analog_recall: 0.8625 - val_s6kpts_output_MeanAbsoluteRatio: 0.9992 - val_s6kpts_output_analog_recall: 0.8716\n",
      "\n",
      "Learning rate for epoch 202 is 0.0010000000474974513\n",
      "Epoch 203/262\n",
      "50/50 [==============================] - 49s 977ms/step - loss: 0.0561 - s1pafs_output_loss: 0.0026 - s2pafs_output_loss: 0.0023 - s3pafs_output_loss: 0.0022 - s4pafs_output_loss: 0.0021 - s5kpts_output_loss: 0.0051 - s6kpts_output_loss: 0.0050 - s1pafs_output_MeanAbsoluteRatio: 1.0039 - s1pafs_output_analog_recall: 0.8735 - s2pafs_output_MeanAbsoluteRatio: 1.0047 - s2pafs_output_analog_recall: 0.8841 - s3pafs_output_MeanAbsoluteRatio: 0.9966 - s3pafs_output_analog_recall: 0.8903 - s4pafs_output_MeanAbsoluteRatio: 0.9992 - s4pafs_output_analog_recall: 0.8930 - s5kpts_output_MeanAbsoluteRatio: 1.0088 - s5kpts_output_analog_recall: 0.8799 - s6kpts_output_MeanAbsoluteRatio: 1.0074 - s6kpts_output_analog_recall: 0.8834 - val_loss: 0.0640 - val_s1pafs_output_loss: 0.0029 - val_s2pafs_output_loss: 0.0026 - val_s3pafs_output_loss: 0.0025 - val_s4pafs_output_loss: 0.0025 - val_s5kpts_output_loss: 0.0060 - val_s6kpts_output_loss: 0.0058 - val_s1pafs_output_MeanAbsoluteRatio: 0.9989 - val_s1pafs_output_analog_recall: 0.8661 - val_s2pafs_output_MeanAbsoluteRatio: 0.9960 - val_s2pafs_output_analog_recall: 0.8746 - val_s3pafs_output_MeanAbsoluteRatio: 0.9842 - val_s3pafs_output_analog_recall: 0.8782 - val_s4pafs_output_MeanAbsoluteRatio: 0.9758 - val_s4pafs_output_analog_recall: 0.8764 - val_s5kpts_output_MeanAbsoluteRatio: 0.9705 - val_s5kpts_output_analog_recall: 0.8598 - val_s6kpts_output_MeanAbsoluteRatio: 0.9807 - val_s6kpts_output_analog_recall: 0.8680\n",
      "\n",
      "Learning rate for epoch 203 is 0.0010000000474974513\n",
      "Epoch 204/262\n",
      "50/50 [==============================] - 47s 937ms/step - loss: 0.0564 - s1pafs_output_loss: 0.0026 - s2pafs_output_loss: 0.0023 - s3pafs_output_loss: 0.0022 - s4pafs_output_loss: 0.0021 - s5kpts_output_loss: 0.0052 - s6kpts_output_loss: 0.0050 - s1pafs_output_MeanAbsoluteRatio: 0.9998 - s1pafs_output_analog_recall: 0.8727 - s2pafs_output_MeanAbsoluteRatio: 1.0040 - s2pafs_output_analog_recall: 0.8833 - s3pafs_output_MeanAbsoluteRatio: 0.9977 - s3pafs_output_analog_recall: 0.8901 - s4pafs_output_MeanAbsoluteRatio: 0.9993 - s4pafs_output_analog_recall: 0.8932 - s5kpts_output_MeanAbsoluteRatio: 1.0093 - s5kpts_output_analog_recall: 0.8797 - s6kpts_output_MeanAbsoluteRatio: 1.0081 - s6kpts_output_analog_recall: 0.8838 - val_loss: 0.0644 - val_s1pafs_output_loss: 0.0029 - val_s2pafs_output_loss: 0.0027 - val_s3pafs_output_loss: 0.0025 - val_s4pafs_output_loss: 0.0025 - val_s5kpts_output_loss: 0.0060 - val_s6kpts_output_loss: 0.0059 - val_s1pafs_output_MeanAbsoluteRatio: 1.0220 - val_s1pafs_output_analog_recall: 0.8688 - val_s2pafs_output_MeanAbsoluteRatio: 1.0423 - val_s2pafs_output_analog_recall: 0.8817 - val_s3pafs_output_MeanAbsoluteRatio: 1.0189 - val_s3pafs_output_analog_recall: 0.8846 - val_s4pafs_output_MeanAbsoluteRatio: 1.0177 - val_s4pafs_output_analog_recall: 0.8854 - val_s5kpts_output_MeanAbsoluteRatio: 1.0205 - val_s5kpts_output_analog_recall: 0.8726 - val_s6kpts_output_MeanAbsoluteRatio: 1.0152 - val_s6kpts_output_analog_recall: 0.8762\n",
      "\n",
      "Learning rate for epoch 204 is 0.0010000000474974513\n",
      "Epoch 205/262\n",
      "50/50 [==============================] - 41s 828ms/step - loss: 0.0570 - s1pafs_output_loss: 0.0026 - s2pafs_output_loss: 0.0024 - s3pafs_output_loss: 0.0022 - s4pafs_output_loss: 0.0022 - s5kpts_output_loss: 0.0052 - s6kpts_output_loss: 0.0051 - s1pafs_output_MeanAbsoluteRatio: 0.9992 - s1pafs_output_analog_recall: 0.8721 - s2pafs_output_MeanAbsoluteRatio: 1.0054 - s2pafs_output_analog_recall: 0.8820 - s3pafs_output_MeanAbsoluteRatio: 0.9960 - s3pafs_output_analog_recall: 0.8890 - s4pafs_output_MeanAbsoluteRatio: 0.9961 - s4pafs_output_analog_recall: 0.8918 - s5kpts_output_MeanAbsoluteRatio: 1.0070 - s5kpts_output_analog_recall: 0.8782 - s6kpts_output_MeanAbsoluteRatio: 1.0053 - s6kpts_output_analog_recall: 0.8820 - val_loss: 0.0631 - val_s1pafs_output_loss: 0.0029 - val_s2pafs_output_loss: 0.0026 - val_s3pafs_output_loss: 0.0025 - val_s4pafs_output_loss: 0.0024 - val_s5kpts_output_loss: 0.0058 - val_s6kpts_output_loss: 0.0056 - val_s1pafs_output_MeanAbsoluteRatio: 1.0007 - val_s1pafs_output_analog_recall: 0.8634 - val_s2pafs_output_MeanAbsoluteRatio: 1.0081 - val_s2pafs_output_analog_recall: 0.8770 - val_s3pafs_output_MeanAbsoluteRatio: 0.9966 - val_s3pafs_output_analog_recall: 0.8832 - val_s4pafs_output_MeanAbsoluteRatio: 0.9996 - val_s4pafs_output_analog_recall: 0.8850 - val_s5kpts_output_MeanAbsoluteRatio: 1.0006 - val_s5kpts_output_analog_recall: 0.8676 - val_s6kpts_output_MeanAbsoluteRatio: 0.9950 - val_s6kpts_output_analog_recall: 0.8701\n"
     ]
    },
    {
     "name": "stdout",
     "output_type": "stream",
     "text": [
      "\n",
      "Learning rate for epoch 205 is 0.0010000000474974513\n",
      "Epoch 206/262\n",
      "50/50 [==============================] - 42s 832ms/step - loss: 0.0573 - s1pafs_output_loss: 0.0026 - s2pafs_output_loss: 0.0024 - s3pafs_output_loss: 0.0022 - s4pafs_output_loss: 0.0022 - s5kpts_output_loss: 0.0052 - s6kpts_output_loss: 0.0050 - s1pafs_output_MeanAbsoluteRatio: 0.9982 - s1pafs_output_analog_recall: 0.8709 - s2pafs_output_MeanAbsoluteRatio: 1.0057 - s2pafs_output_analog_recall: 0.8820 - s3pafs_output_MeanAbsoluteRatio: 0.9953 - s3pafs_output_analog_recall: 0.8885 - s4pafs_output_MeanAbsoluteRatio: 0.9978 - s4pafs_output_analog_recall: 0.8918 - s5kpts_output_MeanAbsoluteRatio: 1.0088 - s5kpts_output_analog_recall: 0.8799 - s6kpts_output_MeanAbsoluteRatio: 1.0086 - s6kpts_output_analog_recall: 0.8842 - val_loss: 0.0633 - val_s1pafs_output_loss: 0.0028 - val_s2pafs_output_loss: 0.0026 - val_s3pafs_output_loss: 0.0025 - val_s4pafs_output_loss: 0.0024 - val_s5kpts_output_loss: 0.0059 - val_s6kpts_output_loss: 0.0057 - val_s1pafs_output_MeanAbsoluteRatio: 0.9945 - val_s1pafs_output_analog_recall: 0.8628 - val_s2pafs_output_MeanAbsoluteRatio: 1.0035 - val_s2pafs_output_analog_recall: 0.8724 - val_s3pafs_output_MeanAbsoluteRatio: 0.9925 - val_s3pafs_output_analog_recall: 0.8800 - val_s4pafs_output_MeanAbsoluteRatio: 0.9968 - val_s4pafs_output_analog_recall: 0.8845 - val_s5kpts_output_MeanAbsoluteRatio: 1.0075 - val_s5kpts_output_analog_recall: 0.8724 - val_s6kpts_output_MeanAbsoluteRatio: 1.0140 - val_s6kpts_output_analog_recall: 0.8804\n",
      "\n",
      "Learning rate for epoch 206 is 0.0010000000474974513\n",
      "Epoch 207/262\n",
      "50/50 [==============================] - 48s 954ms/step - loss: 0.0561 - s1pafs_output_loss: 0.0026 - s2pafs_output_loss: 0.0023 - s3pafs_output_loss: 0.0022 - s4pafs_output_loss: 0.0021 - s5kpts_output_loss: 0.0052 - s6kpts_output_loss: 0.0051 - s1pafs_output_MeanAbsoluteRatio: 0.9974 - s1pafs_output_analog_recall: 0.8734 - s2pafs_output_MeanAbsoluteRatio: 1.0043 - s2pafs_output_analog_recall: 0.8839 - s3pafs_output_MeanAbsoluteRatio: 0.9970 - s3pafs_output_analog_recall: 0.8902 - s4pafs_output_MeanAbsoluteRatio: 0.9975 - s4pafs_output_analog_recall: 0.8927 - s5kpts_output_MeanAbsoluteRatio: 1.0097 - s5kpts_output_analog_recall: 0.8788 - s6kpts_output_MeanAbsoluteRatio: 1.0088 - s6kpts_output_analog_recall: 0.8823 - val_loss: 0.0633 - val_s1pafs_output_loss: 0.0028 - val_s2pafs_output_loss: 0.0026 - val_s3pafs_output_loss: 0.0025 - val_s4pafs_output_loss: 0.0024 - val_s5kpts_output_loss: 0.0059 - val_s6kpts_output_loss: 0.0057 - val_s1pafs_output_MeanAbsoluteRatio: 0.9915 - val_s1pafs_output_analog_recall: 0.8650 - val_s2pafs_output_MeanAbsoluteRatio: 0.9959 - val_s2pafs_output_analog_recall: 0.8723 - val_s3pafs_output_MeanAbsoluteRatio: 0.9839 - val_s3pafs_output_analog_recall: 0.8763 - val_s4pafs_output_MeanAbsoluteRatio: 0.9754 - val_s4pafs_output_analog_recall: 0.8743 - val_s5kpts_output_MeanAbsoluteRatio: 0.9859 - val_s5kpts_output_analog_recall: 0.8611 - val_s6kpts_output_MeanAbsoluteRatio: 0.9675 - val_s6kpts_output_analog_recall: 0.8596\n",
      "\n",
      "Learning rate for epoch 207 is 0.0010000000474974513\n",
      "Epoch 208/262\n",
      "50/50 [==============================] - 47s 931ms/step - loss: 0.0573 - s1pafs_output_loss: 0.0026 - s2pafs_output_loss: 0.0024 - s3pafs_output_loss: 0.0022 - s4pafs_output_loss: 0.0022 - s5kpts_output_loss: 0.0053 - s6kpts_output_loss: 0.0052 - s1pafs_output_MeanAbsoluteRatio: 0.9991 - s1pafs_output_analog_recall: 0.8717 - s2pafs_output_MeanAbsoluteRatio: 1.0017 - s2pafs_output_analog_recall: 0.8817 - s3pafs_output_MeanAbsoluteRatio: 0.9952 - s3pafs_output_analog_recall: 0.8884 - s4pafs_output_MeanAbsoluteRatio: 0.9966 - s4pafs_output_analog_recall: 0.8910 - s5kpts_output_MeanAbsoluteRatio: 1.0082 - s5kpts_output_analog_recall: 0.8761 - s6kpts_output_MeanAbsoluteRatio: 1.0073 - s6kpts_output_analog_recall: 0.8800 - val_loss: 0.0643 - val_s1pafs_output_loss: 0.0029 - val_s2pafs_output_loss: 0.0027 - val_s3pafs_output_loss: 0.0025 - val_s4pafs_output_loss: 0.0025 - val_s5kpts_output_loss: 0.0060 - val_s6kpts_output_loss: 0.0058 - val_s1pafs_output_MeanAbsoluteRatio: 0.9923 - val_s1pafs_output_analog_recall: 0.8632 - val_s2pafs_output_MeanAbsoluteRatio: 1.0019 - val_s2pafs_output_analog_recall: 0.8766 - val_s3pafs_output_MeanAbsoluteRatio: 1.0031 - val_s3pafs_output_analog_recall: 0.8843 - val_s4pafs_output_MeanAbsoluteRatio: 1.0152 - val_s4pafs_output_analog_recall: 0.8892 - val_s5kpts_output_MeanAbsoluteRatio: 1.0629 - val_s5kpts_output_analog_recall: 0.8844 - val_s6kpts_output_MeanAbsoluteRatio: 1.0618 - val_s6kpts_output_analog_recall: 0.8888\n",
      "\n",
      "Learning rate for epoch 208 is 0.0010000000474974513\n",
      "Epoch 209/262\n",
      "50/50 [==============================] - 71s 1s/step - loss: 0.0566 - s1pafs_output_loss: 0.0026 - s2pafs_output_loss: 0.0024 - s3pafs_output_loss: 0.0022 - s4pafs_output_loss: 0.0021 - s5kpts_output_loss: 0.0052 - s6kpts_output_loss: 0.0051 - s1pafs_output_MeanAbsoluteRatio: 0.9990 - s1pafs_output_analog_recall: 0.8728 - s2pafs_output_MeanAbsoluteRatio: 1.0026 - s2pafs_output_analog_recall: 0.8833 - s3pafs_output_MeanAbsoluteRatio: 0.9946 - s3pafs_output_analog_recall: 0.8899 - s4pafs_output_MeanAbsoluteRatio: 0.9991 - s4pafs_output_analog_recall: 0.8927 - s5kpts_output_MeanAbsoluteRatio: 1.0080 - s5kpts_output_analog_recall: 0.8792 - s6kpts_output_MeanAbsoluteRatio: 1.0060 - s6kpts_output_analog_recall: 0.8829 - val_loss: 0.0634 - val_s1pafs_output_loss: 0.0029 - val_s2pafs_output_loss: 0.0026 - val_s3pafs_output_loss: 0.0025 - val_s4pafs_output_loss: 0.0024 - val_s5kpts_output_loss: 0.0058 - val_s6kpts_output_loss: 0.0056 - val_s1pafs_output_MeanAbsoluteRatio: 1.0027 - val_s1pafs_output_analog_recall: 0.8639 - val_s2pafs_output_MeanAbsoluteRatio: 1.0081 - val_s2pafs_output_analog_recall: 0.8734 - val_s3pafs_output_MeanAbsoluteRatio: 0.9882 - val_s3pafs_output_analog_recall: 0.8778 - val_s4pafs_output_MeanAbsoluteRatio: 0.9934 - val_s4pafs_output_analog_recall: 0.8821 - val_s5kpts_output_MeanAbsoluteRatio: 1.0104 - val_s5kpts_output_analog_recall: 0.8681 - val_s6kpts_output_MeanAbsoluteRatio: 1.0140 - val_s6kpts_output_analog_recall: 0.8743\n",
      "\n",
      "Learning rate for epoch 209 is 0.0010000000474974513\n",
      "Epoch 210/262\n",
      "50/50 [==============================] - 47s 941ms/step - loss: 0.0561 - s1pafs_output_loss: 0.0026 - s2pafs_output_loss: 0.0023 - s3pafs_output_loss: 0.0022 - s4pafs_output_loss: 0.0021 - s5kpts_output_loss: 0.0052 - s6kpts_output_loss: 0.0050 - s1pafs_output_MeanAbsoluteRatio: 1.0022 - s1pafs_output_analog_recall: 0.8720 - s2pafs_output_MeanAbsoluteRatio: 1.0053 - s2pafs_output_analog_recall: 0.8834 - s3pafs_output_MeanAbsoluteRatio: 0.9956 - s3pafs_output_analog_recall: 0.8903 - s4pafs_output_MeanAbsoluteRatio: 0.9966 - s4pafs_output_analog_recall: 0.8935 - s5kpts_output_MeanAbsoluteRatio: 1.0071 - s5kpts_output_analog_recall: 0.8792 - s6kpts_output_MeanAbsoluteRatio: 1.0059 - s6kpts_output_analog_recall: 0.8834 - val_loss: 0.0633 - val_s1pafs_output_loss: 0.0028 - val_s2pafs_output_loss: 0.0026 - val_s3pafs_output_loss: 0.0025 - val_s4pafs_output_loss: 0.0024 - val_s5kpts_output_loss: 0.0059 - val_s6kpts_output_loss: 0.0057 - val_s1pafs_output_MeanAbsoluteRatio: 1.0152 - val_s1pafs_output_analog_recall: 0.8697 - val_s2pafs_output_MeanAbsoluteRatio: 1.0027 - val_s2pafs_output_analog_recall: 0.8747 - val_s3pafs_output_MeanAbsoluteRatio: 0.9984 - val_s3pafs_output_analog_recall: 0.8835 - val_s4pafs_output_MeanAbsoluteRatio: 1.0126 - val_s4pafs_output_analog_recall: 0.8898 - val_s5kpts_output_MeanAbsoluteRatio: 1.0337 - val_s5kpts_output_analog_recall: 0.8859 - val_s6kpts_output_MeanAbsoluteRatio: 1.0316 - val_s6kpts_output_analog_recall: 0.8882\n",
      "\n",
      "Learning rate for epoch 210 is 0.0010000000474974513\n",
      "Epoch 211/262\n"
     ]
    },
    {
     "name": "stdout",
     "output_type": "stream",
     "text": [
      "10/50 [=====>........................] - ETA: 29s - loss: 0.0576 - s1pafs_output_loss: 0.0027 - s2pafs_output_loss: 0.0024 - s3pafs_output_loss: 0.0022 - s4pafs_output_loss: 0.0022 - s5kpts_output_loss: 0.0053 - s6kpts_output_loss: 0.0051 - s1pafs_output_MeanAbsoluteRatio: 1.0030 - s1pafs_output_analog_recall: 0.8701 - s2pafs_output_MeanAbsoluteRatio: 1.0046 - s2pafs_output_analog_recall: 0.8807 - s3pafs_output_MeanAbsoluteRatio: 0.9953 - s3pafs_output_analog_recall: 0.8883 - s4pafs_output_MeanAbsoluteRatio: 0.9977 - s4pafs_output_analog_recall: 0.8920 - s5kpts_output_MeanAbsoluteRatio: 1.0088 - s5kpts_output_analog_recall: 0.8797 - s6kpts_output_MeanAbsoluteRatio: 1.0099 - s6kpts_output_analog_recall: 0.8840\n",
      "Epoch 00211: saving model to gs://dl_training_results/checkpoints/model1115Sun1219-0341/-E0211.ckpt\n",
      "50/50 [==============================] - 50s 1s/step - loss: 0.0573 - s1pafs_output_loss: 0.0026 - s2pafs_output_loss: 0.0024 - s3pafs_output_loss: 0.0022 - s4pafs_output_loss: 0.0022 - s5kpts_output_loss: 0.0053 - s6kpts_output_loss: 0.0052 - s1pafs_output_MeanAbsoluteRatio: 1.0041 - s1pafs_output_analog_recall: 0.8722 - s2pafs_output_MeanAbsoluteRatio: 1.0071 - s2pafs_output_analog_recall: 0.8822 - s3pafs_output_MeanAbsoluteRatio: 0.9954 - s3pafs_output_analog_recall: 0.8887 - s4pafs_output_MeanAbsoluteRatio: 0.9968 - s4pafs_output_analog_recall: 0.8919 - s5kpts_output_MeanAbsoluteRatio: 1.0080 - s5kpts_output_analog_recall: 0.8775 - s6kpts_output_MeanAbsoluteRatio: 1.0070 - s6kpts_output_analog_recall: 0.8813 - val_loss: 0.0656 - val_s1pafs_output_loss: 0.0029 - val_s2pafs_output_loss: 0.0027 - val_s3pafs_output_loss: 0.0026 - val_s4pafs_output_loss: 0.0026 - val_s5kpts_output_loss: 0.0062 - val_s6kpts_output_loss: 0.0061 - val_s1pafs_output_MeanAbsoluteRatio: 0.9695 - val_s1pafs_output_analog_recall: 0.8522 - val_s2pafs_output_MeanAbsoluteRatio: 0.9578 - val_s2pafs_output_analog_recall: 0.8606 - val_s3pafs_output_MeanAbsoluteRatio: 0.9427 - val_s3pafs_output_analog_recall: 0.8631 - val_s4pafs_output_MeanAbsoluteRatio: 0.9366 - val_s4pafs_output_analog_recall: 0.8615 - val_s5kpts_output_MeanAbsoluteRatio: 0.9507 - val_s5kpts_output_analog_recall: 0.8444 - val_s6kpts_output_MeanAbsoluteRatio: 0.9462 - val_s6kpts_output_analog_recall: 0.8467\n",
      "\n",
      "Learning rate for epoch 211 is 0.0010000000474974513\n",
      "Epoch 212/262\n",
      "50/50 [==============================] - 50s 997ms/step - loss: 0.0558 - s1pafs_output_loss: 0.0026 - s2pafs_output_loss: 0.0023 - s3pafs_output_loss: 0.0022 - s4pafs_output_loss: 0.0021 - s5kpts_output_loss: 0.0051 - s6kpts_output_loss: 0.0050 - s1pafs_output_MeanAbsoluteRatio: 1.0011 - s1pafs_output_analog_recall: 0.8741 - s2pafs_output_MeanAbsoluteRatio: 1.0042 - s2pafs_output_analog_recall: 0.8843 - s3pafs_output_MeanAbsoluteRatio: 0.9960 - s3pafs_output_analog_recall: 0.8909 - s4pafs_output_MeanAbsoluteRatio: 0.9975 - s4pafs_output_analog_recall: 0.8937 - s5kpts_output_MeanAbsoluteRatio: 1.0096 - s5kpts_output_analog_recall: 0.8799 - s6kpts_output_MeanAbsoluteRatio: 1.0066 - s6kpts_output_analog_recall: 0.8835 - val_loss: 0.0624 - val_s1pafs_output_loss: 0.0028 - val_s2pafs_output_loss: 0.0026 - val_s3pafs_output_loss: 0.0024 - val_s4pafs_output_loss: 0.0024 - val_s5kpts_output_loss: 0.0057 - val_s6kpts_output_loss: 0.0056 - val_s1pafs_output_MeanAbsoluteRatio: 0.9962 - val_s1pafs_output_analog_recall: 0.8664 - val_s2pafs_output_MeanAbsoluteRatio: 1.0028 - val_s2pafs_output_analog_recall: 0.8748 - val_s3pafs_output_MeanAbsoluteRatio: 0.9909 - val_s3pafs_output_analog_recall: 0.8806 - val_s4pafs_output_MeanAbsoluteRatio: 0.9931 - val_s4pafs_output_analog_recall: 0.8814 - val_s5kpts_output_MeanAbsoluteRatio: 1.0206 - val_s5kpts_output_analog_recall: 0.8704 - val_s6kpts_output_MeanAbsoluteRatio: 1.0319 - val_s6kpts_output_analog_recall: 0.8769\n",
      "\n",
      "Learning rate for epoch 212 is 0.0010000000474974513\n",
      "Epoch 213/262\n",
      "50/50 [==============================] - 45s 899ms/step - loss: 0.0558 - s1pafs_output_loss: 0.0026 - s2pafs_output_loss: 0.0023 - s3pafs_output_loss: 0.0022 - s4pafs_output_loss: 0.0021 - s5kpts_output_loss: 0.0051 - s6kpts_output_loss: 0.0049 - s1pafs_output_MeanAbsoluteRatio: 0.9989 - s1pafs_output_analog_recall: 0.8733 - s2pafs_output_MeanAbsoluteRatio: 1.0048 - s2pafs_output_analog_recall: 0.8837 - s3pafs_output_MeanAbsoluteRatio: 0.9975 - s3pafs_output_analog_recall: 0.8911 - s4pafs_output_MeanAbsoluteRatio: 0.9980 - s4pafs_output_analog_recall: 0.8940 - s5kpts_output_MeanAbsoluteRatio: 1.0078 - s5kpts_output_analog_recall: 0.8811 - s6kpts_output_MeanAbsoluteRatio: 1.0076 - s6kpts_output_analog_recall: 0.8852 - val_loss: 0.0638 - val_s1pafs_output_loss: 0.0029 - val_s2pafs_output_loss: 0.0026 - val_s3pafs_output_loss: 0.0025 - val_s4pafs_output_loss: 0.0024 - val_s5kpts_output_loss: 0.0059 - val_s6kpts_output_loss: 0.0057 - val_s1pafs_output_MeanAbsoluteRatio: 1.0177 - val_s1pafs_output_analog_recall: 0.8707 - val_s2pafs_output_MeanAbsoluteRatio: 1.0306 - val_s2pafs_output_analog_recall: 0.8836 - val_s3pafs_output_MeanAbsoluteRatio: 1.0251 - val_s3pafs_output_analog_recall: 0.8894 - val_s4pafs_output_MeanAbsoluteRatio: 1.0208 - val_s4pafs_output_analog_recall: 0.8910 - val_s5kpts_output_MeanAbsoluteRatio: 1.0494 - val_s5kpts_output_analog_recall: 0.8855 - val_s6kpts_output_MeanAbsoluteRatio: 1.0393 - val_s6kpts_output_analog_recall: 0.8862\n",
      "\n",
      "Learning rate for epoch 213 is 0.0010000000474974513\n",
      "Epoch 214/262\n",
      "50/50 [==============================] - 45s 903ms/step - loss: 0.0564 - s1pafs_output_loss: 0.0026 - s2pafs_output_loss: 0.0023 - s3pafs_output_loss: 0.0022 - s4pafs_output_loss: 0.0021 - s5kpts_output_loss: 0.0052 - s6kpts_output_loss: 0.0050 - s1pafs_output_MeanAbsoluteRatio: 1.0008 - s1pafs_output_analog_recall: 0.8732 - s2pafs_output_MeanAbsoluteRatio: 1.0035 - s2pafs_output_analog_recall: 0.8834 - s3pafs_output_MeanAbsoluteRatio: 0.9972 - s3pafs_output_analog_recall: 0.8902 - s4pafs_output_MeanAbsoluteRatio: 0.9982 - s4pafs_output_analog_recall: 0.8931 - s5kpts_output_MeanAbsoluteRatio: 1.0080 - s5kpts_output_analog_recall: 0.8795 - s6kpts_output_MeanAbsoluteRatio: 1.0070 - s6kpts_output_analog_recall: 0.8839 - val_loss: 0.0624 - val_s1pafs_output_loss: 0.0028 - val_s2pafs_output_loss: 0.0026 - val_s3pafs_output_loss: 0.0024 - val_s4pafs_output_loss: 0.0024 - val_s5kpts_output_loss: 0.0058 - val_s6kpts_output_loss: 0.0056 - val_s1pafs_output_MeanAbsoluteRatio: 1.0109 - val_s1pafs_output_analog_recall: 0.8692 - val_s2pafs_output_MeanAbsoluteRatio: 1.0190 - val_s2pafs_output_analog_recall: 0.8799 - val_s3pafs_output_MeanAbsoluteRatio: 1.0107 - val_s3pafs_output_analog_recall: 0.8878 - val_s4pafs_output_MeanAbsoluteRatio: 1.0197 - val_s4pafs_output_analog_recall: 0.8914 - val_s5kpts_output_MeanAbsoluteRatio: 1.0613 - val_s5kpts_output_analog_recall: 0.8892 - val_s6kpts_output_MeanAbsoluteRatio: 1.0428 - val_s6kpts_output_analog_recall: 0.8878\n",
      "\n",
      "Learning rate for epoch 214 is 0.0010000000474974513\n",
      "Epoch 215/262\n",
      "50/50 [==============================] - 44s 877ms/step - loss: 0.0576 - s1pafs_output_loss: 0.0027 - s2pafs_output_loss: 0.0024 - s3pafs_output_loss: 0.0022 - s4pafs_output_loss: 0.0022 - s5kpts_output_loss: 0.0052 - s6kpts_output_loss: 0.0050 - s1pafs_output_MeanAbsoluteRatio: 0.9997 - s1pafs_output_analog_recall: 0.8703 - s2pafs_output_MeanAbsoluteRatio: 1.0032 - s2pafs_output_analog_recall: 0.8808 - s3pafs_output_MeanAbsoluteRatio: 0.9941 - s3pafs_output_analog_recall: 0.8877 - s4pafs_output_MeanAbsoluteRatio: 0.9962 - s4pafs_output_analog_recall: 0.8909 - s5kpts_output_MeanAbsoluteRatio: 1.0080 - s5kpts_output_analog_recall: 0.8795 - s6kpts_output_MeanAbsoluteRatio: 1.0067 - s6kpts_output_analog_recall: 0.8838 - val_loss: 0.0635 - val_s1pafs_output_loss: 0.0029 - val_s2pafs_output_loss: 0.0027 - val_s3pafs_output_loss: 0.0025 - val_s4pafs_output_loss: 0.0024 - val_s5kpts_output_loss: 0.0058 - val_s6kpts_output_loss: 0.0056 - val_s1pafs_output_MeanAbsoluteRatio: 1.0051 - val_s1pafs_output_analog_recall: 0.8623 - val_s2pafs_output_MeanAbsoluteRatio: 1.0090 - val_s2pafs_output_analog_recall: 0.8751 - val_s3pafs_output_MeanAbsoluteRatio: 0.9944 - val_s3pafs_output_analog_recall: 0.8821 - val_s4pafs_output_MeanAbsoluteRatio: 1.0015 - val_s4pafs_output_analog_recall: 0.8873 - val_s5kpts_output_MeanAbsoluteRatio: 1.0451 - val_s5kpts_output_analog_recall: 0.8856 - val_s6kpts_output_MeanAbsoluteRatio: 1.0573 - val_s6kpts_output_analog_recall: 0.8910\n"
     ]
    },
    {
     "name": "stdout",
     "output_type": "stream",
     "text": [
      "\n",
      "Learning rate for epoch 215 is 0.0010000000474974513\n",
      "Epoch 216/262\n",
      "50/50 [==============================] - 44s 883ms/step - loss: 0.0551 - s1pafs_output_loss: 0.0025 - s2pafs_output_loss: 0.0023 - s3pafs_output_loss: 0.0021 - s4pafs_output_loss: 0.0021 - s5kpts_output_loss: 0.0051 - s6kpts_output_loss: 0.0049 - s1pafs_output_MeanAbsoluteRatio: 1.0008 - s1pafs_output_analog_recall: 0.8747 - s2pafs_output_MeanAbsoluteRatio: 1.0049 - s2pafs_output_analog_recall: 0.8853 - s3pafs_output_MeanAbsoluteRatio: 0.9968 - s3pafs_output_analog_recall: 0.8916 - s4pafs_output_MeanAbsoluteRatio: 0.9959 - s4pafs_output_analog_recall: 0.8944 - s5kpts_output_MeanAbsoluteRatio: 1.0098 - s5kpts_output_analog_recall: 0.8810 - s6kpts_output_MeanAbsoluteRatio: 1.0074 - s6kpts_output_analog_recall: 0.8844 - val_loss: 0.0630 - val_s1pafs_output_loss: 0.0028 - val_s2pafs_output_loss: 0.0026 - val_s3pafs_output_loss: 0.0024 - val_s4pafs_output_loss: 0.0024 - val_s5kpts_output_loss: 0.0058 - val_s6kpts_output_loss: 0.0057 - val_s1pafs_output_MeanAbsoluteRatio: 0.9859 - val_s1pafs_output_analog_recall: 0.8640 - val_s2pafs_output_MeanAbsoluteRatio: 0.9940 - val_s2pafs_output_analog_recall: 0.8732 - val_s3pafs_output_MeanAbsoluteRatio: 0.9976 - val_s3pafs_output_analog_recall: 0.8828 - val_s4pafs_output_MeanAbsoluteRatio: 1.0187 - val_s4pafs_output_analog_recall: 0.8924 - val_s5kpts_output_MeanAbsoluteRatio: 1.0093 - val_s5kpts_output_analog_recall: 0.8738 - val_s6kpts_output_MeanAbsoluteRatio: 1.0155 - val_s6kpts_output_analog_recall: 0.8817\n",
      "\n",
      "Learning rate for epoch 216 is 0.0010000000474974513\n",
      "Epoch 217/262\n",
      "50/50 [==============================] - 71s 1s/step - loss: 0.0565 - s1pafs_output_loss: 0.0026 - s2pafs_output_loss: 0.0023 - s3pafs_output_loss: 0.0022 - s4pafs_output_loss: 0.0021 - s5kpts_output_loss: 0.0052 - s6kpts_output_loss: 0.0051 - s1pafs_output_MeanAbsoluteRatio: 0.9944 - s1pafs_output_analog_recall: 0.8727 - s2pafs_output_MeanAbsoluteRatio: 1.0022 - s2pafs_output_analog_recall: 0.8832 - s3pafs_output_MeanAbsoluteRatio: 0.9954 - s3pafs_output_analog_recall: 0.8899 - s4pafs_output_MeanAbsoluteRatio: 0.9987 - s4pafs_output_analog_recall: 0.8929 - s5kpts_output_MeanAbsoluteRatio: 1.0042 - s5kpts_output_analog_recall: 0.8774 - s6kpts_output_MeanAbsoluteRatio: 1.0048 - s6kpts_output_analog_recall: 0.8818 - val_loss: 0.0664 - val_s1pafs_output_loss: 0.0030 - val_s2pafs_output_loss: 0.0027 - val_s3pafs_output_loss: 0.0026 - val_s4pafs_output_loss: 0.0025 - val_s5kpts_output_loss: 0.0062 - val_s6kpts_output_loss: 0.0062 - val_s1pafs_output_MeanAbsoluteRatio: 1.0604 - val_s1pafs_output_analog_recall: 0.8791 - val_s2pafs_output_MeanAbsoluteRatio: 1.0433 - val_s2pafs_output_analog_recall: 0.8856 - val_s3pafs_output_MeanAbsoluteRatio: 1.0226 - val_s3pafs_output_analog_recall: 0.8889 - val_s4pafs_output_MeanAbsoluteRatio: 1.0189 - val_s4pafs_output_analog_recall: 0.8891 - val_s5kpts_output_MeanAbsoluteRatio: 1.0537 - val_s5kpts_output_analog_recall: 0.8878 - val_s6kpts_output_MeanAbsoluteRatio: 1.0835 - val_s6kpts_output_analog_recall: 0.8979\n",
      "\n",
      "Learning rate for epoch 217 is 0.0010000000474974513\n",
      "Epoch 218/262\n",
      "50/50 [==============================] - 47s 943ms/step - loss: 0.0577 - s1pafs_output_loss: 0.0026 - s2pafs_output_loss: 0.0024 - s3pafs_output_loss: 0.0022 - s4pafs_output_loss: 0.0022 - s5kpts_output_loss: 0.0053 - s6kpts_output_loss: 0.0052 - s1pafs_output_MeanAbsoluteRatio: 1.0000 - s1pafs_output_analog_recall: 0.8705 - s2pafs_output_MeanAbsoluteRatio: 1.0053 - s2pafs_output_analog_recall: 0.8813 - s3pafs_output_MeanAbsoluteRatio: 0.9970 - s3pafs_output_analog_recall: 0.8881 - s4pafs_output_MeanAbsoluteRatio: 0.9991 - s4pafs_output_analog_recall: 0.8908 - s5kpts_output_MeanAbsoluteRatio: 1.0124 - s5kpts_output_analog_recall: 0.8783 - s6kpts_output_MeanAbsoluteRatio: 1.0099 - s6kpts_output_analog_recall: 0.8817 - val_loss: 0.0635 - val_s1pafs_output_loss: 0.0029 - val_s2pafs_output_loss: 0.0027 - val_s3pafs_output_loss: 0.0025 - val_s4pafs_output_loss: 0.0024 - val_s5kpts_output_loss: 0.0058 - val_s6kpts_output_loss: 0.0056 - val_s1pafs_output_MeanAbsoluteRatio: 1.0099 - val_s1pafs_output_analog_recall: 0.8712 - val_s2pafs_output_MeanAbsoluteRatio: 1.0192 - val_s2pafs_output_analog_recall: 0.8835 - val_s3pafs_output_MeanAbsoluteRatio: 1.0026 - val_s3pafs_output_analog_recall: 0.8857 - val_s4pafs_output_MeanAbsoluteRatio: 1.0008 - val_s4pafs_output_analog_recall: 0.8882 - val_s5kpts_output_MeanAbsoluteRatio: 1.0080 - val_s5kpts_output_analog_recall: 0.8733 - val_s6kpts_output_MeanAbsoluteRatio: 0.9984 - val_s6kpts_output_analog_recall: 0.8744\n",
      "\n",
      "Learning rate for epoch 218 is 0.0010000000474974513\n",
      "Epoch 219/262\n",
      "48/50 [===========================>..] - ETA: 1s - loss: 0.0545 - s1pafs_output_loss: 0.0025 - s2pafs_output_loss: 0.0023 - s3pafs_output_loss: 0.0021 - s4pafs_output_loss: 0.0020 - s5kpts_output_loss: 0.0050 - s6kpts_output_loss: 0.0049 - s1pafs_output_MeanAbsoluteRatio: 1.0018 - s1pafs_output_analog_recall: 0.8756 - s2pafs_output_MeanAbsoluteRatio: 1.0071 - s2pafs_output_analog_recall: 0.8857 - s3pafs_output_MeanAbsoluteRatio: 0.9970 - s3pafs_output_analog_recall: 0.8926 - s4pafs_output_MeanAbsoluteRatio: 0.9982 - s4pafs_output_analog_recall: 0.8959 - s5kpts_output_MeanAbsoluteRatio: 1.0084 - s5kpts_output_analog_recall: 0.8824 - s6kpts_output_MeanAbsoluteRatio: 1.0075 - s6kpts_output_analog_recall: 0.8865\n",
      "Epoch 00219: saving model to gs://dl_training_results/checkpoints/model1115Sun1219-0341/-E0219.ckpt\n",
      "50/50 [==============================] - 51s 1s/step - loss: 0.0545 - s1pafs_output_loss: 0.0025 - s2pafs_output_loss: 0.0023 - s3pafs_output_loss: 0.0021 - s4pafs_output_loss: 0.0020 - s5kpts_output_loss: 0.0050 - s6kpts_output_loss: 0.0049 - s1pafs_output_MeanAbsoluteRatio: 1.0021 - s1pafs_output_analog_recall: 0.8757 - s2pafs_output_MeanAbsoluteRatio: 1.0075 - s2pafs_output_analog_recall: 0.8858 - s3pafs_output_MeanAbsoluteRatio: 0.9968 - s3pafs_output_analog_recall: 0.8926 - s4pafs_output_MeanAbsoluteRatio: 0.9979 - s4pafs_output_analog_recall: 0.8959 - s5kpts_output_MeanAbsoluteRatio: 1.0083 - s5kpts_output_analog_recall: 0.8823 - s6kpts_output_MeanAbsoluteRatio: 1.0072 - s6kpts_output_analog_recall: 0.8862 - val_loss: 0.0630 - val_s1pafs_output_loss: 0.0028 - val_s2pafs_output_loss: 0.0026 - val_s3pafs_output_loss: 0.0025 - val_s4pafs_output_loss: 0.0024 - val_s5kpts_output_loss: 0.0058 - val_s6kpts_output_loss: 0.0057 - val_s1pafs_output_MeanAbsoluteRatio: 1.0058 - val_s1pafs_output_analog_recall: 0.8668 - val_s2pafs_output_MeanAbsoluteRatio: 1.0137 - val_s2pafs_output_analog_recall: 0.8771 - val_s3pafs_output_MeanAbsoluteRatio: 0.9898 - val_s3pafs_output_analog_recall: 0.8809 - val_s4pafs_output_MeanAbsoluteRatio: 0.9890 - val_s4pafs_output_analog_recall: 0.8838 - val_s5kpts_output_MeanAbsoluteRatio: 0.9965 - val_s5kpts_output_analog_recall: 0.8686 - val_s6kpts_output_MeanAbsoluteRatio: 0.9843 - val_s6kpts_output_analog_recall: 0.8677\n",
      "\n",
      "Learning rate for epoch 219 is 0.0010000000474974513\n",
      "Epoch 220/262\n",
      "50/50 [==============================] - 42s 831ms/step - loss: 0.0557 - s1pafs_output_loss: 0.0026 - s2pafs_output_loss: 0.0023 - s3pafs_output_loss: 0.0022 - s4pafs_output_loss: 0.0021 - s5kpts_output_loss: 0.0051 - s6kpts_output_loss: 0.0050 - s1pafs_output_MeanAbsoluteRatio: 0.9996 - s1pafs_output_analog_recall: 0.8744 - s2pafs_output_MeanAbsoluteRatio: 1.0072 - s2pafs_output_analog_recall: 0.8852 - s3pafs_output_MeanAbsoluteRatio: 0.9955 - s3pafs_output_analog_recall: 0.8912 - s4pafs_output_MeanAbsoluteRatio: 0.9974 - s4pafs_output_analog_recall: 0.8943 - s5kpts_output_MeanAbsoluteRatio: 1.0078 - s5kpts_output_analog_recall: 0.8802 - s6kpts_output_MeanAbsoluteRatio: 1.0077 - s6kpts_output_analog_recall: 0.8842 - val_loss: 0.0634 - val_s1pafs_output_loss: 0.0029 - val_s2pafs_output_loss: 0.0026 - val_s3pafs_output_loss: 0.0025 - val_s4pafs_output_loss: 0.0024 - val_s5kpts_output_loss: 0.0059 - val_s6kpts_output_loss: 0.0057 - val_s1pafs_output_MeanAbsoluteRatio: 0.9893 - val_s1pafs_output_analog_recall: 0.8630 - val_s2pafs_output_MeanAbsoluteRatio: 1.0069 - val_s2pafs_output_analog_recall: 0.8766 - val_s3pafs_output_MeanAbsoluteRatio: 1.0028 - val_s3pafs_output_analog_recall: 0.8834 - val_s4pafs_output_MeanAbsoluteRatio: 1.0080 - val_s4pafs_output_analog_recall: 0.8859 - val_s5kpts_output_MeanAbsoluteRatio: 1.0415 - val_s5kpts_output_analog_recall: 0.8794 - val_s6kpts_output_MeanAbsoluteRatio: 1.0272 - val_s6kpts_output_analog_recall: 0.8784\n"
     ]
    },
    {
     "name": "stdout",
     "output_type": "stream",
     "text": [
      "\n",
      "Learning rate for epoch 220 is 0.0010000000474974513\n",
      "Epoch 221/262\n",
      "50/50 [==============================] - 50s 1s/step - loss: 0.0555 - s1pafs_output_loss: 0.0025 - s2pafs_output_loss: 0.0023 - s3pafs_output_loss: 0.0021 - s4pafs_output_loss: 0.0021 - s5kpts_output_loss: 0.0051 - s6kpts_output_loss: 0.0049 - s1pafs_output_MeanAbsoluteRatio: 0.9996 - s1pafs_output_analog_recall: 0.8745 - s2pafs_output_MeanAbsoluteRatio: 1.0055 - s2pafs_output_analog_recall: 0.8850 - s3pafs_output_MeanAbsoluteRatio: 0.9982 - s3pafs_output_analog_recall: 0.8915 - s4pafs_output_MeanAbsoluteRatio: 1.0021 - s4pafs_output_analog_recall: 0.8946 - s5kpts_output_MeanAbsoluteRatio: 1.0090 - s5kpts_output_analog_recall: 0.8805 - s6kpts_output_MeanAbsoluteRatio: 1.0058 - s6kpts_output_analog_recall: 0.8843 - val_loss: 0.0627 - val_s1pafs_output_loss: 0.0028 - val_s2pafs_output_loss: 0.0026 - val_s3pafs_output_loss: 0.0025 - val_s4pafs_output_loss: 0.0024 - val_s5kpts_output_loss: 0.0057 - val_s6kpts_output_loss: 0.0056 - val_s1pafs_output_MeanAbsoluteRatio: 0.9985 - val_s1pafs_output_analog_recall: 0.8662 - val_s2pafs_output_MeanAbsoluteRatio: 0.9998 - val_s2pafs_output_analog_recall: 0.8737 - val_s3pafs_output_MeanAbsoluteRatio: 0.9872 - val_s3pafs_output_analog_recall: 0.8798 - val_s4pafs_output_MeanAbsoluteRatio: 0.9838 - val_s4pafs_output_analog_recall: 0.8802 - val_s5kpts_output_MeanAbsoluteRatio: 1.0103 - val_s5kpts_output_analog_recall: 0.8750 - val_s6kpts_output_MeanAbsoluteRatio: 1.0250 - val_s6kpts_output_analog_recall: 0.8828\n",
      "\n",
      "Learning rate for epoch 221 is 0.0010000000474974513\n",
      "Epoch 222/262\n",
      "50/50 [==============================] - 42s 834ms/step - loss: 0.0566 - s1pafs_output_loss: 0.0026 - s2pafs_output_loss: 0.0024 - s3pafs_output_loss: 0.0022 - s4pafs_output_loss: 0.0021 - s5kpts_output_loss: 0.0051 - s6kpts_output_loss: 0.0050 - s1pafs_output_MeanAbsoluteRatio: 1.0009 - s1pafs_output_analog_recall: 0.8728 - s2pafs_output_MeanAbsoluteRatio: 1.0048 - s2pafs_output_analog_recall: 0.8824 - s3pafs_output_MeanAbsoluteRatio: 0.9954 - s3pafs_output_analog_recall: 0.8898 - s4pafs_output_MeanAbsoluteRatio: 0.9969 - s4pafs_output_analog_recall: 0.8928 - s5kpts_output_MeanAbsoluteRatio: 1.0061 - s5kpts_output_analog_recall: 0.8797 - s6kpts_output_MeanAbsoluteRatio: 1.0071 - s6kpts_output_analog_recall: 0.8838 - val_loss: 0.0650 - val_s1pafs_output_loss: 0.0029 - val_s2pafs_output_loss: 0.0027 - val_s3pafs_output_loss: 0.0025 - val_s4pafs_output_loss: 0.0025 - val_s5kpts_output_loss: 0.0061 - val_s6kpts_output_loss: 0.0060 - val_s1pafs_output_MeanAbsoluteRatio: 1.0071 - val_s1pafs_output_analog_recall: 0.8667 - val_s2pafs_output_MeanAbsoluteRatio: 1.0281 - val_s2pafs_output_analog_recall: 0.8816 - val_s3pafs_output_MeanAbsoluteRatio: 1.0076 - val_s3pafs_output_analog_recall: 0.8832 - val_s4pafs_output_MeanAbsoluteRatio: 1.0161 - val_s4pafs_output_analog_recall: 0.8878 - val_s5kpts_output_MeanAbsoluteRatio: 1.0837 - val_s5kpts_output_analog_recall: 0.8902 - val_s6kpts_output_MeanAbsoluteRatio: 1.0890 - val_s6kpts_output_analog_recall: 0.8930\n",
      "\n",
      "Learning rate for epoch 222 is 0.0010000000474974513\n",
      "Epoch 223/262\n",
      "50/50 [==============================] - 46s 923ms/step - loss: 0.0574 - s1pafs_output_loss: 0.0026 - s2pafs_output_loss: 0.0024 - s3pafs_output_loss: 0.0022 - s4pafs_output_loss: 0.0022 - s5kpts_output_loss: 0.0053 - s6kpts_output_loss: 0.0051 - s1pafs_output_MeanAbsoluteRatio: 0.9996 - s1pafs_output_analog_recall: 0.8714 - s2pafs_output_MeanAbsoluteRatio: 1.0031 - s2pafs_output_analog_recall: 0.8817 - s3pafs_output_MeanAbsoluteRatio: 0.9955 - s3pafs_output_analog_recall: 0.8886 - s4pafs_output_MeanAbsoluteRatio: 0.9979 - s4pafs_output_analog_recall: 0.8914 - s5kpts_output_MeanAbsoluteRatio: 1.0092 - s5kpts_output_analog_recall: 0.8785 - s6kpts_output_MeanAbsoluteRatio: 1.0081 - s6kpts_output_analog_recall: 0.8821 - val_loss: 0.0643 - val_s1pafs_output_loss: 0.0029 - val_s2pafs_output_loss: 0.0026 - val_s3pafs_output_loss: 0.0025 - val_s4pafs_output_loss: 0.0025 - val_s5kpts_output_loss: 0.0061 - val_s6kpts_output_loss: 0.0059 - val_s1pafs_output_MeanAbsoluteRatio: 0.9805 - val_s1pafs_output_analog_recall: 0.8602 - val_s2pafs_output_MeanAbsoluteRatio: 0.9823 - val_s2pafs_output_analog_recall: 0.8700 - val_s3pafs_output_MeanAbsoluteRatio: 0.9581 - val_s3pafs_output_analog_recall: 0.8683 - val_s4pafs_output_MeanAbsoluteRatio: 0.9591 - val_s4pafs_output_analog_recall: 0.8684 - val_s5kpts_output_MeanAbsoluteRatio: 0.9625 - val_s5kpts_output_analog_recall: 0.8533 - val_s6kpts_output_MeanAbsoluteRatio: 0.9721 - val_s6kpts_output_analog_recall: 0.8583\n",
      "\n",
      "Learning rate for epoch 223 is 0.0010000000474974513\n",
      "Epoch 224/262\n",
      "50/50 [==============================] - 44s 876ms/step - loss: 0.0576 - s1pafs_output_loss: 0.0026 - s2pafs_output_loss: 0.0024 - s3pafs_output_loss: 0.0022 - s4pafs_output_loss: 0.0022 - s5kpts_output_loss: 0.0052 - s6kpts_output_loss: 0.0051 - s1pafs_output_MeanAbsoluteRatio: 0.9984 - s1pafs_output_analog_recall: 0.8705 - s2pafs_output_MeanAbsoluteRatio: 1.0043 - s2pafs_output_analog_recall: 0.8814 - s3pafs_output_MeanAbsoluteRatio: 0.9950 - s3pafs_output_analog_recall: 0.8880 - s4pafs_output_MeanAbsoluteRatio: 0.9959 - s4pafs_output_analog_recall: 0.8908 - s5kpts_output_MeanAbsoluteRatio: 1.0093 - s5kpts_output_analog_recall: 0.8785 - s6kpts_output_MeanAbsoluteRatio: 1.0084 - s6kpts_output_analog_recall: 0.8829 - val_loss: 0.0642 - val_s1pafs_output_loss: 0.0029 - val_s2pafs_output_loss: 0.0027 - val_s3pafs_output_loss: 0.0025 - val_s4pafs_output_loss: 0.0025 - val_s5kpts_output_loss: 0.0059 - val_s6kpts_output_loss: 0.0057 - val_s1pafs_output_MeanAbsoluteRatio: 0.9838 - val_s1pafs_output_analog_recall: 0.8625 - val_s2pafs_output_MeanAbsoluteRatio: 0.9855 - val_s2pafs_output_analog_recall: 0.8705 - val_s3pafs_output_MeanAbsoluteRatio: 0.9746 - val_s3pafs_output_analog_recall: 0.8748 - val_s4pafs_output_MeanAbsoluteRatio: 0.9681 - val_s4pafs_output_analog_recall: 0.8741 - val_s5kpts_output_MeanAbsoluteRatio: 1.0010 - val_s5kpts_output_analog_recall: 0.8691 - val_s6kpts_output_MeanAbsoluteRatio: 0.9902 - val_s6kpts_output_analog_recall: 0.8701\n",
      "\n",
      "Learning rate for epoch 224 is 0.0010000000474974513\n",
      "Epoch 225/262\n",
      "50/50 [==============================] - 70s 1s/step - loss: 0.0550 - s1pafs_output_loss: 0.0025 - s2pafs_output_loss: 0.0023 - s3pafs_output_loss: 0.0021 - s4pafs_output_loss: 0.0021 - s5kpts_output_loss: 0.0050 - s6kpts_output_loss: 0.0049 - s1pafs_output_MeanAbsoluteRatio: 0.9960 - s1pafs_output_analog_recall: 0.8738 - s2pafs_output_MeanAbsoluteRatio: 1.0051 - s2pafs_output_analog_recall: 0.8847 - s3pafs_output_MeanAbsoluteRatio: 0.9966 - s3pafs_output_analog_recall: 0.8915 - s4pafs_output_MeanAbsoluteRatio: 0.9971 - s4pafs_output_analog_recall: 0.8943 - s5kpts_output_MeanAbsoluteRatio: 1.0084 - s5kpts_output_analog_recall: 0.8810 - s6kpts_output_MeanAbsoluteRatio: 1.0058 - s6kpts_output_analog_recall: 0.8847 - val_loss: 0.0625 - val_s1pafs_output_loss: 0.0028 - val_s2pafs_output_loss: 0.0026 - val_s3pafs_output_loss: 0.0024 - val_s4pafs_output_loss: 0.0024 - val_s5kpts_output_loss: 0.0058 - val_s6kpts_output_loss: 0.0056 - val_s1pafs_output_MeanAbsoluteRatio: 0.9877 - val_s1pafs_output_analog_recall: 0.8649 - val_s2pafs_output_MeanAbsoluteRatio: 0.9977 - val_s2pafs_output_analog_recall: 0.8747 - val_s3pafs_output_MeanAbsoluteRatio: 0.9911 - val_s3pafs_output_analog_recall: 0.8827 - val_s4pafs_output_MeanAbsoluteRatio: 0.9986 - val_s4pafs_output_analog_recall: 0.8860 - val_s5kpts_output_MeanAbsoluteRatio: 0.9702 - val_s5kpts_output_analog_recall: 0.8614 - val_s6kpts_output_MeanAbsoluteRatio: 0.9734 - val_s6kpts_output_analog_recall: 0.8668\n",
      "\n",
      "Learning rate for epoch 225 is 0.0010000000474974513\n",
      "Epoch 226/262\n"
     ]
    },
    {
     "name": "stdout",
     "output_type": "stream",
     "text": [
      "50/50 [==============================] - 48s 962ms/step - loss: 0.0562 - s1pafs_output_loss: 0.0026 - s2pafs_output_loss: 0.0023 - s3pafs_output_loss: 0.0022 - s4pafs_output_loss: 0.0021 - s5kpts_output_loss: 0.0051 - s6kpts_output_loss: 0.0050 - s1pafs_output_MeanAbsoluteRatio: 0.9988 - s1pafs_output_analog_recall: 0.8734 - s2pafs_output_MeanAbsoluteRatio: 1.0032 - s2pafs_output_analog_recall: 0.8834 - s3pafs_output_MeanAbsoluteRatio: 0.9943 - s3pafs_output_analog_recall: 0.8901 - s4pafs_output_MeanAbsoluteRatio: 0.9974 - s4pafs_output_analog_recall: 0.8932 - s5kpts_output_MeanAbsoluteRatio: 1.0069 - s5kpts_output_analog_recall: 0.8795 - s6kpts_output_MeanAbsoluteRatio: 1.0060 - s6kpts_output_analog_recall: 0.8836 - val_loss: 0.0654 - val_s1pafs_output_loss: 0.0029 - val_s2pafs_output_loss: 0.0027 - val_s3pafs_output_loss: 0.0025 - val_s4pafs_output_loss: 0.0025 - val_s5kpts_output_loss: 0.0061 - val_s6kpts_output_loss: 0.0061 - val_s1pafs_output_MeanAbsoluteRatio: 1.0336 - val_s1pafs_output_analog_recall: 0.8747 - val_s2pafs_output_MeanAbsoluteRatio: 1.0404 - val_s2pafs_output_analog_recall: 0.8882 - val_s3pafs_output_MeanAbsoluteRatio: 1.0403 - val_s3pafs_output_analog_recall: 0.8952 - val_s4pafs_output_MeanAbsoluteRatio: 1.0553 - val_s4pafs_output_analog_recall: 0.9013 - val_s5kpts_output_MeanAbsoluteRatio: 1.0849 - val_s5kpts_output_analog_recall: 0.8968 - val_s6kpts_output_MeanAbsoluteRatio: 1.0896 - val_s6kpts_output_analog_recall: 0.9021\n",
      "\n",
      "Learning rate for epoch 226 is 0.0010000000474974513\n",
      "Epoch 227/262\n",
      "50/50 [==============================] - 47s 947ms/step - loss: 0.0565 - s1pafs_output_loss: 0.0026 - s2pafs_output_loss: 0.0023 - s3pafs_output_loss: 0.0022 - s4pafs_output_loss: 0.0021 - s5kpts_output_loss: 0.0052 - s6kpts_output_loss: 0.0050 - s1pafs_output_MeanAbsoluteRatio: 1.0018 - s1pafs_output_analog_recall: 0.8724 - s2pafs_output_MeanAbsoluteRatio: 1.0076 - s2pafs_output_analog_recall: 0.8836 - s3pafs_output_MeanAbsoluteRatio: 0.9966 - s3pafs_output_analog_recall: 0.8902 - s4pafs_output_MeanAbsoluteRatio: 0.9990 - s4pafs_output_analog_recall: 0.8932 - s5kpts_output_MeanAbsoluteRatio: 1.0084 - s5kpts_output_analog_recall: 0.8796 - s6kpts_output_MeanAbsoluteRatio: 1.0068 - s6kpts_output_analog_recall: 0.8831 - val_loss: 0.0619 - val_s1pafs_output_loss: 0.0028 - val_s2pafs_output_loss: 0.0026 - val_s3pafs_output_loss: 0.0024 - val_s4pafs_output_loss: 0.0024 - val_s5kpts_output_loss: 0.0057 - val_s6kpts_output_loss: 0.0055 - val_s1pafs_output_MeanAbsoluteRatio: 1.0012 - val_s1pafs_output_analog_recall: 0.8657 - val_s2pafs_output_MeanAbsoluteRatio: 1.0023 - val_s2pafs_output_analog_recall: 0.8759 - val_s3pafs_output_MeanAbsoluteRatio: 0.9903 - val_s3pafs_output_analog_recall: 0.8818 - val_s4pafs_output_MeanAbsoluteRatio: 0.9922 - val_s4pafs_output_analog_recall: 0.8845 - val_s5kpts_output_MeanAbsoluteRatio: 1.0064 - val_s5kpts_output_analog_recall: 0.8749 - val_s6kpts_output_MeanAbsoluteRatio: 0.9960 - val_s6kpts_output_analog_recall: 0.8756\n",
      "\n",
      "Learning rate for epoch 227 is 0.0010000000474974513\n",
      "Epoch 228/262\n",
      "36/50 [====================>.........] - ETA: 10s - loss: 0.0549 - s1pafs_output_loss: 0.0025 - s2pafs_output_loss: 0.0023 - s3pafs_output_loss: 0.0021 - s4pafs_output_loss: 0.0021 - s5kpts_output_loss: 0.0050 - s6kpts_output_loss: 0.0049 - s1pafs_output_MeanAbsoluteRatio: 1.0010 - s1pafs_output_analog_recall: 0.8747 - s2pafs_output_MeanAbsoluteRatio: 1.0061 - s2pafs_output_analog_recall: 0.8852 - s3pafs_output_MeanAbsoluteRatio: 0.9971 - s3pafs_output_analog_recall: 0.8921 - s4pafs_output_MeanAbsoluteRatio: 0.9977 - s4pafs_output_analog_recall: 0.8954 - s5kpts_output_MeanAbsoluteRatio: 1.0076 - s5kpts_output_analog_recall: 0.8824 - s6kpts_output_MeanAbsoluteRatio: 1.0059 - s6kpts_output_analog_recall: 0.8865\n",
      "Epoch 00228: saving model to gs://dl_training_results/checkpoints/model1115Sun1219-0341/-E0228.ckpt\n",
      "50/50 [==============================] - 51s 1s/step - loss: 0.0547 - s1pafs_output_loss: 0.0025 - s2pafs_output_loss: 0.0023 - s3pafs_output_loss: 0.0021 - s4pafs_output_loss: 0.0020 - s5kpts_output_loss: 0.0050 - s6kpts_output_loss: 0.0049 - s1pafs_output_MeanAbsoluteRatio: 1.0035 - s1pafs_output_analog_recall: 0.8749 - s2pafs_output_MeanAbsoluteRatio: 1.0039 - s2pafs_output_analog_recall: 0.8853 - s3pafs_output_MeanAbsoluteRatio: 0.9967 - s3pafs_output_analog_recall: 0.8923 - s4pafs_output_MeanAbsoluteRatio: 0.9970 - s4pafs_output_analog_recall: 0.8958 - s5kpts_output_MeanAbsoluteRatio: 1.0072 - s5kpts_output_analog_recall: 0.8823 - s6kpts_output_MeanAbsoluteRatio: 1.0069 - s6kpts_output_analog_recall: 0.8866 - val_loss: 0.0622 - val_s1pafs_output_loss: 0.0028 - val_s2pafs_output_loss: 0.0026 - val_s3pafs_output_loss: 0.0024 - val_s4pafs_output_loss: 0.0024 - val_s5kpts_output_loss: 0.0057 - val_s6kpts_output_loss: 0.0055 - val_s1pafs_output_MeanAbsoluteRatio: 1.0185 - val_s1pafs_output_analog_recall: 0.8705 - val_s2pafs_output_MeanAbsoluteRatio: 1.0203 - val_s2pafs_output_analog_recall: 0.8808 - val_s3pafs_output_MeanAbsoluteRatio: 1.0131 - val_s3pafs_output_analog_recall: 0.8866 - val_s4pafs_output_MeanAbsoluteRatio: 1.0080 - val_s4pafs_output_analog_recall: 0.8891 - val_s5kpts_output_MeanAbsoluteRatio: 1.0098 - val_s5kpts_output_analog_recall: 0.8725 - val_s6kpts_output_MeanAbsoluteRatio: 1.0018 - val_s6kpts_output_analog_recall: 0.8763\n",
      "\n",
      "Learning rate for epoch 228 is 0.0010000000474974513\n",
      "Epoch 229/262\n",
      "50/50 [==============================] - 42s 832ms/step - loss: 0.0549 - s1pafs_output_loss: 0.0025 - s2pafs_output_loss: 0.0023 - s3pafs_output_loss: 0.0021 - s4pafs_output_loss: 0.0021 - s5kpts_output_loss: 0.0051 - s6kpts_output_loss: 0.0049 - s1pafs_output_MeanAbsoluteRatio: 1.0015 - s1pafs_output_analog_recall: 0.8758 - s2pafs_output_MeanAbsoluteRatio: 1.0063 - s2pafs_output_analog_recall: 0.8863 - s3pafs_output_MeanAbsoluteRatio: 0.9973 - s3pafs_output_analog_recall: 0.8925 - s4pafs_output_MeanAbsoluteRatio: 0.9991 - s4pafs_output_analog_recall: 0.8956 - s5kpts_output_MeanAbsoluteRatio: 1.0080 - s5kpts_output_analog_recall: 0.8811 - s6kpts_output_MeanAbsoluteRatio: 1.0056 - s6kpts_output_analog_recall: 0.8848 - val_loss: 0.0620 - val_s1pafs_output_loss: 0.0028 - val_s2pafs_output_loss: 0.0026 - val_s3pafs_output_loss: 0.0024 - val_s4pafs_output_loss: 0.0024 - val_s5kpts_output_loss: 0.0057 - val_s6kpts_output_loss: 0.0055 - val_s1pafs_output_MeanAbsoluteRatio: 0.9996 - val_s1pafs_output_analog_recall: 0.8696 - val_s2pafs_output_MeanAbsoluteRatio: 1.0044 - val_s2pafs_output_analog_recall: 0.8772 - val_s3pafs_output_MeanAbsoluteRatio: 0.9842 - val_s3pafs_output_analog_recall: 0.8790 - val_s4pafs_output_MeanAbsoluteRatio: 0.9845 - val_s4pafs_output_analog_recall: 0.8815 - val_s5kpts_output_MeanAbsoluteRatio: 1.0033 - val_s5kpts_output_analog_recall: 0.8700 - val_s6kpts_output_MeanAbsoluteRatio: 1.0165 - val_s6kpts_output_analog_recall: 0.8789\n",
      "\n",
      "Learning rate for epoch 229 is 0.0010000000474974513\n",
      "Epoch 230/262\n",
      "50/50 [==============================] - 49s 984ms/step - loss: 0.0542 - s1pafs_output_loss: 0.0025 - s2pafs_output_loss: 0.0023 - s3pafs_output_loss: 0.0021 - s4pafs_output_loss: 0.0020 - s5kpts_output_loss: 0.0049 - s6kpts_output_loss: 0.0047 - s1pafs_output_MeanAbsoluteRatio: 1.0007 - s1pafs_output_analog_recall: 0.8761 - s2pafs_output_MeanAbsoluteRatio: 1.0036 - s2pafs_output_analog_recall: 0.8866 - s3pafs_output_MeanAbsoluteRatio: 0.9970 - s3pafs_output_analog_recall: 0.8935 - s4pafs_output_MeanAbsoluteRatio: 1.0000 - s4pafs_output_analog_recall: 0.8969 - s5kpts_output_MeanAbsoluteRatio: 1.0096 - s5kpts_output_analog_recall: 0.8846 - s6kpts_output_MeanAbsoluteRatio: 1.0075 - s6kpts_output_analog_recall: 0.8890 - val_loss: 0.0623 - val_s1pafs_output_loss: 0.0028 - val_s2pafs_output_loss: 0.0026 - val_s3pafs_output_loss: 0.0024 - val_s4pafs_output_loss: 0.0024 - val_s5kpts_output_loss: 0.0057 - val_s6kpts_output_loss: 0.0056 - val_s1pafs_output_MeanAbsoluteRatio: 0.9820 - val_s1pafs_output_analog_recall: 0.8625 - val_s2pafs_output_MeanAbsoluteRatio: 0.9882 - val_s2pafs_output_analog_recall: 0.8728 - val_s3pafs_output_MeanAbsoluteRatio: 0.9815 - val_s3pafs_output_analog_recall: 0.8781 - val_s4pafs_output_MeanAbsoluteRatio: 0.9869 - val_s4pafs_output_analog_recall: 0.8814 - val_s5kpts_output_MeanAbsoluteRatio: 1.0096 - val_s5kpts_output_analog_recall: 0.8708 - val_s6kpts_output_MeanAbsoluteRatio: 0.9913 - val_s6kpts_output_analog_recall: 0.8691\n"
     ]
    },
    {
     "name": "stdout",
     "output_type": "stream",
     "text": [
      "\n",
      "Learning rate for epoch 230 is 0.0010000000474974513\n",
      "Epoch 231/262\n",
      "50/50 [==============================] - 44s 890ms/step - loss: 0.0551 - s1pafs_output_loss: 0.0025 - s2pafs_output_loss: 0.0023 - s3pafs_output_loss: 0.0021 - s4pafs_output_loss: 0.0021 - s5kpts_output_loss: 0.0050 - s6kpts_output_loss: 0.0049 - s1pafs_output_MeanAbsoluteRatio: 1.0001 - s1pafs_output_analog_recall: 0.8748 - s2pafs_output_MeanAbsoluteRatio: 1.0044 - s2pafs_output_analog_recall: 0.8855 - s3pafs_output_MeanAbsoluteRatio: 0.9974 - s3pafs_output_analog_recall: 0.8923 - s4pafs_output_MeanAbsoluteRatio: 0.9982 - s4pafs_output_analog_recall: 0.8952 - s5kpts_output_MeanAbsoluteRatio: 1.0087 - s5kpts_output_analog_recall: 0.8824 - s6kpts_output_MeanAbsoluteRatio: 1.0075 - s6kpts_output_analog_recall: 0.8864 - val_loss: 0.0628 - val_s1pafs_output_loss: 0.0028 - val_s2pafs_output_loss: 0.0026 - val_s3pafs_output_loss: 0.0024 - val_s4pafs_output_loss: 0.0024 - val_s5kpts_output_loss: 0.0058 - val_s6kpts_output_loss: 0.0056 - val_s1pafs_output_MeanAbsoluteRatio: 0.9785 - val_s1pafs_output_analog_recall: 0.8588 - val_s2pafs_output_MeanAbsoluteRatio: 0.9878 - val_s2pafs_output_analog_recall: 0.8718 - val_s3pafs_output_MeanAbsoluteRatio: 0.9928 - val_s3pafs_output_analog_recall: 0.8815 - val_s4pafs_output_MeanAbsoluteRatio: 1.0003 - val_s4pafs_output_analog_recall: 0.8860 - val_s5kpts_output_MeanAbsoluteRatio: 0.9885 - val_s5kpts_output_analog_recall: 0.8673 - val_s6kpts_output_MeanAbsoluteRatio: 0.9774 - val_s6kpts_output_analog_recall: 0.8674\n",
      "\n",
      "Learning rate for epoch 231 is 0.0010000000474974513\n",
      "Epoch 232/262\n",
      "50/50 [==============================] - 42s 841ms/step - loss: 0.0562 - s1pafs_output_loss: 0.0026 - s2pafs_output_loss: 0.0023 - s3pafs_output_loss: 0.0022 - s4pafs_output_loss: 0.0021 - s5kpts_output_loss: 0.0051 - s6kpts_output_loss: 0.0050 - s1pafs_output_MeanAbsoluteRatio: 1.0003 - s1pafs_output_analog_recall: 0.8722 - s2pafs_output_MeanAbsoluteRatio: 1.0035 - s2pafs_output_analog_recall: 0.8834 - s3pafs_output_MeanAbsoluteRatio: 0.9970 - s3pafs_output_analog_recall: 0.8904 - s4pafs_output_MeanAbsoluteRatio: 0.9985 - s4pafs_output_analog_recall: 0.8937 - s5kpts_output_MeanAbsoluteRatio: 1.0083 - s5kpts_output_analog_recall: 0.8810 - s6kpts_output_MeanAbsoluteRatio: 1.0070 - s6kpts_output_analog_recall: 0.8850 - val_loss: 0.0622 - val_s1pafs_output_loss: 0.0028 - val_s2pafs_output_loss: 0.0026 - val_s3pafs_output_loss: 0.0024 - val_s4pafs_output_loss: 0.0024 - val_s5kpts_output_loss: 0.0057 - val_s6kpts_output_loss: 0.0055 - val_s1pafs_output_MeanAbsoluteRatio: 0.9728 - val_s1pafs_output_analog_recall: 0.8593 - val_s2pafs_output_MeanAbsoluteRatio: 0.9971 - val_s2pafs_output_analog_recall: 0.8757 - val_s3pafs_output_MeanAbsoluteRatio: 0.9962 - val_s3pafs_output_analog_recall: 0.8848 - val_s4pafs_output_MeanAbsoluteRatio: 0.9913 - val_s4pafs_output_analog_recall: 0.8862 - val_s5kpts_output_MeanAbsoluteRatio: 1.0121 - val_s5kpts_output_analog_recall: 0.8778 - val_s6kpts_output_MeanAbsoluteRatio: 1.0105 - val_s6kpts_output_analog_recall: 0.8802\n",
      "\n",
      "Learning rate for epoch 232 is 0.0010000000474974513\n",
      "Epoch 233/262\n",
      "50/50 [==============================] - 72s 1s/step - loss: 0.0566 - s1pafs_output_loss: 0.0026 - s2pafs_output_loss: 0.0024 - s3pafs_output_loss: 0.0022 - s4pafs_output_loss: 0.0021 - s5kpts_output_loss: 0.0051 - s6kpts_output_loss: 0.0049 - s1pafs_output_MeanAbsoluteRatio: 0.9969 - s1pafs_output_analog_recall: 0.8716 - s2pafs_output_MeanAbsoluteRatio: 1.0014 - s2pafs_output_analog_recall: 0.8823 - s3pafs_output_MeanAbsoluteRatio: 0.9935 - s3pafs_output_analog_recall: 0.8891 - s4pafs_output_MeanAbsoluteRatio: 0.9950 - s4pafs_output_analog_recall: 0.8924 - s5kpts_output_MeanAbsoluteRatio: 1.0069 - s5kpts_output_analog_recall: 0.8810 - s6kpts_output_MeanAbsoluteRatio: 1.0056 - s6kpts_output_analog_recall: 0.8855 - val_loss: 0.0622 - val_s1pafs_output_loss: 0.0028 - val_s2pafs_output_loss: 0.0026 - val_s3pafs_output_loss: 0.0024 - val_s4pafs_output_loss: 0.0023 - val_s5kpts_output_loss: 0.0057 - val_s6kpts_output_loss: 0.0056 - val_s1pafs_output_MeanAbsoluteRatio: 1.0163 - val_s1pafs_output_analog_recall: 0.8714 - val_s2pafs_output_MeanAbsoluteRatio: 1.0226 - val_s2pafs_output_analog_recall: 0.8803 - val_s3pafs_output_MeanAbsoluteRatio: 1.0144 - val_s3pafs_output_analog_recall: 0.8857 - val_s4pafs_output_MeanAbsoluteRatio: 1.0055 - val_s4pafs_output_analog_recall: 0.8874 - val_s5kpts_output_MeanAbsoluteRatio: 1.0420 - val_s5kpts_output_analog_recall: 0.8847 - val_s6kpts_output_MeanAbsoluteRatio: 1.0415 - val_s6kpts_output_analog_recall: 0.8907\n",
      "\n",
      "Learning rate for epoch 233 is 0.0010000000474974513\n",
      "Epoch 234/262\n",
      "50/50 [==============================] - 47s 939ms/step - loss: 0.0535 - s1pafs_output_loss: 0.0025 - s2pafs_output_loss: 0.0022 - s3pafs_output_loss: 0.0021 - s4pafs_output_loss: 0.0020 - s5kpts_output_loss: 0.0049 - s6kpts_output_loss: 0.0047 - s1pafs_output_MeanAbsoluteRatio: 1.0016 - s1pafs_output_analog_recall: 0.8766 - s2pafs_output_MeanAbsoluteRatio: 1.0078 - s2pafs_output_analog_recall: 0.8869 - s3pafs_output_MeanAbsoluteRatio: 0.9999 - s3pafs_output_analog_recall: 0.8942 - s4pafs_output_MeanAbsoluteRatio: 1.0000 - s4pafs_output_analog_recall: 0.8974 - s5kpts_output_MeanAbsoluteRatio: 1.0106 - s5kpts_output_analog_recall: 0.8849 - s6kpts_output_MeanAbsoluteRatio: 1.0082 - s6kpts_output_analog_recall: 0.8888 - val_loss: 0.0636 - val_s1pafs_output_loss: 0.0028 - val_s2pafs_output_loss: 0.0026 - val_s3pafs_output_loss: 0.0025 - val_s4pafs_output_loss: 0.0024 - val_s5kpts_output_loss: 0.0059 - val_s6kpts_output_loss: 0.0058 - val_s1pafs_output_MeanAbsoluteRatio: 1.0087 - val_s1pafs_output_analog_recall: 0.8668 - val_s2pafs_output_MeanAbsoluteRatio: 1.0145 - val_s2pafs_output_analog_recall: 0.8776 - val_s3pafs_output_MeanAbsoluteRatio: 1.0092 - val_s3pafs_output_analog_recall: 0.8873 - val_s4pafs_output_MeanAbsoluteRatio: 1.0180 - val_s4pafs_output_analog_recall: 0.8938 - val_s5kpts_output_MeanAbsoluteRatio: 1.0365 - val_s5kpts_output_analog_recall: 0.8855 - val_s6kpts_output_MeanAbsoluteRatio: 1.0492 - val_s6kpts_output_analog_recall: 0.8945\n",
      "\n",
      "Learning rate for epoch 234 is 0.0010000000474974513\n",
      "Epoch 235/262\n",
      "50/50 [==============================] - 46s 911ms/step - loss: 0.0558 - s1pafs_output_loss: 0.0026 - s2pafs_output_loss: 0.0023 - s3pafs_output_loss: 0.0022 - s4pafs_output_loss: 0.0021 - s5kpts_output_loss: 0.0051 - s6kpts_output_loss: 0.0050 - s1pafs_output_MeanAbsoluteRatio: 1.0012 - s1pafs_output_analog_recall: 0.8739 - s2pafs_output_MeanAbsoluteRatio: 1.0044 - s2pafs_output_analog_recall: 0.8841 - s3pafs_output_MeanAbsoluteRatio: 0.9920 - s3pafs_output_analog_recall: 0.8907 - s4pafs_output_MeanAbsoluteRatio: 0.9977 - s4pafs_output_analog_recall: 0.8937 - s5kpts_output_MeanAbsoluteRatio: 1.0046 - s5kpts_output_analog_recall: 0.8797 - s6kpts_output_MeanAbsoluteRatio: 1.0040 - s6kpts_output_analog_recall: 0.8838 - val_loss: 0.0632 - val_s1pafs_output_loss: 0.0028 - val_s2pafs_output_loss: 0.0027 - val_s3pafs_output_loss: 0.0025 - val_s4pafs_output_loss: 0.0024 - val_s5kpts_output_loss: 0.0058 - val_s6kpts_output_loss: 0.0056 - val_s1pafs_output_MeanAbsoluteRatio: 1.0247 - val_s1pafs_output_analog_recall: 0.8744 - val_s2pafs_output_MeanAbsoluteRatio: 1.0355 - val_s2pafs_output_analog_recall: 0.8839 - val_s3pafs_output_MeanAbsoluteRatio: 1.0188 - val_s3pafs_output_analog_recall: 0.8888 - val_s4pafs_output_MeanAbsoluteRatio: 1.0199 - val_s4pafs_output_analog_recall: 0.8917 - val_s5kpts_output_MeanAbsoluteRatio: 1.0456 - val_s5kpts_output_analog_recall: 0.8838 - val_s6kpts_output_MeanAbsoluteRatio: 1.0402 - val_s6kpts_output_analog_recall: 0.8865\n",
      "\n",
      "Learning rate for epoch 235 is 0.0010000000474974513\n",
      "Epoch 236/262\n"
     ]
    },
    {
     "name": "stdout",
     "output_type": "stream",
     "text": [
      "50/50 [==============================] - 47s 942ms/step - loss: 0.0557 - s1pafs_output_loss: 0.0026 - s2pafs_output_loss: 0.0023 - s3pafs_output_loss: 0.0022 - s4pafs_output_loss: 0.0021 - s5kpts_output_loss: 0.0050 - s6kpts_output_loss: 0.0049 - s1pafs_output_MeanAbsoluteRatio: 1.0052 - s1pafs_output_analog_recall: 0.8738 - s2pafs_output_MeanAbsoluteRatio: 1.0059 - s2pafs_output_analog_recall: 0.8843 - s3pafs_output_MeanAbsoluteRatio: 0.9989 - s3pafs_output_analog_recall: 0.8914 - s4pafs_output_MeanAbsoluteRatio: 1.0002 - s4pafs_output_analog_recall: 0.8946 - s5kpts_output_MeanAbsoluteRatio: 1.0098 - s5kpts_output_analog_recall: 0.8827 - s6kpts_output_MeanAbsoluteRatio: 1.0076 - s6kpts_output_analog_recall: 0.8866 - val_loss: 0.0620 - val_s1pafs_output_loss: 0.0028 - val_s2pafs_output_loss: 0.0026 - val_s3pafs_output_loss: 0.0024 - val_s4pafs_output_loss: 0.0024 - val_s5kpts_output_loss: 0.0057 - val_s6kpts_output_loss: 0.0055 - val_s1pafs_output_MeanAbsoluteRatio: 1.0090 - val_s1pafs_output_analog_recall: 0.8683 - val_s2pafs_output_MeanAbsoluteRatio: 1.0017 - val_s2pafs_output_analog_recall: 0.8767 - val_s3pafs_output_MeanAbsoluteRatio: 0.9843 - val_s3pafs_output_analog_recall: 0.8810 - val_s4pafs_output_MeanAbsoluteRatio: 0.9901 - val_s4pafs_output_analog_recall: 0.8851 - val_s5kpts_output_MeanAbsoluteRatio: 1.0121 - val_s5kpts_output_analog_recall: 0.8767 - val_s6kpts_output_MeanAbsoluteRatio: 1.0052 - val_s6kpts_output_analog_recall: 0.8787\n",
      "\n",
      "Learning rate for epoch 236 is 0.0010000000474974513\n",
      "Epoch 237/262\n",
      "24/50 [=============>................] - ETA: 19s - loss: 0.0533 - s1pafs_output_loss: 0.0025 - s2pafs_output_loss: 0.0022 - s3pafs_output_loss: 0.0021 - s4pafs_output_loss: 0.0020 - s5kpts_output_loss: 0.0049 - s6kpts_output_loss: 0.0047 - s1pafs_output_MeanAbsoluteRatio: 1.0038 - s1pafs_output_analog_recall: 0.8777 - s2pafs_output_MeanAbsoluteRatio: 1.0072 - s2pafs_output_analog_recall: 0.8883 - s3pafs_output_MeanAbsoluteRatio: 0.9953 - s3pafs_output_analog_recall: 0.8950 - s4pafs_output_MeanAbsoluteRatio: 0.9981 - s4pafs_output_analog_recall: 0.8984 - s5kpts_output_MeanAbsoluteRatio: 1.0112 - s5kpts_output_analog_recall: 0.8859 - s6kpts_output_MeanAbsoluteRatio: 1.0093 - s6kpts_output_analog_recall: 0.8900\n",
      "Epoch 00237: saving model to gs://dl_training_results/checkpoints/model1115Sun1219-0341/-E0237.ckpt\n",
      "50/50 [==============================] - 51s 1s/step - loss: 0.0538 - s1pafs_output_loss: 0.0025 - s2pafs_output_loss: 0.0022 - s3pafs_output_loss: 0.0021 - s4pafs_output_loss: 0.0020 - s5kpts_output_loss: 0.0049 - s6kpts_output_loss: 0.0048 - s1pafs_output_MeanAbsoluteRatio: 1.0020 - s1pafs_output_analog_recall: 0.8762 - s2pafs_output_MeanAbsoluteRatio: 1.0050 - s2pafs_output_analog_recall: 0.8871 - s3pafs_output_MeanAbsoluteRatio: 0.9959 - s3pafs_output_analog_recall: 0.8942 - s4pafs_output_MeanAbsoluteRatio: 0.9988 - s4pafs_output_analog_recall: 0.8976 - s5kpts_output_MeanAbsoluteRatio: 1.0089 - s5kpts_output_analog_recall: 0.8841 - s6kpts_output_MeanAbsoluteRatio: 1.0072 - s6kpts_output_analog_recall: 0.8882 - val_loss: 0.0632 - val_s1pafs_output_loss: 0.0028 - val_s2pafs_output_loss: 0.0026 - val_s3pafs_output_loss: 0.0025 - val_s4pafs_output_loss: 0.0024 - val_s5kpts_output_loss: 0.0059 - val_s6kpts_output_loss: 0.0057 - val_s1pafs_output_MeanAbsoluteRatio: 0.9755 - val_s1pafs_output_analog_recall: 0.8593 - val_s2pafs_output_MeanAbsoluteRatio: 0.9842 - val_s2pafs_output_analog_recall: 0.8728 - val_s3pafs_output_MeanAbsoluteRatio: 0.9678 - val_s3pafs_output_analog_recall: 0.8758 - val_s4pafs_output_MeanAbsoluteRatio: 0.9734 - val_s4pafs_output_analog_recall: 0.8783 - val_s5kpts_output_MeanAbsoluteRatio: 0.9619 - val_s5kpts_output_analog_recall: 0.8587 - val_s6kpts_output_MeanAbsoluteRatio: 0.9669 - val_s6kpts_output_analog_recall: 0.8661\n",
      "\n",
      "Learning rate for epoch 237 is 0.0010000000474974513\n",
      "Epoch 238/262\n",
      "50/50 [==============================] - 42s 839ms/step - loss: 0.0550 - s1pafs_output_loss: 0.0025 - s2pafs_output_loss: 0.0023 - s3pafs_output_loss: 0.0021 - s4pafs_output_loss: 0.0021 - s5kpts_output_loss: 0.0051 - s6kpts_output_loss: 0.0049 - s1pafs_output_MeanAbsoluteRatio: 1.0059 - s1pafs_output_analog_recall: 0.8756 - s2pafs_output_MeanAbsoluteRatio: 1.0061 - s2pafs_output_analog_recall: 0.8859 - s3pafs_output_MeanAbsoluteRatio: 0.9967 - s3pafs_output_analog_recall: 0.8923 - s4pafs_output_MeanAbsoluteRatio: 0.9991 - s4pafs_output_analog_recall: 0.8954 - s5kpts_output_MeanAbsoluteRatio: 1.0075 - s5kpts_output_analog_recall: 0.8814 - s6kpts_output_MeanAbsoluteRatio: 1.0057 - s6kpts_output_analog_recall: 0.8853 - val_loss: 0.0624 - val_s1pafs_output_loss: 0.0028 - val_s2pafs_output_loss: 0.0026 - val_s3pafs_output_loss: 0.0024 - val_s4pafs_output_loss: 0.0024 - val_s5kpts_output_loss: 0.0057 - val_s6kpts_output_loss: 0.0056 - val_s1pafs_output_MeanAbsoluteRatio: 0.9973 - val_s1pafs_output_analog_recall: 0.8667 - val_s2pafs_output_MeanAbsoluteRatio: 0.9986 - val_s2pafs_output_analog_recall: 0.8782 - val_s3pafs_output_MeanAbsoluteRatio: 1.0029 - val_s3pafs_output_analog_recall: 0.8875 - val_s4pafs_output_MeanAbsoluteRatio: 1.0090 - val_s4pafs_output_analog_recall: 0.8907 - val_s5kpts_output_MeanAbsoluteRatio: 0.9924 - val_s5kpts_output_analog_recall: 0.8694 - val_s6kpts_output_MeanAbsoluteRatio: 0.9897 - val_s6kpts_output_analog_recall: 0.8741\n",
      "\n",
      "Learning rate for epoch 238 is 0.0010000000474974513\n",
      "Epoch 239/262\n",
      "50/50 [==============================] - 53s 1s/step - loss: 0.0544 - s1pafs_output_loss: 0.0025 - s2pafs_output_loss: 0.0023 - s3pafs_output_loss: 0.0021 - s4pafs_output_loss: 0.0020 - s5kpts_output_loss: 0.0049 - s6kpts_output_loss: 0.0048 - s1pafs_output_MeanAbsoluteRatio: 1.0023 - s1pafs_output_analog_recall: 0.8759 - s2pafs_output_MeanAbsoluteRatio: 1.0043 - s2pafs_output_analog_recall: 0.8869 - s3pafs_output_MeanAbsoluteRatio: 0.9963 - s3pafs_output_analog_recall: 0.8937 - s4pafs_output_MeanAbsoluteRatio: 0.9991 - s4pafs_output_analog_recall: 0.8966 - s5kpts_output_MeanAbsoluteRatio: 1.0080 - s5kpts_output_analog_recall: 0.8839 - s6kpts_output_MeanAbsoluteRatio: 1.0065 - s6kpts_output_analog_recall: 0.8880 - val_loss: 0.0619 - val_s1pafs_output_loss: 0.0028 - val_s2pafs_output_loss: 0.0026 - val_s3pafs_output_loss: 0.0024 - val_s4pafs_output_loss: 0.0023 - val_s5kpts_output_loss: 0.0057 - val_s6kpts_output_loss: 0.0055 - val_s1pafs_output_MeanAbsoluteRatio: 1.0083 - val_s1pafs_output_analog_recall: 0.8673 - val_s2pafs_output_MeanAbsoluteRatio: 0.9946 - val_s2pafs_output_analog_recall: 0.8753 - val_s3pafs_output_MeanAbsoluteRatio: 0.9861 - val_s3pafs_output_analog_recall: 0.8823 - val_s4pafs_output_MeanAbsoluteRatio: 0.9850 - val_s4pafs_output_analog_recall: 0.8845 - val_s5kpts_output_MeanAbsoluteRatio: 1.0080 - val_s5kpts_output_analog_recall: 0.8755 - val_s6kpts_output_MeanAbsoluteRatio: 1.0091 - val_s6kpts_output_analog_recall: 0.8788\n",
      "\n",
      "Learning rate for epoch 239 is 0.0010000000474974513\n",
      "Epoch 240/262\n",
      "50/50 [==============================] - 41s 814ms/step - loss: 0.0580 - s1pafs_output_loss: 0.0027 - s2pafs_output_loss: 0.0024 - s3pafs_output_loss: 0.0022 - s4pafs_output_loss: 0.0022 - s5kpts_output_loss: 0.0053 - s6kpts_output_loss: 0.0052 - s1pafs_output_MeanAbsoluteRatio: 1.0070 - s1pafs_output_analog_recall: 0.8702 - s2pafs_output_MeanAbsoluteRatio: 1.0074 - s2pafs_output_analog_recall: 0.8808 - s3pafs_output_MeanAbsoluteRatio: 0.9975 - s3pafs_output_analog_recall: 0.8875 - s4pafs_output_MeanAbsoluteRatio: 0.9965 - s4pafs_output_analog_recall: 0.8901 - s5kpts_output_MeanAbsoluteRatio: 1.0089 - s5kpts_output_analog_recall: 0.8762 - s6kpts_output_MeanAbsoluteRatio: 1.0069 - s6kpts_output_analog_recall: 0.8798 - val_loss: 0.0625 - val_s1pafs_output_loss: 0.0028 - val_s2pafs_output_loss: 0.0026 - val_s3pafs_output_loss: 0.0024 - val_s4pafs_output_loss: 0.0024 - val_s5kpts_output_loss: 0.0057 - val_s6kpts_output_loss: 0.0055 - val_s1pafs_output_MeanAbsoluteRatio: 0.9948 - val_s1pafs_output_analog_recall: 0.8631 - val_s2pafs_output_MeanAbsoluteRatio: 0.9997 - val_s2pafs_output_analog_recall: 0.8734 - val_s3pafs_output_MeanAbsoluteRatio: 0.9845 - val_s3pafs_output_analog_recall: 0.8781 - val_s4pafs_output_MeanAbsoluteRatio: 0.9877 - val_s4pafs_output_analog_recall: 0.8820 - val_s5kpts_output_MeanAbsoluteRatio: 1.0066 - val_s5kpts_output_analog_recall: 0.8691 - val_s6kpts_output_MeanAbsoluteRatio: 1.0017 - val_s6kpts_output_analog_recall: 0.8707\n"
     ]
    },
    {
     "name": "stdout",
     "output_type": "stream",
     "text": [
      "\n",
      "Learning rate for epoch 240 is 0.0010000000474974513\n",
      "Epoch 241/262\n",
      "50/50 [==============================] - 68s 1s/step - loss: 0.0557 - s1pafs_output_loss: 0.0026 - s2pafs_output_loss: 0.0023 - s3pafs_output_loss: 0.0022 - s4pafs_output_loss: 0.0021 - s5kpts_output_loss: 0.0051 - s6kpts_output_loss: 0.0049 - s1pafs_output_MeanAbsoluteRatio: 1.0006 - s1pafs_output_analog_recall: 0.8731 - s2pafs_output_MeanAbsoluteRatio: 1.0043 - s2pafs_output_analog_recall: 0.8841 - s3pafs_output_MeanAbsoluteRatio: 0.9955 - s3pafs_output_analog_recall: 0.8913 - s4pafs_output_MeanAbsoluteRatio: 0.9982 - s4pafs_output_analog_recall: 0.8948 - s5kpts_output_MeanAbsoluteRatio: 1.0089 - s5kpts_output_analog_recall: 0.8821 - s6kpts_output_MeanAbsoluteRatio: 1.0075 - s6kpts_output_analog_recall: 0.8866 - val_loss: 0.0611 - val_s1pafs_output_loss: 0.0028 - val_s2pafs_output_loss: 0.0026 - val_s3pafs_output_loss: 0.0024 - val_s4pafs_output_loss: 0.0023 - val_s5kpts_output_loss: 0.0055 - val_s6kpts_output_loss: 0.0054 - val_s1pafs_output_MeanAbsoluteRatio: 0.9954 - val_s1pafs_output_analog_recall: 0.8663 - val_s2pafs_output_MeanAbsoluteRatio: 1.0071 - val_s2pafs_output_analog_recall: 0.8792 - val_s3pafs_output_MeanAbsoluteRatio: 0.9946 - val_s3pafs_output_analog_recall: 0.8847 - val_s4pafs_output_MeanAbsoluteRatio: 0.9983 - val_s4pafs_output_analog_recall: 0.8895 - val_s5kpts_output_MeanAbsoluteRatio: 1.0028 - val_s5kpts_output_analog_recall: 0.8779 - val_s6kpts_output_MeanAbsoluteRatio: 1.0051 - val_s6kpts_output_analog_recall: 0.8833\n",
      "\n",
      "Learning rate for epoch 241 is 0.0010000000474974513\n",
      "Epoch 242/262\n",
      "50/50 [==============================] - 42s 845ms/step - loss: 0.0554 - s1pafs_output_loss: 0.0026 - s2pafs_output_loss: 0.0023 - s3pafs_output_loss: 0.0022 - s4pafs_output_loss: 0.0021 - s5kpts_output_loss: 0.0050 - s6kpts_output_loss: 0.0048 - s1pafs_output_MeanAbsoluteRatio: 1.0013 - s1pafs_output_analog_recall: 0.8738 - s2pafs_output_MeanAbsoluteRatio: 1.0056 - s2pafs_output_analog_recall: 0.8845 - s3pafs_output_MeanAbsoluteRatio: 0.9952 - s3pafs_output_analog_recall: 0.8913 - s4pafs_output_MeanAbsoluteRatio: 0.9964 - s4pafs_output_analog_recall: 0.8945 - s5kpts_output_MeanAbsoluteRatio: 1.0076 - s5kpts_output_analog_recall: 0.8831 - s6kpts_output_MeanAbsoluteRatio: 1.0060 - s6kpts_output_analog_recall: 0.8871 - val_loss: 0.0616 - val_s1pafs_output_loss: 0.0028 - val_s2pafs_output_loss: 0.0025 - val_s3pafs_output_loss: 0.0024 - val_s4pafs_output_loss: 0.0023 - val_s5kpts_output_loss: 0.0057 - val_s6kpts_output_loss: 0.0055 - val_s1pafs_output_MeanAbsoluteRatio: 0.9802 - val_s1pafs_output_analog_recall: 0.8640 - val_s2pafs_output_MeanAbsoluteRatio: 0.9902 - val_s2pafs_output_analog_recall: 0.8752 - val_s3pafs_output_MeanAbsoluteRatio: 0.9836 - val_s3pafs_output_analog_recall: 0.8805 - val_s4pafs_output_MeanAbsoluteRatio: 0.9856 - val_s4pafs_output_analog_recall: 0.8823 - val_s5kpts_output_MeanAbsoluteRatio: 0.9923 - val_s5kpts_output_analog_recall: 0.8699 - val_s6kpts_output_MeanAbsoluteRatio: 0.9943 - val_s6kpts_output_analog_recall: 0.8746\n",
      "\n",
      "Learning rate for epoch 242 is 0.0010000000474974513\n",
      "Epoch 243/262\n",
      "50/50 [==============================] - 44s 885ms/step - loss: 0.0554 - s1pafs_output_loss: 0.0026 - s2pafs_output_loss: 0.0023 - s3pafs_output_loss: 0.0021 - s4pafs_output_loss: 0.0021 - s5kpts_output_loss: 0.0051 - s6kpts_output_loss: 0.0049 - s1pafs_output_MeanAbsoluteRatio: 1.0004 - s1pafs_output_analog_recall: 0.8739 - s2pafs_output_MeanAbsoluteRatio: 1.0039 - s2pafs_output_analog_recall: 0.8845 - s3pafs_output_MeanAbsoluteRatio: 0.9959 - s3pafs_output_analog_recall: 0.8912 - s4pafs_output_MeanAbsoluteRatio: 0.9968 - s4pafs_output_analog_recall: 0.8941 - s5kpts_output_MeanAbsoluteRatio: 1.0076 - s5kpts_output_analog_recall: 0.8809 - s6kpts_output_MeanAbsoluteRatio: 1.0067 - s6kpts_output_analog_recall: 0.8851 - val_loss: 0.0629 - val_s1pafs_output_loss: 0.0028 - val_s2pafs_output_loss: 0.0026 - val_s3pafs_output_loss: 0.0025 - val_s4pafs_output_loss: 0.0024 - val_s5kpts_output_loss: 0.0058 - val_s6kpts_output_loss: 0.0056 - val_s1pafs_output_MeanAbsoluteRatio: 0.9999 - val_s1pafs_output_analog_recall: 0.8666 - val_s2pafs_output_MeanAbsoluteRatio: 1.0086 - val_s2pafs_output_analog_recall: 0.8781 - val_s3pafs_output_MeanAbsoluteRatio: 1.0014 - val_s3pafs_output_analog_recall: 0.8872 - val_s4pafs_output_MeanAbsoluteRatio: 1.0133 - val_s4pafs_output_analog_recall: 0.8922 - val_s5kpts_output_MeanAbsoluteRatio: 1.0351 - val_s5kpts_output_analog_recall: 0.8861 - val_s6kpts_output_MeanAbsoluteRatio: 1.0274 - val_s6kpts_output_analog_recall: 0.8881\n",
      "\n",
      "Learning rate for epoch 243 is 0.0010000000474974513\n",
      "Epoch 244/262\n",
      "50/50 [==============================] - 48s 959ms/step - loss: 0.0554 - s1pafs_output_loss: 0.0026 - s2pafs_output_loss: 0.0023 - s3pafs_output_loss: 0.0021 - s4pafs_output_loss: 0.0021 - s5kpts_output_loss: 0.0051 - s6kpts_output_loss: 0.0049 - s1pafs_output_MeanAbsoluteRatio: 1.0005 - s1pafs_output_analog_recall: 0.8742 - s2pafs_output_MeanAbsoluteRatio: 1.0043 - s2pafs_output_analog_recall: 0.8851 - s3pafs_output_MeanAbsoluteRatio: 0.9948 - s3pafs_output_analog_recall: 0.8916 - s4pafs_output_MeanAbsoluteRatio: 0.9981 - s4pafs_output_analog_recall: 0.8947 - s5kpts_output_MeanAbsoluteRatio: 1.0116 - s5kpts_output_analog_recall: 0.8805 - s6kpts_output_MeanAbsoluteRatio: 1.0080 - s6kpts_output_analog_recall: 0.8843 - val_loss: 0.0626 - val_s1pafs_output_loss: 0.0028 - val_s2pafs_output_loss: 0.0026 - val_s3pafs_output_loss: 0.0024 - val_s4pafs_output_loss: 0.0024 - val_s5kpts_output_loss: 0.0058 - val_s6kpts_output_loss: 0.0056 - val_s1pafs_output_MeanAbsoluteRatio: 0.9989 - val_s1pafs_output_analog_recall: 0.8665 - val_s2pafs_output_MeanAbsoluteRatio: 0.9923 - val_s2pafs_output_analog_recall: 0.8717 - val_s3pafs_output_MeanAbsoluteRatio: 0.9915 - val_s3pafs_output_analog_recall: 0.8813 - val_s4pafs_output_MeanAbsoluteRatio: 0.9931 - val_s4pafs_output_analog_recall: 0.8857 - val_s5kpts_output_MeanAbsoluteRatio: 0.9831 - val_s5kpts_output_analog_recall: 0.8656 - val_s6kpts_output_MeanAbsoluteRatio: 0.9849 - val_s6kpts_output_analog_recall: 0.8707\n",
      "\n",
      "Learning rate for epoch 244 is 0.0010000000474974513\n",
      "Epoch 245/262\n",
      "50/50 [==============================] - 48s 956ms/step - loss: 0.0558 - s1pafs_output_loss: 0.0026 - s2pafs_output_loss: 0.0023 - s3pafs_output_loss: 0.0022 - s4pafs_output_loss: 0.0021 - s5kpts_output_loss: 0.0051 - s6kpts_output_loss: 0.0049 - s1pafs_output_MeanAbsoluteRatio: 0.9997 - s1pafs_output_analog_recall: 0.8725 - s2pafs_output_MeanAbsoluteRatio: 1.0035 - s2pafs_output_analog_recall: 0.8835 - s3pafs_output_MeanAbsoluteRatio: 0.9966 - s3pafs_output_analog_recall: 0.8908 - s4pafs_output_MeanAbsoluteRatio: 0.9978 - s4pafs_output_analog_recall: 0.8942 - s5kpts_output_MeanAbsoluteRatio: 1.0059 - s5kpts_output_analog_recall: 0.8822 - s6kpts_output_MeanAbsoluteRatio: 1.0058 - s6kpts_output_analog_recall: 0.8866 - val_loss: 0.0620 - val_s1pafs_output_loss: 0.0028 - val_s2pafs_output_loss: 0.0026 - val_s3pafs_output_loss: 0.0024 - val_s4pafs_output_loss: 0.0024 - val_s5kpts_output_loss: 0.0057 - val_s6kpts_output_loss: 0.0055 - val_s1pafs_output_MeanAbsoluteRatio: 1.0093 - val_s1pafs_output_analog_recall: 0.8707 - val_s2pafs_output_MeanAbsoluteRatio: 1.0160 - val_s2pafs_output_analog_recall: 0.8813 - val_s3pafs_output_MeanAbsoluteRatio: 0.9899 - val_s3pafs_output_analog_recall: 0.8832 - val_s4pafs_output_MeanAbsoluteRatio: 0.9998 - val_s4pafs_output_analog_recall: 0.8866 - val_s5kpts_output_MeanAbsoluteRatio: 1.0273 - val_s5kpts_output_analog_recall: 0.8812 - val_s6kpts_output_MeanAbsoluteRatio: 1.0170 - val_s6kpts_output_analog_recall: 0.8821\n",
      "\n",
      "Learning rate for epoch 245 is 0.0010000000474974513\n",
      "Epoch 246/262\n"
     ]
    },
    {
     "name": "stdout",
     "output_type": "stream",
     "text": [
      "12/50 [======>.......................] - ETA: 29s - loss: 0.0536 - s1pafs_output_loss: 0.0025 - s2pafs_output_loss: 0.0022 - s3pafs_output_loss: 0.0021 - s4pafs_output_loss: 0.0020 - s5kpts_output_loss: 0.0049 - s6kpts_output_loss: 0.0048 - s1pafs_output_MeanAbsoluteRatio: 1.0027 - s1pafs_output_analog_recall: 0.8771 - s2pafs_output_MeanAbsoluteRatio: 1.0037 - s2pafs_output_analog_recall: 0.8875 - s3pafs_output_MeanAbsoluteRatio: 0.9969 - s3pafs_output_analog_recall: 0.8948 - s4pafs_output_MeanAbsoluteRatio: 1.0002 - s4pafs_output_analog_recall: 0.8980 - s5kpts_output_MeanAbsoluteRatio: 1.0084 - s5kpts_output_analog_recall: 0.8838 - s6kpts_output_MeanAbsoluteRatio: 1.0072 - s6kpts_output_analog_recall: 0.8883\n",
      "Epoch 00246: saving model to gs://dl_training_results/checkpoints/model1115Sun1219-0341/-E0246.ckpt\n",
      "50/50 [==============================] - 52s 1s/step - loss: 0.0543 - s1pafs_output_loss: 0.0025 - s2pafs_output_loss: 0.0023 - s3pafs_output_loss: 0.0021 - s4pafs_output_loss: 0.0020 - s5kpts_output_loss: 0.0050 - s6kpts_output_loss: 0.0048 - s1pafs_output_MeanAbsoluteRatio: 0.9986 - s1pafs_output_analog_recall: 0.8753 - s2pafs_output_MeanAbsoluteRatio: 1.0040 - s2pafs_output_analog_recall: 0.8862 - s3pafs_output_MeanAbsoluteRatio: 0.9979 - s3pafs_output_analog_recall: 0.8935 - s4pafs_output_MeanAbsoluteRatio: 1.0004 - s4pafs_output_analog_recall: 0.8967 - s5kpts_output_MeanAbsoluteRatio: 1.0077 - s5kpts_output_analog_recall: 0.8831 - s6kpts_output_MeanAbsoluteRatio: 1.0059 - s6kpts_output_analog_recall: 0.8876 - val_loss: 0.0620 - val_s1pafs_output_loss: 0.0028 - val_s2pafs_output_loss: 0.0026 - val_s3pafs_output_loss: 0.0024 - val_s4pafs_output_loss: 0.0024 - val_s5kpts_output_loss: 0.0057 - val_s6kpts_output_loss: 0.0055 - val_s1pafs_output_MeanAbsoluteRatio: 1.0008 - val_s1pafs_output_analog_recall: 0.8692 - val_s2pafs_output_MeanAbsoluteRatio: 1.0218 - val_s2pafs_output_analog_recall: 0.8839 - val_s3pafs_output_MeanAbsoluteRatio: 1.0040 - val_s3pafs_output_analog_recall: 0.8868 - val_s4pafs_output_MeanAbsoluteRatio: 1.0001 - val_s4pafs_output_analog_recall: 0.8890 - val_s5kpts_output_MeanAbsoluteRatio: 1.0251 - val_s5kpts_output_analog_recall: 0.8860 - val_s6kpts_output_MeanAbsoluteRatio: 1.0247 - val_s6kpts_output_analog_recall: 0.8911\n",
      "\n",
      "Learning rate for epoch 246 is 0.0010000000474974513\n",
      "Epoch 247/262\n",
      "50/50 [==============================] - 44s 871ms/step - loss: 0.0539 - s1pafs_output_loss: 0.0025 - s2pafs_output_loss: 0.0022 - s3pafs_output_loss: 0.0021 - s4pafs_output_loss: 0.0020 - s5kpts_output_loss: 0.0049 - s6kpts_output_loss: 0.0048 - s1pafs_output_MeanAbsoluteRatio: 1.0049 - s1pafs_output_analog_recall: 0.8769 - s2pafs_output_MeanAbsoluteRatio: 1.0062 - s2pafs_output_analog_recall: 0.8876 - s3pafs_output_MeanAbsoluteRatio: 0.9964 - s3pafs_output_analog_recall: 0.8940 - s4pafs_output_MeanAbsoluteRatio: 1.0000 - s4pafs_output_analog_recall: 0.8973 - s5kpts_output_MeanAbsoluteRatio: 1.0073 - s5kpts_output_analog_recall: 0.8837 - s6kpts_output_MeanAbsoluteRatio: 1.0058 - s6kpts_output_analog_recall: 0.8881 - val_loss: 0.0620 - val_s1pafs_output_loss: 0.0028 - val_s2pafs_output_loss: 0.0026 - val_s3pafs_output_loss: 0.0024 - val_s4pafs_output_loss: 0.0023 - val_s5kpts_output_loss: 0.0057 - val_s6kpts_output_loss: 0.0055 - val_s1pafs_output_MeanAbsoluteRatio: 0.9809 - val_s1pafs_output_analog_recall: 0.8583 - val_s2pafs_output_MeanAbsoluteRatio: 0.9820 - val_s2pafs_output_analog_recall: 0.8688 - val_s3pafs_output_MeanAbsoluteRatio: 0.9695 - val_s3pafs_output_analog_recall: 0.8754 - val_s4pafs_output_MeanAbsoluteRatio: 0.9737 - val_s4pafs_output_analog_recall: 0.8805 - val_s5kpts_output_MeanAbsoluteRatio: 1.0000 - val_s5kpts_output_analog_recall: 0.8719 - val_s6kpts_output_MeanAbsoluteRatio: 1.0025 - val_s6kpts_output_analog_recall: 0.8785\n",
      "\n",
      "Learning rate for epoch 247 is 0.0010000000474974513\n",
      "Epoch 248/262\n",
      "50/50 [==============================] - 49s 973ms/step - loss: 0.0545 - s1pafs_output_loss: 0.0025 - s2pafs_output_loss: 0.0023 - s3pafs_output_loss: 0.0021 - s4pafs_output_loss: 0.0021 - s5kpts_output_loss: 0.0049 - s6kpts_output_loss: 0.0048 - s1pafs_output_MeanAbsoluteRatio: 0.9983 - s1pafs_output_analog_recall: 0.8753 - s2pafs_output_MeanAbsoluteRatio: 1.0052 - s2pafs_output_analog_recall: 0.8862 - s3pafs_output_MeanAbsoluteRatio: 0.9965 - s3pafs_output_analog_recall: 0.8929 - s4pafs_output_MeanAbsoluteRatio: 1.0000 - s4pafs_output_analog_recall: 0.8961 - s5kpts_output_MeanAbsoluteRatio: 1.0075 - s5kpts_output_analog_recall: 0.8839 - s6kpts_output_MeanAbsoluteRatio: 1.0061 - s6kpts_output_analog_recall: 0.8878 - val_loss: 0.0616 - val_s1pafs_output_loss: 0.0028 - val_s2pafs_output_loss: 0.0025 - val_s3pafs_output_loss: 0.0024 - val_s4pafs_output_loss: 0.0023 - val_s5kpts_output_loss: 0.0057 - val_s6kpts_output_loss: 0.0055 - val_s1pafs_output_MeanAbsoluteRatio: 0.9908 - val_s1pafs_output_analog_recall: 0.8655 - val_s2pafs_output_MeanAbsoluteRatio: 0.9979 - val_s2pafs_output_analog_recall: 0.8756 - val_s3pafs_output_MeanAbsoluteRatio: 0.9750 - val_s3pafs_output_analog_recall: 0.8767 - val_s4pafs_output_MeanAbsoluteRatio: 0.9753 - val_s4pafs_output_analog_recall: 0.8803 - val_s5kpts_output_MeanAbsoluteRatio: 1.0089 - val_s5kpts_output_analog_recall: 0.8712 - val_s6kpts_output_MeanAbsoluteRatio: 0.9932 - val_s6kpts_output_analog_recall: 0.8723\n",
      "\n",
      "Learning rate for epoch 248 is 0.0010000000474974513\n",
      "Epoch 249/262\n",
      "50/50 [==============================] - 66s 1s/step - loss: 0.0558 - s1pafs_output_loss: 0.0026 - s2pafs_output_loss: 0.0023 - s3pafs_output_loss: 0.0022 - s4pafs_output_loss: 0.0021 - s5kpts_output_loss: 0.0051 - s6kpts_output_loss: 0.0050 - s1pafs_output_MeanAbsoluteRatio: 1.0001 - s1pafs_output_analog_recall: 0.8738 - s2pafs_output_MeanAbsoluteRatio: 1.0057 - s2pafs_output_analog_recall: 0.8844 - s3pafs_output_MeanAbsoluteRatio: 0.9956 - s3pafs_output_analog_recall: 0.8909 - s4pafs_output_MeanAbsoluteRatio: 0.9973 - s4pafs_output_analog_recall: 0.8939 - s5kpts_output_MeanAbsoluteRatio: 1.0070 - s5kpts_output_analog_recall: 0.8794 - s6kpts_output_MeanAbsoluteRatio: 1.0063 - s6kpts_output_analog_recall: 0.8839 - val_loss: 0.0622 - val_s1pafs_output_loss: 0.0028 - val_s2pafs_output_loss: 0.0026 - val_s3pafs_output_loss: 0.0024 - val_s4pafs_output_loss: 0.0024 - val_s5kpts_output_loss: 0.0057 - val_s6kpts_output_loss: 0.0056 - val_s1pafs_output_MeanAbsoluteRatio: 0.9992 - val_s1pafs_output_analog_recall: 0.8670 - val_s2pafs_output_MeanAbsoluteRatio: 1.0114 - val_s2pafs_output_analog_recall: 0.8811 - val_s3pafs_output_MeanAbsoluteRatio: 1.0000 - val_s3pafs_output_analog_recall: 0.8875 - val_s4pafs_output_MeanAbsoluteRatio: 1.0158 - val_s4pafs_output_analog_recall: 0.8930 - val_s5kpts_output_MeanAbsoluteRatio: 1.0271 - val_s5kpts_output_analog_recall: 0.8855 - val_s6kpts_output_MeanAbsoluteRatio: 1.0466 - val_s6kpts_output_analog_recall: 0.8956\n",
      "\n",
      "Learning rate for epoch 249 is 0.0010000000474974513\n",
      "Epoch 250/262\n",
      "50/50 [==============================] - 41s 822ms/step - loss: 0.0567 - s1pafs_output_loss: 0.0026 - s2pafs_output_loss: 0.0024 - s3pafs_output_loss: 0.0022 - s4pafs_output_loss: 0.0021 - s5kpts_output_loss: 0.0052 - s6kpts_output_loss: 0.0050 - s1pafs_output_MeanAbsoluteRatio: 0.9987 - s1pafs_output_analog_recall: 0.8715 - s2pafs_output_MeanAbsoluteRatio: 1.0042 - s2pafs_output_analog_recall: 0.8824 - s3pafs_output_MeanAbsoluteRatio: 0.9951 - s3pafs_output_analog_recall: 0.8893 - s4pafs_output_MeanAbsoluteRatio: 0.9984 - s4pafs_output_analog_recall: 0.8926 - s5kpts_output_MeanAbsoluteRatio: 1.0107 - s5kpts_output_analog_recall: 0.8808 - s6kpts_output_MeanAbsoluteRatio: 1.0088 - s6kpts_output_analog_recall: 0.8843 - val_loss: 0.0622 - val_s1pafs_output_loss: 0.0028 - val_s2pafs_output_loss: 0.0026 - val_s3pafs_output_loss: 0.0024 - val_s4pafs_output_loss: 0.0024 - val_s5kpts_output_loss: 0.0057 - val_s6kpts_output_loss: 0.0056 - val_s1pafs_output_MeanAbsoluteRatio: 0.9998 - val_s1pafs_output_analog_recall: 0.8696 - val_s2pafs_output_MeanAbsoluteRatio: 1.0249 - val_s2pafs_output_analog_recall: 0.8843 - val_s3pafs_output_MeanAbsoluteRatio: 1.0198 - val_s3pafs_output_analog_recall: 0.8923 - val_s4pafs_output_MeanAbsoluteRatio: 1.0139 - val_s4pafs_output_analog_recall: 0.8950 - val_s5kpts_output_MeanAbsoluteRatio: 1.0320 - val_s5kpts_output_analog_recall: 0.8855 - val_s6kpts_output_MeanAbsoluteRatio: 1.0369 - val_s6kpts_output_analog_recall: 0.8924\n"
     ]
    },
    {
     "name": "stdout",
     "output_type": "stream",
     "text": [
      "\n",
      "Learning rate for epoch 250 is 0.0010000000474974513\n",
      "Epoch 251/262\n",
      "50/50 [==============================] - 46s 911ms/step - loss: 0.0550 - s1pafs_output_loss: 0.0025 - s2pafs_output_loss: 0.0023 - s3pafs_output_loss: 0.0021 - s4pafs_output_loss: 0.0021 - s5kpts_output_loss: 0.0050 - s6kpts_output_loss: 0.0048 - s1pafs_output_MeanAbsoluteRatio: 0.9997 - s1pafs_output_analog_recall: 0.8744 - s2pafs_output_MeanAbsoluteRatio: 1.0053 - s2pafs_output_analog_recall: 0.8851 - s3pafs_output_MeanAbsoluteRatio: 0.9971 - s3pafs_output_analog_recall: 0.8921 - s4pafs_output_MeanAbsoluteRatio: 0.9986 - s4pafs_output_analog_recall: 0.8955 - s5kpts_output_MeanAbsoluteRatio: 1.0094 - s5kpts_output_analog_recall: 0.8834 - s6kpts_output_MeanAbsoluteRatio: 1.0072 - s6kpts_output_analog_recall: 0.8875 - val_loss: 0.0623 - val_s1pafs_output_loss: 0.0028 - val_s2pafs_output_loss: 0.0026 - val_s3pafs_output_loss: 0.0024 - val_s4pafs_output_loss: 0.0024 - val_s5kpts_output_loss: 0.0056 - val_s6kpts_output_loss: 0.0054 - val_s1pafs_output_MeanAbsoluteRatio: 0.9984 - val_s1pafs_output_analog_recall: 0.8653 - val_s2pafs_output_MeanAbsoluteRatio: 1.0045 - val_s2pafs_output_analog_recall: 0.8742 - val_s3pafs_output_MeanAbsoluteRatio: 0.9823 - val_s3pafs_output_analog_recall: 0.8785 - val_s4pafs_output_MeanAbsoluteRatio: 0.9869 - val_s4pafs_output_analog_recall: 0.8834 - val_s5kpts_output_MeanAbsoluteRatio: 1.0018 - val_s5kpts_output_analog_recall: 0.8703 - val_s6kpts_output_MeanAbsoluteRatio: 1.0035 - val_s6kpts_output_analog_recall: 0.8759\n",
      "\n",
      "Learning rate for epoch 251 is 0.0010000000474974513\n",
      "Epoch 252/262\n",
      "50/50 [==============================] - 49s 974ms/step - loss: 0.0541 - s1pafs_output_loss: 0.0025 - s2pafs_output_loss: 0.0022 - s3pafs_output_loss: 0.0021 - s4pafs_output_loss: 0.0020 - s5kpts_output_loss: 0.0050 - s6kpts_output_loss: 0.0048 - s1pafs_output_MeanAbsoluteRatio: 1.0016 - s1pafs_output_analog_recall: 0.8761 - s2pafs_output_MeanAbsoluteRatio: 1.0037 - s2pafs_output_analog_recall: 0.8867 - s3pafs_output_MeanAbsoluteRatio: 0.9967 - s3pafs_output_analog_recall: 0.8933 - s4pafs_output_MeanAbsoluteRatio: 0.9991 - s4pafs_output_analog_recall: 0.8965 - s5kpts_output_MeanAbsoluteRatio: 1.0061 - s5kpts_output_analog_recall: 0.8826 - s6kpts_output_MeanAbsoluteRatio: 1.0055 - s6kpts_output_analog_recall: 0.8869 - val_loss: 0.0627 - val_s1pafs_output_loss: 0.0028 - val_s2pafs_output_loss: 0.0026 - val_s3pafs_output_loss: 0.0024 - val_s4pafs_output_loss: 0.0024 - val_s5kpts_output_loss: 0.0059 - val_s6kpts_output_loss: 0.0057 - val_s1pafs_output_MeanAbsoluteRatio: 0.9993 - val_s1pafs_output_analog_recall: 0.8669 - val_s2pafs_output_MeanAbsoluteRatio: 1.0078 - val_s2pafs_output_analog_recall: 0.8784 - val_s3pafs_output_MeanAbsoluteRatio: 0.9872 - val_s3pafs_output_analog_recall: 0.8824 - val_s4pafs_output_MeanAbsoluteRatio: 0.9918 - val_s4pafs_output_analog_recall: 0.8850 - val_s5kpts_output_MeanAbsoluteRatio: 1.0246 - val_s5kpts_output_analog_recall: 0.8793 - val_s6kpts_output_MeanAbsoluteRatio: 1.0232 - val_s6kpts_output_analog_recall: 0.8827\n",
      "\n",
      "Learning rate for epoch 252 is 0.0010000000474974513\n",
      "Epoch 253/262\n",
      "50/50 [==============================] - 46s 922ms/step - loss: 0.0544 - s1pafs_output_loss: 0.0025 - s2pafs_output_loss: 0.0023 - s3pafs_output_loss: 0.0021 - s4pafs_output_loss: 0.0020 - s5kpts_output_loss: 0.0049 - s6kpts_output_loss: 0.0048 - s1pafs_output_MeanAbsoluteRatio: 1.0008 - s1pafs_output_analog_recall: 0.8757 - s2pafs_output_MeanAbsoluteRatio: 1.0056 - s2pafs_output_analog_recall: 0.8865 - s3pafs_output_MeanAbsoluteRatio: 0.9953 - s3pafs_output_analog_recall: 0.8930 - s4pafs_output_MeanAbsoluteRatio: 0.9985 - s4pafs_output_analog_recall: 0.8965 - s5kpts_output_MeanAbsoluteRatio: 1.0094 - s5kpts_output_analog_recall: 0.8842 - s6kpts_output_MeanAbsoluteRatio: 1.0070 - s6kpts_output_analog_recall: 0.8883 - val_loss: 0.0627 - val_s1pafs_output_loss: 0.0028 - val_s2pafs_output_loss: 0.0026 - val_s3pafs_output_loss: 0.0025 - val_s4pafs_output_loss: 0.0024 - val_s5kpts_output_loss: 0.0057 - val_s6kpts_output_loss: 0.0056 - val_s1pafs_output_MeanAbsoluteRatio: 1.0400 - val_s1pafs_output_analog_recall: 0.8760 - val_s2pafs_output_MeanAbsoluteRatio: 1.0487 - val_s2pafs_output_analog_recall: 0.8891 - val_s3pafs_output_MeanAbsoluteRatio: 1.0271 - val_s3pafs_output_analog_recall: 0.8937 - val_s4pafs_output_MeanAbsoluteRatio: 1.0259 - val_s4pafs_output_analog_recall: 0.8980 - val_s5kpts_output_MeanAbsoluteRatio: 1.0466 - val_s5kpts_output_analog_recall: 0.8921 - val_s6kpts_output_MeanAbsoluteRatio: 1.0366 - val_s6kpts_output_analog_recall: 0.8946\n",
      "\n",
      "Learning rate for epoch 253 is 0.0010000000474974513\n",
      "Epoch 254/262\n",
      "50/50 [==============================] - 48s 964ms/step - loss: 0.0542 - s1pafs_output_loss: 0.0025 - s2pafs_output_loss: 0.0023 - s3pafs_output_loss: 0.0021 - s4pafs_output_loss: 0.0020 - s5kpts_output_loss: 0.0049 - s6kpts_output_loss: 0.0047 - s1pafs_output_MeanAbsoluteRatio: 1.0041 - s1pafs_output_analog_recall: 0.8753 - s2pafs_output_MeanAbsoluteRatio: 1.0078 - s2pafs_output_analog_recall: 0.8864 - s3pafs_output_MeanAbsoluteRatio: 0.9976 - s3pafs_output_analog_recall: 0.8932 - s4pafs_output_MeanAbsoluteRatio: 0.9980 - s4pafs_output_analog_recall: 0.8966 - s5kpts_output_MeanAbsoluteRatio: 1.0069 - s5kpts_output_analog_recall: 0.8844 - s6kpts_output_MeanAbsoluteRatio: 1.0055 - s6kpts_output_analog_recall: 0.8890 - val_loss: 0.0621 - val_s1pafs_output_loss: 0.0028 - val_s2pafs_output_loss: 0.0026 - val_s3pafs_output_loss: 0.0024 - val_s4pafs_output_loss: 0.0024 - val_s5kpts_output_loss: 0.0057 - val_s6kpts_output_loss: 0.0055 - val_s1pafs_output_MeanAbsoluteRatio: 0.9785 - val_s1pafs_output_analog_recall: 0.8611 - val_s2pafs_output_MeanAbsoluteRatio: 0.9922 - val_s2pafs_output_analog_recall: 0.8744 - val_s3pafs_output_MeanAbsoluteRatio: 0.9930 - val_s3pafs_output_analog_recall: 0.8829 - val_s4pafs_output_MeanAbsoluteRatio: 1.0078 - val_s4pafs_output_analog_recall: 0.8904 - val_s5kpts_output_MeanAbsoluteRatio: 1.0167 - val_s5kpts_output_analog_recall: 0.8804 - val_s6kpts_output_MeanAbsoluteRatio: 1.0271 - val_s6kpts_output_analog_recall: 0.8884\n",
      "\n",
      "Learning rate for epoch 254 is 0.0010000000474974513\n",
      "Epoch 255/262\n",
      "\n",
      "Epoch 00255: saving model to gs://dl_training_results/checkpoints/model1115Sun1219-0341/-E0255.ckpt\n",
      "WARNING:tensorflow:Method (on_train_batch_end) is slow compared to the batch update (9.106948). Check your callbacks.\n"
     ]
    },
    {
     "name": "stderr",
     "output_type": "stream",
     "text": [
      "WARNING:tensorflow:Method (on_train_batch_end) is slow compared to the batch update (9.106948). Check your callbacks.\n"
     ]
    },
    {
     "name": "stdout",
     "output_type": "stream",
     "text": [
      " 1/50 [..............................] - ETA: 8:16 - loss: 0.0556 - s1pafs_output_loss: 0.0026 - s2pafs_output_loss: 0.0023 - s3pafs_output_loss: 0.0021 - s4pafs_output_loss: 0.0021 - s5kpts_output_loss: 0.0051 - s6kpts_output_loss: 0.0050 - s1pafs_output_MeanAbsoluteRatio: 0.9715 - s1pafs_output_analog_recall: 0.8674 - s2pafs_output_MeanAbsoluteRatio: 0.9840 - s2pafs_output_analog_recall: 0.8802 - s3pafs_output_MeanAbsoluteRatio: 0.9875 - s3pafs_output_analog_recall: 0.8894 - s4pafs_output_MeanAbsoluteRatio: 1.0002 - s4pafs_output_analog_recall: 0.8968 - s5kpts_output_MeanAbsoluteRatio: 1.0032 - s5kpts_output_analog_recall: 0.8819 - s6kpts_output_MeanAbsoluteRatio: 1.0119 - s6kpts_output_analog_recall: 0.8892WARNING:tensorflow:Method (on_train_batch_end) is slow compared to the batch update (4.562786). Check your callbacks.\n"
     ]
    },
    {
     "name": "stderr",
     "output_type": "stream",
     "text": [
      "WARNING:tensorflow:Method (on_train_batch_end) is slow compared to the batch update (4.562786). Check your callbacks.\n"
     ]
    },
    {
     "name": "stdout",
     "output_type": "stream",
     "text": [
      "50/50 [==============================] - 52s 1s/step - loss: 0.0540 - s1pafs_output_loss: 0.0025 - s2pafs_output_loss: 0.0023 - s3pafs_output_loss: 0.0021 - s4pafs_output_loss: 0.0020 - s5kpts_output_loss: 0.0049 - s6kpts_output_loss: 0.0048 - s1pafs_output_MeanAbsoluteRatio: 1.0008 - s1pafs_output_analog_recall: 0.8757 - s2pafs_output_MeanAbsoluteRatio: 1.0026 - s2pafs_output_analog_recall: 0.8866 - s3pafs_output_MeanAbsoluteRatio: 0.9969 - s3pafs_output_analog_recall: 0.8938 - s4pafs_output_MeanAbsoluteRatio: 0.9980 - s4pafs_output_analog_recall: 0.8970 - s5kpts_output_MeanAbsoluteRatio: 1.0060 - s5kpts_output_analog_recall: 0.8838 - s6kpts_output_MeanAbsoluteRatio: 1.0061 - s6kpts_output_analog_recall: 0.8882 - val_loss: 0.0628 - val_s1pafs_output_loss: 0.0028 - val_s2pafs_output_loss: 0.0026 - val_s3pafs_output_loss: 0.0025 - val_s4pafs_output_loss: 0.0024 - val_s5kpts_output_loss: 0.0058 - val_s6kpts_output_loss: 0.0056 - val_s1pafs_output_MeanAbsoluteRatio: 1.0018 - val_s1pafs_output_analog_recall: 0.8640 - val_s2pafs_output_MeanAbsoluteRatio: 1.0005 - val_s2pafs_output_analog_recall: 0.8720 - val_s3pafs_output_MeanAbsoluteRatio: 0.9809 - val_s3pafs_output_analog_recall: 0.8767 - val_s4pafs_output_MeanAbsoluteRatio: 0.9731 - val_s4pafs_output_analog_recall: 0.8758 - val_s5kpts_output_MeanAbsoluteRatio: 1.0014 - val_s5kpts_output_analog_recall: 0.8727 - val_s6kpts_output_MeanAbsoluteRatio: 0.9891 - val_s6kpts_output_analog_recall: 0.8717\n",
      "\n",
      "Learning rate for epoch 255 is 0.0010000000474974513\n",
      "Epoch 256/262\n",
      "50/50 [==============================] - 47s 942ms/step - loss: 0.0546 - s1pafs_output_loss: 0.0025 - s2pafs_output_loss: 0.0023 - s3pafs_output_loss: 0.0021 - s4pafs_output_loss: 0.0021 - s5kpts_output_loss: 0.0050 - s6kpts_output_loss: 0.0049 - s1pafs_output_MeanAbsoluteRatio: 1.0037 - s1pafs_output_analog_recall: 0.8764 - s2pafs_output_MeanAbsoluteRatio: 1.0074 - s2pafs_output_analog_recall: 0.8869 - s3pafs_output_MeanAbsoluteRatio: 0.9977 - s3pafs_output_analog_recall: 0.8933 - s4pafs_output_MeanAbsoluteRatio: 1.0012 - s4pafs_output_analog_recall: 0.8962 - s5kpts_output_MeanAbsoluteRatio: 1.0090 - s5kpts_output_analog_recall: 0.8824 - s6kpts_output_MeanAbsoluteRatio: 1.0070 - s6kpts_output_analog_recall: 0.8861 - val_loss: 0.0617 - val_s1pafs_output_loss: 0.0028 - val_s2pafs_output_loss: 0.0026 - val_s3pafs_output_loss: 0.0024 - val_s4pafs_output_loss: 0.0024 - val_s5kpts_output_loss: 0.0056 - val_s6kpts_output_loss: 0.0055 - val_s1pafs_output_MeanAbsoluteRatio: 1.0086 - val_s1pafs_output_analog_recall: 0.8706 - val_s2pafs_output_MeanAbsoluteRatio: 1.0130 - val_s2pafs_output_analog_recall: 0.8836 - val_s3pafs_output_MeanAbsoluteRatio: 1.0049 - val_s3pafs_output_analog_recall: 0.8886 - val_s4pafs_output_MeanAbsoluteRatio: 1.0043 - val_s4pafs_output_analog_recall: 0.8916 - val_s5kpts_output_MeanAbsoluteRatio: 1.0141 - val_s5kpts_output_analog_recall: 0.8813 - val_s6kpts_output_MeanAbsoluteRatio: 1.0182 - val_s6kpts_output_analog_recall: 0.8872\n",
      "\n",
      "Learning rate for epoch 256 is 0.0010000000474974513\n",
      "Epoch 257/262\n",
      "50/50 [==============================] - 72s 1s/step - loss: 0.0543 - s1pafs_output_loss: 0.0025 - s2pafs_output_loss: 0.0023 - s3pafs_output_loss: 0.0021 - s4pafs_output_loss: 0.0020 - s5kpts_output_loss: 0.0049 - s6kpts_output_loss: 0.0047 - s1pafs_output_MeanAbsoluteRatio: 1.0001 - s1pafs_output_analog_recall: 0.8762 - s2pafs_output_MeanAbsoluteRatio: 1.0058 - s2pafs_output_analog_recall: 0.8866 - s3pafs_output_MeanAbsoluteRatio: 0.9960 - s3pafs_output_analog_recall: 0.8933 - s4pafs_output_MeanAbsoluteRatio: 0.9967 - s4pafs_output_analog_recall: 0.8965 - s5kpts_output_MeanAbsoluteRatio: 1.0098 - s5kpts_output_analog_recall: 0.8853 - s6kpts_output_MeanAbsoluteRatio: 1.0088 - s6kpts_output_analog_recall: 0.8894 - val_loss: 0.0615 - val_s1pafs_output_loss: 0.0028 - val_s2pafs_output_loss: 0.0026 - val_s3pafs_output_loss: 0.0024 - val_s4pafs_output_loss: 0.0023 - val_s5kpts_output_loss: 0.0056 - val_s6kpts_output_loss: 0.0054 - val_s1pafs_output_MeanAbsoluteRatio: 1.0093 - val_s1pafs_output_analog_recall: 0.8686 - val_s2pafs_output_MeanAbsoluteRatio: 0.9941 - val_s2pafs_output_analog_recall: 0.8742 - val_s3pafs_output_MeanAbsoluteRatio: 0.9904 - val_s3pafs_output_analog_recall: 0.8834 - val_s4pafs_output_MeanAbsoluteRatio: 1.0008 - val_s4pafs_output_analog_recall: 0.8887 - val_s5kpts_output_MeanAbsoluteRatio: 0.9974 - val_s5kpts_output_analog_recall: 0.8722 - val_s6kpts_output_MeanAbsoluteRatio: 1.0054 - val_s6kpts_output_analog_recall: 0.8800\n",
      "\n",
      "Learning rate for epoch 257 is 0.0010000000474974513\n",
      "Epoch 258/262\n",
      "50/50 [==============================] - 42s 833ms/step - loss: 0.0547 - s1pafs_output_loss: 0.0025 - s2pafs_output_loss: 0.0023 - s3pafs_output_loss: 0.0021 - s4pafs_output_loss: 0.0021 - s5kpts_output_loss: 0.0050 - s6kpts_output_loss: 0.0048 - s1pafs_output_MeanAbsoluteRatio: 1.0011 - s1pafs_output_analog_recall: 0.8756 - s2pafs_output_MeanAbsoluteRatio: 1.0033 - s2pafs_output_analog_recall: 0.8858 - s3pafs_output_MeanAbsoluteRatio: 0.9972 - s3pafs_output_analog_recall: 0.8925 - s4pafs_output_MeanAbsoluteRatio: 0.9975 - s4pafs_output_analog_recall: 0.8956 - s5kpts_output_MeanAbsoluteRatio: 1.0053 - s5kpts_output_analog_recall: 0.8816 - s6kpts_output_MeanAbsoluteRatio: 1.0042 - s6kpts_output_analog_recall: 0.8860 - val_loss: 0.0625 - val_s1pafs_output_loss: 0.0028 - val_s2pafs_output_loss: 0.0026 - val_s3pafs_output_loss: 0.0024 - val_s4pafs_output_loss: 0.0024 - val_s5kpts_output_loss: 0.0058 - val_s6kpts_output_loss: 0.0057 - val_s1pafs_output_MeanAbsoluteRatio: 1.0020 - val_s1pafs_output_analog_recall: 0.8695 - val_s2pafs_output_MeanAbsoluteRatio: 1.0184 - val_s2pafs_output_analog_recall: 0.8854 - val_s3pafs_output_MeanAbsoluteRatio: 1.0116 - val_s3pafs_output_analog_recall: 0.8909 - val_s4pafs_output_MeanAbsoluteRatio: 1.0193 - val_s4pafs_output_analog_recall: 0.8967 - val_s5kpts_output_MeanAbsoluteRatio: 1.0427 - val_s5kpts_output_analog_recall: 0.8923 - val_s6kpts_output_MeanAbsoluteRatio: 1.0621 - val_s6kpts_output_analog_recall: 0.9007\n",
      "\n",
      "Learning rate for epoch 258 is 0.0010000000474974513\n",
      "Epoch 259/262\n",
      "50/50 [==============================] - 43s 852ms/step - loss: 0.0553 - s1pafs_output_loss: 0.0026 - s2pafs_output_loss: 0.0023 - s3pafs_output_loss: 0.0021 - s4pafs_output_loss: 0.0021 - s5kpts_output_loss: 0.0050 - s6kpts_output_loss: 0.0048 - s1pafs_output_MeanAbsoluteRatio: 0.9956 - s1pafs_output_analog_recall: 0.8732 - s2pafs_output_MeanAbsoluteRatio: 1.0016 - s2pafs_output_analog_recall: 0.8847 - s3pafs_output_MeanAbsoluteRatio: 0.9948 - s3pafs_output_analog_recall: 0.8916 - s4pafs_output_MeanAbsoluteRatio: 0.9985 - s4pafs_output_analog_recall: 0.8951 - s5kpts_output_MeanAbsoluteRatio: 1.0085 - s5kpts_output_analog_recall: 0.8844 - s6kpts_output_MeanAbsoluteRatio: 1.0069 - s6kpts_output_analog_recall: 0.8885 - val_loss: 0.0617 - val_s1pafs_output_loss: 0.0028 - val_s2pafs_output_loss: 0.0026 - val_s3pafs_output_loss: 0.0024 - val_s4pafs_output_loss: 0.0023 - val_s5kpts_output_loss: 0.0057 - val_s6kpts_output_loss: 0.0055 - val_s1pafs_output_MeanAbsoluteRatio: 1.0127 - val_s1pafs_output_analog_recall: 0.8699 - val_s2pafs_output_MeanAbsoluteRatio: 1.0157 - val_s2pafs_output_analog_recall: 0.8789 - val_s3pafs_output_MeanAbsoluteRatio: 0.9999 - val_s3pafs_output_analog_recall: 0.8865 - val_s4pafs_output_MeanAbsoluteRatio: 1.0024 - val_s4pafs_output_analog_recall: 0.8895 - val_s5kpts_output_MeanAbsoluteRatio: 0.9994 - val_s5kpts_output_analog_recall: 0.8723 - val_s6kpts_output_MeanAbsoluteRatio: 1.0025 - val_s6kpts_output_analog_recall: 0.8786\n",
      "\n",
      "Learning rate for epoch 259 is 0.0010000000474974513\n",
      "Epoch 260/262\n"
     ]
    },
    {
     "name": "stdout",
     "output_type": "stream",
     "text": [
      "50/50 [==============================] - 48s 967ms/step - loss: 0.0540 - s1pafs_output_loss: 0.0025 - s2pafs_output_loss: 0.0023 - s3pafs_output_loss: 0.0021 - s4pafs_output_loss: 0.0020 - s5kpts_output_loss: 0.0049 - s6kpts_output_loss: 0.0047 - s1pafs_output_MeanAbsoluteRatio: 0.9994 - s1pafs_output_analog_recall: 0.8757 - s2pafs_output_MeanAbsoluteRatio: 1.0074 - s2pafs_output_analog_recall: 0.8869 - s3pafs_output_MeanAbsoluteRatio: 0.9952 - s3pafs_output_analog_recall: 0.8933 - s4pafs_output_MeanAbsoluteRatio: 0.9987 - s4pafs_output_analog_recall: 0.8965 - s5kpts_output_MeanAbsoluteRatio: 1.0079 - s5kpts_output_analog_recall: 0.8842 - s6kpts_output_MeanAbsoluteRatio: 1.0069 - s6kpts_output_analog_recall: 0.8887 - val_loss: 0.0620 - val_s1pafs_output_loss: 0.0028 - val_s2pafs_output_loss: 0.0026 - val_s3pafs_output_loss: 0.0024 - val_s4pafs_output_loss: 0.0023 - val_s5kpts_output_loss: 0.0057 - val_s6kpts_output_loss: 0.0056 - val_s1pafs_output_MeanAbsoluteRatio: 1.0129 - val_s1pafs_output_analog_recall: 0.8705 - val_s2pafs_output_MeanAbsoluteRatio: 1.0343 - val_s2pafs_output_analog_recall: 0.8824 - val_s3pafs_output_MeanAbsoluteRatio: 1.0109 - val_s3pafs_output_analog_recall: 0.8867 - val_s4pafs_output_MeanAbsoluteRatio: 1.0106 - val_s4pafs_output_analog_recall: 0.8911 - val_s5kpts_output_MeanAbsoluteRatio: 1.0209 - val_s5kpts_output_analog_recall: 0.8831 - val_s6kpts_output_MeanAbsoluteRatio: 1.0248 - val_s6kpts_output_analog_recall: 0.8895\n",
      "\n",
      "Learning rate for epoch 260 is 0.0010000000474974513\n",
      "Epoch 261/262\n",
      "50/50 [==============================] - 49s 972ms/step - loss: 0.0541 - s1pafs_output_loss: 0.0025 - s2pafs_output_loss: 0.0022 - s3pafs_output_loss: 0.0021 - s4pafs_output_loss: 0.0020 - s5kpts_output_loss: 0.0050 - s6kpts_output_loss: 0.0048 - s1pafs_output_MeanAbsoluteRatio: 0.9993 - s1pafs_output_analog_recall: 0.8764 - s2pafs_output_MeanAbsoluteRatio: 1.0063 - s2pafs_output_analog_recall: 0.8869 - s3pafs_output_MeanAbsoluteRatio: 0.9962 - s3pafs_output_analog_recall: 0.8931 - s4pafs_output_MeanAbsoluteRatio: 0.9981 - s4pafs_output_analog_recall: 0.8965 - s5kpts_output_MeanAbsoluteRatio: 1.0079 - s5kpts_output_analog_recall: 0.8829 - s6kpts_output_MeanAbsoluteRatio: 1.0058 - s6kpts_output_analog_recall: 0.8867 - val_loss: 0.0619 - val_s1pafs_output_loss: 0.0028 - val_s2pafs_output_loss: 0.0026 - val_s3pafs_output_loss: 0.0024 - val_s4pafs_output_loss: 0.0024 - val_s5kpts_output_loss: 0.0057 - val_s6kpts_output_loss: 0.0056 - val_s1pafs_output_MeanAbsoluteRatio: 0.9804 - val_s1pafs_output_analog_recall: 0.8651 - val_s2pafs_output_MeanAbsoluteRatio: 0.9915 - val_s2pafs_output_analog_recall: 0.8753 - val_s3pafs_output_MeanAbsoluteRatio: 0.9862 - val_s3pafs_output_analog_recall: 0.8839 - val_s4pafs_output_MeanAbsoluteRatio: 0.9964 - val_s4pafs_output_analog_recall: 0.8894 - val_s5kpts_output_MeanAbsoluteRatio: 1.0218 - val_s5kpts_output_analog_recall: 0.8856 - val_s6kpts_output_MeanAbsoluteRatio: 1.0314 - val_s6kpts_output_analog_recall: 0.8913\n",
      "\n",
      "Learning rate for epoch 261 is 0.0010000000474974513\n",
      "Epoch 262/262\n",
      "50/50 [==============================] - 48s 961ms/step - loss: 0.0546 - s1pafs_output_loss: 0.0025 - s2pafs_output_loss: 0.0023 - s3pafs_output_loss: 0.0021 - s4pafs_output_loss: 0.0020 - s5kpts_output_loss: 0.0049 - s6kpts_output_loss: 0.0048 - s1pafs_output_MeanAbsoluteRatio: 1.0024 - s1pafs_output_analog_recall: 0.8752 - s2pafs_output_MeanAbsoluteRatio: 1.0052 - s2pafs_output_analog_recall: 0.8859 - s3pafs_output_MeanAbsoluteRatio: 0.9954 - s3pafs_output_analog_recall: 0.8931 - s4pafs_output_MeanAbsoluteRatio: 0.9987 - s4pafs_output_analog_recall: 0.8965 - s5kpts_output_MeanAbsoluteRatio: 1.0088 - s5kpts_output_analog_recall: 0.8840 - s6kpts_output_MeanAbsoluteRatio: 1.0075 - s6kpts_output_analog_recall: 0.8881 - val_loss: 0.0619 - val_s1pafs_output_loss: 0.0028 - val_s2pafs_output_loss: 0.0026 - val_s3pafs_output_loss: 0.0024 - val_s4pafs_output_loss: 0.0024 - val_s5kpts_output_loss: 0.0056 - val_s6kpts_output_loss: 0.0054 - val_s1pafs_output_MeanAbsoluteRatio: 1.0063 - val_s1pafs_output_analog_recall: 0.8721 - val_s2pafs_output_MeanAbsoluteRatio: 1.0277 - val_s2pafs_output_analog_recall: 0.8840 - val_s3pafs_output_MeanAbsoluteRatio: 0.9988 - val_s3pafs_output_analog_recall: 0.8875 - val_s4pafs_output_MeanAbsoluteRatio: 0.9981 - val_s4pafs_output_analog_recall: 0.8888 - val_s5kpts_output_MeanAbsoluteRatio: 1.0135 - val_s5kpts_output_analog_recall: 0.8815 - val_s6kpts_output_MeanAbsoluteRatio: 1.0031 - val_s6kpts_output_analog_recall: 0.8827\n"
     ]
    }
   ],
   "source": [
    "train_history=train_model.fit(\n",
    "    dst\n",
    "    ,epochs=SHORT_TRAINING_EPOCHS\n",
    "    ,steps_per_epoch=SHORT_EPOCH_STEPS\n",
    "    ,validation_steps=SHORT_VALIDATION_STEPS\n",
    "    ,validation_data=dsv\n",
    "    ,callbacks=all_callbacks\n",
    "    ,initial_epoch=starting_epoch\n",
    ")"
   ]
  },
  {
   "cell_type": "code",
   "execution_count": null,
   "metadata": {},
   "outputs": [],
   "source": [
    "#run to clear this run results\n",
    "#!gsutil -m rm -r {tensorboard_path}/*\n",
    "#!gsutil -m rm -r {checkpoint_path}/*"
   ]
  },
  {
   "cell_type": "markdown",
   "metadata": {},
   "source": [
    "---\n",
    "### Save results"
   ]
  },
  {
   "cell_type": "code",
   "execution_count": 20,
   "metadata": {
    "pycharm": {
     "is_executing": false
    }
   },
   "outputs": [
    {
     "name": "stdout",
     "output_type": "stream",
     "text": [
      "WARNING:tensorflow:From /usr/local/lib/python3.5/dist-packages/tensorflow_core/python/ops/resource_variable_ops.py:1788: calling BaseResourceVariable.__init__ (from tensorflow.python.ops.resource_variable_ops) with constraint is deprecated and will be removed in a future version.\n",
      "Instructions for updating:\n",
      "If using Keras pass *_constraint arguments to layers.\n"
     ]
    },
    {
     "name": "stderr",
     "output_type": "stream",
     "text": [
      "WARNING:tensorflow:From /usr/local/lib/python3.5/dist-packages/tensorflow_core/python/ops/resource_variable_ops.py:1788: calling BaseResourceVariable.__init__ (from tensorflow.python.ops.resource_variable_ops) with constraint is deprecated and will be removed in a future version.\n",
      "Instructions for updating:\n",
      "If using Keras pass *_constraint arguments to layers.\n"
     ]
    },
    {
     "name": "stdout",
     "output_type": "stream",
     "text": [
      "INFO:tensorflow:Assets written to: gs://dl_training_results/models/test_model1115Sun1219-0341/assets\n"
     ]
    },
    {
     "name": "stderr",
     "output_type": "stream",
     "text": [
      "INFO:tensorflow:Assets written to: gs://dl_training_results/models/test_model1115Sun1219-0341/assets\n"
     ]
    },
    {
     "name": "stdout",
     "output_type": "stream",
     "text": [
      "INFO:tensorflow:Assets written to: gs://dl_training_results/models/train_model1115Sun1219-0341/assets\n"
     ]
    },
    {
     "name": "stderr",
     "output_type": "stream",
     "text": [
      "INFO:tensorflow:Assets written to: gs://dl_training_results/models/train_model1115Sun1219-0341/assets\n"
     ]
    }
   ],
   "source": [
    "tmp_path='gs://dl_training_results/tmp/tensorflow/temp_weights'\n",
    "train_model.save_weights(tmp_path)\n",
    "\n",
    "local_model_maker=model.ModelMaker(cfg) #must be outside scope to keep the graph clean\n",
    "tf.keras.backend.clear_session() #to clean to backaend from the imported model\n",
    "\n",
    "cpu_train_model,cpu_test_model=local_model_maker.create_models()\n",
    "\n",
    "cpu_train_model.load_weights(tmp_path)\n",
    "cpu_test_model.load_weights(tmp_path)\n",
    "\n",
    "cpu_test_model.save(cfg.MODELS_PATH+\"/test_\"+cfg.RUN_NAME+nowt,include_optimizer=False) \n",
    "cpu_train_model.save(cfg.MODELS_PATH+\"/train_\"+cfg.RUN_NAME+nowt,include_optimizer=False) "
   ]
  },
  {
   "cell_type": "markdown",
   "metadata": {},
   "source": [
    "---\n",
    "### Shutdown"
   ]
  },
  {
   "cell_type": "code",
   "execution_count": 21,
   "metadata": {
    "pycharm": {
     "is_executing": false,
     "name": "#%%\n"
    }
   },
   "outputs": [
    {
     "name": "stdout",
     "output_type": "stream",
     "text": [
      "Request issued for: [node-1]\n",
      "Waiting for operation [projects/deeplearning-257902/locations/us-central1-c/ope\n",
      "rations/operation-1576394557945-599b8f5a6f715-cea18a91-dac3461a] to complete...\n",
      "done.                                                                          \n",
      "done: true\n",
      "metadata:\n",
      "  '@type': type.googleapis.com/google.cloud.common.OperationMetadata\n",
      "  apiVersion: v1\n",
      "  cancelRequested: false\n",
      "  createTime: '2019-12-15T07:22:37.986277963Z'\n",
      "  endTime: '2019-12-15T07:24:02.963746255Z'\n",
      "  target: projects/deeplearning-257902/locations/us-central1-c/nodes/node-1\n",
      "  verb: update\n",
      "name: projects/deeplearning-257902/locations/us-central1-c/operations/operation-1576394557945-599b8f5a6f715-cea18a91-dac3461a\n",
      "response:\n",
      "  '@type': type.googleapis.com/google.cloud.tpu.v1.Node\n",
      "  acceleratorType: v2-8\n",
      "  cidrBlock: 10.0.3.0/29\n",
      "  createTime: '2019-11-26T18:14:01.401101656Z'\n",
      "  health: HEALTHY\n",
      "  ipAddress: 10.0.3.2\n",
      "  name: projects/deeplearning-257902/locations/us-central1-c/nodes/node-1\n",
      "  network: global/networks/default\n",
      "  networkEndpoints:\n",
      "  - ipAddress: 10.0.3.2\n",
      "    port: 8470\n",
      "  port: '8470'\n",
      "  schedulingConfig:\n",
      "    preemptible: true\n",
      "  serviceAccount: service-312164605303@cloud-tpu.iam.gserviceaccount.com\n",
      "  state: STOPPED\n",
      "  tensorflowVersion: nightly-2.x\n"
     ]
    }
   ],
   "source": [
    "#shut down TPU\n",
    "!gcloud compute tpus stop node-1 --zone us-central1-c"
   ]
  },
  {
   "cell_type": "code",
   "execution_count": null,
   "metadata": {
    "pycharm": {
     "is_executing": false
    }
   },
   "outputs": [
    {
     "name": "stdout",
     "output_type": "stream",
     "text": [
      "Stopping instance(s) instance-1...⠹                                            "
     ]
    }
   ],
   "source": [
    "#shut down this host\n",
    "!gcloud compute instances stop instance-1 --zone us-central1-c"
   ]
  },
  {
   "cell_type": "code",
   "execution_count": null,
   "metadata": {},
   "outputs": [],
   "source": []
  }
 ],
 "metadata": {
  "kernelspec": {
   "display_name": "Python 3",
   "language": "python",
   "name": "python3"
  },
  "language_info": {
   "codemirror_mode": {
    "name": "ipython",
    "version": 3
   },
   "file_extension": ".py",
   "mimetype": "text/x-python",
   "name": "python",
   "nbconvert_exporter": "python",
   "pygments_lexer": "ipython3",
   "version": "3.5.3"
  },
  "pycharm": {
   "stem_cell": {
    "cell_type": "raw",
    "source": [],
    "metadata": {
     "collapsed": false
    }
   }
  }
 },
 "nbformat": 4,
 "nbformat_minor": 2
}